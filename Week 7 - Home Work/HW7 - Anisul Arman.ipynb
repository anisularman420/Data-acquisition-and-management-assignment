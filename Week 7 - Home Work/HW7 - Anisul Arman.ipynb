{
 "cells": [
  {
   "cell_type": "markdown",
   "metadata": {},
   "source": [
    "Week 7 Assignment\n",
    "\n",
    "Name: Anisul Arman\n",
    "\n",
    "Course_ID: IS 362 Data Acquisition and Management . "
   ]
  },
  {
   "cell_type": "code",
   "execution_count": 33,
   "metadata": {},
   "outputs": [],
   "source": [
    "import pandas as pd"
   ]
  },
  {
   "cell_type": "code",
   "execution_count": 34,
   "metadata": {},
   "outputs": [
    {
     "data": {
      "text/html": [
       "<div>\n",
       "<style scoped>\n",
       "    .dataframe tbody tr th:only-of-type {\n",
       "        vertical-align: middle;\n",
       "    }\n",
       "\n",
       "    .dataframe tbody tr th {\n",
       "        vertical-align: top;\n",
       "    }\n",
       "\n",
       "    .dataframe thead th {\n",
       "        text-align: right;\n",
       "    }\n",
       "</style>\n",
       "<table border=\"1\" class=\"dataframe\">\n",
       "  <thead>\n",
       "    <tr style=\"text-align: right;\">\n",
       "      <th></th>\n",
       "      <th>Reviewer</th>\n",
       "      <th>House of Dragon</th>\n",
       "      <th>Night Action</th>\n",
       "      <th>Squid Game</th>\n",
       "      <th>Captain America</th>\n",
       "      <th>Beast</th>\n",
       "      <th>Kingdom</th>\n",
       "    </tr>\n",
       "  </thead>\n",
       "  <tbody>\n",
       "    <tr>\n",
       "      <th>0</th>\n",
       "      <td>Samuel</td>\n",
       "      <td>3</td>\n",
       "      <td>5</td>\n",
       "      <td>1</td>\n",
       "      <td>1</td>\n",
       "      <td>5</td>\n",
       "      <td>3</td>\n",
       "    </tr>\n",
       "    <tr>\n",
       "      <th>1</th>\n",
       "      <td>Dan</td>\n",
       "      <td>1</td>\n",
       "      <td>1</td>\n",
       "      <td>2</td>\n",
       "      <td>1</td>\n",
       "      <td>5</td>\n",
       "      <td>3</td>\n",
       "    </tr>\n",
       "    <tr>\n",
       "      <th>2</th>\n",
       "      <td>maurice</td>\n",
       "      <td>4</td>\n",
       "      <td>2</td>\n",
       "      <td>4</td>\n",
       "      <td>4</td>\n",
       "      <td>1</td>\n",
       "      <td>5</td>\n",
       "    </tr>\n",
       "    <tr>\n",
       "      <th>3</th>\n",
       "      <td>Jakes</td>\n",
       "      <td>5</td>\n",
       "      <td>4</td>\n",
       "      <td>5</td>\n",
       "      <td>5</td>\n",
       "      <td>2</td>\n",
       "      <td>5</td>\n",
       "    </tr>\n",
       "    <tr>\n",
       "      <th>4</th>\n",
       "      <td>John</td>\n",
       "      <td>4</td>\n",
       "      <td>5</td>\n",
       "      <td>5</td>\n",
       "      <td>5</td>\n",
       "      <td>3</td>\n",
       "      <td>4</td>\n",
       "    </tr>\n",
       "  </tbody>\n",
       "</table>\n",
       "</div>"
      ],
      "text/plain": [
       "  Reviewer  House of Dragon  Night Action  Squid Game  Captain America  Beast  \\\n",
       "0   Samuel                3             5           1                1      5   \n",
       "1      Dan                1             1           2                1      5   \n",
       "2  maurice                4             2           4                4      1   \n",
       "3    Jakes                5             4           5                5      2   \n",
       "4     John                4             5           5                5      3   \n",
       "\n",
       "   Kingdom  \n",
       "0        3  \n",
       "1        3  \n",
       "2        5  \n",
       "3        5  \n",
       "4        4  "
      ]
     },
     "execution_count": 34,
     "metadata": {},
     "output_type": "execute_result"
    }
   ],
   "source": [
    "# load data using the csv\n",
    "rating_df = pd.read_csv('movies_rating.csv')\n",
    "rating_df.head()"
   ]
  },
  {
   "cell_type": "code",
   "execution_count": 35,
   "metadata": {},
   "outputs": [
    {
     "name": "stdout",
     "output_type": "stream",
     "text": [
      "<class 'pandas.core.frame.DataFrame'>\n",
      "RangeIndex: 5 entries, 0 to 4\n",
      "Data columns (total 7 columns):\n",
      " #   Column           Non-Null Count  Dtype \n",
      "---  ------           --------------  ----- \n",
      " 0   Reviewer         5 non-null      object\n",
      " 1   House of Dragon  5 non-null      int64 \n",
      " 2   Night Action     5 non-null      int64 \n",
      " 3   Squid Game       5 non-null      int64 \n",
      " 4   Captain America  5 non-null      int64 \n",
      " 5   Beast            5 non-null      int64 \n",
      " 6   Kingdom          5 non-null      int64 \n",
      "dtypes: int64(6), object(1)\n",
      "memory usage: 412.0+ bytes\n"
     ]
    }
   ],
   "source": [
    "rating_df.info()"
   ]
  },
  {
   "cell_type": "code",
   "execution_count": 36,
   "metadata": {},
   "outputs": [
    {
     "data": {
      "text/plain": [
       "Reviewer\n",
       "Samuel     3.000000\n",
       "Dan        2.166667\n",
       "maurice    3.333333\n",
       "Jakes      4.333333\n",
       "John       4.333333\n",
       "dtype: float64"
      ]
     },
     "execution_count": 36,
     "metadata": {},
     "output_type": "execute_result"
    }
   ],
   "source": [
    "## show average rating for each users\n",
    "average_per_reviewer = rating_df.set_index(\"Reviewer\").mean(axis=1)\n",
    "average_per_reviewer"
   ]
  },
  {
   "cell_type": "code",
   "execution_count": 37,
   "metadata": {},
   "outputs": [
    {
     "data": {
      "text/plain": [
       "House of Dragon    3.4\n",
       "Night Action       3.4\n",
       "Squid Game         3.4\n",
       "Captain America    3.2\n",
       "Beast              3.2\n",
       "Kingdom            4.0\n",
       "dtype: float64"
      ]
     },
     "execution_count": 37,
     "metadata": {},
     "output_type": "execute_result"
    }
   ],
   "source": [
    "## show average rating for each movie\n",
    "average_per_movie = rating_df.set_index(\"Reviewer\").mean(axis=0)\n",
    "average_per_movie"
   ]
  },
  {
   "cell_type": "code",
   "execution_count": 38,
   "metadata": {},
   "outputs": [
    {
     "data": {
      "text/html": [
       "<div>\n",
       "<style scoped>\n",
       "    .dataframe tbody tr th:only-of-type {\n",
       "        vertical-align: middle;\n",
       "    }\n",
       "\n",
       "    .dataframe tbody tr th {\n",
       "        vertical-align: top;\n",
       "    }\n",
       "\n",
       "    .dataframe thead th {\n",
       "        text-align: right;\n",
       "    }\n",
       "</style>\n",
       "<table border=\"1\" class=\"dataframe\">\n",
       "  <thead>\n",
       "    <tr style=\"text-align: right;\">\n",
       "      <th></th>\n",
       "      <th>House of Dragon</th>\n",
       "      <th>Night Action</th>\n",
       "      <th>Squid Game</th>\n",
       "      <th>Captain America</th>\n",
       "      <th>Beast</th>\n",
       "      <th>Kingdom</th>\n",
       "    </tr>\n",
       "    <tr>\n",
       "      <th>Reviewer</th>\n",
       "      <th></th>\n",
       "      <th></th>\n",
       "      <th></th>\n",
       "      <th></th>\n",
       "      <th></th>\n",
       "      <th></th>\n",
       "    </tr>\n",
       "  </thead>\n",
       "  <tbody>\n",
       "    <tr>\n",
       "      <th>Samuel</th>\n",
       "      <td>0.50</td>\n",
       "      <td>1.000000</td>\n",
       "      <td>0.00</td>\n",
       "      <td>0.00</td>\n",
       "      <td>1.0</td>\n",
       "      <td>0.5</td>\n",
       "    </tr>\n",
       "    <tr>\n",
       "      <th>Dan</th>\n",
       "      <td>0.00</td>\n",
       "      <td>0.000000</td>\n",
       "      <td>0.25</td>\n",
       "      <td>0.00</td>\n",
       "      <td>1.0</td>\n",
       "      <td>0.5</td>\n",
       "    </tr>\n",
       "    <tr>\n",
       "      <th>maurice</th>\n",
       "      <td>0.75</td>\n",
       "      <td>0.250000</td>\n",
       "      <td>0.75</td>\n",
       "      <td>0.75</td>\n",
       "      <td>0.0</td>\n",
       "      <td>1.0</td>\n",
       "    </tr>\n",
       "    <tr>\n",
       "      <th>Jakes</th>\n",
       "      <td>1.00</td>\n",
       "      <td>0.666667</td>\n",
       "      <td>1.00</td>\n",
       "      <td>1.00</td>\n",
       "      <td>0.0</td>\n",
       "      <td>1.0</td>\n",
       "    </tr>\n",
       "    <tr>\n",
       "      <th>John</th>\n",
       "      <td>0.50</td>\n",
       "      <td>1.000000</td>\n",
       "      <td>1.00</td>\n",
       "      <td>1.00</td>\n",
       "      <td>0.0</td>\n",
       "      <td>0.5</td>\n",
       "    </tr>\n",
       "  </tbody>\n",
       "</table>\n",
       "</div>"
      ],
      "text/plain": [
       "          House of Dragon  Night Action  Squid Game  Captain America  Beast  \\\n",
       "Reviewer                                                                      \n",
       "Samuel               0.50      1.000000        0.00             0.00    1.0   \n",
       "Dan                  0.00      0.000000        0.25             0.00    1.0   \n",
       "maurice              0.75      0.250000        0.75             0.75    0.0   \n",
       "Jakes                1.00      0.666667        1.00             1.00    0.0   \n",
       "John                 0.50      1.000000        1.00             1.00    0.0   \n",
       "\n",
       "          Kingdom  \n",
       "Reviewer           \n",
       "Samuel        0.5  \n",
       "Dan           0.5  \n",
       "maurice       1.0  \n",
       "Jakes         1.0  \n",
       "John          0.5  "
      ]
     },
     "execution_count": 38,
     "metadata": {},
     "output_type": "execute_result"
    }
   ],
   "source": [
    "# Set \"Reviewer\" as index\n",
    "rating_numeric = rating_df.set_index(\"Reviewer\")\n",
    "\n",
    "# Apply Min-Max Normalization\n",
    "normalized_rating_df = (rating_numeric.sub(rating_numeric.min(axis=1), axis=0))\n",
    "normalized_rating_df = normalized_rating_df.div(rating_numeric.max(axis=1) - rating_numeric.min(axis=1), axis=0)\n",
    "\n",
    "normalized_rating_df"
   ]
  },
  {
   "cell_type": "code",
   "execution_count": 39,
   "metadata": {},
   "outputs": [
    {
     "data": {
      "text/plain": [
       "Reviewer\n",
       "Samuel     0.500000\n",
       "Dan        0.291667\n",
       "maurice    0.583333\n",
       "Jakes      0.777778\n",
       "John       0.666667\n",
       "dtype: float64"
      ]
     },
     "execution_count": 39,
     "metadata": {},
     "output_type": "execute_result"
    }
   ],
   "source": [
    "# Calculating average for normalized reviewer\n",
    "avg_normalized_reviewer = normalized_rating_df.mean(axis=1)\n",
    "avg_normalized_reviewer"
   ]
  },
  {
   "cell_type": "code",
   "execution_count": 40,
   "metadata": {},
   "outputs": [
    {
     "data": {
      "text/plain": [
       "House of Dragon    0.550000\n",
       "Night Action       0.583333\n",
       "Squid Game         0.600000\n",
       "Captain America    0.550000\n",
       "Beast              0.400000\n",
       "Kingdom            0.700000\n",
       "dtype: float64"
      ]
     },
     "execution_count": 40,
     "metadata": {},
     "output_type": "execute_result"
    }
   ],
   "source": [
    "# Calculating average for movies review\n",
    "avg_normalized_movie = normalized_rating_df.mean(axis=0)\n",
    "avg_normalized_movie"
   ]
  },
  {
   "cell_type": "markdown",
   "metadata": {},
   "source": [
    "## Conclusion\n",
    "\n",
    "\n",
    "Normalizing the movie ratings helped me compare users’ preferences more fairly, removing biases from those who tend to rate consistently high or low. For example, while one user may rate all movies between 1 and 3, and another between 3 and 5, normalization brings their ratings onto the same scale. This ensures that I analyze each user’s preferences relative to their own rating style rather than the absolute scores. By doing so, I get a clearer picture of which movies each reviewer liked most or least, regardless of their overall rating habits."
   ]
  },
  {
   "cell_type": "markdown",
   "metadata": {},
   "source": [
    "## Extra Credit"
   ]
  },
  {
   "cell_type": "code",
   "execution_count": 41,
   "metadata": {},
   "outputs": [
    {
     "data": {
      "text/html": [
       "<div>\n",
       "<style scoped>\n",
       "    .dataframe tbody tr th:only-of-type {\n",
       "        vertical-align: middle;\n",
       "    }\n",
       "\n",
       "    .dataframe tbody tr th {\n",
       "        vertical-align: top;\n",
       "    }\n",
       "\n",
       "    .dataframe thead th {\n",
       "        text-align: right;\n",
       "    }\n",
       "</style>\n",
       "<table border=\"1\" class=\"dataframe\">\n",
       "  <thead>\n",
       "    <tr style=\"text-align: right;\">\n",
       "      <th></th>\n",
       "      <th>House of Dragon</th>\n",
       "      <th>Night Action</th>\n",
       "      <th>Squid Game</th>\n",
       "      <th>Captain America</th>\n",
       "      <th>Beast</th>\n",
       "      <th>Kingdom</th>\n",
       "    </tr>\n",
       "    <tr>\n",
       "      <th>Reviewer</th>\n",
       "      <th></th>\n",
       "      <th></th>\n",
       "      <th></th>\n",
       "      <th></th>\n",
       "      <th></th>\n",
       "      <th></th>\n",
       "    </tr>\n",
       "  </thead>\n",
       "  <tbody>\n",
       "    <tr>\n",
       "      <th>Samuel</th>\n",
       "      <td>0.6</td>\n",
       "      <td>1.0</td>\n",
       "      <td>0.2</td>\n",
       "      <td>0.2</td>\n",
       "      <td>1.0</td>\n",
       "      <td>0.6</td>\n",
       "    </tr>\n",
       "    <tr>\n",
       "      <th>Dan</th>\n",
       "      <td>0.2</td>\n",
       "      <td>0.2</td>\n",
       "      <td>0.4</td>\n",
       "      <td>0.2</td>\n",
       "      <td>1.0</td>\n",
       "      <td>0.6</td>\n",
       "    </tr>\n",
       "    <tr>\n",
       "      <th>maurice</th>\n",
       "      <td>0.8</td>\n",
       "      <td>0.4</td>\n",
       "      <td>0.8</td>\n",
       "      <td>0.8</td>\n",
       "      <td>0.2</td>\n",
       "      <td>1.0</td>\n",
       "    </tr>\n",
       "    <tr>\n",
       "      <th>Jakes</th>\n",
       "      <td>1.0</td>\n",
       "      <td>0.8</td>\n",
       "      <td>1.0</td>\n",
       "      <td>1.0</td>\n",
       "      <td>0.4</td>\n",
       "      <td>1.0</td>\n",
       "    </tr>\n",
       "    <tr>\n",
       "      <th>John</th>\n",
       "      <td>0.8</td>\n",
       "      <td>1.0</td>\n",
       "      <td>1.0</td>\n",
       "      <td>1.0</td>\n",
       "      <td>0.6</td>\n",
       "      <td>0.8</td>\n",
       "    </tr>\n",
       "  </tbody>\n",
       "</table>\n",
       "</div>"
      ],
      "text/plain": [
       "          House of Dragon  Night Action  Squid Game  Captain America  Beast  \\\n",
       "Reviewer                                                                      \n",
       "Samuel                0.6           1.0         0.2              0.2    1.0   \n",
       "Dan                   0.2           0.2         0.4              0.2    1.0   \n",
       "maurice               0.8           0.4         0.8              0.8    0.2   \n",
       "Jakes                 1.0           0.8         1.0              1.0    0.4   \n",
       "John                  0.8           1.0         1.0              1.0    0.6   \n",
       "\n",
       "          Kingdom  \n",
       "Reviewer           \n",
       "Samuel        0.6  \n",
       "Dan           0.6  \n",
       "maurice       1.0  \n",
       "Jakes         1.0  \n",
       "John          0.8  "
      ]
     },
     "execution_count": 41,
     "metadata": {},
     "output_type": "execute_result"
    }
   ],
   "source": [
    "# Create another new pandas dataframe, with standardized ratings for each user. Once again, show the average ratings for each user and each movie.\n",
    "\n",
    "# To answer the question i am going to divide all the numbers in the rating by 5 which is the maxiumum number so that all the rating can be scalled down to be between 0 and 1\n",
    "rating_numeric = rating_df.set_index(\"Reviewer\")\n",
    "\n",
    "# Scale ratings by dividing by the maximum rating (5)\n",
    "standardized_rating_df = rating_numeric / 5  \n",
    "\n",
    "# Display scaled ratings\n",
    "standardized_rating_df"
   ]
  },
  {
   "cell_type": "code",
   "execution_count": 42,
   "metadata": {},
   "outputs": [
    {
     "data": {
      "text/plain": [
       "Reviewer\n",
       "Samuel     0.600000\n",
       "Dan        0.433333\n",
       "maurice    0.666667\n",
       "Jakes      0.866667\n",
       "John       0.866667\n",
       "dtype: float64"
      ]
     },
     "execution_count": 42,
     "metadata": {},
     "output_type": "execute_result"
    }
   ],
   "source": [
    "# average scaled ratings for each user\n",
    "user_avg = standardized_rating_df.mean(axis=1) \n",
    "user_avg"
   ]
  },
  {
   "cell_type": "code",
   "execution_count": 43,
   "metadata": {},
   "outputs": [
    {
     "data": {
      "text/plain": [
       "House of Dragon    0.68\n",
       "Night Action       0.68\n",
       "Squid Game         0.68\n",
       "Captain America    0.64\n",
       "Beast              0.64\n",
       "Kingdom            0.80\n",
       "dtype: float64"
      ]
     },
     "execution_count": 43,
     "metadata": {},
     "output_type": "execute_result"
    }
   ],
   "source": [
    "# average scaled ratings for each movie\n",
    "movie_avg = standardized_rating_df.mean(axis=0)\n",
    "movie_avg"
   ]
  }
 ],
 "metadata": {
  "kernelspec": {
   "display_name": "Python 3",
   "language": "python",
   "name": "python3"
  },
  "language_info": {
   "codemirror_mode": {
    "name": "ipython",
    "version": 3
   },
   "file_extension": ".py",
   "mimetype": "text/x-python",
   "name": "python",
   "nbconvert_exporter": "python",
   "pygments_lexer": "ipython3",
   "version": "3.11.10"
  }
 },
 "nbformat": 4,
 "nbformat_minor": 2
}
