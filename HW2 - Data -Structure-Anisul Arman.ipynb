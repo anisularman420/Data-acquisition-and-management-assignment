{
 "cells": [
  {
   "cell_type": "markdown",
   "metadata": {},
   "source": [
    "# Week 2 Assignment\n",
    "\n",
    "Name: Anisul Arman\n",
    "\n",
    "Course_ID: IS 362 Data Acquisition and Management . \n",
    "\n",
    "## Instructions\n",
    "Your week 2 assignment is to create a small Jupyter (IPython) Notebook about one aspect of data structures that you might find somewhat challenging, such as set comprehensions, or using the zip() function.  Your Jupyter Notebook should include both code and some documentation, which should utilize Markdown.  Your Jupyter Notebook should be hosted in GitHub; please provide a link in your assignment submission."
   ]
  },
  {
   "cell_type": "markdown",
   "metadata": {},
   "source": [
    "\n",
    "**What is List Comprehension ?**\n",
    "\n",
    "List comprehension is a simple way to create a list in just one line of code using square brackets. It helps to quickly generate a list from a range of values or any other data source, like another list or a file.\n",
    "\n",
    "**How It Works**\n",
    "\n",
    "Instead of using a for loop to add items to a list, it can be donw with just writting a single lineof code.\n",
    "\n",
    "**Why Use List Comprehension?**\n",
    "1. It replaces long loops with a single line.\n",
    "2. It runs faster than a normal loop in Python.\n",
    "3. It makes the code clean and simple."
   ]
  },
  {
   "cell_type": "markdown",
   "metadata": {},
   "source": [
    "In the Example below I want to generate the list of number ranging from 1 to 10\n",
    "\n",
    "Normally I would write the code this way\n",
    "\n",
    "```\n",
    "list = [] # declare an empty list\n",
    "\n",
    "for items in range(1,11):\n",
    "    list.append(items)\n",
    "\n",
    "print(list)\n",
    "\n",
    "```\n",
    "This will take more time to run and the code is also long so instead of going throught this method, thats is where **List Comprehension** Comes to my aid"
   ]
  },
  {
   "cell_type": "code",
   "execution_count": 1,
   "metadata": {},
   "outputs": [
    {
     "name": "stdout",
     "output_type": "stream",
     "text": [
      "[1, 2, 3, 4, 5, 6, 7, 8, 9, 10]\n"
     ]
    }
   ],
   "source": [
    "# With just this single line of code, we can generate same thing that the code above does\n",
    "numbers = [x for x in range(1, 11)]\n",
    "print(numbers)"
   ]
  },
  {
   "cell_type": "markdown",
   "metadata": {},
   "source": [
    "**zip() Function in Python**\n",
    "\n",
    "The zip() function in Python is used to combine two or more lists (or other iterable data) together. It pairs up the data from each list based on their positions.\n",
    "\n",
    "**How It Works:**\n",
    "\n",
    "The function takes multiple lists and groups their data into pairs"
   ]
  },
  {
   "cell_type": "code",
   "execution_count": null,
   "metadata": {},
   "outputs": [
    {
     "name": "stdout",
     "output_type": "stream",
     "text": [
      "[('Alice', 25), ('Bob', 30), ('Charlie', 35)]\n"
     ]
    }
   ],
   "source": [
    "# List of names  \n",
    "names = [\"Alice\", \"Bob\", \"Charlie\"]  \n",
    "\n",
    "# List of ages  \n",
    "ages = [25, 30, 35]  \n",
    "\n",
    "# Merging both lists by pairing each name with the age  \n",
    "merged = list(zip(names, ages))  \n",
    "\n",
    "# Printing the merged list as pairs of (name, age)  \n",
    "print(merged) "
   ]
  }
 ],
 "metadata": {
  "kernelspec": {
   "display_name": "Python 3",
   "language": "python",
   "name": "python3"
  },
  "language_info": {
   "codemirror_mode": {
    "name": "ipython",
    "version": 3
   },
   "file_extension": ".py",
   "mimetype": "text/x-python",
   "name": "python",
   "nbconvert_exporter": "python",
   "pygments_lexer": "ipython3",
   "version": "3.9.8"
  }
 },
 "nbformat": 4,
 "nbformat_minor": 2
}
