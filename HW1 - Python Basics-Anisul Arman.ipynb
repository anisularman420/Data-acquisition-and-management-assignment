{
 "cells": [
  {
   "cell_type": "markdown",
   "metadata": {},
   "source": [
    "HW1 Pythobn Basics\n",
    "\n",
    "Name: Anisul Arman\n",
    "\n",
    "Course_ID: IS 362 Data Acquisition and Management . "
   ]
  },
  {
   "cell_type": "code",
   "execution_count": 2,
   "metadata": {},
   "outputs": [],
   "source": [
    "# import all the neccesary libraries\n",
    "import numpy as np\n",
    "import pandas as pd"
   ]
  },
  {
   "cell_type": "markdown",
   "metadata": {},
   "source": [
    "Assignment 1"
   ]
  },
  {
   "cell_type": "code",
   "execution_count": 1,
   "metadata": {},
   "outputs": [
    {
     "name": "stdout",
     "output_type": "stream",
     "text": [
      "1 2 3 4 can do python more\n"
     ]
    }
   ],
   "source": [
    "one = 1\n",
    "two = 2\n",
    "three = 3\n",
    "four = 4\n",
    "can = 'can'\n",
    "do = 'do'\n",
    "python = 'python'\n",
    "more = 'more'\n",
    "\n",
    "print(one,two,three,four,can,do,python,more)"
   ]
  },
  {
   "cell_type": "markdown",
   "metadata": {},
   "source": [
    "Assignment 2"
   ]
  },
  {
   "cell_type": "code",
   "execution_count": 6,
   "metadata": {},
   "outputs": [
    {
     "name": "stdout",
     "output_type": "stream",
     "text": [
      "The Result is 450\n"
     ]
    }
   ],
   "source": [
    "number1 = 15\n",
    "number2 = 30\n",
    "\n",
    "print(f\"The Result is {np.multiply(number1,number2)}\")"
   ]
  },
  {
   "cell_type": "markdown",
   "metadata": {},
   "source": [
    "Assignment 3"
   ]
  },
  {
   "cell_type": "code",
   "execution_count": 11,
   "metadata": {},
   "outputs": [
    {
     "name": "stdout",
     "output_type": "stream",
     "text": [
      "result is True\n",
      "result is False\n"
     ]
    }
   ],
   "source": [
    "numbers_x = [10, 20, 30, 40, 10]\n",
    "numbers_y = [75, 65, 35, 75, 30]\n",
    "\n",
    "def first_last_is_same(input_list):\n",
    "    if input_list[0] == input_list[-1]:\n",
    "        return \"result is True\"\n",
    "    else:\n",
    "        return \"result is False\"\n",
    "    \n",
    "print(first_last_is_same(numbers_x))\n",
    "print(first_last_is_same(numbers_y))"
   ]
  },
  {
   "cell_type": "markdown",
   "metadata": {},
   "source": [
    "Assignment 4"
   ]
  },
  {
   "cell_type": "code",
   "execution_count": 18,
   "metadata": {},
   "outputs": [
    {
     "name": "stdout",
     "output_type": "stream",
     "text": [
      "Divisible by 5\n",
      "10\n",
      "20\n",
      "55\n"
     ]
    }
   ],
   "source": [
    "given_list = [10, 20, 33, 46, 55]\n",
    "\n",
    "print('Divisible by 5')\n",
    "for i in given_list:\n",
    "    if i % 5 == 0:\n",
    "        print(i)"
   ]
  },
  {
   "cell_type": "markdown",
   "metadata": {},
   "source": [
    "Assignment 5"
   ]
  },
  {
   "cell_type": "code",
   "execution_count": 24,
   "metadata": {},
   "outputs": [
    {
     "name": "stdout",
     "output_type": "stream",
     "text": [
      "Anjali appeared 2 times\n"
     ]
    }
   ],
   "source": [
    "str_x = \"Anjali is good developer. Anjali is a writer\"\n",
    "\n",
    "print(f\"Anjali appeared {str_x.count('Anjali')} times\")"
   ]
  },
  {
   "cell_type": "markdown",
   "metadata": {},
   "source": [
    "Assignment 6"
   ]
  },
  {
   "cell_type": "code",
   "execution_count": 30,
   "metadata": {},
   "outputs": [
    {
     "name": "stdout",
     "output_type": "stream",
     "text": [
      "1 \n",
      "2 2 \n",
      "3 3 3 \n",
      "4 4 4 4 \n",
      "5 5 5 5 5 \n"
     ]
    }
   ],
   "source": [
    "i = 1\n",
    "\n",
    "while i <= 5:  \n",
    "    print(f\"{i} \" * i)\n",
    "    i += 1 \n"
   ]
  },
  {
   "cell_type": "markdown",
   "metadata": {},
   "source": [
    "Assignment 7\n",
    "\n",
    "Print a multiplication table from 1 to 100:"
   ]
  },
  {
   "cell_type": "code",
   "execution_count": 47,
   "metadata": {},
   "outputs": [
    {
     "name": "stdout",
     "output_type": "stream",
     "text": [
      " 1  2  3  4  5  6  7  8  9 10 \n",
      " 2  4  6  8 10 12 14 16 18 20 \n",
      " 3  6  9 12 15 18 21 24 27 30 \n",
      " 4  8 12 16 20 24 28 32 36 40 \n",
      " 5 10 15 20 25 30 35 40 45 50 \n",
      " 6 12 18 24 30 36 42 48 54 60 \n",
      " 7 14 21 28 35 42 49 56 63 70 \n",
      " 8 16 24 32 40 48 56 64 72 80 \n",
      " 9 18 27 36 45 54 63 72 81 90 \n",
      "10 20 30 40 50 60 70 80 90 100 \n"
     ]
    }
   ],
   "source": [
    "for i in range(1, 11):\n",
    "    for j in range(1, 11):\n",
    "        print(f\"{i * j:2}\", end=\" \")\n",
    "    print()\n",
    "        "
   ]
  },
  {
   "cell_type": "markdown",
   "metadata": {},
   "source": [
    "Assignment 8\n",
    "\n",
    "Let’s now use Numpy to convert a list to an array.  First, convert the list of weights from a list to a Numpy array. \n",
    "\n",
    "Then, convert all of the weights from kilograms to pounds. \n",
    "\n",
    "Use the formula Celsius (°C) = Kelvin - 273.15 to convert Kelvin to Celsius. \n",
    "\n",
    "Lastly, print the resulting array of temperatures in Celsius."
   ]
  },
  {
   "cell_type": "code",
   "execution_count": 52,
   "metadata": {},
   "outputs": [
    {
     "name": "stdout",
     "output_type": "stream",
     "text": [
      "Weight in Pounds [132.3   176.4   167.58  132.3   194.04  187.425]\n",
      "Temperature Celsius (°C) [ 117.65 -165.48  -47.75    2.98   45.18 -184.55]\n"
     ]
    }
   ],
   "source": [
    "weight_kg = [60, 80, 76, 60, 88, 85]\n",
    "# convert the list to array\n",
    "wkg_array = np.array(weight_kg)\n",
    "\n",
    "Temp_K = [390.65, 107.52, 225.25, 275.98, 318.18, 88.45]\n",
    "# convert the list to array\n",
    "temp_array = np.array(Temp_K)\n",
    "\n",
    "# convert all the weight from kilogram to pounds\n",
    "wkg_pounds = np.multiply(wkg_array,2.205)\n",
    "print(f\"Weight in Pounds {wkg_pounds}\")\n",
    "\n",
    "# onver all the temperature from kelvin to celsius\n",
    "temp_celsius = temp_array - 273\n",
    "print(f\"Temperature Celsius (°C) {temp_celsius}\")"
   ]
  },
  {
   "cell_type": "markdown",
   "metadata": {},
   "source": [
    "Assignmnet 9 and 10\n",
    "\n",
    "Let’s build a Dataframe in Pandas.\n",
    "a.\tUse a dictionary to create four fields:\n",
    "\n",
    "i.\tStudent (use Tommy, Fred, Gail, [your first name], Randy, and Ariel)\n",
    "\n",
    "ii.\tHair Color (use Brown, Grey, Blonde, [your hair color] , Black and Brown)\n",
    "\n",
    "iii.\tEye Color (use Hazel, Green, Blue, [your eye color], Hazel and Blue)\n",
    "\n",
    "iv.\tWeight in kilograms (60, 80, 76, 60, 88, 85)\n",
    "\n",
    "b.\tIndex the dataframe\n",
    "\n",
    "c.\tPrint out the entire dataframe\n",
    "\n",
    "d.\t# Print out hair color column as Pandas Series\n",
    "\n",
    "e.\t# Print out eye color column as Pandas DataFrame\n",
    "\n",
    "f.\t# Print out DataFrame with student and weight columns\n",
    "\n",
    "g.\t# Print out the second through fourth observations\n"
   ]
  },
  {
   "cell_type": "code",
   "execution_count": null,
   "metadata": {},
   "outputs": [],
   "source": [
    "# a. Use a dictionary to create four fields\n",
    "data = {\n",
    "    'Student': ['Tommy', 'Red', 'Gail', 'Anisu', 'Randy', 'Ariel'],\n",
    "    'Hair_Color': ['Brown', 'Grey', 'Blonde', 'Black', 'Black ','Brown'],  \n",
    "    'Eye_Color': ['Hazel', 'Green', 'Blue', 'White and Black', 'Hazel','Blue'],  \n",
    "    'Weight_kg': [60, 80, 76, 60, 88, 85]  \n",
    "}\n",
    "\n",
    "df = pd.DataFrame(data)"
   ]
  },
  {
   "cell_type": "code",
   "execution_count": 83,
   "metadata": {},
   "outputs": [],
   "source": [
    "# b.\tIndex the dataframe\n",
    "df.index = [i for i in range(1,len(df)+1)]"
   ]
  },
  {
   "cell_type": "code",
   "execution_count": 78,
   "metadata": {},
   "outputs": [
    {
     "name": "stdout",
     "output_type": "stream",
     "text": [
      "  Student Hair_Color        Eye_Color  Weight_kg\n",
      "1   Tommy      Brown            Hazel         60\n",
      "2     Red       Grey            Green         80\n",
      "3    Gail     Blonde             Blue         76\n",
      "4   Anisu      Black  White and Black         60\n",
      "5   Randy     Black             Hazel         88\n",
      "6   Ariel      Brown             Blue         85\n"
     ]
    }
   ],
   "source": [
    "# c. Print out the entire dataframe\n",
    "print(df)"
   ]
  },
  {
   "cell_type": "code",
   "execution_count": 67,
   "metadata": {},
   "outputs": [
    {
     "name": "stdout",
     "output_type": "stream",
     "text": [
      "<class 'pandas.core.series.Series'>\n"
     ]
    },
    {
     "data": {
      "text/plain": [
       "Student\n",
       "Tommy     Brown\n",
       "Red        Grey\n",
       "Gail     Blonde\n",
       "Anisu     Black\n",
       "Randy    Black \n",
       "Ariel     Brown\n",
       "Name: Hair_Color, dtype: object"
      ]
     },
     "execution_count": 67,
     "metadata": {},
     "output_type": "execute_result"
    }
   ],
   "source": [
    "# d.\tPrint out hair color column as Pandas Series\n",
    "print(type(df['Hair_Color']))\n",
    "df['Hair_Color']"
   ]
  },
  {
   "cell_type": "code",
   "execution_count": 66,
   "metadata": {},
   "outputs": [
    {
     "name": "stdout",
     "output_type": "stream",
     "text": [
      "<class 'pandas.core.frame.DataFrame'>\n"
     ]
    },
    {
     "data": {
      "text/html": [
       "<div>\n",
       "<style scoped>\n",
       "    .dataframe tbody tr th:only-of-type {\n",
       "        vertical-align: middle;\n",
       "    }\n",
       "\n",
       "    .dataframe tbody tr th {\n",
       "        vertical-align: top;\n",
       "    }\n",
       "\n",
       "    .dataframe thead th {\n",
       "        text-align: right;\n",
       "    }\n",
       "</style>\n",
       "<table border=\"1\" class=\"dataframe\">\n",
       "  <thead>\n",
       "    <tr style=\"text-align: right;\">\n",
       "      <th></th>\n",
       "      <th>Eye_Color</th>\n",
       "    </tr>\n",
       "    <tr>\n",
       "      <th>Student</th>\n",
       "      <th></th>\n",
       "    </tr>\n",
       "  </thead>\n",
       "  <tbody>\n",
       "    <tr>\n",
       "      <th>Tommy</th>\n",
       "      <td>Hazel</td>\n",
       "    </tr>\n",
       "    <tr>\n",
       "      <th>Red</th>\n",
       "      <td>Green</td>\n",
       "    </tr>\n",
       "    <tr>\n",
       "      <th>Gail</th>\n",
       "      <td>Blue</td>\n",
       "    </tr>\n",
       "    <tr>\n",
       "      <th>Anisu</th>\n",
       "      <td>White and Black</td>\n",
       "    </tr>\n",
       "    <tr>\n",
       "      <th>Randy</th>\n",
       "      <td>Hazel</td>\n",
       "    </tr>\n",
       "    <tr>\n",
       "      <th>Ariel</th>\n",
       "      <td>Blue</td>\n",
       "    </tr>\n",
       "  </tbody>\n",
       "</table>\n",
       "</div>"
      ],
      "text/plain": [
       "               Eye_Color\n",
       "Student                 \n",
       "Tommy              Hazel\n",
       "Red                Green\n",
       "Gail                Blue\n",
       "Anisu    White and Black\n",
       "Randy              Hazel\n",
       "Ariel               Blue"
      ]
     },
     "execution_count": 66,
     "metadata": {},
     "output_type": "execute_result"
    }
   ],
   "source": [
    "# e.\tPrint out eye color column as Pandas DataFrame\n",
    "eye_color_df = df[['Eye_Color']]\n",
    "print(type(eye_color_df))\n",
    "eye_color_df"
   ]
  },
  {
   "cell_type": "code",
   "execution_count": 81,
   "metadata": {},
   "outputs": [
    {
     "data": {
      "text/html": [
       "<div>\n",
       "<style scoped>\n",
       "    .dataframe tbody tr th:only-of-type {\n",
       "        vertical-align: middle;\n",
       "    }\n",
       "\n",
       "    .dataframe tbody tr th {\n",
       "        vertical-align: top;\n",
       "    }\n",
       "\n",
       "    .dataframe thead th {\n",
       "        text-align: right;\n",
       "    }\n",
       "</style>\n",
       "<table border=\"1\" class=\"dataframe\">\n",
       "  <thead>\n",
       "    <tr style=\"text-align: right;\">\n",
       "      <th></th>\n",
       "      <th>Student</th>\n",
       "      <th>Weight_kg</th>\n",
       "    </tr>\n",
       "  </thead>\n",
       "  <tbody>\n",
       "    <tr>\n",
       "      <th>1</th>\n",
       "      <td>Tommy</td>\n",
       "      <td>60</td>\n",
       "    </tr>\n",
       "    <tr>\n",
       "      <th>2</th>\n",
       "      <td>Red</td>\n",
       "      <td>80</td>\n",
       "    </tr>\n",
       "    <tr>\n",
       "      <th>3</th>\n",
       "      <td>Gail</td>\n",
       "      <td>76</td>\n",
       "    </tr>\n",
       "    <tr>\n",
       "      <th>4</th>\n",
       "      <td>Anisu</td>\n",
       "      <td>60</td>\n",
       "    </tr>\n",
       "    <tr>\n",
       "      <th>5</th>\n",
       "      <td>Randy</td>\n",
       "      <td>88</td>\n",
       "    </tr>\n",
       "    <tr>\n",
       "      <th>6</th>\n",
       "      <td>Ariel</td>\n",
       "      <td>85</td>\n",
       "    </tr>\n",
       "  </tbody>\n",
       "</table>\n",
       "</div>"
      ],
      "text/plain": [
       "  Student  Weight_kg\n",
       "1   Tommy         60\n",
       "2     Red         80\n",
       "3    Gail         76\n",
       "4   Anisu         60\n",
       "5   Randy         88\n",
       "6   Ariel         85"
      ]
     },
     "execution_count": 81,
     "metadata": {},
     "output_type": "execute_result"
    }
   ],
   "source": [
    "# f.\tPrint out DataFrame with student and weight columns\n",
    "df_2 = df[['Student','Weight_kg']]\n",
    "df_2"
   ]
  },
  {
   "cell_type": "code",
   "execution_count": 82,
   "metadata": {},
   "outputs": [
    {
     "data": {
      "text/html": [
       "<div>\n",
       "<style scoped>\n",
       "    .dataframe tbody tr th:only-of-type {\n",
       "        vertical-align: middle;\n",
       "    }\n",
       "\n",
       "    .dataframe tbody tr th {\n",
       "        vertical-align: top;\n",
       "    }\n",
       "\n",
       "    .dataframe thead th {\n",
       "        text-align: right;\n",
       "    }\n",
       "</style>\n",
       "<table border=\"1\" class=\"dataframe\">\n",
       "  <thead>\n",
       "    <tr style=\"text-align: right;\">\n",
       "      <th></th>\n",
       "      <th>Student</th>\n",
       "      <th>Hair_Color</th>\n",
       "      <th>Eye_Color</th>\n",
       "      <th>Weight_kg</th>\n",
       "    </tr>\n",
       "  </thead>\n",
       "  <tbody>\n",
       "    <tr>\n",
       "      <th>2</th>\n",
       "      <td>Red</td>\n",
       "      <td>Grey</td>\n",
       "      <td>Green</td>\n",
       "      <td>80</td>\n",
       "    </tr>\n",
       "    <tr>\n",
       "      <th>3</th>\n",
       "      <td>Gail</td>\n",
       "      <td>Blonde</td>\n",
       "      <td>Blue</td>\n",
       "      <td>76</td>\n",
       "    </tr>\n",
       "    <tr>\n",
       "      <th>4</th>\n",
       "      <td>Anisu</td>\n",
       "      <td>Black</td>\n",
       "      <td>White and Black</td>\n",
       "      <td>60</td>\n",
       "    </tr>\n",
       "  </tbody>\n",
       "</table>\n",
       "</div>"
      ],
      "text/plain": [
       "  Student Hair_Color        Eye_Color  Weight_kg\n",
       "2     Red       Grey            Green         80\n",
       "3    Gail     Blonde             Blue         76\n",
       "4   Anisu      Black  White and Black         60"
      ]
     },
     "execution_count": 82,
     "metadata": {},
     "output_type": "execute_result"
    }
   ],
   "source": [
    "# g.\tPrint out the second through fourth observations\n",
    "df.loc[2:4]"
   ]
  },
  {
   "cell_type": "code",
   "execution_count": null,
   "metadata": {},
   "outputs": [],
   "source": []
  }
 ],
 "metadata": {
  "kernelspec": {
   "display_name": "Python 3",
   "language": "python",
   "name": "python3"
  },
  "language_info": {
   "codemirror_mode": {
    "name": "ipython",
    "version": 3
   },
   "file_extension": ".py",
   "mimetype": "text/x-python",
   "name": "python",
   "nbconvert_exporter": "python",
   "pygments_lexer": "ipython3",
   "version": "3.9.8"
  }
 },
 "nbformat": 4,
 "nbformat_minor": 2
}
