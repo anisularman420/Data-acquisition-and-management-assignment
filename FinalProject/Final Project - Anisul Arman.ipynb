{
 "cells": [
  {
   "cell_type": "markdown",
   "id": "ae44b4a7",
   "metadata": {},
   "source": [
    "# Final Project\n",
    "\n",
    "Name: Anisul Arman\n",
    "\n",
    "Course_ID: IS 362 Data Acquisition and Management . "
   ]
  },
  {
   "cell_type": "markdown",
   "id": "fd8f87d4",
   "metadata": {},
   "source": [
    "### **Mercedes-Benz USA Price Analysis & Prediction**\n",
    "### Description\n",
    "This dataset provides information about car listings in the USA, focusing on various models of Mercedes-Benz vehicles. It includes:\n",
    "- **Name**: Car name and model\n",
    "- **Mileage**: Car mileage in miles\n",
    "- **Rating**: Car dealer rating\n",
    "- **Review Count**: Number of dealer reviews\n",
    "- **Price**: Price in USD\n",
    "\n",
    "**Motivation**\n",
    "\n",
    "The used car market is complex and influenced by numerous factors, including vehicle condition, mileage, model year, and dealer reputation. Specifically, for luxury brands like Mercedes-Benz, understanding how these factors affect resale price is crucial for both buyers and sellers. This analysis aims to uncover the key drivers behind used Mercedes-Benz vehicle prices in the U.S. market. By identifying patterns and relationships within the data, consumers can make more informed purchasing decisions, and dealerships can optimize their pricing strategies to remain competitive and maximize revenue. Additionally, insights from this study could help predict vehicle prices, benefiting both market analysts and stakeholders in the automotive industry.\n",
    "\n",
    "### **Data Source**\n",
    "[USA Mercedes-Benz Prices Dataset](https://www.kaggle.com/datasets/danishammar/usa-mercedes-benz-prices-dataset)\n",
    "\n",
    "### **Data Analytics Workflow**\n",
    "1. **Data Acquisition**\n",
    "2. **Transformation & Cleaning**\n",
    "3. **Exploratory Analysis**\n",
    "4. **Statistical Summaries**\n",
    "5. **Visual Analytics**\n",
    "6. **Predictive Modeling**"
   ]
  },
  {
   "cell_type": "code",
   "execution_count": 21,
   "id": "78d966df",
   "metadata": {},
   "outputs": [],
   "source": [
    "%%capture\n",
    "!pip install kagglehub\n",
    "!pip install plotly\n",
    "!pip install sklearn"
   ]
  },
  {
   "cell_type": "code",
   "execution_count": 22,
   "id": "9ca6202a",
   "metadata": {},
   "outputs": [
    {
     "name": "stderr",
     "output_type": "stream",
     "text": [
      "c:\\Users\\Admin\\AppData\\Local\\Programs\\Python\\Python310\\lib\\site-packages\\tqdm\\auto.py:21: TqdmWarning: IProgress not found. Please update jupyter and ipywidgets. See https://ipywidgets.readthedocs.io/en/stable/user_install.html\n",
      "  from .autonotebook import tqdm as notebook_tqdm\n"
     ]
    }
   ],
   "source": [
    "import pandas as pd\n",
    "import seaborn as sns\n",
    "import plotly.express as px\n",
    "import matplotlib.pyplot as plt\n",
    "import plotly.express as px\n",
    "import kagglehub\n",
    "import re\n",
    "import shutil\n",
    "import os\n",
    "\n",
    "from sklearn.model_selection import train_test_split\n",
    "from sklearn.linear_model import LinearRegression\n",
    "from sklearn.metrics import mean_squared_error, r2_score"
   ]
  },
  {
   "cell_type": "code",
   "execution_count": 23,
   "id": "8c90b454",
   "metadata": {},
   "outputs": [
    {
     "data": {
      "text/plain": [
       "'.\\\\usa_mercedes_benz_prices.csv'"
      ]
     },
     "execution_count": 23,
     "metadata": {},
     "output_type": "execute_result"
    }
   ],
   "source": [
    "data_file  = \"usa_mercedes_benz_prices.csv\"\n",
    "# Download the dataset\n",
    "path = kagglehub.dataset_download(\"danishammar/usa-mercedes-benz-prices-dataset\")\n",
    "\n",
    "# Copy file to current folder\n",
    "csv_file = os.path.join(path,data_file)\n",
    "shutil.copy(csv_file, \".\")"
   ]
  },
  {
   "cell_type": "code",
   "execution_count": 24,
   "id": "1d58cd6b",
   "metadata": {},
   "outputs": [
    {
     "data": {
      "text/html": [
       "<div>\n",
       "<style scoped>\n",
       "    .dataframe tbody tr th:only-of-type {\n",
       "        vertical-align: middle;\n",
       "    }\n",
       "\n",
       "    .dataframe tbody tr th {\n",
       "        vertical-align: top;\n",
       "    }\n",
       "\n",
       "    .dataframe thead th {\n",
       "        text-align: right;\n",
       "    }\n",
       "</style>\n",
       "<table border=\"1\" class=\"dataframe\">\n",
       "  <thead>\n",
       "    <tr style=\"text-align: right;\">\n",
       "      <th></th>\n",
       "      <th>Name</th>\n",
       "      <th>Mileage</th>\n",
       "      <th>Rating</th>\n",
       "      <th>Review Count</th>\n",
       "      <th>Price</th>\n",
       "    </tr>\n",
       "  </thead>\n",
       "  <tbody>\n",
       "    <tr>\n",
       "      <th>0</th>\n",
       "      <td>2021 Mercedes-Benz A-Class A 220 4MATIC</td>\n",
       "      <td>29,636 mi.</td>\n",
       "      <td>3.9</td>\n",
       "      <td>1,800</td>\n",
       "      <td>$30,900</td>\n",
       "    </tr>\n",
       "    <tr>\n",
       "      <th>1</th>\n",
       "      <td>2022 Mercedes-Benz AMG SL 63 Base</td>\n",
       "      <td>5,540 mi.</td>\n",
       "      <td>4.7</td>\n",
       "      <td>1,239</td>\n",
       "      <td>$139,999</td>\n",
       "    </tr>\n",
       "    <tr>\n",
       "      <th>2</th>\n",
       "      <td>2022 Mercedes-Benz AMG SL 63 Base</td>\n",
       "      <td>4,890 mi.</td>\n",
       "      <td>4.7</td>\n",
       "      <td>1,239</td>\n",
       "      <td>$132,999</td>\n",
       "    </tr>\n",
       "    <tr>\n",
       "      <th>3</th>\n",
       "      <td>2020 Mercedes-Benz AMG E 53 Base 4MATIC</td>\n",
       "      <td>29,746 mi.</td>\n",
       "      <td>4.8</td>\n",
       "      <td>752</td>\n",
       "      <td>$58,587</td>\n",
       "    </tr>\n",
       "    <tr>\n",
       "      <th>4</th>\n",
       "      <td>2021 Mercedes-Benz AMG GLS 63 Base 4MATIC</td>\n",
       "      <td>32,631 mi.</td>\n",
       "      <td>5.0</td>\n",
       "      <td>1,502</td>\n",
       "      <td>$95,990</td>\n",
       "    </tr>\n",
       "  </tbody>\n",
       "</table>\n",
       "</div>"
      ],
      "text/plain": [
       "                                        Name     Mileage  Rating Review Count  \\\n",
       "0    2021 Mercedes-Benz A-Class A 220 4MATIC  29,636 mi.     3.9       1,800    \n",
       "1          2022 Mercedes-Benz AMG SL 63 Base   5,540 mi.     4.7       1,239    \n",
       "2          2022 Mercedes-Benz AMG SL 63 Base   4,890 mi.     4.7       1,239    \n",
       "3    2020 Mercedes-Benz AMG E 53 Base 4MATIC  29,746 mi.     4.8         752    \n",
       "4  2021 Mercedes-Benz AMG GLS 63 Base 4MATIC  32,631 mi.     5.0       1,502    \n",
       "\n",
       "      Price  \n",
       "0   $30,900  \n",
       "1  $139,999  \n",
       "2  $132,999  \n",
       "3   $58,587  \n",
       "4   $95,990  "
      ]
     },
     "execution_count": 24,
     "metadata": {},
     "output_type": "execute_result"
    }
   ],
   "source": [
    "# Load the dataset\n",
    "df = pd.read_csv(data_file)\n",
    "df.head()"
   ]
  },
  {
   "cell_type": "code",
   "execution_count": 25,
   "id": "c2db409b",
   "metadata": {},
   "outputs": [
    {
     "data": {
      "text/html": [
       "<div>\n",
       "<style scoped>\n",
       "    .dataframe tbody tr th:only-of-type {\n",
       "        vertical-align: middle;\n",
       "    }\n",
       "\n",
       "    .dataframe tbody tr th {\n",
       "        vertical-align: top;\n",
       "    }\n",
       "\n",
       "    .dataframe thead th {\n",
       "        text-align: right;\n",
       "    }\n",
       "</style>\n",
       "<table border=\"1\" class=\"dataframe\">\n",
       "  <thead>\n",
       "    <tr style=\"text-align: right;\">\n",
       "      <th></th>\n",
       "      <th>Name</th>\n",
       "      <th>Mileage</th>\n",
       "      <th>Rating</th>\n",
       "      <th>Review Count</th>\n",
       "      <th>Price</th>\n",
       "    </tr>\n",
       "  </thead>\n",
       "  <tbody>\n",
       "    <tr>\n",
       "      <th>0</th>\n",
       "      <td>2021 Mercedes-Benz A-Class A 220 4MATIC</td>\n",
       "      <td>29636.0</td>\n",
       "      <td>3.9</td>\n",
       "      <td>1,800</td>\n",
       "      <td>30900.0</td>\n",
       "    </tr>\n",
       "    <tr>\n",
       "      <th>1</th>\n",
       "      <td>2022 Mercedes-Benz AMG SL 63 Base</td>\n",
       "      <td>5540.0</td>\n",
       "      <td>4.7</td>\n",
       "      <td>1,239</td>\n",
       "      <td>139999.0</td>\n",
       "    </tr>\n",
       "    <tr>\n",
       "      <th>2</th>\n",
       "      <td>2022 Mercedes-Benz AMG SL 63 Base</td>\n",
       "      <td>4890.0</td>\n",
       "      <td>4.7</td>\n",
       "      <td>1,239</td>\n",
       "      <td>132999.0</td>\n",
       "    </tr>\n",
       "    <tr>\n",
       "      <th>3</th>\n",
       "      <td>2020 Mercedes-Benz AMG E 53 Base 4MATIC</td>\n",
       "      <td>29746.0</td>\n",
       "      <td>4.8</td>\n",
       "      <td>752</td>\n",
       "      <td>58587.0</td>\n",
       "    </tr>\n",
       "    <tr>\n",
       "      <th>4</th>\n",
       "      <td>2021 Mercedes-Benz AMG GLS 63 Base 4MATIC</td>\n",
       "      <td>32631.0</td>\n",
       "      <td>5.0</td>\n",
       "      <td>1,502</td>\n",
       "      <td>95990.0</td>\n",
       "    </tr>\n",
       "  </tbody>\n",
       "</table>\n",
       "</div>"
      ],
      "text/plain": [
       "                                        Name  Mileage  Rating Review Count  \\\n",
       "0    2021 Mercedes-Benz A-Class A 220 4MATIC  29636.0     3.9       1,800    \n",
       "1          2022 Mercedes-Benz AMG SL 63 Base   5540.0     4.7       1,239    \n",
       "2          2022 Mercedes-Benz AMG SL 63 Base   4890.0     4.7       1,239    \n",
       "3    2020 Mercedes-Benz AMG E 53 Base 4MATIC  29746.0     4.8         752    \n",
       "4  2021 Mercedes-Benz AMG GLS 63 Base 4MATIC  32631.0     5.0       1,502    \n",
       "\n",
       "      Price  \n",
       "0   30900.0  \n",
       "1  139999.0  \n",
       "2  132999.0  \n",
       "3   58587.0  \n",
       "4   95990.0  "
      ]
     },
     "execution_count": 25,
     "metadata": {},
     "output_type": "execute_result"
    }
   ],
   "source": [
    "# Clean and transform the data\n",
    "df['Mileage'] = df['Mileage'].str.replace(' mi', '').str.replace(',', '').astype(float)\n",
    "df = df[df['Price'] != 'Not Priced'].copy()\n",
    "df['Price'] = df['Price'].str.replace('$', '').str.replace(',', '').astype(float)\n",
    "df.head()"
   ]
  },
  {
   "cell_type": "code",
   "execution_count": 26,
   "id": "03bca55e",
   "metadata": {},
   "outputs": [
    {
     "data": {
      "text/html": [
       "<div>\n",
       "<style scoped>\n",
       "    .dataframe tbody tr th:only-of-type {\n",
       "        vertical-align: middle;\n",
       "    }\n",
       "\n",
       "    .dataframe tbody tr th {\n",
       "        vertical-align: top;\n",
       "    }\n",
       "\n",
       "    .dataframe thead th {\n",
       "        text-align: right;\n",
       "    }\n",
       "</style>\n",
       "<table border=\"1\" class=\"dataframe\">\n",
       "  <thead>\n",
       "    <tr style=\"text-align: right;\">\n",
       "      <th></th>\n",
       "      <th>Name</th>\n",
       "      <th>Mileage</th>\n",
       "      <th>Rating</th>\n",
       "      <th>Review Count</th>\n",
       "      <th>Price</th>\n",
       "      <th>Year</th>\n",
       "      <th>Model</th>\n",
       "    </tr>\n",
       "  </thead>\n",
       "  <tbody>\n",
       "    <tr>\n",
       "      <th>0</th>\n",
       "      <td>2021 Mercedes-Benz A-Class A 220 4MATIC</td>\n",
       "      <td>29636.0</td>\n",
       "      <td>3.9</td>\n",
       "      <td>1,800</td>\n",
       "      <td>30900.0</td>\n",
       "      <td>2021.0</td>\n",
       "      <td>Mercedes-Benz A-Class A 220 4MATIC</td>\n",
       "    </tr>\n",
       "    <tr>\n",
       "      <th>1</th>\n",
       "      <td>2022 Mercedes-Benz AMG SL 63 Base</td>\n",
       "      <td>5540.0</td>\n",
       "      <td>4.7</td>\n",
       "      <td>1,239</td>\n",
       "      <td>139999.0</td>\n",
       "      <td>2022.0</td>\n",
       "      <td>Mercedes-Benz AMG SL 63 Base</td>\n",
       "    </tr>\n",
       "    <tr>\n",
       "      <th>2</th>\n",
       "      <td>2022 Mercedes-Benz AMG SL 63 Base</td>\n",
       "      <td>4890.0</td>\n",
       "      <td>4.7</td>\n",
       "      <td>1,239</td>\n",
       "      <td>132999.0</td>\n",
       "      <td>2022.0</td>\n",
       "      <td>Mercedes-Benz AMG SL 63 Base</td>\n",
       "    </tr>\n",
       "    <tr>\n",
       "      <th>3</th>\n",
       "      <td>2020 Mercedes-Benz AMG E 53 Base 4MATIC</td>\n",
       "      <td>29746.0</td>\n",
       "      <td>4.8</td>\n",
       "      <td>752</td>\n",
       "      <td>58587.0</td>\n",
       "      <td>2020.0</td>\n",
       "      <td>Mercedes-Benz AMG E 53 Base 4MATIC</td>\n",
       "    </tr>\n",
       "    <tr>\n",
       "      <th>4</th>\n",
       "      <td>2021 Mercedes-Benz AMG GLS 63 Base 4MATIC</td>\n",
       "      <td>32631.0</td>\n",
       "      <td>5.0</td>\n",
       "      <td>1,502</td>\n",
       "      <td>95990.0</td>\n",
       "      <td>2021.0</td>\n",
       "      <td>Mercedes-Benz AMG GLS 63 Base 4MATIC</td>\n",
       "    </tr>\n",
       "  </tbody>\n",
       "</table>\n",
       "</div>"
      ],
      "text/plain": [
       "                                        Name  Mileage  Rating Review Count  \\\n",
       "0    2021 Mercedes-Benz A-Class A 220 4MATIC  29636.0     3.9       1,800    \n",
       "1          2022 Mercedes-Benz AMG SL 63 Base   5540.0     4.7       1,239    \n",
       "2          2022 Mercedes-Benz AMG SL 63 Base   4890.0     4.7       1,239    \n",
       "3    2020 Mercedes-Benz AMG E 53 Base 4MATIC  29746.0     4.8         752    \n",
       "4  2021 Mercedes-Benz AMG GLS 63 Base 4MATIC  32631.0     5.0       1,502    \n",
       "\n",
       "      Price    Year                                 Model  \n",
       "0   30900.0  2021.0    Mercedes-Benz A-Class A 220 4MATIC  \n",
       "1  139999.0  2022.0          Mercedes-Benz AMG SL 63 Base  \n",
       "2  132999.0  2022.0          Mercedes-Benz AMG SL 63 Base  \n",
       "3   58587.0  2020.0    Mercedes-Benz AMG E 53 Base 4MATIC  \n",
       "4   95990.0  2021.0  Mercedes-Benz AMG GLS 63 Base 4MATIC  "
      ]
     },
     "execution_count": 26,
     "metadata": {},
     "output_type": "execute_result"
    }
   ],
   "source": [
    "# Extract year and model from 'Name'\n",
    "df['Year'] = df['Name'].str.extract(r'(^\\d{4})').astype(float)\n",
    "df['Model'] = df['Name'].str.extract(r'^\\d{4}\\s+(.*)')\n",
    "df.head()"
   ]
  },
  {
   "cell_type": "code",
   "execution_count": 27,
   "id": "f14c80b1",
   "metadata": {},
   "outputs": [
    {
     "data": {
      "text/html": [
       "<div>\n",
       "<style scoped>\n",
       "    .dataframe tbody tr th:only-of-type {\n",
       "        vertical-align: middle;\n",
       "    }\n",
       "\n",
       "    .dataframe tbody tr th {\n",
       "        vertical-align: top;\n",
       "    }\n",
       "\n",
       "    .dataframe thead th {\n",
       "        text-align: right;\n",
       "    }\n",
       "</style>\n",
       "<table border=\"1\" class=\"dataframe\">\n",
       "  <thead>\n",
       "    <tr style=\"text-align: right;\">\n",
       "      <th></th>\n",
       "      <th>Name</th>\n",
       "      <th>Mileage</th>\n",
       "      <th>Rating</th>\n",
       "      <th>Review Count</th>\n",
       "      <th>Price</th>\n",
       "      <th>Year</th>\n",
       "      <th>Model</th>\n",
       "    </tr>\n",
       "  </thead>\n",
       "  <tbody>\n",
       "    <tr>\n",
       "      <th>0</th>\n",
       "      <td>2021 Mercedes-Benz A-Class A 220 4MATIC</td>\n",
       "      <td>29636.0</td>\n",
       "      <td>3.9</td>\n",
       "      <td>1800.0</td>\n",
       "      <td>30900.0</td>\n",
       "      <td>2021.0</td>\n",
       "      <td>Mercedes-Benz A-Class A 220 4MATIC</td>\n",
       "    </tr>\n",
       "    <tr>\n",
       "      <th>1</th>\n",
       "      <td>2022 Mercedes-Benz AMG SL 63 Base</td>\n",
       "      <td>5540.0</td>\n",
       "      <td>4.7</td>\n",
       "      <td>1239.0</td>\n",
       "      <td>139999.0</td>\n",
       "      <td>2022.0</td>\n",
       "      <td>Mercedes-Benz AMG SL 63 Base</td>\n",
       "    </tr>\n",
       "    <tr>\n",
       "      <th>2</th>\n",
       "      <td>2022 Mercedes-Benz AMG SL 63 Base</td>\n",
       "      <td>4890.0</td>\n",
       "      <td>4.7</td>\n",
       "      <td>1239.0</td>\n",
       "      <td>132999.0</td>\n",
       "      <td>2022.0</td>\n",
       "      <td>Mercedes-Benz AMG SL 63 Base</td>\n",
       "    </tr>\n",
       "    <tr>\n",
       "      <th>3</th>\n",
       "      <td>2020 Mercedes-Benz AMG E 53 Base 4MATIC</td>\n",
       "      <td>29746.0</td>\n",
       "      <td>4.8</td>\n",
       "      <td>752.0</td>\n",
       "      <td>58587.0</td>\n",
       "      <td>2020.0</td>\n",
       "      <td>Mercedes-Benz AMG E 53 Base 4MATIC</td>\n",
       "    </tr>\n",
       "    <tr>\n",
       "      <th>4</th>\n",
       "      <td>2021 Mercedes-Benz AMG GLS 63 Base 4MATIC</td>\n",
       "      <td>32631.0</td>\n",
       "      <td>5.0</td>\n",
       "      <td>1502.0</td>\n",
       "      <td>95990.0</td>\n",
       "      <td>2021.0</td>\n",
       "      <td>Mercedes-Benz AMG GLS 63 Base 4MATIC</td>\n",
       "    </tr>\n",
       "  </tbody>\n",
       "</table>\n",
       "</div>"
      ],
      "text/plain": [
       "                                        Name  Mileage  Rating  Review Count  \\\n",
       "0    2021 Mercedes-Benz A-Class A 220 4MATIC  29636.0     3.9        1800.0   \n",
       "1          2022 Mercedes-Benz AMG SL 63 Base   5540.0     4.7        1239.0   \n",
       "2          2022 Mercedes-Benz AMG SL 63 Base   4890.0     4.7        1239.0   \n",
       "3    2020 Mercedes-Benz AMG E 53 Base 4MATIC  29746.0     4.8         752.0   \n",
       "4  2021 Mercedes-Benz AMG GLS 63 Base 4MATIC  32631.0     5.0        1502.0   \n",
       "\n",
       "      Price    Year                                 Model  \n",
       "0   30900.0  2021.0    Mercedes-Benz A-Class A 220 4MATIC  \n",
       "1  139999.0  2022.0          Mercedes-Benz AMG SL 63 Base  \n",
       "2  132999.0  2022.0          Mercedes-Benz AMG SL 63 Base  \n",
       "3   58587.0  2020.0    Mercedes-Benz AMG E 53 Base 4MATIC  \n",
       "4   95990.0  2021.0  Mercedes-Benz AMG GLS 63 Base 4MATIC  "
      ]
     },
     "execution_count": 27,
     "metadata": {},
     "output_type": "execute_result"
    }
   ],
   "source": [
    "# Clean and transform Review Count\n",
    "df['Review Count'] = df['Review Count'].str.replace(' reviews', '').str.replace(',', '').astype(float)\n",
    "df.head()"
   ]
  },
  {
   "cell_type": "code",
   "execution_count": 28,
   "id": "947b93e6",
   "metadata": {},
   "outputs": [
    {
     "name": "stdout",
     "output_type": "stream",
     "text": [
      "<class 'pandas.core.frame.DataFrame'>\n",
      "Index: 2428 entries, 0 to 2428\n",
      "Data columns (total 7 columns):\n",
      " #   Column        Non-Null Count  Dtype  \n",
      "---  ------        --------------  -----  \n",
      " 0   Name          2428 non-null   object \n",
      " 1   Mileage       2428 non-null   float64\n",
      " 2   Rating        2134 non-null   float64\n",
      " 3   Review Count  2397 non-null   float64\n",
      " 4   Price         2428 non-null   float64\n",
      " 5   Year          2428 non-null   float64\n",
      " 6   Model         2428 non-null   object \n",
      "dtypes: float64(5), object(2)\n",
      "memory usage: 151.8+ KB\n"
     ]
    }
   ],
   "source": [
    "# Explore the data\n",
    "df.info()"
   ]
  },
  {
   "cell_type": "code",
   "execution_count": 29,
   "id": "72b0cefb",
   "metadata": {},
   "outputs": [
    {
     "data": {
      "text/html": [
       "<div>\n",
       "<style scoped>\n",
       "    .dataframe tbody tr th:only-of-type {\n",
       "        vertical-align: middle;\n",
       "    }\n",
       "\n",
       "    .dataframe tbody tr th {\n",
       "        vertical-align: top;\n",
       "    }\n",
       "\n",
       "    .dataframe thead th {\n",
       "        text-align: right;\n",
       "    }\n",
       "</style>\n",
       "<table border=\"1\" class=\"dataframe\">\n",
       "  <thead>\n",
       "    <tr style=\"text-align: right;\">\n",
       "      <th></th>\n",
       "      <th>Mileage</th>\n",
       "      <th>Rating</th>\n",
       "      <th>Review Count</th>\n",
       "      <th>Price</th>\n",
       "      <th>Year</th>\n",
       "    </tr>\n",
       "  </thead>\n",
       "  <tbody>\n",
       "    <tr>\n",
       "      <th>count</th>\n",
       "      <td>2428.000000</td>\n",
       "      <td>2134.000000</td>\n",
       "      <td>2397.000000</td>\n",
       "      <td>2428.000000</td>\n",
       "      <td>2428.000000</td>\n",
       "    </tr>\n",
       "    <tr>\n",
       "      <th>mean</th>\n",
       "      <td>20080.962521</td>\n",
       "      <td>4.533739</td>\n",
       "      <td>1267.528160</td>\n",
       "      <td>55994.378501</td>\n",
       "      <td>2021.770181</td>\n",
       "    </tr>\n",
       "    <tr>\n",
       "      <th>std</th>\n",
       "      <td>17802.751607</td>\n",
       "      <td>0.386596</td>\n",
       "      <td>1261.422175</td>\n",
       "      <td>31402.041807</td>\n",
       "      <td>1.590008</td>\n",
       "    </tr>\n",
       "    <tr>\n",
       "      <th>min</th>\n",
       "      <td>100.000000</td>\n",
       "      <td>2.100000</td>\n",
       "      <td>0.000000</td>\n",
       "      <td>8999.000000</td>\n",
       "      <td>2014.000000</td>\n",
       "    </tr>\n",
       "    <tr>\n",
       "      <th>25%</th>\n",
       "      <td>5843.000000</td>\n",
       "      <td>4.400000</td>\n",
       "      <td>344.000000</td>\n",
       "      <td>38000.000000</td>\n",
       "      <td>2021.000000</td>\n",
       "    </tr>\n",
       "    <tr>\n",
       "      <th>50%</th>\n",
       "      <td>14017.000000</td>\n",
       "      <td>4.600000</td>\n",
       "      <td>919.000000</td>\n",
       "      <td>46925.500000</td>\n",
       "      <td>2022.000000</td>\n",
       "    </tr>\n",
       "    <tr>\n",
       "      <th>75%</th>\n",
       "      <td>31195.000000</td>\n",
       "      <td>4.800000</td>\n",
       "      <td>1800.000000</td>\n",
       "      <td>62440.750000</td>\n",
       "      <td>2023.000000</td>\n",
       "    </tr>\n",
       "    <tr>\n",
       "      <th>max</th>\n",
       "      <td>194043.000000</td>\n",
       "      <td>5.000000</td>\n",
       "      <td>7140.000000</td>\n",
       "      <td>229918.000000</td>\n",
       "      <td>2024.000000</td>\n",
       "    </tr>\n",
       "  </tbody>\n",
       "</table>\n",
       "</div>"
      ],
      "text/plain": [
       "             Mileage       Rating  Review Count          Price         Year\n",
       "count    2428.000000  2134.000000   2397.000000    2428.000000  2428.000000\n",
       "mean    20080.962521     4.533739   1267.528160   55994.378501  2021.770181\n",
       "std     17802.751607     0.386596   1261.422175   31402.041807     1.590008\n",
       "min       100.000000     2.100000      0.000000    8999.000000  2014.000000\n",
       "25%      5843.000000     4.400000    344.000000   38000.000000  2021.000000\n",
       "50%     14017.000000     4.600000    919.000000   46925.500000  2022.000000\n",
       "75%     31195.000000     4.800000   1800.000000   62440.750000  2023.000000\n",
       "max    194043.000000     5.000000   7140.000000  229918.000000  2024.000000"
      ]
     },
     "execution_count": 29,
     "metadata": {},
     "output_type": "execute_result"
    }
   ],
   "source": [
    "df.describe()"
   ]
  },
  {
   "cell_type": "code",
   "execution_count": 30,
   "id": "656426cd",
   "metadata": {},
   "outputs": [
    {
     "data": {
      "text/html": [
       "<div>\n",
       "<style scoped>\n",
       "    .dataframe tbody tr th:only-of-type {\n",
       "        vertical-align: middle;\n",
       "    }\n",
       "\n",
       "    .dataframe tbody tr th {\n",
       "        vertical-align: top;\n",
       "    }\n",
       "\n",
       "    .dataframe thead th {\n",
       "        text-align: right;\n",
       "    }\n",
       "</style>\n",
       "<table border=\"1\" class=\"dataframe\">\n",
       "  <thead>\n",
       "    <tr style=\"text-align: right;\">\n",
       "      <th></th>\n",
       "      <th>Model</th>\n",
       "      <th>Price</th>\n",
       "    </tr>\n",
       "  </thead>\n",
       "  <tbody>\n",
       "    <tr>\n",
       "      <th>29</th>\n",
       "      <td>Mercedes-Benz AMG G 63 4MATIC</td>\n",
       "      <td>208214.629630</td>\n",
       "    </tr>\n",
       "    <tr>\n",
       "      <th>28</th>\n",
       "      <td>Mercedes-Benz AMG G 63</td>\n",
       "      <td>203016.000000</td>\n",
       "    </tr>\n",
       "    <tr>\n",
       "      <th>193</th>\n",
       "      <td>Mercedes-Benz Maybach S 680 4MATIC</td>\n",
       "      <td>198888.000000</td>\n",
       "    </tr>\n",
       "    <tr>\n",
       "      <th>30</th>\n",
       "      <td>Mercedes-Benz AMG G 63 Base</td>\n",
       "      <td>162365.375000</td>\n",
       "    </tr>\n",
       "    <tr>\n",
       "      <th>191</th>\n",
       "      <td>Mercedes-Benz Maybach S 580 4MATIC</td>\n",
       "      <td>161183.600000</td>\n",
       "    </tr>\n",
       "    <tr>\n",
       "      <th>112</th>\n",
       "      <td>Mercedes-Benz E-Class E 63 AMG 4MATIC</td>\n",
       "      <td>154189.500000</td>\n",
       "    </tr>\n",
       "    <tr>\n",
       "      <th>189</th>\n",
       "      <td>Mercedes-Benz Maybach GLS 600 4MATIC</td>\n",
       "      <td>149635.000000</td>\n",
       "    </tr>\n",
       "    <tr>\n",
       "      <th>83</th>\n",
       "      <td>Mercedes-Benz AMG SL 63 Base</td>\n",
       "      <td>144161.750000</td>\n",
       "    </tr>\n",
       "    <tr>\n",
       "      <th>146</th>\n",
       "      <td>Mercedes-Benz G-Class G 550 4MATIC</td>\n",
       "      <td>143948.750000</td>\n",
       "    </tr>\n",
       "    <tr>\n",
       "      <th>77</th>\n",
       "      <td>Mercedes-Benz AMG GT R</td>\n",
       "      <td>143793.666667</td>\n",
       "    </tr>\n",
       "  </tbody>\n",
       "</table>\n",
       "</div>"
      ],
      "text/plain": [
       "                                     Model          Price\n",
       "29           Mercedes-Benz AMG G 63 4MATIC  208214.629630\n",
       "28                 Mercedes-Benz AMG G 63   203016.000000\n",
       "193     Mercedes-Benz Maybach S 680 4MATIC  198888.000000\n",
       "30             Mercedes-Benz AMG G 63 Base  162365.375000\n",
       "191     Mercedes-Benz Maybach S 580 4MATIC  161183.600000\n",
       "112  Mercedes-Benz E-Class E 63 AMG 4MATIC  154189.500000\n",
       "189   Mercedes-Benz Maybach GLS 600 4MATIC  149635.000000\n",
       "83            Mercedes-Benz AMG SL 63 Base  144161.750000\n",
       "146     Mercedes-Benz G-Class G 550 4MATIC  143948.750000\n",
       "77                  Mercedes-Benz AMG GT R  143793.666667"
      ]
     },
     "execution_count": 30,
     "metadata": {},
     "output_type": "execute_result"
    }
   ],
   "source": [
    "# Project includes at least one grouping or aggregation.\n",
    "# Group by Model and calculate average price\n",
    "avg_price_by_model = df.groupby('Model')['Price'].mean().reset_index().sort_values(by='Price', ascending=False)\n",
    "\n",
    "# Display the top 10 models with highest average prices\n",
    "avg_price_by_model.head(10)"
   ]
  },
  {
   "cell_type": "code",
   "execution_count": 31,
   "id": "31441d57",
   "metadata": {},
   "outputs": [
    {
     "data": {
      "application/vnd.plotly.v1+json": {
       "config": {
        "plotlyServerURL": "https://plot.ly"
       },
       "data": [
        {
         "hovertemplate": "Car Model=%{x}<br>Average Price (USD)=%{y}<extra></extra>",
         "legendgroup": "",
         "line": {
          "color": "#636efa",
          "dash": "solid"
         },
         "marker": {
          "symbol": "circle"
         },
         "mode": "lines+markers",
         "name": "",
         "orientation": "v",
         "showlegend": false,
         "type": "scatter",
         "x": [
          "Mercedes-Benz AMG G 63 4MATIC",
          "Mercedes-Benz AMG G 63 ",
          "Mercedes-Benz Maybach S 680 4MATIC",
          "Mercedes-Benz AMG G 63 Base",
          "Mercedes-Benz Maybach S 580 4MATIC",
          "Mercedes-Benz E-Class E 63 AMG 4MATIC",
          "Mercedes-Benz Maybach GLS 600 4MATIC",
          "Mercedes-Benz AMG SL 63 Base",
          "Mercedes-Benz G-Class G 550 4MATIC",
          "Mercedes-Benz AMG GT R"
         ],
         "xaxis": "x",
         "y": {
          "bdata": "X0J7CbVqCUEAAAAAQMgIQQAAAABARwhBAAAAAOvRA0HNzMzM/KwDQQAAAABs0gJBAAAAABhEAkEAAAAADpkBQQAAAABmkgFBVVVVVY2NAUE=",
          "dtype": "f8"
         },
         "yaxis": "y"
        }
       ],
       "layout": {
        "legend": {
         "tracegroupgap": 0
        },
        "template": {
         "data": {
          "bar": [
           {
            "error_x": {
             "color": "#2a3f5f"
            },
            "error_y": {
             "color": "#2a3f5f"
            },
            "marker": {
             "line": {
              "color": "white",
              "width": 0.5
             },
             "pattern": {
              "fillmode": "overlay",
              "size": 10,
              "solidity": 0.2
             }
            },
            "type": "bar"
           }
          ],
          "barpolar": [
           {
            "marker": {
             "line": {
              "color": "white",
              "width": 0.5
             },
             "pattern": {
              "fillmode": "overlay",
              "size": 10,
              "solidity": 0.2
             }
            },
            "type": "barpolar"
           }
          ],
          "carpet": [
           {
            "aaxis": {
             "endlinecolor": "#2a3f5f",
             "gridcolor": "#C8D4E3",
             "linecolor": "#C8D4E3",
             "minorgridcolor": "#C8D4E3",
             "startlinecolor": "#2a3f5f"
            },
            "baxis": {
             "endlinecolor": "#2a3f5f",
             "gridcolor": "#C8D4E3",
             "linecolor": "#C8D4E3",
             "minorgridcolor": "#C8D4E3",
             "startlinecolor": "#2a3f5f"
            },
            "type": "carpet"
           }
          ],
          "choropleth": [
           {
            "colorbar": {
             "outlinewidth": 0,
             "ticks": ""
            },
            "type": "choropleth"
           }
          ],
          "contour": [
           {
            "colorbar": {
             "outlinewidth": 0,
             "ticks": ""
            },
            "colorscale": [
             [
              0,
              "#0d0887"
             ],
             [
              0.1111111111111111,
              "#46039f"
             ],
             [
              0.2222222222222222,
              "#7201a8"
             ],
             [
              0.3333333333333333,
              "#9c179e"
             ],
             [
              0.4444444444444444,
              "#bd3786"
             ],
             [
              0.5555555555555556,
              "#d8576b"
             ],
             [
              0.6666666666666666,
              "#ed7953"
             ],
             [
              0.7777777777777778,
              "#fb9f3a"
             ],
             [
              0.8888888888888888,
              "#fdca26"
             ],
             [
              1,
              "#f0f921"
             ]
            ],
            "type": "contour"
           }
          ],
          "contourcarpet": [
           {
            "colorbar": {
             "outlinewidth": 0,
             "ticks": ""
            },
            "type": "contourcarpet"
           }
          ],
          "heatmap": [
           {
            "colorbar": {
             "outlinewidth": 0,
             "ticks": ""
            },
            "colorscale": [
             [
              0,
              "#0d0887"
             ],
             [
              0.1111111111111111,
              "#46039f"
             ],
             [
              0.2222222222222222,
              "#7201a8"
             ],
             [
              0.3333333333333333,
              "#9c179e"
             ],
             [
              0.4444444444444444,
              "#bd3786"
             ],
             [
              0.5555555555555556,
              "#d8576b"
             ],
             [
              0.6666666666666666,
              "#ed7953"
             ],
             [
              0.7777777777777778,
              "#fb9f3a"
             ],
             [
              0.8888888888888888,
              "#fdca26"
             ],
             [
              1,
              "#f0f921"
             ]
            ],
            "type": "heatmap"
           }
          ],
          "histogram": [
           {
            "marker": {
             "pattern": {
              "fillmode": "overlay",
              "size": 10,
              "solidity": 0.2
             }
            },
            "type": "histogram"
           }
          ],
          "histogram2d": [
           {
            "colorbar": {
             "outlinewidth": 0,
             "ticks": ""
            },
            "colorscale": [
             [
              0,
              "#0d0887"
             ],
             [
              0.1111111111111111,
              "#46039f"
             ],
             [
              0.2222222222222222,
              "#7201a8"
             ],
             [
              0.3333333333333333,
              "#9c179e"
             ],
             [
              0.4444444444444444,
              "#bd3786"
             ],
             [
              0.5555555555555556,
              "#d8576b"
             ],
             [
              0.6666666666666666,
              "#ed7953"
             ],
             [
              0.7777777777777778,
              "#fb9f3a"
             ],
             [
              0.8888888888888888,
              "#fdca26"
             ],
             [
              1,
              "#f0f921"
             ]
            ],
            "type": "histogram2d"
           }
          ],
          "histogram2dcontour": [
           {
            "colorbar": {
             "outlinewidth": 0,
             "ticks": ""
            },
            "colorscale": [
             [
              0,
              "#0d0887"
             ],
             [
              0.1111111111111111,
              "#46039f"
             ],
             [
              0.2222222222222222,
              "#7201a8"
             ],
             [
              0.3333333333333333,
              "#9c179e"
             ],
             [
              0.4444444444444444,
              "#bd3786"
             ],
             [
              0.5555555555555556,
              "#d8576b"
             ],
             [
              0.6666666666666666,
              "#ed7953"
             ],
             [
              0.7777777777777778,
              "#fb9f3a"
             ],
             [
              0.8888888888888888,
              "#fdca26"
             ],
             [
              1,
              "#f0f921"
             ]
            ],
            "type": "histogram2dcontour"
           }
          ],
          "mesh3d": [
           {
            "colorbar": {
             "outlinewidth": 0,
             "ticks": ""
            },
            "type": "mesh3d"
           }
          ],
          "parcoords": [
           {
            "line": {
             "colorbar": {
              "outlinewidth": 0,
              "ticks": ""
             }
            },
            "type": "parcoords"
           }
          ],
          "pie": [
           {
            "automargin": true,
            "type": "pie"
           }
          ],
          "scatter": [
           {
            "fillpattern": {
             "fillmode": "overlay",
             "size": 10,
             "solidity": 0.2
            },
            "type": "scatter"
           }
          ],
          "scatter3d": [
           {
            "line": {
             "colorbar": {
              "outlinewidth": 0,
              "ticks": ""
             }
            },
            "marker": {
             "colorbar": {
              "outlinewidth": 0,
              "ticks": ""
             }
            },
            "type": "scatter3d"
           }
          ],
          "scattercarpet": [
           {
            "marker": {
             "colorbar": {
              "outlinewidth": 0,
              "ticks": ""
             }
            },
            "type": "scattercarpet"
           }
          ],
          "scattergeo": [
           {
            "marker": {
             "colorbar": {
              "outlinewidth": 0,
              "ticks": ""
             }
            },
            "type": "scattergeo"
           }
          ],
          "scattergl": [
           {
            "marker": {
             "colorbar": {
              "outlinewidth": 0,
              "ticks": ""
             }
            },
            "type": "scattergl"
           }
          ],
          "scattermap": [
           {
            "marker": {
             "colorbar": {
              "outlinewidth": 0,
              "ticks": ""
             }
            },
            "type": "scattermap"
           }
          ],
          "scattermapbox": [
           {
            "marker": {
             "colorbar": {
              "outlinewidth": 0,
              "ticks": ""
             }
            },
            "type": "scattermapbox"
           }
          ],
          "scatterpolar": [
           {
            "marker": {
             "colorbar": {
              "outlinewidth": 0,
              "ticks": ""
             }
            },
            "type": "scatterpolar"
           }
          ],
          "scatterpolargl": [
           {
            "marker": {
             "colorbar": {
              "outlinewidth": 0,
              "ticks": ""
             }
            },
            "type": "scatterpolargl"
           }
          ],
          "scatterternary": [
           {
            "marker": {
             "colorbar": {
              "outlinewidth": 0,
              "ticks": ""
             }
            },
            "type": "scatterternary"
           }
          ],
          "surface": [
           {
            "colorbar": {
             "outlinewidth": 0,
             "ticks": ""
            },
            "colorscale": [
             [
              0,
              "#0d0887"
             ],
             [
              0.1111111111111111,
              "#46039f"
             ],
             [
              0.2222222222222222,
              "#7201a8"
             ],
             [
              0.3333333333333333,
              "#9c179e"
             ],
             [
              0.4444444444444444,
              "#bd3786"
             ],
             [
              0.5555555555555556,
              "#d8576b"
             ],
             [
              0.6666666666666666,
              "#ed7953"
             ],
             [
              0.7777777777777778,
              "#fb9f3a"
             ],
             [
              0.8888888888888888,
              "#fdca26"
             ],
             [
              1,
              "#f0f921"
             ]
            ],
            "type": "surface"
           }
          ],
          "table": [
           {
            "cells": {
             "fill": {
              "color": "#EBF0F8"
             },
             "line": {
              "color": "white"
             }
            },
            "header": {
             "fill": {
              "color": "#C8D4E3"
             },
             "line": {
              "color": "white"
             }
            },
            "type": "table"
           }
          ]
         },
         "layout": {
          "annotationdefaults": {
           "arrowcolor": "#2a3f5f",
           "arrowhead": 0,
           "arrowwidth": 1
          },
          "autotypenumbers": "strict",
          "coloraxis": {
           "colorbar": {
            "outlinewidth": 0,
            "ticks": ""
           }
          },
          "colorscale": {
           "diverging": [
            [
             0,
             "#8e0152"
            ],
            [
             0.1,
             "#c51b7d"
            ],
            [
             0.2,
             "#de77ae"
            ],
            [
             0.3,
             "#f1b6da"
            ],
            [
             0.4,
             "#fde0ef"
            ],
            [
             0.5,
             "#f7f7f7"
            ],
            [
             0.6,
             "#e6f5d0"
            ],
            [
             0.7,
             "#b8e186"
            ],
            [
             0.8,
             "#7fbc41"
            ],
            [
             0.9,
             "#4d9221"
            ],
            [
             1,
             "#276419"
            ]
           ],
           "sequential": [
            [
             0,
             "#0d0887"
            ],
            [
             0.1111111111111111,
             "#46039f"
            ],
            [
             0.2222222222222222,
             "#7201a8"
            ],
            [
             0.3333333333333333,
             "#9c179e"
            ],
            [
             0.4444444444444444,
             "#bd3786"
            ],
            [
             0.5555555555555556,
             "#d8576b"
            ],
            [
             0.6666666666666666,
             "#ed7953"
            ],
            [
             0.7777777777777778,
             "#fb9f3a"
            ],
            [
             0.8888888888888888,
             "#fdca26"
            ],
            [
             1,
             "#f0f921"
            ]
           ],
           "sequentialminus": [
            [
             0,
             "#0d0887"
            ],
            [
             0.1111111111111111,
             "#46039f"
            ],
            [
             0.2222222222222222,
             "#7201a8"
            ],
            [
             0.3333333333333333,
             "#9c179e"
            ],
            [
             0.4444444444444444,
             "#bd3786"
            ],
            [
             0.5555555555555556,
             "#d8576b"
            ],
            [
             0.6666666666666666,
             "#ed7953"
            ],
            [
             0.7777777777777778,
             "#fb9f3a"
            ],
            [
             0.8888888888888888,
             "#fdca26"
            ],
            [
             1,
             "#f0f921"
            ]
           ]
          },
          "colorway": [
           "#636efa",
           "#EF553B",
           "#00cc96",
           "#ab63fa",
           "#FFA15A",
           "#19d3f3",
           "#FF6692",
           "#B6E880",
           "#FF97FF",
           "#FECB52"
          ],
          "font": {
           "color": "#2a3f5f"
          },
          "geo": {
           "bgcolor": "white",
           "lakecolor": "white",
           "landcolor": "white",
           "showlakes": true,
           "showland": true,
           "subunitcolor": "#C8D4E3"
          },
          "hoverlabel": {
           "align": "left"
          },
          "hovermode": "closest",
          "mapbox": {
           "style": "light"
          },
          "paper_bgcolor": "white",
          "plot_bgcolor": "white",
          "polar": {
           "angularaxis": {
            "gridcolor": "#EBF0F8",
            "linecolor": "#EBF0F8",
            "ticks": ""
           },
           "bgcolor": "white",
           "radialaxis": {
            "gridcolor": "#EBF0F8",
            "linecolor": "#EBF0F8",
            "ticks": ""
           }
          },
          "scene": {
           "xaxis": {
            "backgroundcolor": "white",
            "gridcolor": "#DFE8F3",
            "gridwidth": 2,
            "linecolor": "#EBF0F8",
            "showbackground": true,
            "ticks": "",
            "zerolinecolor": "#EBF0F8"
           },
           "yaxis": {
            "backgroundcolor": "white",
            "gridcolor": "#DFE8F3",
            "gridwidth": 2,
            "linecolor": "#EBF0F8",
            "showbackground": true,
            "ticks": "",
            "zerolinecolor": "#EBF0F8"
           },
           "zaxis": {
            "backgroundcolor": "white",
            "gridcolor": "#DFE8F3",
            "gridwidth": 2,
            "linecolor": "#EBF0F8",
            "showbackground": true,
            "ticks": "",
            "zerolinecolor": "#EBF0F8"
           }
          },
          "shapedefaults": {
           "line": {
            "color": "#2a3f5f"
           }
          },
          "ternary": {
           "aaxis": {
            "gridcolor": "#DFE8F3",
            "linecolor": "#A2B1C6",
            "ticks": ""
           },
           "baxis": {
            "gridcolor": "#DFE8F3",
            "linecolor": "#A2B1C6",
            "ticks": ""
           },
           "bgcolor": "white",
           "caxis": {
            "gridcolor": "#DFE8F3",
            "linecolor": "#A2B1C6",
            "ticks": ""
           }
          },
          "title": {
           "x": 0.05
          },
          "xaxis": {
           "automargin": true,
           "gridcolor": "#EBF0F8",
           "linecolor": "#EBF0F8",
           "ticks": "",
           "title": {
            "standoff": 15
           },
           "zerolinecolor": "#EBF0F8",
           "zerolinewidth": 2
          },
          "yaxis": {
           "automargin": true,
           "gridcolor": "#EBF0F8",
           "linecolor": "#EBF0F8",
           "ticks": "",
           "title": {
            "standoff": 15
           },
           "zerolinecolor": "#EBF0F8",
           "zerolinewidth": 2
          }
         }
        },
        "title": {
         "text": "Top 10 Mercedes-Benz Models by Average Price"
        },
        "xaxis": {
         "anchor": "y",
         "domain": [
          0,
          1
         ],
         "tickangle": -45,
         "title": {
          "text": "Car Model"
         }
        },
        "yaxis": {
         "anchor": "x",
         "domain": [
          0,
          1
         ],
         "title": {
          "text": "Average Price (USD)"
         }
        }
       }
      }
     },
     "metadata": {},
     "output_type": "display_data"
    }
   ],
   "source": [
    "top_10 = avg_price_by_model.head(10)\n",
    "\n",
    "fig = px.line(\n",
    "    top_10,\n",
    "    x='Model',\n",
    "    y='Price',\n",
    "    markers=True,\n",
    "    title='Top 10 Mercedes-Benz Models by Average Price',\n",
    "    labels={'Price': 'Average Price (USD)', 'Model': 'Car Model'},\n",
    "    template='plotly_white'\n",
    ")\n",
    "\n",
    "fig.update_layout(xaxis_tickangle=-45)\n",
    "fig.show()"
   ]
  },
  {
   "cell_type": "code",
   "execution_count": 32,
   "id": "68827bab",
   "metadata": {},
   "outputs": [
    {
     "data": {
      "application/vnd.plotly.v1+json": {
       "config": {
        "plotlyServerURL": "https://plot.ly"
       },
       "data": [
        {
         "customdata": [
          [
           "Mercedes-Benz A-Class A 220 4MATIC"
          ],
          [
           "Mercedes-Benz AMG SL 63 Base"
          ],
          [
           "Mercedes-Benz AMG SL 63 Base"
          ],
          [
           "Mercedes-Benz AMG E 53 Base 4MATIC"
          ],
          [
           "Mercedes-Benz AMG GLS 63 Base 4MATIC"
          ],
          [
           "Mercedes-Benz AMG E 53 Base 4MATIC"
          ],
          [
           "Mercedes-Benz AMG SL 63 Base"
          ],
          [
           "Mercedes-Benz GLE 350 Base 4MATIC"
          ],
          [
           "Mercedes-Benz AMG GT C"
          ],
          [
           "Mercedes-Benz AMG CLA 45 Base 4MATIC"
          ],
          [
           "Mercedes-Benz AMG GT 53 Base"
          ],
          [
           "Mercedes-Benz EQB 250 Base"
          ],
          [
           "Mercedes-Benz CLA 250 Base 4MATIC"
          ],
          [
           "Mercedes-Benz GLE 450 GLE 450"
          ],
          [
           "Mercedes-Benz SL 450 SL 450"
          ],
          [
           "Mercedes-Benz EQE 350 Base 4MATIC"
          ],
          [
           "Mercedes-Benz GLC 300 Base 4MATIC"
          ],
          [
           "Mercedes-Benz AMG E 53 Base 4MATIC"
          ],
          [
           "Mercedes-Benz AMG GLC 43 4MATIC Coupe"
          ],
          [
           "Mercedes-Benz SLC 300 Base"
          ],
          [
           "Mercedes-Benz A-Class A 220"
          ],
          [
           "Mercedes-Benz SL 450 Base"
          ],
          [
           "Mercedes-Benz GLE 450 4MATIC"
          ],
          [
           "Mercedes-Benz EQS 450+ 450"
          ],
          [
           "Mercedes-Benz AMG CLA 45 AMG CLA 45 4MATIC"
          ],
          [
           "Mercedes-Benz AMG CLA 45 Base 4MATIC"
          ],
          [
           "Mercedes-Benz AMG CLA 35 Base 4MATIC"
          ],
          [
           "Mercedes-Benz CLS 450 Base"
          ],
          [
           "Mercedes-Benz GLE 350 Base 4MATIC"
          ],
          [
           "Mercedes-Benz CLS 450 Base 4MATIC"
          ],
          [
           "Mercedes-Benz GLS 580 Base 4MATIC"
          ],
          [
           "Mercedes-Benz AMG CLS 53 4MATIC"
          ],
          [
           "Mercedes-Benz EQB 250 250 4D Sport Utility"
          ],
          [
           "Mercedes-Benz Maybach S 580 4MATIC"
          ],
          [
           "Mercedes-Benz GLB 250 Base"
          ],
          [
           "Mercedes-Benz GLS 450 Base 4MATIC"
          ],
          [
           "Mercedes-Benz AMG E 63 S 4MATIC"
          ],
          [
           "Mercedes-Benz GLE 580 4MATIC"
          ],
          [
           "Mercedes-Benz AMG E 53 Base 4MATIC"
          ],
          [
           "Mercedes-Benz CLS 450 Base 4MATIC"
          ],
          [
           "Mercedes-Benz AMG C 63 S"
          ],
          [
           "Mercedes-Benz AMG G 63 4MATIC"
          ],
          [
           "Mercedes-Benz GLE 350 Base 4MATIC"
          ],
          [
           "Mercedes-Benz AMG GLE 53 Base"
          ],
          [
           "Mercedes-Benz Sprinter 3500 144 WB ROOF"
          ],
          [
           "Mercedes-Benz AMG E 53 Base 4MATIC"
          ],
          [
           "Mercedes-Benz AMG S 63 Base 4MATIC"
          ],
          [
           "Mercedes-Benz GLE 450 4MATIC"
          ],
          [
           "Mercedes-Benz GLE 450 Plug-In Hybrid 4MATIC"
          ],
          [
           "Mercedes-Benz GLE 450 4MATIC"
          ],
          [
           "Mercedes-Benz GLS 450 4MATIC"
          ],
          [
           "Mercedes-Benz G-Class G 550 4MATIC"
          ],
          [
           "Mercedes-Benz SL 450 Base"
          ],
          [
           "Mercedes-Benz GLS 450 Base 4MATIC"
          ],
          [
           "Mercedes-Benz AMG E 53 Base 4MATIC"
          ],
          [
           "Mercedes-Benz AMG GT 53 Base"
          ],
          [
           "Mercedes-Benz EQS 450+ 450"
          ],
          [
           "Mercedes-Benz AMG C 43 Base 4MATIC"
          ],
          [
           "Mercedes-Benz AMG CLA 35 4MATIC"
          ],
          [
           "Mercedes-Benz GL-Class GL 450 4MATIC"
          ],
          [
           "Mercedes-Benz G-Class G 550 4MATIC"
          ],
          [
           "Mercedes-Benz AMG GT 53 Base"
          ],
          [
           "Mercedes-Benz AMG C 63 S"
          ],
          [
           "Mercedes-Benz GLS 450 Base 4MATIC"
          ],
          [
           "Mercedes-Benz Metris Base"
          ],
          [
           "Mercedes-Benz Metris Base"
          ],
          [
           "Mercedes-Benz AMG A 35 Base"
          ],
          [
           "Mercedes-Benz EQS 580 Base 4MATIC"
          ],
          [
           "Mercedes-Benz SL 550 SL550"
          ],
          [
           "Mercedes-Benz GLA 250 Base 4MATIC"
          ],
          [
           "Mercedes-Benz AMG E 53 4MATIC"
          ],
          [
           "Mercedes-Benz GLE 350 Base"
          ],
          [
           "Mercedes-Benz AMG S 63 Base 4MATIC"
          ],
          [
           "Mercedes-Benz AMG GT 63 S 4-Door"
          ],
          [
           "Mercedes-Benz GLC 300 Base"
          ],
          [
           "Mercedes-Benz AMG GT 63 4-Door"
          ],
          [
           "Mercedes-Benz GLB 250 Base"
          ],
          [
           "Mercedes-Benz Maybach S S 600"
          ],
          [
           "Mercedes-Benz S-Class S 450"
          ],
          [
           "Mercedes-Benz GLA 250 Base"
          ],
          [
           "Mercedes-Benz E-Class E 350 4MATIC"
          ],
          [
           "Mercedes-Benz A-Class A 220 4MATIC"
          ],
          [
           "Mercedes-Benz A-Class A 220 4MATIC"
          ],
          [
           "Mercedes-Benz GLC 300 Base 4MATIC"
          ],
          [
           "Mercedes-Benz Maybach S 580 4MATIC"
          ],
          [
           "Mercedes-Benz AMG S AMG S 63 4MATIC"
          ],
          [
           "Mercedes-Benz AMG GLE 63 S"
          ],
          [
           "Mercedes-Benz G-Class G 550 4MATIC"
          ],
          [
           "Mercedes-Benz EQB 250 Base"
          ],
          [
           "Mercedes-Benz GLS 580 Base 4MATIC"
          ],
          [
           "Mercedes-Benz GLE 450 4MATIC"
          ],
          [
           "Mercedes-Benz GLE 450 GLE 450"
          ],
          [
           "Mercedes-Benz AMG GT R"
          ],
          [
           "Mercedes-Benz CLA 250 Base"
          ],
          [
           "Mercedes-Benz AMG GT 63 4-Door"
          ],
          [
           "Mercedes-Benz E-Class E 350"
          ],
          [
           "Mercedes-Benz AMG SL 43 4MATIC+"
          ],
          [
           "Mercedes-Benz Metris Base"
          ],
          [
           "Mercedes-Benz AMG GLC 43 4MATIC Coupe"
          ],
          [
           "Mercedes-Benz AMG C 43 Base 4MATIC"
          ],
          [
           "Mercedes-Benz AMG GLE 63 S 4MATIC Coupe"
          ],
          [
           "Mercedes-Benz E-Class 4MATIC"
          ],
          [
           "Mercedes-Benz GLC 300 Base 4MATIC"
          ],
          [
           "Mercedes-Benz GLE 350 Base 4MATIC"
          ],
          [
           "Mercedes-Benz AMG GLE 53 Base"
          ],
          [
           "Mercedes-Benz GLS 450 Base 4MATIC"
          ],
          [
           "Mercedes-Benz AMG CLA 35 Base 4MATIC"
          ],
          [
           "Mercedes-Benz EQB 350 4MATIC"
          ],
          [
           "Mercedes-Benz AMG GLC 63 Base 4MATIC"
          ],
          [
           "Mercedes-Benz GLE 350 Base 4MATIC"
          ],
          [
           "Mercedes-Benz AMG C 43 Base 4MATIC"
          ],
          [
           "Mercedes-Benz GLS 580 Base 4MATIC"
          ],
          [
           "Mercedes-Benz AMG G 63 4MATIC"
          ],
          [
           "Mercedes-Benz SL 450 Base"
          ],
          [
           "Mercedes-Benz S-Class S 550 4MATIC"
          ],
          [
           "Mercedes-Benz GLB 250 Base"
          ],
          [
           "Mercedes-Benz SL 450 Base"
          ],
          [
           "Mercedes-Benz AMG GLE 43 Base 4MATIC"
          ],
          [
           "Mercedes-Benz AMG GLE 53 Base"
          ],
          [
           "Mercedes-Benz Maybach S 650 Base"
          ],
          [
           "Mercedes-Benz AMG S AMG S 63 4MATIC"
          ],
          [
           "Mercedes-Benz GLE 450 4MATIC"
          ],
          [
           "Mercedes-Benz A-Class A 220 4MATIC"
          ],
          [
           "Mercedes-Benz A-Class A 220 4MATIC"
          ],
          [
           "Mercedes-Benz GLE 450 GLE 450"
          ],
          [
           "Mercedes-Benz AMG GT 53 Base"
          ],
          [
           "Mercedes-Benz GLE 450 Plug-In Hybrid Base 4MATIC"
          ],
          [
           "Mercedes-Benz AMG GLB 35 Base"
          ],
          [
           "Mercedes-Benz GLB 250 Base"
          ],
          [
           "Mercedes-Benz GLC-Class GLC 300"
          ],
          [
           "Mercedes-Benz Sprinter 2500 Standard Roof"
          ],
          [
           "Mercedes-Benz CLA 250 Base"
          ],
          [
           "Mercedes-Benz A-Class A 220 4MATIC"
          ],
          [
           "Mercedes-Benz AMG GLS 63 Base 4MATIC"
          ],
          [
           "Mercedes-Benz AMG E 53 Base 4MATIC"
          ],
          [
           "Mercedes-Benz AMG E 53 4MATIC"
          ],
          [
           "Mercedes-Benz EQB 350 Base 4MATIC"
          ],
          [
           "Mercedes-Benz AMG GLE 63 S"
          ],
          [
           "Mercedes-Benz C-Class C 300 4MATIC"
          ],
          [
           "Mercedes-Benz GLS 580 4MATIC"
          ],
          [
           "Mercedes-Benz EQB 350 Base 4MATIC"
          ],
          [
           "Mercedes-Benz CLA 250 Base 4MATIC"
          ],
          [
           "Mercedes-Benz GLB 250 Base"
          ],
          [
           "Mercedes-Benz AMG E 53 E 53 AMG"
          ],
          [
           "Mercedes-Benz AMG E 63 S 4MATIC"
          ],
          [
           "Mercedes-Benz AMG E 53 Base 4MATIC"
          ],
          [
           "Mercedes-Benz AMG GLB 35 Base"
          ],
          [
           "Mercedes-Benz GLB 250 Base 4MATIC"
          ],
          [
           "Mercedes-Benz AMG GT 53 Base"
          ],
          [
           "Mercedes-Benz C-Class C 300 4MATIC"
          ],
          [
           "Mercedes-Benz CLA 250 Base 4MATIC"
          ],
          [
           "Mercedes-Benz AMG CLS 53 Base 4MATIC"
          ],
          [
           "Mercedes-Benz GLC 300 Base 4MATIC"
          ],
          [
           "Mercedes-Benz EQE 350+ Base"
          ],
          [
           "Mercedes-Benz GLC 300 Base 4MATIC"
          ],
          [
           "Mercedes-Benz Sprinter 2500 Standard Roof"
          ],
          [
           "Mercedes-Benz GLB 250 Base"
          ],
          [
           "Mercedes-Benz AMG GLC 43 Base 4MATIC"
          ],
          [
           "Mercedes-Benz GLB 250 Base"
          ],
          [
           "Mercedes-Benz GLE 350 Base"
          ],
          [
           "Mercedes-Benz GLB 250 Base"
          ],
          [
           "Mercedes-Benz A-Class A 220 4MATIC"
          ],
          [
           "Mercedes-Benz GLA 250 Base 4MATIC"
          ],
          [
           "Mercedes-Benz AMG GT 53 Base"
          ],
          [
           "Mercedes-Benz AMG GT 53 Base"
          ],
          [
           "Mercedes-Benz EQS 580 Base 4MATIC"
          ],
          [
           "Mercedes-Benz AMG GLS 63 Base 4MATIC"
          ],
          [
           "Mercedes-Benz AMG C 63 S"
          ],
          [
           "Mercedes-Benz CLA 250 Base 4MATIC"
          ],
          [
           "Mercedes-Benz C-Class C 300 4MATIC"
          ],
          [
           "Mercedes-Benz GLS 450 4MATIC"
          ],
          [
           "Mercedes-Benz C-Class C 300 4MATIC"
          ],
          [
           "Mercedes-Benz G-Class G 550 4MATIC"
          ],
          [
           "Mercedes-Benz C-Class C 300 4MATIC"
          ],
          [
           "Mercedes-Benz AMG E 53 Base 4MATIC"
          ],
          [
           "Mercedes-Benz C-Class C 300 4MATIC"
          ],
          [
           "Mercedes-Benz AMG E 53 "
          ],
          [
           "Mercedes-Benz AMG E 53 Base 4MATIC"
          ],
          [
           "Mercedes-Benz GLB 250 Base"
          ],
          [
           "Mercedes-Benz AMG G 63 4MATIC"
          ],
          [
           "Mercedes-Benz AMG G 63 Base"
          ],
          [
           "Mercedes-Benz C-Class C 300 4MATIC"
          ],
          [
           "Mercedes-Benz EQS 580 Base 4MATIC"
          ],
          [
           "Mercedes-Benz AMG GLC 43 Base 4MATIC"
          ],
          [
           "Mercedes-Benz E-Class E 450 4MATIC"
          ],
          [
           "Mercedes-Benz AMG GLE 43 Coupe 4MATIC"
          ],
          [
           "Mercedes-Benz AMG SL 55 Base"
          ],
          [
           "Mercedes-Benz AMG G 63 Base"
          ],
          [
           "Mercedes-Benz A-Class A 220 4MATIC"
          ],
          [
           "Mercedes-Benz GLB 250 Base 4MATIC"
          ],
          [
           "Mercedes-Benz Maybach S 560 Base 4MATIC"
          ],
          [
           "Mercedes-Benz GLC 300 Base 4MATIC"
          ],
          [
           "Mercedes-Benz AMG E 53 4MATIC"
          ],
          [
           "Mercedes-Benz AMG GT 63 4-Door"
          ],
          [
           "Mercedes-Benz GLC 300 Base"
          ],
          [
           "Mercedes-Benz GLA 250 Base 4MATIC"
          ],
          [
           "Mercedes-Benz GLB 250 Base"
          ],
          [
           "Mercedes-Benz A-Class A 220"
          ],
          [
           "Mercedes-Benz GLB 250 Base"
          ],
          [
           "Mercedes-Benz Maybach GLS 600 4MATIC"
          ],
          [
           "Mercedes-Benz AMG SLC 43 Base"
          ],
          [
           "Mercedes-Benz C-Class C 300 4MATIC"
          ],
          [
           "Mercedes-Benz AMG G 63 Base"
          ],
          [
           "Mercedes-Benz AMG E 63 S 4MATIC"
          ],
          [
           "Mercedes-Benz AMG GLC 43 4MATIC Coupe"
          ],
          [
           "Mercedes-Benz CLA 250 Base"
          ],
          [
           "Mercedes-Benz AMG E 53 Base 4MATIC"
          ],
          [
           "Mercedes-Benz AMG S 63 Base 4MATIC"
          ],
          [
           "Mercedes-Benz C-Class C 300 4MATIC"
          ],
          [
           "Mercedes-Benz AMG E 53 Base 4MATIC"
          ],
          [
           "Mercedes-Benz GLB 250 Base"
          ],
          [
           "Mercedes-Benz AMG GT 53 Base"
          ],
          [
           "Mercedes-Benz Maybach GLS 600 4MATIC"
          ],
          [
           "Mercedes-Benz AMG GLE 53 4MATIC"
          ],
          [
           "Mercedes-Benz GLC 300 Base 4MATIC"
          ],
          [
           "Mercedes-Benz GLB 250 Base"
          ],
          [
           "Mercedes-Benz AMG SLC 43 Base"
          ],
          [
           "Mercedes-Benz A-Class 4MATIC"
          ],
          [
           "Mercedes-Benz SL 450 Base"
          ],
          [
           "Mercedes-Benz AMG C 43 Base 4MATIC"
          ],
          [
           "Mercedes-Benz AMG GT 53 Base"
          ],
          [
           "Mercedes-Benz SL 450 Base"
          ],
          [
           "Mercedes-Benz AMG GLA 45 Base"
          ],
          [
           "Mercedes-Benz AMG GLE 63 S-Model 4MATIC"
          ],
          [
           "Mercedes-Benz SL 450 Base"
          ],
          [
           "Mercedes-Benz G-Class G 550 4MATIC"
          ],
          [
           "Mercedes-Benz C-Class C 300 4MATIC"
          ],
          [
           "Mercedes-Benz GLB 250 Base"
          ],
          [
           "Mercedes-Benz AMG C 63 S"
          ],
          [
           "Mercedes-Benz AMG GT 43 Base"
          ],
          [
           "Mercedes-Benz AMG SL 55 Base"
          ],
          [
           "Mercedes-Benz GLE 450 Plug-In Hybrid Base 4MATIC"
          ],
          [
           "Mercedes-Benz EQE 500 4MATIC"
          ],
          [
           "Mercedes-Benz GLB 250 "
          ],
          [
           "Mercedes-Benz AMG E 53 Base 4MATIC"
          ],
          [
           "Mercedes-Benz EQE 350 4MATIC"
          ],
          [
           "Mercedes-Benz AMG GLS 63 4MATIC"
          ],
          [
           "Mercedes-Benz GLA 250 Base"
          ],
          [
           "Mercedes-Benz GLA 250 Base 4MATIC"
          ],
          [
           "Mercedes-Benz AMG E 53 E 53 AMG"
          ],
          [
           "Mercedes-Benz S-Class S 500 4MATIC"
          ],
          [
           "Mercedes-Benz AMG CLA 45 Base 4MATIC"
          ],
          [
           "Mercedes-Benz EQS 450+ 4MATIC"
          ],
          [
           "Mercedes-Benz E-Class E 350 4MATIC"
          ],
          [
           "Mercedes-Benz AMG GLS 63 Base 4MATIC"
          ],
          [
           "Mercedes-Benz AMG SLC 43 Base"
          ],
          [
           "Mercedes-Benz A-Class A 220 4MATIC"
          ],
          [
           "Mercedes-Benz AMG SL 55 Base"
          ],
          [
           "Mercedes-Benz CLA 250 Base 4MATIC"
          ],
          [
           "Mercedes-Benz GLE 450 4MATIC"
          ],
          [
           "Mercedes-Benz GLE 350 Base"
          ],
          [
           "Mercedes-Benz Maybach S 580 4MATIC"
          ],
          [
           "Mercedes-Benz GLB 250 Base"
          ],
          [
           "Mercedes-Benz Sprinter 2500 Standard Roof"
          ],
          [
           "Mercedes-Benz C-Class C 300"
          ],
          [
           "Mercedes-Benz GLS 450 4MATIC"
          ],
          [
           "Mercedes-Benz AMG GT C"
          ],
          [
           "Mercedes-Benz GLC 300 "
          ],
          [
           "Mercedes-Benz AMG SLC 43 Base"
          ],
          [
           "Mercedes-Benz GLB 250 Base"
          ],
          [
           "Mercedes-Benz GLE 350 Base 4MATIC"
          ],
          [
           "Mercedes-Benz GLE 350 Base 4MATIC"
          ],
          [
           "Mercedes-Benz GLS 580 Base 4MATIC"
          ],
          [
           "Mercedes-Benz C-Class C 300"
          ],
          [
           "Mercedes-Benz C-Class 4MATIC Coupe"
          ],
          [
           "Mercedes-Benz AMG GT 43 Base"
          ],
          [
           "Mercedes-Benz G-Class "
          ],
          [
           "Mercedes-Benz AMG GLE 63 Base 4MATIC"
          ],
          [
           "Mercedes-Benz GLE 350 Base 4MATIC"
          ],
          [
           "Mercedes-Benz GLB 250 Base 4MATIC"
          ],
          [
           "Mercedes-Benz AMG GT Base"
          ],
          [
           "Mercedes-Benz GLB 250 Base"
          ],
          [
           "Mercedes-Benz EQE 350 4MATIC"
          ],
          [
           "Mercedes-Benz E-Class E 350 4MATIC"
          ],
          [
           "Mercedes-Benz S-Class 4MATIC"
          ],
          [
           "Mercedes-Benz AMG GLA 45 Base"
          ],
          [
           "Mercedes-Benz AMG SLC 43 Base"
          ],
          [
           "Mercedes-Benz S-Class 4MATIC"
          ],
          [
           "Mercedes-Benz E-Class E 350 4MATIC"
          ],
          [
           "Mercedes-Benz AMG SLC 43 Base"
          ],
          [
           "Mercedes-Benz AMG GLA 45 Base"
          ],
          [
           "Mercedes-Benz AMG CLA 45 AMG CLA 45 4MATIC"
          ],
          [
           "Mercedes-Benz AMG GT C"
          ],
          [
           "Mercedes-Benz GLB 250 Base"
          ],
          [
           "Mercedes-Benz GLC 300 "
          ],
          [
           "Mercedes-Benz AMG GT 53 AMG GT 53"
          ],
          [
           "Mercedes-Benz E-Class E 350 4MATIC"
          ],
          [
           "Mercedes-Benz A-Class A 220 4MATIC"
          ],
          [
           "Mercedes-Benz AMG GLE 53 4MATIC"
          ],
          [
           "Mercedes-Benz GLE 350 Base 4MATIC"
          ],
          [
           "Mercedes-Benz GLE 350 Base 4MATIC"
          ],
          [
           "Mercedes-Benz Maybach GLS 600 4MATIC"
          ],
          [
           "Mercedes-Benz E-Class E 300"
          ],
          [
           "Mercedes-Benz C-Class C 300"
          ],
          [
           "Mercedes-Benz E-Class E 63 AMG 4MATIC"
          ],
          [
           "Mercedes-Benz Maybach S 580 4MATIC"
          ],
          [
           "Mercedes-Benz AMG G 63 4MATIC"
          ],
          [
           "Mercedes-Benz EQS 580 Base 4MATIC"
          ],
          [
           "Mercedes-Benz GLC 350e Base 4MATIC"
          ],
          [
           "Mercedes-Benz AMG GT AMG GT 43"
          ],
          [
           "Mercedes-Benz GLS 550 Base 4MATIC"
          ],
          [
           "Mercedes-Benz EQS 580 Base 4MATIC"
          ],
          [
           "Mercedes-Benz S-Class S 580 4MATIC"
          ],
          [
           "Mercedes-Benz EQS 580 Base 4MATIC"
          ],
          [
           "Mercedes-Benz A-Class A 220 4MATIC"
          ],
          [
           "Mercedes-Benz EQB 300 4MATIC"
          ],
          [
           "Mercedes-Benz AMG GLA 45 Base"
          ],
          [
           "Mercedes-Benz S-Class S 580 4MATIC"
          ],
          [
           "Mercedes-Benz GLE 350 Base"
          ],
          [
           "Mercedes-Benz AMG GT 63 4-Door"
          ],
          [
           "Mercedes-Benz AMG SL 63 Base"
          ],
          [
           "Mercedes-Benz GLC 300 Base 4MATIC"
          ],
          [
           "Mercedes-Benz GLE 450 Plug-In Hybrid 4MATIC"
          ],
          [
           "Mercedes-Benz AMG GLE 53 4MATIC Coupe"
          ],
          [
           "Mercedes-Benz G-Class G 550 4MATIC"
          ],
          [
           "Mercedes-Benz GLS 450 Base 4MATIC"
          ],
          [
           "Mercedes-Benz GLC 300 4MATIC Coupe"
          ],
          [
           "Mercedes-Benz AMG S 63 Base 4MATIC"
          ],
          [
           "Mercedes-Benz AMG GT C"
          ],
          [
           "Mercedes-Benz GLE 350 Base"
          ],
          [
           "Mercedes-Benz AMG E 53 4MATIC"
          ],
          [
           "Mercedes-Benz AMG GLE 43 Base 4MATIC"
          ],
          [
           "Mercedes-Benz EQB 300 Base 4MATIC"
          ],
          [
           "Mercedes-Benz GLE 350 Base 4MATIC"
          ],
          [
           "Mercedes-Benz A-Class 4MATIC"
          ],
          [
           "Mercedes-Benz EQB 300 4MATIC"
          ],
          [
           "Mercedes-Benz AMG GT 63 4-Door"
          ],
          [
           "Mercedes-Benz CLA 250 Base"
          ],
          [
           "Mercedes-Benz GLS 550 Base 4MATIC"
          ],
          [
           "Mercedes-Benz GLC 300 Base 4MATIC"
          ],
          [
           "Mercedes-Benz CLA 250 Base 4MATIC"
          ],
          [
           "Mercedes-Benz AMG SL 63 Base"
          ],
          [
           "Mercedes-Benz S-Class S 500 4MATIC"
          ],
          [
           "Mercedes-Benz EQS 580 Base 4MATIC"
          ],
          [
           "Mercedes-Benz AMG GLE 53 4MATIC Coupe"
          ],
          [
           "Mercedes-Benz AMG GT 63 S 4-Door"
          ],
          [
           "Mercedes-Benz EQE 500 Base 4MATIC"
          ],
          [
           "Mercedes-Benz GLS 580 4MATIC"
          ],
          [
           "Mercedes-Benz EQS 450 Base 4MATIC"
          ],
          [
           "Mercedes-Benz GLE 350 "
          ],
          [
           "Mercedes-Benz GLE 450 4MATIC"
          ],
          [
           "Mercedes-Benz AMG GT R"
          ],
          [
           "Mercedes-Benz E-Class E 350 4MATIC"
          ],
          [
           "Mercedes-Benz GLE 350 "
          ],
          [
           "Mercedes-Benz GLE 580 AWD 4MATIC"
          ],
          [
           "Mercedes-Benz EQB 350 Base 4MATIC"
          ],
          [
           "Mercedes-Benz E-Class E 350 4MATIC"
          ],
          [
           "Mercedes-Benz S-Class S 500 4MATIC"
          ],
          [
           "Mercedes-Benz GLC-Class GLC 300 4MATIC"
          ],
          [
           "Mercedes-Benz GLS 580 4MATIC"
          ],
          [
           "Mercedes-Benz EQB 250 Base"
          ],
          [
           "Mercedes-Benz AMG SLC 43 Base"
          ],
          [
           "Mercedes-Benz GLE 450 4MATIC"
          ],
          [
           "Mercedes-Benz AMG GT Base"
          ],
          [
           "Mercedes-Benz AMG GT 43 Base"
          ],
          [
           "Mercedes-Benz GLB 250 Base 4MATIC"
          ],
          [
           "Mercedes-Benz Metris Base"
          ],
          [
           "Mercedes-Benz EQE 500 Base 4MATIC"
          ],
          [
           "Mercedes-Benz G-Class G 550 4MATIC"
          ],
          [
           "Mercedes-Benz GLC 300 Base 4MATIC"
          ],
          [
           "Mercedes-Benz EQE 350+ "
          ],
          [
           "Mercedes-Benz E-Class E 300"
          ],
          [
           "Mercedes-Benz AMG GLE 43 Coupe 4MATIC"
          ],
          [
           "Mercedes-Benz CLA 250 "
          ],
          [
           "Mercedes-Benz GLE 350 Base 4MATIC"
          ],
          [
           "Mercedes-Benz AMG E 63 S 4MATIC"
          ],
          [
           "Mercedes-Benz EQB 250 Base"
          ],
          [
           "Mercedes-Benz AMG GLE 53 "
          ],
          [
           "Mercedes-Benz AMG GLC 63 S 4MATIC"
          ],
          [
           "Mercedes-Benz GLC 350e Base 4MATIC"
          ],
          [
           "Mercedes-Benz GLC 350e Base 4MATIC"
          ],
          [
           "Mercedes-Benz EQB 250 Base"
          ],
          [
           "Mercedes-Benz G-Class G 550 4MATIC"
          ],
          [
           "Mercedes-Benz GLS 450 4MATIC"
          ],
          [
           "Mercedes-Benz GLE 350 Base 4MATIC"
          ],
          [
           "Mercedes-Benz AMG A 35 Base"
          ],
          [
           "Mercedes-Benz GLE 350 Base 4MATIC"
          ],
          [
           "Mercedes-Benz EQB 300 Base 4MATIC"
          ],
          [
           "Mercedes-Benz A-Class A 220 4MATIC"
          ],
          [
           "Mercedes-Benz EQS 450 Base 4MATIC"
          ],
          [
           "Mercedes-Benz EQE 500 Base 4MATIC"
          ],
          [
           "Mercedes-Benz AMG E 53 4MATIC"
          ],
          [
           "Mercedes-Benz AMG S 63 4MATIC"
          ],
          [
           "Mercedes-Benz GLE 350 Base 4MATIC"
          ],
          [
           "Mercedes-Benz G-Class G 550 4MATIC"
          ],
          [
           "Mercedes-Benz EQB 300 Base 4MATIC"
          ],
          [
           "Mercedes-Benz EQS 450+ 4MATIC"
          ],
          [
           "Mercedes-Benz EQB 250 Base"
          ],
          [
           "Mercedes-Benz E-Class E 350"
          ],
          [
           "Mercedes-Benz A-Class A 220"
          ],
          [
           "Mercedes-Benz AMG A 35 Base"
          ],
          [
           "Mercedes-Benz AMG GLE 43 Base 4MATIC"
          ],
          [
           "Mercedes-Benz AMG GLA 35 Base"
          ],
          [
           "Mercedes-Benz EQE 500 "
          ],
          [
           "Mercedes-Benz GLE 450 4MATIC"
          ],
          [
           "Mercedes-Benz GLB 250 Base"
          ],
          [
           "Mercedes-Benz GLB 250 Base"
          ],
          [
           "Mercedes-Benz E-Class E 450 4MATIC"
          ],
          [
           "Mercedes-Benz CLA 250 Base 4MATIC"
          ],
          [
           "Mercedes-Benz AMG G 63 4MATIC"
          ],
          [
           "Mercedes-Benz AMG GLB 35 Base"
          ],
          [
           "Mercedes-Benz AMG G 4MATIC"
          ],
          [
           "Mercedes-Benz AMG GLS 63 Base 4MATIC"
          ],
          [
           "Mercedes-Benz E-Class E 450 4MATIC"
          ],
          [
           "Mercedes-Benz GLC 300 Base 4MATIC"
          ],
          [
           "Mercedes-Benz GLA 250 Base"
          ],
          [
           "Mercedes-Benz E-Class E 450"
          ],
          [
           "Mercedes-Benz A-Class 4MATIC"
          ],
          [
           "Mercedes-Benz S-Class 4MATIC"
          ],
          [
           "Mercedes-Benz C-Class C 300"
          ],
          [
           "Mercedes-Benz Sprinter 2500 170 WB"
          ],
          [
           "Mercedes-Benz GLE 350 Base 4MATIC"
          ],
          [
           "Mercedes-Benz AMG GLS 63 Base"
          ],
          [
           "Mercedes-Benz GLE 350 Base 4MATIC"
          ],
          [
           "Mercedes-Benz GLC 350e Base 4MATIC"
          ],
          [
           "Mercedes-Benz GLE 450 Plug-In Hybrid Base 4MATIC"
          ],
          [
           "Mercedes-Benz Metris Base"
          ],
          [
           "Mercedes-Benz GLE 350 Base 4MATIC"
          ],
          [
           "Mercedes-Benz GLE 450 GLE 450"
          ],
          [
           "Mercedes-Benz GLE 400 Base 4MATIC"
          ],
          [
           "Mercedes-Benz C-Class C 300"
          ],
          [
           "Mercedes-Benz AMG GT C"
          ],
          [
           "Mercedes-Benz AMG CLA 35 Base 4MATIC"
          ],
          [
           "Mercedes-Benz GLB 250 Base"
          ],
          [
           "Mercedes-Benz E-Class E 300"
          ],
          [
           "Mercedes-Benz GLE 350 Base 4MATIC"
          ],
          [
           "Mercedes-Benz GLS 450 "
          ],
          [
           "Mercedes-Benz CLS 450 Base 4MATIC"
          ],
          [
           "Mercedes-Benz CLA 250 Base 4MATIC"
          ],
          [
           "Mercedes-Benz AMG GLE 53 Base"
          ],
          [
           "Mercedes-Benz EQB 300 4MATIC"
          ],
          [
           "Mercedes-Benz AMG C 43 Base 4MATIC"
          ],
          [
           "Mercedes-Benz GLC 300 Base 4MATIC"
          ],
          [
           "Mercedes-Benz AMG GLE 53 "
          ],
          [
           "Mercedes-Benz EQB 350 EQB 350"
          ],
          [
           "Mercedes-Benz AMG GT R"
          ],
          [
           "Mercedes-Benz GLE 350 Base 4MATIC"
          ],
          [
           "Mercedes-Benz EQB 300 Base 4MATIC"
          ],
          [
           "Mercedes-Benz A-Class 4MATIC"
          ],
          [
           "Mercedes-Benz AMG GLA 35 "
          ],
          [
           "Mercedes-Benz AMG GLC 63 Base 4MATIC"
          ],
          [
           "Mercedes-Benz AMG E 63 S 4MATIC"
          ],
          [
           "Mercedes-Benz GLE 350 Base 4MATIC"
          ],
          [
           "Mercedes-Benz AMG CLA 35 Base 4MATIC"
          ],
          [
           "Mercedes-Benz AMG S 63 Base 4MATIC"
          ],
          [
           "Mercedes-Benz EQE 500 Base 4MATIC"
          ],
          [
           "Mercedes-Benz GLE 350 Base 4MATIC"
          ],
          [
           "Mercedes-Benz AMG G 63 4MATIC"
          ],
          [
           "Mercedes-Benz GLE 350 Base 4MATIC"
          ],
          [
           "Mercedes-Benz GLE 350 Base 4MATIC"
          ],
          [
           "Mercedes-Benz E-Class E 350"
          ],
          [
           "Mercedes-Benz AMG GLA 35 Base"
          ],
          [
           "Mercedes-Benz AMG GLE 53 Base"
          ],
          [
           "Mercedes-Benz GLE 350 Base 4MATIC"
          ],
          [
           "Mercedes-Benz Sprinter 2500 Standard Roof"
          ],
          [
           "Mercedes-Benz AMG G 63 4MATIC"
          ],
          [
           "Mercedes-Benz GLA 250 Base 4MATIC"
          ],
          [
           "Mercedes-Benz AMG G 63 4MATIC"
          ],
          [
           "Mercedes-Benz GLE 350 "
          ],
          [
           "Mercedes-Benz GLS 450 4MATIC"
          ],
          [
           "Mercedes-Benz A-Class A 220"
          ],
          [
           "Mercedes-Benz GLE 350 Base 4MATIC"
          ],
          [
           "Mercedes-Benz C-Class C 300"
          ],
          [
           "Mercedes-Benz AMG GT C"
          ],
          [
           "Mercedes-Benz EQB 350 Base 4MATIC"
          ],
          [
           "Mercedes-Benz C-Class C 300 4MATIC"
          ],
          [
           "Mercedes-Benz E-Class E 350 4MATIC"
          ],
          [
           "Mercedes-Benz C-Class C 300 4MATIC"
          ],
          [
           "Mercedes-Benz GLS 450 Base 4MATIC"
          ],
          [
           "Mercedes-Benz GLC 300 Base 4MATIC"
          ],
          [
           "Mercedes-Benz AMG G 63 4MATIC"
          ],
          [
           "Mercedes-Benz CLA 250 Base"
          ],
          [
           "Mercedes-Benz Maybach GLS 600 4MATIC"
          ],
          [
           "Mercedes-Benz GLB 250 Base"
          ],
          [
           "Mercedes-Benz AMG E 63 S 4MATIC"
          ],
          [
           "Mercedes-Benz GLB 250 Base 4MATIC"
          ],
          [
           "Mercedes-Benz AMG E 53 4MATIC"
          ],
          [
           "Mercedes-Benz GLC 300 Base"
          ],
          [
           "Mercedes-Benz S-Class S 580 4MATIC"
          ],
          [
           "Mercedes-Benz E-Class E 450"
          ],
          [
           "Mercedes-Benz C-Class C 300"
          ],
          [
           "Mercedes-Benz AMG EQS Base"
          ],
          [
           "Mercedes-Benz AMG CLA 35 Base 4MATIC"
          ],
          [
           "Mercedes-Benz EQS 580 Base 4MATIC"
          ],
          [
           "Mercedes-Benz AMG GLB 35 Base"
          ],
          [
           "Mercedes-Benz EQS 450+ "
          ],
          [
           "Mercedes-Benz GLS 450 4MATIC"
          ],
          [
           "Mercedes-Benz EQB 300 Base 4MATIC"
          ],
          [
           "Mercedes-Benz AMG GLE 43 4MATIC Coupe"
          ],
          [
           "Mercedes-Benz EQB 250 Base"
          ],
          [
           "Mercedes-Benz AMG S 63 4MATIC"
          ],
          [
           "Mercedes-Benz GLC 300 "
          ],
          [
           "Mercedes-Benz Maybach GLS 600 "
          ],
          [
           "Mercedes-Benz AMG GLE 53 Base"
          ],
          [
           "Mercedes-Benz GLB 250 Base 4MATIC"
          ],
          [
           "Mercedes-Benz GLE 350 Base 4MATIC"
          ],
          [
           "Mercedes-Benz C-Class 4MATIC"
          ],
          [
           "Mercedes-Benz E-Class E 450 4MATIC"
          ],
          [
           "Mercedes-Benz A-Class A 220 4MATIC"
          ],
          [
           "Mercedes-Benz E-Class E 400 4MATIC"
          ],
          [
           "Mercedes-Benz AMG GLB 35 Base"
          ],
          [
           "Mercedes-Benz GLC 300 Base 4MATIC"
          ],
          [
           "Mercedes-Benz E-Class E 350 4MATIC"
          ],
          [
           "Mercedes-Benz SLC 300 Base"
          ],
          [
           "Mercedes-Benz GLB 250 Base"
          ],
          [
           "Mercedes-Benz C-Class C 300 4MATIC"
          ],
          [
           "Mercedes-Benz S-Class S 450"
          ],
          [
           "Mercedes-Benz GLA 250 Base 4MATIC"
          ],
          [
           "Mercedes-Benz CLA 250 Base 4MATIC"
          ],
          [
           "Mercedes-Benz EQB 250 Base"
          ],
          [
           "Mercedes-Benz EQB 300 Base 4MATIC"
          ],
          [
           "Mercedes-Benz GLE 350 Base 4MATIC"
          ],
          [
           "Mercedes-Benz SLC 300 Base"
          ],
          [
           "Mercedes-Benz C-Class C 300 4MATIC"
          ],
          [
           "Mercedes-Benz GLC 300 4MATIC Coupe"
          ],
          [
           "Mercedes-Benz GLB 250 Base 4MATIC"
          ],
          [
           "Mercedes-Benz EQB 250 Base"
          ],
          [
           "Mercedes-Benz AMG C 43 Base 4MATIC"
          ],
          [
           "Mercedes-Benz AMG A 35 4MATIC"
          ],
          [
           "Mercedes-Benz GLC 300 "
          ],
          [
           "Mercedes-Benz AMG GLA 45 Base"
          ],
          [
           "Mercedes-Benz AMG E 63 "
          ],
          [
           "Mercedes-Benz GLB 250 Base"
          ],
          [
           "Mercedes-Benz GLC 300 Base 4MATIC"
          ],
          [
           "Mercedes-Benz GLS 450 4MATIC"
          ],
          [
           "Mercedes-Benz EQS 580 Base 4MATIC"
          ],
          [
           "Mercedes-Benz Metris Base"
          ],
          [
           "Mercedes-Benz GLB 250 Base 4MATIC"
          ],
          [
           "Mercedes-Benz AMG GLA 35 Base"
          ],
          [
           "Mercedes-Benz GLB 250 Base 4MATIC"
          ],
          [
           "Mercedes-Benz GLC 300 Base 4MATIC"
          ],
          [
           "Mercedes-Benz A-Class A 220"
          ],
          [
           "Mercedes-Benz GLE 450 4MATIC"
          ],
          [
           "Mercedes-Benz GLA 250 Base"
          ],
          [
           "Mercedes-Benz EQS 450 Base 4MATIC"
          ],
          [
           "Mercedes-Benz C-Class C 300 4MATIC"
          ],
          [
           "Mercedes-Benz AMG GLA 45 Base"
          ],
          [
           "Mercedes-Benz GLB 250 Base 4MATIC"
          ],
          [
           "Mercedes-Benz GLS 450 4MATIC"
          ],
          [
           "Mercedes-Benz CLA 250 Base 4MATIC"
          ],
          [
           "Mercedes-Benz A-Class A 220 4MATIC"
          ],
          [
           "Mercedes-Benz GLC 300 Base 4MATIC"
          ],
          [
           "Mercedes-Benz EQS 450+ Base"
          ],
          [
           "Mercedes-Benz EQE 350+ 350+ SUV"
          ],
          [
           "Mercedes-Benz GLC 300 Base 4MATIC"
          ],
          [
           "Mercedes-Benz AMG E 53 Base 4MATIC"
          ],
          [
           "Mercedes-Benz EQS 580 Base 4MATIC"
          ],
          [
           "Mercedes-Benz CLA 250 Base 4MATIC"
          ],
          [
           "Mercedes-Benz GLB 250 Base 4MATIC"
          ],
          [
           "Mercedes-Benz CLA 250 "
          ],
          [
           "Mercedes-Benz GLC 300 Base"
          ],
          [
           "Mercedes-Benz A-Class A 220"
          ],
          [
           "Mercedes-Benz GLA 250 Base"
          ],
          [
           "Mercedes-Benz AMG GLE 53 4MATIC Coupe"
          ],
          [
           "Mercedes-Benz E-Class E 350"
          ],
          [
           "Mercedes-Benz EQS 580 Base 4MATIC"
          ],
          [
           "Mercedes-Benz GLC 300 Base 4MATIC"
          ],
          [
           "Mercedes-Benz GLB 250 Base 4MATIC"
          ],
          [
           "Mercedes-Benz AMG GLA 35 Base"
          ],
          [
           "Mercedes-Benz CLA 250 "
          ],
          [
           "Mercedes-Benz CLS 450 "
          ],
          [
           "Mercedes-Benz GLB 250 Base 4MATIC"
          ],
          [
           "Mercedes-Benz A-Class A 220"
          ],
          [
           "Mercedes-Benz SLK-Class SLK 250"
          ],
          [
           "Mercedes-Benz AMG GLB 35 4MATIC"
          ],
          [
           "Mercedes-Benz AMG GLS 63 Base 4MATIC"
          ],
          [
           "Mercedes-Benz C-Class "
          ],
          [
           "Mercedes-Benz E-Class E 350"
          ],
          [
           "Mercedes-Benz CLS 450 Base 4MATIC"
          ],
          [
           "Mercedes-Benz C-Class C 300 4MATIC"
          ],
          [
           "Mercedes-Benz AMG E 63 S 4MATIC"
          ],
          [
           "Mercedes-Benz GLC 300 Base 4MATIC"
          ],
          [
           "Mercedes-Benz EQB 350 Base 4MATIC"
          ],
          [
           "Mercedes-Benz C-Class 4MATIC Sedan"
          ],
          [
           "Mercedes-Benz E-Class E 350"
          ],
          [
           "Mercedes-Benz GLC 300 Base 4MATIC"
          ],
          [
           "Mercedes-Benz C-Class 4MATIC Sedan"
          ],
          [
           "Mercedes-Benz GLC 300 Base 4MATIC"
          ],
          [
           "Mercedes-Benz EQB 350 Base 4MATIC"
          ],
          [
           "Mercedes-Benz GLA 250 Base 4MATIC"
          ],
          [
           "Mercedes-Benz Maybach GLS 600 4MATIC"
          ],
          [
           "Mercedes-Benz EQE 350 Base 4MATIC"
          ],
          [
           "Mercedes-Benz GLB 250 Base"
          ],
          [
           "Mercedes-Benz EQE 350 Base 4MATIC"
          ],
          [
           "Mercedes-Benz Sprinter 2500 170 WB"
          ],
          [
           "Mercedes-Benz Sprinter 3500 144 WB"
          ],
          [
           "Mercedes-Benz GLC 300 Base 4MATIC"
          ],
          [
           "Mercedes-Benz EQS 450+ Base"
          ],
          [
           "Mercedes-Benz EQB 350 Base 4MATIC"
          ],
          [
           "Mercedes-Benz GLS 580 "
          ],
          [
           "Mercedes-Benz GLE 350 Base 4MATIC"
          ],
          [
           "Mercedes-Benz CLA 250 Base 4MATIC"
          ],
          [
           "Mercedes-Benz EQB 250 "
          ],
          [
           "Mercedes-Benz AMG S AMG S 63 4MATIC"
          ],
          [
           "Mercedes-Benz A-Class A 220"
          ],
          [
           "Mercedes-Benz GLB 250 Base"
          ],
          [
           "Mercedes-Benz EQE 500 Base 4MATIC"
          ],
          [
           "Mercedes-Benz CLA 250 Base 4MATIC"
          ],
          [
           "Mercedes-Benz C-Class C 300 4MATIC"
          ],
          [
           "Mercedes-Benz GLE 350 Base"
          ],
          [
           "Mercedes-Benz C-Class C 300 4MATIC"
          ],
          [
           "Mercedes-Benz AMG GLE 43 "
          ],
          [
           "Mercedes-Benz AMG GLA 45 Base"
          ],
          [
           "Mercedes-Benz S-Class S 580 4MATIC"
          ],
          [
           "Mercedes-Benz CLA 250 Base 4MATIC"
          ],
          [
           "Mercedes-Benz AMG GLE 53 Base"
          ],
          [
           "Mercedes-Benz C-Class C 300 4MATIC"
          ],
          [
           "Mercedes-Benz GLA 250 Base 4MATIC"
          ],
          [
           "Mercedes-Benz GLB 250 Base 4MATIC"
          ],
          [
           "Mercedes-Benz AMG GLC 43 Base 4MATIC"
          ],
          [
           "Mercedes-Benz CLA 250 Base 4MATIC"
          ],
          [
           "Mercedes-Benz AMG GLC 43 Base 4MATIC"
          ],
          [
           "Mercedes-Benz GLB 250 Base 4MATIC"
          ],
          [
           "Mercedes-Benz EQB 300 Base 4MATIC"
          ],
          [
           "Mercedes-Benz EQB 350 Base 4MATIC"
          ],
          [
           "Mercedes-Benz GLE 350 4MATIC"
          ],
          [
           "Mercedes-Benz C-Class C 300"
          ],
          [
           "Mercedes-Benz CLA 250 Base 4MATIC"
          ],
          [
           "Mercedes-Benz GLE 350 Base 4MATIC"
          ],
          [
           "Mercedes-Benz CLA 250 Base 4MATIC"
          ],
          [
           "Mercedes-Benz GLC 300 Base 4MATIC"
          ],
          [
           "Mercedes-Benz S-Class S 580 4MATIC"
          ],
          [
           "Mercedes-Benz GLC 300 "
          ],
          [
           "Mercedes-Benz AMG EQE Base"
          ],
          [
           "Mercedes-Benz E-Class E 450"
          ],
          [
           "Mercedes-Benz A-Class A 220 4MATIC"
          ],
          [
           "Mercedes-Benz GLB 250 "
          ],
          [
           "Mercedes-Benz EQE 350+ Base"
          ],
          [
           "Mercedes-Benz EQB 250 Base"
          ],
          [
           "Mercedes-Benz EQB 350 Base 4MATIC"
          ],
          [
           "Mercedes-Benz GLB 250 Base 4MATIC"
          ],
          [
           "Mercedes-Benz C-Class C 300 4MATIC"
          ],
          [
           "Mercedes-Benz GLA 250 Base"
          ],
          [
           "Mercedes-Benz AMG GT 53 Base"
          ],
          [
           "Mercedes-Benz EQB 250 Base"
          ],
          [
           "Mercedes-Benz C-Class C 300 4MATIC"
          ],
          [
           "Mercedes-Benz EQB 350 "
          ],
          [
           "Mercedes-Benz AMG GLE 63 "
          ],
          [
           "Mercedes-Benz GLC 300 Base"
          ],
          [
           "Mercedes-Benz CLA 250 Base 4MATIC"
          ],
          [
           "Mercedes-Benz GLB 250 Base 4MATIC"
          ],
          [
           "Mercedes-Benz EQB 350 Base 4MATIC"
          ],
          [
           "Mercedes-Benz GLC 300 Base"
          ],
          [
           "Mercedes-Benz EQB 250 Base"
          ],
          [
           "Mercedes-Benz EQS 450 Base 4MATIC"
          ],
          [
           "Mercedes-Benz C-Class C 300 4MATIC"
          ],
          [
           "Mercedes-Benz GLS 450 4MATIC"
          ],
          [
           "Mercedes-Benz GLC 300 Base 4MATIC"
          ],
          [
           "Mercedes-Benz E-Class E 350"
          ],
          [
           "Mercedes-Benz EQB 250 Base"
          ],
          [
           "Mercedes-Benz AMG GT AMG GT S"
          ],
          [
           "Mercedes-Benz GLA 250 Base"
          ],
          [
           "Mercedes-Benz S-Class S 560 4MATIC"
          ],
          [
           "Mercedes-Benz AMG GLS 63 Base 4MATIC"
          ],
          [
           "Mercedes-Benz GLB 250 Base"
          ],
          [
           "Mercedes-Benz GLB 250 Base 4MATIC"
          ],
          [
           "Mercedes-Benz GLC-Class GLC 300"
          ],
          [
           "Mercedes-Benz EQE 350+ Base"
          ],
          [
           "Mercedes-Benz GLC 300 4MATIC Coupe"
          ],
          [
           "Mercedes-Benz C-Class C 300"
          ],
          [
           "Mercedes-Benz EQS 450 Base 4MATIC"
          ],
          [
           "Mercedes-Benz CLA 250 Base 4MATIC"
          ],
          [
           "Mercedes-Benz CLA 250 Base 4MATIC"
          ],
          [
           "Mercedes-Benz GLS 550 "
          ],
          [
           "Mercedes-Benz EQE 350 350+ Sedan"
          ],
          [
           "Mercedes-Benz EQB 250 Base"
          ],
          [
           "Mercedes-Benz EQE 350 Base 4MATIC"
          ],
          [
           "Mercedes-Benz GLC 300 Base"
          ],
          [
           "Mercedes-Benz GLC 350e Base 4MATIC"
          ],
          [
           "Mercedes-Benz E-Class E 350"
          ],
          [
           "Mercedes-Benz AMG EQS Base"
          ],
          [
           "Mercedes-Benz C-Class C 300 4MATIC"
          ],
          [
           "Mercedes-Benz C-Class C 300"
          ],
          [
           "Mercedes-Benz EQB 250 Base"
          ],
          [
           "Mercedes-Benz E-Class E 350 4MATIC"
          ],
          [
           "Mercedes-Benz AMG GLA 35 Base"
          ],
          [
           "Mercedes-Benz GLE 350 Base 4MATIC"
          ],
          [
           "Mercedes-Benz C-Class C 300"
          ],
          [
           "Mercedes-Benz E-Class E 63 AMG 4MATIC"
          ],
          [
           "Mercedes-Benz AMG GLC 43 Base 4MATIC"
          ],
          [
           "Mercedes-Benz AMG GLB 35 Base"
          ],
          [
           "Mercedes-Benz EQE 500 4MATIC+"
          ],
          [
           "Mercedes-Benz EQB 350 Base 4MATIC"
          ],
          [
           "Mercedes-Benz AMG SL 63 Base"
          ],
          [
           "Mercedes-Benz SL 450 Base"
          ],
          [
           "Mercedes-Benz GLA 250 Base 4MATIC"
          ],
          [
           "Mercedes-Benz GLA 250 Base"
          ],
          [
           "Mercedes-Benz C-Class C 300 4MATIC"
          ],
          [
           "Mercedes-Benz CLA 250 Base 4MATIC"
          ],
          [
           "Mercedes-Benz AMG CLA 35 Base 4MATIC"
          ],
          [
           "Mercedes-Benz GLC 300 Base 4MATIC"
          ],
          [
           "Mercedes-Benz EQB 250 "
          ],
          [
           "Mercedes-Benz GLS 450 Base 4MATIC"
          ],
          [
           "Mercedes-Benz GLE 350 Base 4MATIC"
          ],
          [
           "Mercedes-Benz C-Class C 300"
          ],
          [
           "Mercedes-Benz S-Class S 580 4MATIC"
          ],
          [
           "Mercedes-Benz GLC 300 Base 4MATIC"
          ],
          [
           "Mercedes-Benz EQB 300 Base 4MATIC"
          ],
          [
           "Mercedes-Benz GLE 350 Base 4MATIC"
          ],
          [
           "Mercedes-Benz GLE 350 Base"
          ],
          [
           "Mercedes-Benz GLB 250 Base 4MATIC"
          ],
          [
           "Mercedes-Benz E-Class E 350"
          ],
          [
           "Mercedes-Benz C-Class C 300 4MATIC"
          ],
          [
           "Mercedes-Benz S-Class S 560"
          ],
          [
           "Mercedes-Benz C-Class C 300"
          ],
          [
           "Mercedes-Benz GLB 250 Base 4MATIC"
          ],
          [
           "Mercedes-Benz AMG GLC 43 Base 4MATIC"
          ],
          [
           "Mercedes-Benz E-Class E 350 4MATIC"
          ],
          [
           "Mercedes-Benz GLS 450 Base 4MATIC"
          ],
          [
           "Mercedes-Benz EQS 450+ Base"
          ],
          [
           "Mercedes-Benz AMG GLS 63 Base 4MATIC"
          ],
          [
           "Mercedes-Benz E-Class E 350"
          ],
          [
           "Mercedes-Benz GLE 350 "
          ],
          [
           "Mercedes-Benz C-Class 4MATIC"
          ],
          [
           "Mercedes-Benz GLS 450 4MATIC"
          ],
          [
           "Mercedes-Benz GLB 250 Base 4MATIC"
          ],
          [
           "Mercedes-Benz GLS 450 Base 4MATIC"
          ],
          [
           "Mercedes-Benz GLB 250 Base"
          ],
          [
           "Mercedes-Benz C-Class C 300 4MATIC"
          ],
          [
           "Mercedes-Benz GLS 450 Base 4MATIC"
          ],
          [
           "Mercedes-Benz GLB 250 Base 4MATIC"
          ],
          [
           "Mercedes-Benz GLA 250 Base 4MATIC"
          ],
          [
           "Mercedes-Benz S-Class S 500 4MATIC"
          ],
          [
           "Mercedes-Benz CLS 450 Base"
          ],
          [
           "Mercedes-Benz GLB 250 Base 4MATIC"
          ],
          [
           "Mercedes-Benz CLA 250 Base 4MATIC"
          ],
          [
           "Mercedes-Benz GLC 300 Base"
          ],
          [
           "Mercedes-Benz AMG GLE 63 S-Model 4MATIC"
          ],
          [
           "Mercedes-Benz AMG GLB 35 Base"
          ],
          [
           "Mercedes-Benz AMG G 63 4MATIC"
          ],
          [
           "Mercedes-Benz CLA 250 Base 4MATIC"
          ],
          [
           "Mercedes-Benz CLA 250 Base"
          ],
          [
           "Mercedes-Benz EQS 450+ 450"
          ],
          [
           "Mercedes-Benz C-Class C 300 4MATIC"
          ],
          [
           "Mercedes-Benz EQS 450 Base 4MATIC"
          ],
          [
           "Mercedes-Benz GLA 250 Base 4MATIC"
          ],
          [
           "Mercedes-Benz C-Class C 300 4MATIC"
          ],
          [
           "Mercedes-Benz CLA 250 Base"
          ],
          [
           "Mercedes-Benz CLA 250 "
          ],
          [
           "Mercedes-Benz EQS 580 Base 4MATIC"
          ],
          [
           "Mercedes-Benz C-Class C 300"
          ],
          [
           "Mercedes-Benz E-Class E 350 4MATIC"
          ],
          [
           "Mercedes-Benz CLA 250 Base"
          ],
          [
           "Mercedes-Benz GLA-Class GLA 250 4MATIC"
          ],
          [
           "Mercedes-Benz GLB 250 Base 4MATIC"
          ],
          [
           "Mercedes-Benz C-Class C 300 4MATIC"
          ],
          [
           "Mercedes-Benz GLE 450 Base"
          ],
          [
           "Mercedes-Benz GLC 300 Base 4MATIC"
          ],
          [
           "Mercedes-Benz GLE 350 Base 4MATIC"
          ],
          [
           "Mercedes-Benz GLS 580 Base 4MATIC"
          ],
          [
           "Mercedes-Benz GLE 450 4MATIC"
          ],
          [
           "Mercedes-Benz C-Class C 300"
          ],
          [
           "Mercedes-Benz GLE 350 Base"
          ],
          [
           "Mercedes-Benz AMG G 63 4MATIC"
          ],
          [
           "Mercedes-Benz C-Class C 300 4MATIC"
          ],
          [
           "Mercedes-Benz C-Class "
          ],
          [
           "Mercedes-Benz GLB 250 Base 4MATIC"
          ],
          [
           "Mercedes-Benz EQE 350 Base 4MATIC"
          ],
          [
           "Mercedes-Benz GLB 250 Base"
          ],
          [
           "Mercedes-Benz AMG G 63 4MATIC"
          ],
          [
           "Mercedes-Benz C-Class Sedan"
          ],
          [
           "Mercedes-Benz GLE 350 Base"
          ],
          [
           "Mercedes-Benz GLC 300 Base 4MATIC"
          ],
          [
           "Mercedes-Benz GLC 300 Base 4MATIC"
          ],
          [
           "Mercedes-Benz GLB 250 Base"
          ],
          [
           "Mercedes-Benz A-Class A 220"
          ],
          [
           "Mercedes-Benz C-Class C 300 4MATIC"
          ],
          [
           "Mercedes-Benz GLC 300 Base 4MATIC"
          ],
          [
           "Mercedes-Benz GLC 300 Base 4MATIC"
          ],
          [
           "Mercedes-Benz GLE 350 Base 4MATIC"
          ],
          [
           "Mercedes-Benz E-Class E 450 4MATIC"
          ],
          [
           "Mercedes-Benz AMG GLC 43 Base 4MATIC"
          ],
          [
           "Mercedes-Benz GLA 250 Base 4MATIC"
          ],
          [
           "Mercedes-Benz EQE 500 4MATIC+"
          ],
          [
           "Mercedes-Benz EQB 300 Base 4MATIC"
          ],
          [
           "Mercedes-Benz EQB 300 Base 4MATIC"
          ],
          [
           "Mercedes-Benz Sprinter 2500 Standard Roof"
          ],
          [
           "Mercedes-Benz E-Class "
          ],
          [
           "Mercedes-Benz GLS 450 Base 4MATIC"
          ],
          [
           "Mercedes-Benz CLS 450 Base 4MATIC"
          ],
          [
           "Mercedes-Benz GLE 350 Base 4MATIC"
          ],
          [
           "Mercedes-Benz Maybach GLS 600 4MATIC"
          ],
          [
           "Mercedes-Benz GLB 250 "
          ],
          [
           "Mercedes-Benz EQS 450+ 450"
          ],
          [
           "Mercedes-Benz GLC 300 Base"
          ],
          [
           "Mercedes-Benz CLA 250 Base 4MATIC"
          ],
          [
           "Mercedes-Benz E-Class E 350"
          ],
          [
           "Mercedes-Benz GLS 450 Base 4MATIC"
          ],
          [
           "Mercedes-Benz EQB 250 Base"
          ],
          [
           "Mercedes-Benz AMG GT 43 Base"
          ],
          [
           "Mercedes-Benz GLE 450 Plug-In Hybrid Base 4MATIC"
          ],
          [
           "Mercedes-Benz GLB 250 Base 4MATIC"
          ],
          [
           "Mercedes-Benz GLE 580 AWD 4MATIC"
          ],
          [
           "Mercedes-Benz E-Class E 350"
          ],
          [
           "Mercedes-Benz CLA 250 Base 4MATIC"
          ],
          [
           "Mercedes-Benz E-Class E 350 4MATIC"
          ],
          [
           "Mercedes-Benz GLS 450 Base 4MATIC"
          ],
          [
           "Mercedes-Benz E-Class E 450"
          ],
          [
           "Mercedes-Benz S-Class S 580 4MATIC"
          ],
          [
           "Mercedes-Benz E-Class E 350 4MATIC"
          ],
          [
           "Mercedes-Benz EQE 350+ Base"
          ],
          [
           "Mercedes-Benz C-Class C 300 4MATIC"
          ],
          [
           "Mercedes-Benz EQS 450+ Base"
          ],
          [
           "Mercedes-Benz GLB 250 Base"
          ],
          [
           "Mercedes-Benz GLB 250 Base 4MATIC"
          ],
          [
           "Mercedes-Benz GLC 300 Base 4MATIC"
          ],
          [
           "Mercedes-Benz AMG GLE 43 Base 4MATIC"
          ],
          [
           "Mercedes-Benz A-Class A 220 4MATIC"
          ],
          [
           "Mercedes-Benz AMG GLC 43 Base 4MATIC"
          ],
          [
           "Mercedes-Benz EQS 450+ Base"
          ],
          [
           "Mercedes-Benz S-Class S 580 4MATIC"
          ],
          [
           "Mercedes-Benz C-Class C 300 4MATIC"
          ],
          [
           "Mercedes-Benz E-Class E 350"
          ],
          [
           "Mercedes-Benz CLS 450 Base 4MATIC"
          ],
          [
           "Mercedes-Benz CLA 250 Base 4MATIC"
          ],
          [
           "Mercedes-Benz E-Class E 350 4MATIC"
          ],
          [
           "Mercedes-Benz GLB 250 Base 4MATIC"
          ],
          [
           "Mercedes-Benz GLB 250 Base"
          ],
          [
           "Mercedes-Benz AMG GLE 63 S"
          ],
          [
           "Mercedes-Benz C-Class 4MATIC Coupe"
          ],
          [
           "Mercedes-Benz GLC 300 Base 4MATIC"
          ],
          [
           "Mercedes-Benz GLS 450 Base 4MATIC"
          ],
          [
           "Mercedes-Benz GLB 250 Base 4MATIC"
          ],
          [
           "Mercedes-Benz GLB 250 Base"
          ],
          [
           "Mercedes-Benz EQS 450 "
          ],
          [
           "Mercedes-Benz GLA 250 Base 4MATIC"
          ],
          [
           "Mercedes-Benz E-Class E 350"
          ],
          [
           "Mercedes-Benz AMG CLS 53 S-Model 4MATIC"
          ],
          [
           "Mercedes-Benz EQB 250 Base"
          ],
          [
           "Mercedes-Benz AMG GLE AMG GLE 63 S Coupe 4MATIC"
          ],
          [
           "Mercedes-Benz Sprinter 2500 M2CV4G"
          ],
          [
           "Mercedes-Benz GLB 250 Base 4MATIC"
          ],
          [
           "Mercedes-Benz AMG GLA 35 4MATIC"
          ],
          [
           "Mercedes-Benz GLB 250 Base 4MATIC"
          ],
          [
           "Mercedes-Benz C-Class C 300"
          ],
          [
           "Mercedes-Benz GLA 250 Base 4MATIC"
          ],
          [
           "Mercedes-Benz GLB 250 Base"
          ],
          [
           "Mercedes-Benz CLA 250 Base 4MATIC"
          ],
          [
           "Mercedes-Benz C-Class C 300"
          ],
          [
           "Mercedes-Benz GLC 300 Base 4MATIC"
          ],
          [
           "Mercedes-Benz GLB 250 Base"
          ],
          [
           "Mercedes-Benz GLE 350 Base 4MATIC"
          ],
          [
           "Mercedes-Benz AMG GT 53 "
          ],
          [
           "Mercedes-Benz GLA 250 Base 4MATIC"
          ],
          [
           "Mercedes-Benz EQE 350 Base 4MATIC+"
          ],
          [
           "Mercedes-Benz GLB 250 Base 4MATIC"
          ],
          [
           "Mercedes-Benz GLB 250 Base"
          ],
          [
           "Mercedes-Benz A-Class A 220"
          ],
          [
           "Mercedes-Benz GLS 450 4MATIC"
          ],
          [
           "Mercedes-Benz GLB 250 Base 4MATIC"
          ],
          [
           "Mercedes-Benz GLS 450 Base 4MATIC"
          ],
          [
           "Mercedes-Benz E-Class 4MATIC"
          ],
          [
           "Mercedes-Benz AMG GLE 63 S"
          ],
          [
           "Mercedes-Benz AMG GLC 43 Base 4MATIC"
          ],
          [
           "Mercedes-Benz GLE 450 4MATIC"
          ],
          [
           "Mercedes-Benz AMG E 53 Base 4MATIC"
          ],
          [
           "Mercedes-Benz GLC 300 Base 4MATIC"
          ],
          [
           "Mercedes-Benz C-Class C 300 4MATIC"
          ],
          [
           "Mercedes-Benz A-Class A 220 4MATIC"
          ],
          [
           "Mercedes-Benz E-Class E 350"
          ],
          [
           "Mercedes-Benz AMG GLS 63 Base"
          ],
          [
           "Mercedes-Benz GLE 350 Base 4MATIC"
          ],
          [
           "Mercedes-Benz CLA 250 Base"
          ],
          [
           "Mercedes-Benz E-Class E 450"
          ],
          [
           "Mercedes-Benz GLB 250 Base"
          ],
          [
           "Mercedes-Benz GLE 350 Base"
          ],
          [
           "Mercedes-Benz CLA 250 Base 4MATIC"
          ],
          [
           "Mercedes-Benz S-Class S 550 4MATIC"
          ],
          [
           "Mercedes-Benz A-Class A 220 4MATIC"
          ],
          [
           "Mercedes-Benz GLC 300 Base 4MATIC"
          ],
          [
           "Mercedes-Benz C-Class C 300"
          ],
          [
           "Mercedes-Benz GLC 300 Base 4MATIC"
          ],
          [
           "Mercedes-Benz E-Class E 350 4MATIC"
          ],
          [
           "Mercedes-Benz GLC 300 Base"
          ],
          [
           "Mercedes-Benz GLB 250 Base"
          ],
          [
           "Mercedes-Benz C-Class C 300 4MATIC"
          ],
          [
           "Mercedes-Benz EQB 350 Base 4MATIC"
          ],
          [
           "Mercedes-Benz E-Class E 450"
          ],
          [
           "Mercedes-Benz GLA 250 Base 4MATIC"
          ],
          [
           "Mercedes-Benz GLC 300 "
          ],
          [
           "Mercedes-Benz GLS 580 Base 4MATIC"
          ],
          [
           "Mercedes-Benz E-Class 4MATIC"
          ],
          [
           "Mercedes-Benz EQB 250 Base"
          ],
          [
           "Mercedes-Benz GLC 300 Base 4MATIC"
          ],
          [
           "Mercedes-Benz AMG CLA 35 4MATIC"
          ],
          [
           "Mercedes-Benz AMG G 63 Base"
          ],
          [
           "Mercedes-Benz S-Class S 500 4MATIC"
          ],
          [
           "Mercedes-Benz EQE 350+ Base"
          ],
          [
           "Mercedes-Benz GLB 250 Base"
          ],
          [
           "Mercedes-Benz GLC 300 4MATIC Coupe"
          ],
          [
           "Mercedes-Benz E-Class E 450"
          ],
          [
           "Mercedes-Benz GLA 250 Base"
          ],
          [
           "Mercedes-Benz AMG GLS 63 Base 4MATIC"
          ],
          [
           "Mercedes-Benz Maybach S 580 4MATIC"
          ],
          [
           "Mercedes-Benz GLE 350 Base 4MATIC"
          ],
          [
           "Mercedes-Benz AMG GLA 45 Base"
          ],
          [
           "Mercedes-Benz GLB 250 Base 4MATIC"
          ],
          [
           "Mercedes-Benz CLA 250 Base"
          ],
          [
           "Mercedes-Benz EQE 350 Base 4MATIC"
          ],
          [
           "Mercedes-Benz S-Class "
          ],
          [
           "Mercedes-Benz AMG GLS 63 Base 4MATIC"
          ],
          [
           "Mercedes-Benz E-Class E 350 4MATIC"
          ],
          [
           "Mercedes-Benz GLE 350 Base 4MATIC"
          ],
          [
           "Mercedes-Benz EQE 500 Base 4MATIC"
          ],
          [
           "Mercedes-Benz GLS 450 4MATIC"
          ],
          [
           "Mercedes-Benz AMG C 43 Base 4MATIC"
          ],
          [
           "Mercedes-Benz C-Class 4MATIC Sedan"
          ],
          [
           "Mercedes-Benz E-Class E 450 4MATIC"
          ],
          [
           "Mercedes-Benz C-Class C 300"
          ],
          [
           "Mercedes-Benz E-Class E 350 4MATIC"
          ],
          [
           "Mercedes-Benz CLA 250 Base"
          ],
          [
           "Mercedes-Benz GLB 250 Base"
          ],
          [
           "Mercedes-Benz GLA 250 Base"
          ],
          [
           "Mercedes-Benz EQS 450+ Base"
          ],
          [
           "Mercedes-Benz GLE 350 Base"
          ],
          [
           "Mercedes-Benz E-Class 4MATIC"
          ],
          [
           "Mercedes-Benz GLA 250 Base 4MATIC"
          ],
          [
           "Mercedes-Benz C-Class C 300 4MATIC"
          ],
          [
           "Mercedes-Benz GLB 250 Base 4MATIC"
          ],
          [
           "Mercedes-Benz GLC 300 Base 4MATIC"
          ],
          [
           "Mercedes-Benz A-Class A 220 4MATIC"
          ],
          [
           "Mercedes-Benz C-Class C 300 4MATIC"
          ],
          [
           "Mercedes-Benz GLB 250 "
          ],
          [
           "Mercedes-Benz E-Class 4MATIC"
          ],
          [
           "Mercedes-Benz GLC 300 Base 4MATIC"
          ],
          [
           "Mercedes-Benz GLB 250 "
          ],
          [
           "Mercedes-Benz EQS 450+ Base"
          ],
          [
           "Mercedes-Benz CLA 250 Base 4MATIC"
          ],
          [
           "Mercedes-Benz AMG GLA 45 Base"
          ],
          [
           "Mercedes-Benz E-Class E 450"
          ],
          [
           "Mercedes-Benz GLE 350 Base"
          ],
          [
           "Mercedes-Benz E-Class E 350 4MATIC"
          ],
          [
           "Mercedes-Benz AMG SL 63 Base"
          ],
          [
           "Mercedes-Benz GLB 250 Base 4MATIC"
          ],
          [
           "Mercedes-Benz GLS 450 4MATIC"
          ],
          [
           "Mercedes-Benz GLS 450 Base 4MATIC"
          ],
          [
           "Mercedes-Benz EQE 350 Base 4MATIC"
          ],
          [
           "Mercedes-Benz CLA 250 Base 4MATIC"
          ],
          [
           "Mercedes-Benz GLB 250 Base 4MATIC"
          ],
          [
           "Mercedes-Benz AMG GLC 43 Base 4MATIC"
          ],
          [
           "Mercedes-Benz G-Class "
          ],
          [
           "Mercedes-Benz GLB 250 Base 4MATIC"
          ],
          [
           "Mercedes-Benz C-Class 4MATIC Sedan"
          ],
          [
           "Mercedes-Benz GLB 250 Base 4MATIC"
          ],
          [
           "Mercedes-Benz GLC 300 Base 4MATIC"
          ],
          [
           "Mercedes-Benz GLE 350 Base 4MATIC"
          ],
          [
           "Mercedes-Benz AMG A 35 Base"
          ],
          [
           "Mercedes-Benz E-Class E 350 4MATIC"
          ],
          [
           "Mercedes-Benz GLB 250 Base"
          ],
          [
           "Mercedes-Benz GLE 450 Base"
          ],
          [
           "Mercedes-Benz AMG E 53 Base 4MATIC"
          ],
          [
           "Mercedes-Benz GLB 250 Base 4MATIC"
          ],
          [
           "Mercedes-Benz GLE 350 Base 4MATIC"
          ],
          [
           "Mercedes-Benz C-Class C 300 4MATIC"
          ],
          [
           "Mercedes-Benz GLA 250 Base 4MATIC"
          ],
          [
           "Mercedes-Benz GLC 300 Base"
          ],
          [
           "Mercedes-Benz GLB 250 Base 4MATIC"
          ],
          [
           "Mercedes-Benz GLB 250 Base"
          ],
          [
           "Mercedes-Benz GLS 450 4MATIC"
          ],
          [
           "Mercedes-Benz GLB 250 Base"
          ],
          [
           "Mercedes-Benz AMG E 53 Base 4MATIC"
          ],
          [
           "Mercedes-Benz E-Class "
          ],
          [
           "Mercedes-Benz AMG GLA 45 AMG GLA 45"
          ],
          [
           "Mercedes-Benz GLA 250 Base"
          ],
          [
           "Mercedes-Benz E-Class E 350 4MATIC"
          ],
          [
           "Mercedes-Benz GLE 350 Base 4MATIC"
          ],
          [
           "Mercedes-Benz GLB 250 Base"
          ],
          [
           "Mercedes-Benz GLE 350 Base 4MATIC"
          ],
          [
           "Mercedes-Benz EQS 580 4MATIC"
          ],
          [
           "Mercedes-Benz AMG CLS 53 S-Model 4MATIC"
          ],
          [
           "Mercedes-Benz C-Class C 300 4MATIC"
          ],
          [
           "Mercedes-Benz EQB 300 Base 4MATIC"
          ],
          [
           "Mercedes-Benz GLE 350 Base 4MATIC"
          ],
          [
           "Mercedes-Benz C-Class C 300 4MATIC"
          ],
          [
           "Mercedes-Benz GLS 450 Base 4MATIC"
          ],
          [
           "Mercedes-Benz GLB 250 Base 4MATIC"
          ],
          [
           "Mercedes-Benz S-Class S 560"
          ],
          [
           "Mercedes-Benz E-Class E 450"
          ],
          [
           "Mercedes-Benz GLB 250 Base 4MATIC"
          ],
          [
           "Mercedes-Benz CLA 250 Base 4MATIC"
          ],
          [
           "Mercedes-Benz GLA 250 Base"
          ],
          [
           "Mercedes-Benz GLC 300 Base 4MATIC"
          ],
          [
           "Mercedes-Benz GLB 250 Base"
          ],
          [
           "Mercedes-Benz GLC 300 Base 4MATIC"
          ],
          [
           "Mercedes-Benz GLE 350 Base 4MATIC"
          ],
          [
           "Mercedes-Benz GLC 300 Base"
          ],
          [
           "Mercedes-Benz CLA 250 Base 4MATIC"
          ],
          [
           "Mercedes-Benz GLA 250 Base 4MATIC"
          ],
          [
           "Mercedes-Benz GLB 250 Base 4MATIC"
          ],
          [
           "Mercedes-Benz GLB 250 Base 4MATIC"
          ],
          [
           "Mercedes-Benz C-Class C 300"
          ],
          [
           "Mercedes-Benz AMG GLE 63 S"
          ],
          [
           "Mercedes-Benz A-Class A 220"
          ],
          [
           "Mercedes-Benz GLC 300 Base 4MATIC"
          ],
          [
           "Mercedes-Benz Metris Base"
          ],
          [
           "Mercedes-Benz GLA 250 "
          ],
          [
           "Mercedes-Benz AMG E 53 Base 4MATIC"
          ],
          [
           "Mercedes-Benz GLA 250 Base 4MATIC"
          ],
          [
           "Mercedes-Benz GLC 300 Base 4MATIC"
          ],
          [
           "Mercedes-Benz C-Class C 300 4MATIC"
          ],
          [
           "Mercedes-Benz GLA 250 Base 4MATIC"
          ],
          [
           "Mercedes-Benz GLB 250 Base 4MATIC"
          ],
          [
           "Mercedes-Benz EQS 450 Base 4MATIC"
          ],
          [
           "Mercedes-Benz E-Class E 350 4MATIC"
          ],
          [
           "Mercedes-Benz GLE 350 Base"
          ],
          [
           "Mercedes-Benz S-Class Base"
          ],
          [
           "Mercedes-Benz GLB 250 Base"
          ],
          [
           "Mercedes-Benz C-Class C 300 4MATIC"
          ],
          [
           "Mercedes-Benz GLE 450 Base"
          ],
          [
           "Mercedes-Benz E-Class E 63 AMG 4MATIC"
          ],
          [
           "Mercedes-Benz C-Class C 300 4MATIC"
          ],
          [
           "Mercedes-Benz C-Class C 300 4MATIC"
          ],
          [
           "Mercedes-Benz GLC 300 Base 4MATIC"
          ],
          [
           "Mercedes-Benz GLB 250 Base 4MATIC"
          ],
          [
           "Mercedes-Benz GLC 300 Base 4MATIC"
          ],
          [
           "Mercedes-Benz GLS 580 Base 4MATIC"
          ],
          [
           "Mercedes-Benz GLB 250 Base 4MATIC"
          ],
          [
           "Mercedes-Benz GLB 250 Base 4MATIC"
          ],
          [
           "Mercedes-Benz GLC 300 Base 4MATIC"
          ],
          [
           "Mercedes-Benz CLA 250 Base"
          ],
          [
           "Mercedes-Benz C-Class C 300"
          ],
          [
           "Mercedes-Benz C-Class C 300"
          ],
          [
           "Mercedes-Benz C-Class C 300 4MATIC"
          ],
          [
           "Mercedes-Benz AMG GLE 53 Base"
          ],
          [
           "Mercedes-Benz GLS 450 4MATIC"
          ],
          [
           "Mercedes-Benz GLC 300 Base 4MATIC"
          ],
          [
           "Mercedes-Benz C-Class C 300 4MATIC"
          ],
          [
           "Mercedes-Benz GLC 300 Base 4MATIC"
          ],
          [
           "Mercedes-Benz C-Class 4MATIC"
          ],
          [
           "Mercedes-Benz AMG G 63 4MATIC"
          ],
          [
           "Mercedes-Benz C-Class C 300"
          ],
          [
           "Mercedes-Benz GLS 450 Base 4MATIC"
          ],
          [
           "Mercedes-Benz C-Class C 300 4MATIC"
          ],
          [
           "Mercedes-Benz GLE 350 Base"
          ],
          [
           "Mercedes-Benz C-Class C 300 4MATIC"
          ],
          [
           "Mercedes-Benz C-Class C 300"
          ],
          [
           "Mercedes-Benz CLA 250 Base 4MATIC"
          ],
          [
           "Mercedes-Benz GLA 250 Base 4MATIC"
          ],
          [
           "Mercedes-Benz GLC 300 Base 4MATIC"
          ],
          [
           "Mercedes-Benz AMG GLE 53 4MATIC"
          ],
          [
           "Mercedes-Benz C-Class C 300"
          ],
          [
           "Mercedes-Benz GLC 300 Base"
          ],
          [
           "Mercedes-Benz GLE 450 4MATIC"
          ],
          [
           "Mercedes-Benz AMG GLA 35 Base"
          ],
          [
           "Mercedes-Benz GLE 350 Base 4MATIC"
          ],
          [
           "Mercedes-Benz EQB 300 Base 4MATIC"
          ],
          [
           "Mercedes-Benz C-Class C 300"
          ],
          [
           "Mercedes-Benz C-Class C 300"
          ],
          [
           "Mercedes-Benz GLS 450 4MATIC"
          ],
          [
           "Mercedes-Benz GLE 350 Base"
          ],
          [
           "Mercedes-Benz GLE 350 Base 4MATIC"
          ],
          [
           "Mercedes-Benz EQB 300 Base 4MATIC"
          ],
          [
           "Mercedes-Benz GLA 250 Base"
          ],
          [
           "Mercedes-Benz GLC 300 Base 4MATIC"
          ],
          [
           "Mercedes-Benz GLS 450 4MATIC"
          ],
          [
           "Mercedes-Benz Maybach GLS 600 4MATIC"
          ],
          [
           "Mercedes-Benz C-Class C 300"
          ],
          [
           "Mercedes-Benz C-Class C 300"
          ],
          [
           "Mercedes-Benz EQE 350 Base 4MATIC"
          ],
          [
           "Mercedes-Benz E-Class 4MATIC"
          ],
          [
           "Mercedes-Benz E-Class E 350 4MATIC"
          ],
          [
           "Mercedes-Benz E-Class E 350 4MATIC"
          ],
          [
           "Mercedes-Benz GLE 350 Base 4MATIC"
          ],
          [
           "Mercedes-Benz C-Class C 300"
          ],
          [
           "Mercedes-Benz GLE 350 Base 4MATIC"
          ],
          [
           "Mercedes-Benz GLB 250 Base 4MATIC"
          ],
          [
           "Mercedes-Benz C-Class C 300 4MATIC"
          ],
          [
           "Mercedes-Benz GLC 300 Base 4MATIC"
          ],
          [
           "Mercedes-Benz EQE 350 Base 4MATIC"
          ],
          [
           "Mercedes-Benz CLA 250 Base 4MATIC"
          ],
          [
           "Mercedes-Benz C-Class C 300"
          ],
          [
           "Mercedes-Benz GLB 250 Base"
          ],
          [
           "Mercedes-Benz GLB 250 "
          ],
          [
           "Mercedes-Benz AMG GLC 43 Base 4MATIC"
          ],
          [
           "Mercedes-Benz AMG GLC 43 Base 4MATIC"
          ],
          [
           "Mercedes-Benz GLE 450 4MATIC"
          ],
          [
           "Mercedes-Benz GLB 250 Base"
          ],
          [
           "Mercedes-Benz EQB 300 Base 4MATIC"
          ],
          [
           "Mercedes-Benz GLA 250 Base 4MATIC"
          ],
          [
           "Mercedes-Benz GLE 350 Base 4MATIC"
          ],
          [
           "Mercedes-Benz C-Class C 300 4MATIC"
          ],
          [
           "Mercedes-Benz AMG G 63 4MATIC"
          ],
          [
           "Mercedes-Benz GLE 350 Base 4MATIC"
          ],
          [
           "Mercedes-Benz GLE 350 Base"
          ],
          [
           "Mercedes-Benz A-Class A 220"
          ],
          [
           "Mercedes-Benz AMG GLA 45 Base"
          ],
          [
           "Mercedes-Benz EQB 300 Base 4MATIC"
          ],
          [
           "Mercedes-Benz EQB 350 Base 4MATIC"
          ],
          [
           "Mercedes-Benz GLE 350 Base 4MATIC"
          ],
          [
           "Mercedes-Benz EQB 300 Base 4MATIC"
          ],
          [
           "Mercedes-Benz GLC 300 "
          ],
          [
           "Mercedes-Benz CLS 450 Base 4MATIC"
          ],
          [
           "Mercedes-Benz AMG G 63 4MATIC"
          ],
          [
           "Mercedes-Benz AMG GLC 43 Base 4MATIC"
          ],
          [
           "Mercedes-Benz GLC 300 Base 4MATIC"
          ],
          [
           "Mercedes-Benz GLA 250 Base"
          ],
          [
           "Mercedes-Benz GLE 350 "
          ],
          [
           "Mercedes-Benz E-Class E 300"
          ],
          [
           "Mercedes-Benz AMG CLA 35 Base 4MATIC"
          ],
          [
           "Mercedes-Benz GLA 250 Base 4MATIC"
          ],
          [
           "Mercedes-Benz GLA 250 Base 4MATIC"
          ],
          [
           "Mercedes-Benz EQB 300 Base 4MATIC"
          ],
          [
           "Mercedes-Benz GLC 300 Base 4MATIC"
          ],
          [
           "Mercedes-Benz AMG GLC 43 Base 4MATIC"
          ],
          [
           "Mercedes-Benz C-Class 4MATIC Coupe"
          ],
          [
           "Mercedes-Benz C-Class C 300 4MATIC"
          ],
          [
           "Mercedes-Benz C-Class C 300"
          ],
          [
           "Mercedes-Benz GLS 450 4MATIC"
          ],
          [
           "Mercedes-Benz EQS 450+ Base"
          ],
          [
           "Mercedes-Benz EQE 500 Base 4MATIC"
          ],
          [
           "Mercedes-Benz EQB 350 Base 4MATIC"
          ],
          [
           "Mercedes-Benz GLA 250 Base 4MATIC"
          ],
          [
           "Mercedes-Benz A-Class A 220 4MATIC"
          ],
          [
           "Mercedes-Benz EQB 250 Base"
          ],
          [
           "Mercedes-Benz AMG G 63 4MATIC"
          ],
          [
           "Mercedes-Benz E-Class E 350 4MATIC"
          ],
          [
           "Mercedes-Benz GLE 350 Base 4MATIC"
          ],
          [
           "Mercedes-Benz CLA 250 Base"
          ],
          [
           "Mercedes-Benz GLA 250 Base 4MATIC"
          ],
          [
           "Mercedes-Benz C-Class C 300 4MATIC"
          ],
          [
           "Mercedes-Benz C-Class C 300"
          ],
          [
           "Mercedes-Benz E-Class E 350 4MATIC"
          ],
          [
           "Mercedes-Benz E-Class E 350"
          ],
          [
           "Mercedes-Benz EQB 250 Base"
          ],
          [
           "Mercedes-Benz GLC 300 Base 4MATIC"
          ],
          [
           "Mercedes-Benz GLE 450 4MATIC"
          ],
          [
           "Mercedes-Benz GLC 350e Base 4MATIC"
          ],
          [
           "Mercedes-Benz C-Class C 300"
          ],
          [
           "Mercedes-Benz AMG G 63 4MATIC"
          ],
          [
           "Mercedes-Benz GLE 350 Base 4MATIC"
          ],
          [
           "Mercedes-Benz C-Class C 300"
          ],
          [
           "Mercedes-Benz AMG C 43 Base 4MATIC"
          ],
          [
           "Mercedes-Benz GLA 250 Base"
          ],
          [
           "Mercedes-Benz EQB 250 Base"
          ],
          [
           "Mercedes-Benz GLC 300 Base"
          ],
          [
           "Mercedes-Benz GLC 300 4MATIC Coupe"
          ],
          [
           "Mercedes-Benz EQE 500 Base 4MATIC"
          ],
          [
           "Mercedes-Benz C-Class C 300 4MATIC"
          ],
          [
           "Mercedes-Benz C-Class C 300"
          ],
          [
           "Mercedes-Benz GLB 250 Base 4MATIC"
          ],
          [
           "Mercedes-Benz AMG C 43 Base 4MATIC"
          ],
          [
           "Mercedes-Benz G-Class G 550"
          ],
          [
           "Mercedes-Benz GLA 250 4MATIC"
          ],
          [
           "Mercedes-Benz CLA 250 Base 4MATIC"
          ],
          [
           "Mercedes-Benz C-Class C 300"
          ],
          [
           "Mercedes-Benz EQB 300 Base 4MATIC"
          ],
          [
           "Mercedes-Benz AMG GLE 53 Base"
          ],
          [
           "Mercedes-Benz C-Class C 300 4MATIC"
          ],
          [
           "Mercedes-Benz GLB 250 Base"
          ],
          [
           "Mercedes-Benz EQS 580 Base 4MATIC"
          ],
          [
           "Mercedes-Benz C-Class C 300"
          ],
          [
           "Mercedes-Benz GLA 250 Base"
          ],
          [
           "Mercedes-Benz GLC 300 Base 4MATIC"
          ],
          [
           "Mercedes-Benz GLE 350 Base 4MATIC"
          ],
          [
           "Mercedes-Benz GLC 300 4MATIC Coupe"
          ],
          [
           "Mercedes-Benz EQB 300 Base 4MATIC"
          ],
          [
           "Mercedes-Benz EQE 500 Base 4MATIC"
          ],
          [
           "Mercedes-Benz GLC 300 Base 4MATIC"
          ],
          [
           "Mercedes-Benz GLB 250 Base 4MATIC"
          ],
          [
           "Mercedes-Benz C-Class C 300"
          ],
          [
           "Mercedes-Benz C-Class C 300 4MATIC"
          ],
          [
           "Mercedes-Benz CLA 250 Base 4MATIC"
          ],
          [
           "Mercedes-Benz GLC 300 Base"
          ],
          [
           "Mercedes-Benz G-Class G 550 4MATIC"
          ],
          [
           "Mercedes-Benz GLB 250 Base"
          ],
          [
           "Mercedes-Benz GLB 250 Base 4MATIC"
          ],
          [
           "Mercedes-Benz AMG G 63 4MATIC"
          ],
          [
           "Mercedes-Benz GLC 300 "
          ],
          [
           "Mercedes-Benz CLA 250 "
          ],
          [
           "Mercedes-Benz GLE 350 Base 4MATIC"
          ],
          [
           "Mercedes-Benz GLA 250 Base"
          ],
          [
           "Mercedes-Benz CLA 250 Base"
          ],
          [
           "Mercedes-Benz C-Class C 300"
          ],
          [
           "Mercedes-Benz E-Class E 450 4MATIC"
          ],
          [
           "Mercedes-Benz C-Class 4MATIC Sedan"
          ],
          [
           "Mercedes-Benz GLB 250 Base"
          ],
          [
           "Mercedes-Benz GLS 450 Base 4MATIC"
          ],
          [
           "Mercedes-Benz GLC 300 Base 4MATIC"
          ],
          [
           "Mercedes-Benz C-Class 4MATIC Sedan"
          ],
          [
           "Mercedes-Benz GLE 350 4MATIC"
          ],
          [
           "Mercedes-Benz CLA 250 "
          ],
          [
           "Mercedes-Benz C-Class C 300"
          ],
          [
           "Mercedes-Benz GLB 250 Base 4MATIC"
          ],
          [
           "Mercedes-Benz EQE 350 Base 4MATIC"
          ],
          [
           "Mercedes-Benz GLC 300 Base 4MATIC"
          ],
          [
           "Mercedes-Benz GLS 580 4MATIC"
          ],
          [
           "Mercedes-Benz EQB 300 Base 4MATIC"
          ],
          [
           "Mercedes-Benz C-Class C 300"
          ],
          [
           "Mercedes-Benz C-Class C 300"
          ],
          [
           "Mercedes-Benz GLS 450 4MATIC"
          ],
          [
           "Mercedes-Benz C-Class 4MATIC Sedan"
          ],
          [
           "Mercedes-Benz GLS 450 4MATIC"
          ],
          [
           "Mercedes-Benz C-Class C 300 4MATIC"
          ],
          [
           "Mercedes-Benz EQE 350 Base 4MATIC"
          ],
          [
           "Mercedes-Benz C-Class C 300 4MATIC"
          ],
          [
           "Mercedes-Benz GLB 250 Base 4MATIC"
          ],
          [
           "Mercedes-Benz GLC 300 Base 4MATIC"
          ],
          [
           "Mercedes-Benz AMG SL 55 Base"
          ],
          [
           "Mercedes-Benz GLE 350 Base 4MATIC"
          ],
          [
           "Mercedes-Benz CLA 250 Base"
          ],
          [
           "Mercedes-Benz C-Class C 300 4MATIC"
          ],
          [
           "Mercedes-Benz GLA 250 Base"
          ],
          [
           "Mercedes-Benz GLB 250 Base"
          ],
          [
           "Mercedes-Benz C-Class "
          ],
          [
           "Mercedes-Benz C-Class C 300"
          ],
          [
           "Mercedes-Benz GLC 300 Base 4MATIC"
          ],
          [
           "Mercedes-Benz GLB 250 Base"
          ],
          [
           "Mercedes-Benz Metris Base"
          ],
          [
           "Mercedes-Benz C-Class C 300 4MATIC"
          ],
          [
           "Mercedes-Benz GLS 450 Base 4MATIC"
          ],
          [
           "Mercedes-Benz AMG G 63 Base"
          ],
          [
           "Mercedes-Benz GLC 300 Base 4MATIC"
          ],
          [
           "Mercedes-Benz C-Class 4MATIC Sedan"
          ],
          [
           "Mercedes-Benz CLS 450 Base"
          ],
          [
           "Mercedes-Benz GLA 250 Base"
          ],
          [
           "Mercedes-Benz GLS 450 4MATIC"
          ],
          [
           "Mercedes-Benz EQB 350 Base 4MATIC"
          ],
          [
           "Mercedes-Benz AMG GLE 53 Base"
          ],
          [
           "Mercedes-Benz CLA 250 Base"
          ],
          [
           "Mercedes-Benz GLC 300 Base"
          ],
          [
           "Mercedes-Benz AMG GT 43 C"
          ],
          [
           "Mercedes-Benz GLA 250 Base 4MATIC"
          ],
          [
           "Mercedes-Benz AMG GLA 35 Base"
          ],
          [
           "Mercedes-Benz GLC 300 Base 4MATIC"
          ],
          [
           "Mercedes-Benz GLB 250 Base 4MATIC"
          ],
          [
           "Mercedes-Benz GLB 250 Base"
          ],
          [
           "Mercedes-Benz S-Class S 500 4MATIC"
          ],
          [
           "Mercedes-Benz EQB 300 Base 4MATIC"
          ],
          [
           "Mercedes-Benz CLA 250 Base"
          ],
          [
           "Mercedes-Benz GLA 250 Base 4MATIC"
          ],
          [
           "Mercedes-Benz GLS 450 Base 4MATIC"
          ],
          [
           "Mercedes-Benz C-Class C 300"
          ],
          [
           "Mercedes-Benz GLA 250 Base 4MATIC"
          ],
          [
           "Mercedes-Benz C-Class C 300"
          ],
          [
           "Mercedes-Benz GLC 300 Base 4MATIC"
          ],
          [
           "Mercedes-Benz C-Class C 300 4MATIC"
          ],
          [
           "Mercedes-Benz CLA 250 Base"
          ],
          [
           "Mercedes-Benz AMG C 43 Base 4MATIC"
          ],
          [
           "Mercedes-Benz EQB 350 Base 4MATIC"
          ],
          [
           "Mercedes-Benz E-Class E 350"
          ],
          [
           "Mercedes-Benz S-Class S 560"
          ],
          [
           "Mercedes-Benz AMG GLE 63 S-Model 4MATIC"
          ],
          [
           "Mercedes-Benz GLB 250 Base 4MATIC"
          ],
          [
           "Mercedes-Benz C-Class C 300"
          ],
          [
           "Mercedes-Benz C-Class 4MATIC Coupe"
          ],
          [
           "Mercedes-Benz AMG G 63 Base"
          ],
          [
           "Mercedes-Benz C-Class C 300"
          ],
          [
           "Mercedes-Benz GLE 350 Base 4MATIC"
          ],
          [
           "Mercedes-Benz GLB 250 Base 4MATIC"
          ],
          [
           "Mercedes-Benz GLB 250 Base 4MATIC"
          ],
          [
           "Mercedes-Benz C-Class C 300"
          ],
          [
           "Mercedes-Benz C-Class C 300 4MATIC"
          ],
          [
           "Mercedes-Benz EQB 350 Base 4MATIC"
          ],
          [
           "Mercedes-Benz GLE 350 Base 4MATIC"
          ],
          [
           "Mercedes-Benz AMG GT 63 4-Door"
          ],
          [
           "Mercedes-Benz EQB 350 Base 4MATIC"
          ],
          [
           "Mercedes-Benz GLS 450 Base 4MATIC"
          ],
          [
           "Mercedes-Benz EQB 250 Base"
          ],
          [
           "Mercedes-Benz AMG GT 63 "
          ],
          [
           "Mercedes-Benz C-Class C 300"
          ],
          [
           "Mercedes-Benz C-Class C 300 4MATIC"
          ],
          [
           "Mercedes-Benz GLB 250 Base 4MATIC"
          ],
          [
           "Mercedes-Benz EQE 350 Base 4MATIC"
          ],
          [
           "Mercedes-Benz C-Class C 300 4MATIC"
          ],
          [
           "Mercedes-Benz GLB 250 Base 4MATIC"
          ],
          [
           "Mercedes-Benz E-Class E 350"
          ],
          [
           "Mercedes-Benz AMG GLC 43 4MATIC Coupe"
          ],
          [
           "Mercedes-Benz GLC 300 Base 4MATIC"
          ],
          [
           "Mercedes-Benz E-Class E 450"
          ],
          [
           "Mercedes-Benz GLA 250 Base 4MATIC"
          ],
          [
           "Mercedes-Benz E-Class E 450"
          ],
          [
           "Mercedes-Benz AMG GLC 43 Base 4MATIC"
          ],
          [
           "Mercedes-Benz E-Class E 350"
          ],
          [
           "Mercedes-Benz GLE 350 Base 4MATIC"
          ],
          [
           "Mercedes-Benz GLE 350 Base 4MATIC"
          ],
          [
           "Mercedes-Benz EQE 350+ Base"
          ],
          [
           "Mercedes-Benz GLA 250 Base 4MATIC"
          ],
          [
           "Mercedes-Benz GLC 300 Base 4MATIC"
          ],
          [
           "Mercedes-Benz C-Class 4MATIC Sedan"
          ],
          [
           "Mercedes-Benz C-Class C 300"
          ],
          [
           "Mercedes-Benz GLC 300 Base 4MATIC"
          ],
          [
           "Mercedes-Benz GLS 450 "
          ],
          [
           "Mercedes-Benz GLE 450 Base 4MATIC"
          ],
          [
           "Mercedes-Benz S-Class S 560 4MATIC"
          ],
          [
           "Mercedes-Benz GLB 250 Base"
          ],
          [
           "Mercedes-Benz GLA 250 Base 4MATIC"
          ],
          [
           "Mercedes-Benz EQB 350 Base 4MATIC"
          ],
          [
           "Mercedes-Benz S-Class S 500 4MATIC"
          ],
          [
           "Mercedes-Benz GLC 300 Base 4MATIC"
          ],
          [
           "Mercedes-Benz CLA 250 Base 4MATIC"
          ],
          [
           "Mercedes-Benz GLE 350 Base 4MATIC"
          ],
          [
           "Mercedes-Benz GLE 350 Base"
          ],
          [
           "Mercedes-Benz GLC 300 Base 4MATIC"
          ],
          [
           "Mercedes-Benz GLC 300 Base 4MATIC"
          ],
          [
           "Mercedes-Benz GLC 300 Base 4MATIC"
          ],
          [
           "Mercedes-Benz C-Class 4MATIC Coupe"
          ],
          [
           "Mercedes-Benz C-Class C 300 4MATIC"
          ],
          [
           "Mercedes-Benz S-Class S 450 4MATIC"
          ],
          [
           "Mercedes-Benz GLE 350 Base 4MATIC"
          ],
          [
           "Mercedes-Benz EQB 300 Base 4MATIC"
          ],
          [
           "Mercedes-Benz EQB 350 Base 4MATIC"
          ],
          [
           "Mercedes-Benz C-Class C 300 4MATIC"
          ],
          [
           "Mercedes-Benz G-Class G 550 4MATIC"
          ],
          [
           "Mercedes-Benz CLA 250 Base"
          ],
          [
           "Mercedes-Benz E-Class E 350 4MATIC"
          ],
          [
           "Mercedes-Benz EQS 450+ Base"
          ],
          [
           "Mercedes-Benz GLE 350 Base 4MATIC"
          ],
          [
           "Mercedes-Benz GLE 350 Base 4MATIC"
          ],
          [
           "Mercedes-Benz GLS 450 4MATIC"
          ],
          [
           "Mercedes-Benz EQB 300 Base 4MATIC"
          ],
          [
           "Mercedes-Benz GLE 350 Base"
          ],
          [
           "Mercedes-Benz AMG GLC 43 Base 4MATIC"
          ],
          [
           "Mercedes-Benz EQE 500 4MATIC"
          ],
          [
           "Mercedes-Benz AMG GLE 63 S-Model 4MATIC"
          ],
          [
           "Mercedes-Benz GLE 350 Base 4MATIC"
          ],
          [
           "Mercedes-Benz GLE 350 Base 4MATIC"
          ],
          [
           "Mercedes-Benz EQB 300 Base 4MATIC"
          ],
          [
           "Mercedes-Benz CLA 250 Base"
          ],
          [
           "Mercedes-Benz GLS 580 Base 4MATIC"
          ],
          [
           "Mercedes-Benz Metris Base"
          ],
          [
           "Mercedes-Benz GLE 450 4MATIC"
          ],
          [
           "Mercedes-Benz GLC 300 Base 4MATIC"
          ],
          [
           "Mercedes-Benz GLC 300 "
          ],
          [
           "Mercedes-Benz C-Class C 300 4MATIC"
          ],
          [
           "Mercedes-Benz E-Class 4MATIC"
          ],
          [
           "Mercedes-Benz CLA 250 Base 4MATIC"
          ],
          [
           "Mercedes-Benz GLS 450 4MATIC"
          ],
          [
           "Mercedes-Benz GLE 350 Base 4MATIC"
          ],
          [
           "Mercedes-Benz GLB 250 Base"
          ],
          [
           "Mercedes-Benz S-Class S 580"
          ],
          [
           "Mercedes-Benz GLE 450 4MATIC"
          ],
          [
           "Mercedes-Benz C-Class C 300"
          ],
          [
           "Mercedes-Benz E-Class E 450 4MATIC"
          ],
          [
           "Mercedes-Benz GLB 250 Base"
          ],
          [
           "Mercedes-Benz AMG GLE 53 Base"
          ],
          [
           "Mercedes-Benz GLC 300 Base"
          ],
          [
           "Mercedes-Benz GLC 300 Base"
          ],
          [
           "Mercedes-Benz GLA 250 Base"
          ],
          [
           "Mercedes-Benz GLE 350 Base 4MATIC"
          ],
          [
           "Mercedes-Benz GLA 250 "
          ],
          [
           "Mercedes-Benz E-Class E 450 4MATIC"
          ],
          [
           "Mercedes-Benz E-Class E 350 4MATIC"
          ],
          [
           "Mercedes-Benz E-Class E 350"
          ],
          [
           "Mercedes-Benz EQB 300 Base 4MATIC"
          ],
          [
           "Mercedes-Benz C-Class 4MATIC Sedan"
          ],
          [
           "Mercedes-Benz C-Class C 300 4MATIC"
          ],
          [
           "Mercedes-Benz GLB 250 Base 4MATIC"
          ],
          [
           "Mercedes-Benz GLB 250 Base"
          ],
          [
           "Mercedes-Benz C-Class C 300 4MATIC"
          ],
          [
           "Mercedes-Benz E-Class E 350 4MATIC"
          ],
          [
           "Mercedes-Benz EQB 300 Base 4MATIC"
          ],
          [
           "Mercedes-Benz AMG GLE 63 S-Model 4MATIC"
          ],
          [
           "Mercedes-Benz GLC 300 Base"
          ],
          [
           "Mercedes-Benz C-Class C 300 4MATIC"
          ],
          [
           "Mercedes-Benz E-Class E 350 4MATIC"
          ],
          [
           "Mercedes-Benz GLA 250 Base 4MATIC"
          ],
          [
           "Mercedes-Benz C-Class C 300 4MATIC"
          ],
          [
           "Mercedes-Benz GLE 350 Base 4MATIC"
          ],
          [
           "Mercedes-Benz GLE 350 Base"
          ],
          [
           "Mercedes-Benz GLE 350 Base"
          ],
          [
           "Mercedes-Benz GLE 450 "
          ],
          [
           "Mercedes-Benz GLA 250 Base 4MATIC"
          ],
          [
           "Mercedes-Benz C-Class C 300 4MATIC"
          ],
          [
           "Mercedes-Benz GLE 350 Base 4MATIC"
          ],
          [
           "Mercedes-Benz GLE 350 Base 4MATIC"
          ],
          [
           "Mercedes-Benz AMG GT Base"
          ],
          [
           "Mercedes-Benz GLC 300 Base 4MATIC"
          ],
          [
           "Mercedes-Benz GLA 250 Base 4MATIC"
          ],
          [
           "Mercedes-Benz AMG GLE 43 Base 4MATIC"
          ],
          [
           "Mercedes-Benz CLA 250 Base 4MATIC"
          ],
          [
           "Mercedes-Benz SL 450 Base"
          ],
          [
           "Mercedes-Benz GLS 450 4MATIC"
          ],
          [
           "Mercedes-Benz EQE 350 Base 4MATIC+"
          ],
          [
           "Mercedes-Benz CLA 250 Base"
          ],
          [
           "Mercedes-Benz GLC 300 Base 4MATIC"
          ],
          [
           "Mercedes-Benz GLE 350 Base 4MATIC"
          ],
          [
           "Mercedes-Benz GLC 300 Base"
          ],
          [
           "Mercedes-Benz GLE 450 4MATIC"
          ],
          [
           "Mercedes-Benz A-Class A 220"
          ],
          [
           "Mercedes-Benz GLE 350 Base 4MATIC"
          ],
          [
           "Mercedes-Benz A-Class A 220 4MATIC"
          ],
          [
           "Mercedes-Benz E-Class E 450 4MATIC"
          ],
          [
           "Mercedes-Benz E-Class E 350 4MATIC"
          ],
          [
           "Mercedes-Benz C-Class C 300 4MATIC"
          ],
          [
           "Mercedes-Benz GLA 250 Base 4MATIC"
          ],
          [
           "Mercedes-Benz GLS 450 4MATIC"
          ],
          [
           "Mercedes-Benz GLE 350 Base"
          ],
          [
           "Mercedes-Benz C-Class C 300 4MATIC"
          ],
          [
           "Mercedes-Benz CLA 250 Base"
          ],
          [
           "Mercedes-Benz CLA 250 Base"
          ],
          [
           "Mercedes-Benz C-Class C 300"
          ],
          [
           "Mercedes-Benz GLA 250 Base 4MATIC"
          ],
          [
           "Mercedes-Benz GLE 450 AWD 4MATIC"
          ],
          [
           "Mercedes-Benz GLC 300 Base 4MATIC"
          ],
          [
           "Mercedes-Benz GLB 250 Base"
          ],
          [
           "Mercedes-Benz GLA 250 Base"
          ],
          [
           "Mercedes-Benz C-Class C 300 4MATIC"
          ],
          [
           "Mercedes-Benz GLA 250 Base"
          ],
          [
           "Mercedes-Benz GLC 300 Base 4MATIC"
          ],
          [
           "Mercedes-Benz C-Class C 300 4MATIC"
          ],
          [
           "Mercedes-Benz GLA 250 Base 4MATIC"
          ],
          [
           "Mercedes-Benz GLB 250 Base"
          ],
          [
           "Mercedes-Benz EQB 250 Base"
          ],
          [
           "Mercedes-Benz GLB 250 Base"
          ],
          [
           "Mercedes-Benz AMG C 43 Base 4MATIC"
          ],
          [
           "Mercedes-Benz GLB 250 Base"
          ],
          [
           "Mercedes-Benz GLE 350 Base 4MATIC"
          ],
          [
           "Mercedes-Benz AMG CLA 35 "
          ],
          [
           "Mercedes-Benz C-Class C 300"
          ],
          [
           "Mercedes-Benz GLC 300 Base 4MATIC"
          ],
          [
           "Mercedes-Benz GLS 580 Base 4MATIC"
          ],
          [
           "Mercedes-Benz C-Class C 300 4MATIC"
          ],
          [
           "Mercedes-Benz GLS 450 Base 4MATIC"
          ],
          [
           "Mercedes-Benz GLB 250 "
          ],
          [
           "Mercedes-Benz S-Class S 580 4MATIC"
          ],
          [
           "Mercedes-Benz C-Class C 300"
          ],
          [
           "Mercedes-Benz C-Class C 300 4MATIC"
          ],
          [
           "Mercedes-Benz GLS 450 Base 4MATIC"
          ],
          [
           "Mercedes-Benz GLE 350 Base"
          ],
          [
           "Mercedes-Benz AMG GLA 45 Base"
          ],
          [
           "Mercedes-Benz S-Class S 500"
          ],
          [
           "Mercedes-Benz EQE 350+ Base"
          ],
          [
           "Mercedes-Benz EQS 450+ Base"
          ],
          [
           "Mercedes-Benz EQE 500 Base 4MATIC"
          ],
          [
           "Mercedes-Benz CLA 250 Base"
          ],
          [
           "Mercedes-Benz EQS 450+ Base"
          ],
          [
           "Mercedes-Benz GLC 300 Base 4MATIC"
          ],
          [
           "Mercedes-Benz Maybach S 680 4MATIC"
          ],
          [
           "Mercedes-Benz GLS 450 Base 4MATIC"
          ],
          [
           "Mercedes-Benz GLE 350 Base 4MATIC"
          ],
          [
           "Mercedes-Benz GLB 250 Base"
          ],
          [
           "Mercedes-Benz E-Class E 350 4MATIC"
          ],
          [
           "Mercedes-Benz CLS 450 Base 4MATIC"
          ],
          [
           "Mercedes-Benz CLA 250 Base 4MATIC"
          ],
          [
           "Mercedes-Benz GLC 300 4MATIC Coupe"
          ],
          [
           "Mercedes-Benz EQB 250 Base"
          ],
          [
           "Mercedes-Benz GLC 300 4MATIC Coupe"
          ],
          [
           "Mercedes-Benz C-Class C 300"
          ],
          [
           "Mercedes-Benz GLE 350 Base 4MATIC"
          ],
          [
           "Mercedes-Benz C-Class C 300 4MATIC"
          ],
          [
           "Mercedes-Benz AMG A 35 Base"
          ],
          [
           "Mercedes-Benz C-Class C 300"
          ],
          [
           "Mercedes-Benz GLB 250 Base"
          ],
          [
           "Mercedes-Benz E-Class E 350"
          ],
          [
           "Mercedes-Benz C-Class C 300"
          ],
          [
           "Mercedes-Benz C-Class 4MATIC"
          ],
          [
           "Mercedes-Benz GLC 300 Base"
          ],
          [
           "Mercedes-Benz AMG GT Base"
          ],
          [
           "Mercedes-Benz AMG C 43 Base 4MATIC"
          ],
          [
           "Mercedes-Benz GLE 450 4MATIC"
          ],
          [
           "Mercedes-Benz C-Class C 300 4MATIC"
          ],
          [
           "Mercedes-Benz C-Class C 300 4MATIC"
          ],
          [
           "Mercedes-Benz EQB 300 Base 4MATIC"
          ],
          [
           "Mercedes-Benz GLA 250 Base 4MATIC"
          ],
          [
           "Mercedes-Benz GLE 350 Base 4MATIC"
          ],
          [
           "Mercedes-Benz AMG GT 63 S 4-Door"
          ],
          [
           "Mercedes-Benz AMG G 63 Base"
          ],
          [
           "Mercedes-Benz GLA 250 Base"
          ],
          [
           "Mercedes-Benz E-Class E 350"
          ],
          [
           "Mercedes-Benz C-Class C 300 4MATIC"
          ],
          [
           "Mercedes-Benz E-Class E 350 4MATIC"
          ],
          [
           "Mercedes-Benz GLE 350 Base 4MATIC"
          ],
          [
           "Mercedes-Benz CLA 250 Base"
          ],
          [
           "Mercedes-Benz C-Class C 300"
          ],
          [
           "Mercedes-Benz GLB 250 Base"
          ],
          [
           "Mercedes-Benz GLE 350 Base 4MATIC"
          ],
          [
           "Mercedes-Benz GLB 250 Base 4MATIC"
          ],
          [
           "Mercedes-Benz GLB 250 Base 4MATIC"
          ],
          [
           "Mercedes-Benz S-Class S 580 4MATIC"
          ],
          [
           "Mercedes-Benz GLA 250 Base"
          ],
          [
           "Mercedes-Benz AMG G 63 Base"
          ],
          [
           "Mercedes-Benz AMG GLC 43 Base 4MATIC"
          ],
          [
           "Mercedes-Benz GLC 300 4MATIC Coupe"
          ],
          [
           "Mercedes-Benz GLC 300 Base"
          ],
          [
           "Mercedes-Benz C-Class C 300 4MATIC"
          ],
          [
           "Mercedes-Benz A-Class A 220 4MATIC"
          ],
          [
           "Mercedes-Benz GLE 350 Base"
          ],
          [
           "Mercedes-Benz GLC 300 Base 4MATIC"
          ],
          [
           "Mercedes-Benz GLE 350 Base"
          ],
          [
           "Mercedes-Benz AMG GLC 43 Base 4MATIC"
          ],
          [
           "Mercedes-Benz E-Class E 450 4MATIC"
          ],
          [
           "Mercedes-Benz C-Class C 300"
          ],
          [
           "Mercedes-Benz GLE 350 Base 4MATIC"
          ],
          [
           "Mercedes-Benz GLC 300 Base"
          ],
          [
           "Mercedes-Benz GLA 250 Base"
          ],
          [
           "Mercedes-Benz GLA 250 "
          ],
          [
           "Mercedes-Benz GLB 250 Base"
          ],
          [
           "Mercedes-Benz C-Class C 300 4MATIC"
          ],
          [
           "Mercedes-Benz CLA 250 Base 4MATIC"
          ],
          [
           "Mercedes-Benz GLC 300 4MATIC Coupe"
          ],
          [
           "Mercedes-Benz C-Class C 300 4MATIC"
          ],
          [
           "Mercedes-Benz CLS 450 Base"
          ],
          [
           "Mercedes-Benz GLC 300 Base 4MATIC"
          ],
          [
           "Mercedes-Benz E-Class E 350"
          ],
          [
           "Mercedes-Benz GLC 300 Base"
          ],
          [
           "Mercedes-Benz CLA 250 Base 4MATIC"
          ],
          [
           "Mercedes-Benz C-Class C 300"
          ],
          [
           "Mercedes-Benz AMG G 63 Base"
          ],
          [
           "Mercedes-Benz GLA 250 Base 4MATIC"
          ],
          [
           "Mercedes-Benz E-Class E 350"
          ],
          [
           "Mercedes-Benz C-Class C 300 4MATIC"
          ],
          [
           "Mercedes-Benz C-Class C 300 4MATIC"
          ],
          [
           "Mercedes-Benz S-Class S 500 4MATIC"
          ],
          [
           "Mercedes-Benz GLE 450 Plug-In Hybrid Base 4MATIC"
          ],
          [
           "Mercedes-Benz AMG GLA 45 Base"
          ],
          [
           "Mercedes-Benz A-Class A 220 4MATIC"
          ],
          [
           "Mercedes-Benz GLB 250 Base"
          ],
          [
           "Mercedes-Benz C-Class C 300"
          ],
          [
           "Mercedes-Benz GLE 350 Base 4MATIC"
          ],
          [
           "Mercedes-Benz GLA 250 Base"
          ],
          [
           "Mercedes-Benz E-Class E 350"
          ],
          [
           "Mercedes-Benz GLB 250 Base 4MATIC"
          ],
          [
           "Mercedes-Benz GLS 580 Base 4MATIC"
          ],
          [
           "Mercedes-Benz CLA 250 Base 4MATIC"
          ],
          [
           "Mercedes-Benz GLB 250 Base 4MATIC"
          ],
          [
           "Mercedes-Benz AMG GLS 63 Base 4MATIC"
          ],
          [
           "Mercedes-Benz GLA 250 Base 4MATIC"
          ],
          [
           "Mercedes-Benz GLS 450 Base 4MATIC"
          ],
          [
           "Mercedes-Benz E-Class E 350 4MATIC"
          ],
          [
           "Mercedes-Benz AMG GLE 63 S"
          ],
          [
           "Mercedes-Benz C-Class C 300 4MATIC"
          ],
          [
           "Mercedes-Benz GLC 300 4MATIC Coupe"
          ],
          [
           "Mercedes-Benz GLB 250 Base"
          ],
          [
           "Mercedes-Benz C-Class C 300"
          ],
          [
           "Mercedes-Benz GLE 350 Base 4MATIC"
          ],
          [
           "Mercedes-Benz AMG G 63 Base"
          ],
          [
           "Mercedes-Benz GLE 580 AWD 4MATIC"
          ],
          [
           "Mercedes-Benz GLE 350 Base 4MATIC"
          ],
          [
           "Mercedes-Benz C-Class C 300 4MATIC"
          ],
          [
           "Mercedes-Benz E-Class E 350 4MATIC"
          ],
          [
           "Mercedes-Benz GLE 350 Base 4MATIC"
          ],
          [
           "Mercedes-Benz GLE 350 Base"
          ],
          [
           "Mercedes-Benz GLB 250 Base"
          ],
          [
           "Mercedes-Benz E-Class E 350 4MATIC"
          ],
          [
           "Mercedes-Benz C-Class C 300 4MATIC"
          ],
          [
           "Mercedes-Benz GLE 350 Base"
          ],
          [
           "Mercedes-Benz GLC 300 Base 4MATIC"
          ],
          [
           "Mercedes-Benz GLC 300 Base 4MATIC"
          ],
          [
           "Mercedes-Benz GLC 300 "
          ],
          [
           "Mercedes-Benz S-Class S 580 4MATIC"
          ],
          [
           "Mercedes-Benz GLE 580 AWD 4MATIC"
          ],
          [
           "Mercedes-Benz GLE 350 Base"
          ],
          [
           "Mercedes-Benz GLC 300 "
          ],
          [
           "Mercedes-Benz G-Class G 550 4MATIC"
          ],
          [
           "Mercedes-Benz GLE 350 Base 4MATIC"
          ],
          [
           "Mercedes-Benz GLE 450 GLE 450"
          ],
          [
           "Mercedes-Benz GLE 350 Base 4MATIC"
          ],
          [
           "Mercedes-Benz AMG GLE 53 Base"
          ],
          [
           "Mercedes-Benz C-Class C 300 4MATIC"
          ],
          [
           "Mercedes-Benz GLE 450 4MATIC"
          ],
          [
           "Mercedes-Benz GLC 300 Base 4MATIC"
          ],
          [
           "Mercedes-Benz AMG G 63 4MATIC"
          ],
          [
           "Mercedes-Benz C-Class C 300 4MATIC"
          ],
          [
           "Mercedes-Benz AMG GLB 35 Base"
          ],
          [
           "Mercedes-Benz GLA 250 Base"
          ],
          [
           "Mercedes-Benz C-Class C 300"
          ],
          [
           "Mercedes-Benz GLC 300 Base 4MATIC"
          ],
          [
           "Mercedes-Benz EQB 250 Base"
          ],
          [
           "Mercedes-Benz AMG GLE 63 S-Model 4MATIC"
          ],
          [
           "Mercedes-Benz C-Class C 300 4MATIC"
          ],
          [
           "Mercedes-Benz E-Class E 300"
          ],
          [
           "Mercedes-Benz EQB 300 Base 4MATIC"
          ],
          [
           "Mercedes-Benz GLS 450 4MATIC"
          ],
          [
           "Mercedes-Benz GLE 350 Base"
          ],
          [
           "Mercedes-Benz AMG CLA 35 Base 4MATIC"
          ],
          [
           "Mercedes-Benz GLE 350 Base 4MATIC"
          ],
          [
           "Mercedes-Benz C-Class C 300"
          ],
          [
           "Mercedes-Benz GLB 250 "
          ],
          [
           "Mercedes-Benz C-Class C 300"
          ],
          [
           "Mercedes-Benz GLC 300 Base 4MATIC"
          ],
          [
           "Mercedes-Benz EQS 580 Base 4MATIC"
          ],
          [
           "Mercedes-Benz AMG G 63 Base"
          ],
          [
           "Mercedes-Benz AMG GLC 43 Base 4MATIC"
          ],
          [
           "Mercedes-Benz AMG C 63 S"
          ],
          [
           "Mercedes-Benz GLS 450 Base 4MATIC"
          ],
          [
           "Mercedes-Benz GLA 250 Base 4MATIC"
          ],
          [
           "Mercedes-Benz GLA 250 Base"
          ],
          [
           "Mercedes-Benz GLA 250 Base"
          ],
          [
           "Mercedes-Benz GLC 300 Base 4MATIC"
          ],
          [
           "Mercedes-Benz GLE 350 Base"
          ],
          [
           "Mercedes-Benz GLB 250 Base 4MATIC"
          ],
          [
           "Mercedes-Benz C-Class C 300 4MATIC"
          ],
          [
           "Mercedes-Benz CLA 250 Base"
          ],
          [
           "Mercedes-Benz GLC 300 Base 4MATIC"
          ],
          [
           "Mercedes-Benz AMG GLE 63 S-Model 4MATIC"
          ],
          [
           "Mercedes-Benz EQB 300 "
          ],
          [
           "Mercedes-Benz CLA 250 Base 4MATIC"
          ],
          [
           "Mercedes-Benz C-Class C 300 4MATIC"
          ],
          [
           "Mercedes-Benz GLE 350 Base 4MATIC"
          ],
          [
           "Mercedes-Benz CLA 250 Base 4MATIC"
          ],
          [
           "Mercedes-Benz GLE 350 Base 4MATIC"
          ],
          [
           "Mercedes-Benz GLS 450 4MATIC"
          ],
          [
           "Mercedes-Benz GLA 250 Base 4MATIC"
          ],
          [
           "Mercedes-Benz CLA 250 Base 4MATIC"
          ],
          [
           "Mercedes-Benz C-Class C 300 4MATIC"
          ],
          [
           "Mercedes-Benz A-Class A 220"
          ],
          [
           "Mercedes-Benz GLC 300 Base"
          ],
          [
           "Mercedes-Benz GLE 350 Base 4MATIC"
          ],
          [
           "Mercedes-Benz GLE 350 Base 4MATIC"
          ],
          [
           "Mercedes-Benz GLC 300 Base"
          ],
          [
           "Mercedes-Benz AMG GT 53 Base"
          ],
          [
           "Mercedes-Benz EQB 300 Base 4MATIC"
          ],
          [
           "Mercedes-Benz G-Class G 550 4MATIC"
          ],
          [
           "Mercedes-Benz E-Class E 450 4MATIC"
          ],
          [
           "Mercedes-Benz GLC 300 4MATIC Coupe"
          ],
          [
           "Mercedes-Benz GLA 250 Base 4MATIC"
          ],
          [
           "Mercedes-Benz AMG CLA 35 Base 4MATIC"
          ],
          [
           "Mercedes-Benz GLA 250 Base 4MATIC"
          ],
          [
           "Mercedes-Benz AMG GLA 35 "
          ],
          [
           "Mercedes-Benz GLE 350 Base 4MATIC"
          ],
          [
           "Mercedes-Benz GLS 450 4MATIC"
          ],
          [
           "Mercedes-Benz GLE 350 Base"
          ],
          [
           "Mercedes-Benz E-Class E 350 4MATIC"
          ],
          [
           "Mercedes-Benz S-Class S 580 4MATIC"
          ],
          [
           "Mercedes-Benz GLC 300 Base 4MATIC"
          ],
          [
           "Mercedes-Benz G-Class G 550 4MATIC"
          ],
          [
           "Mercedes-Benz C-Class C 300 4MATIC"
          ],
          [
           "Mercedes-Benz C-Class C 300"
          ],
          [
           "Mercedes-Benz GLS 580 Base 4MATIC"
          ],
          [
           "Mercedes-Benz GLA 250 Base"
          ],
          [
           "Mercedes-Benz CLA 250 Base 4MATIC"
          ],
          [
           "Mercedes-Benz GLB 250 Base"
          ],
          [
           "Mercedes-Benz E-Class E 450 4MATIC"
          ],
          [
           "Mercedes-Benz CLA 250 Base 4MATIC"
          ],
          [
           "Mercedes-Benz GLE 350 Base 4MATIC"
          ],
          [
           "Mercedes-Benz GLE 350 Base 4MATIC"
          ],
          [
           "Mercedes-Benz GLC 300 Base 4MATIC"
          ],
          [
           "Mercedes-Benz C-Class C 300 4MATIC"
          ],
          [
           "Mercedes-Benz EQB 300 Base 4MATIC"
          ],
          [
           "Mercedes-Benz CLA 250 Base"
          ],
          [
           "Mercedes-Benz GLS 450 "
          ],
          [
           "Mercedes-Benz CLA 250 Base 4MATIC"
          ],
          [
           "Mercedes-Benz E-Class E 350"
          ],
          [
           "Mercedes-Benz S-Class S 560"
          ],
          [
           "Mercedes-Benz EQE 350+ Base"
          ],
          [
           "Mercedes-Benz C-Class C 300"
          ],
          [
           "Mercedes-Benz GLB 250 "
          ],
          [
           "Mercedes-Benz GLE 350 Base"
          ],
          [
           "Mercedes-Benz GLE 350 Base 4MATIC"
          ],
          [
           "Mercedes-Benz GLS 450 4MATIC"
          ],
          [
           "Mercedes-Benz GLA 250 Base"
          ],
          [
           "Mercedes-Benz GLB 250 Base 4MATIC"
          ],
          [
           "Mercedes-Benz AMG G 63 4MATIC"
          ],
          [
           "Mercedes-Benz C-Class C 300"
          ],
          [
           "Mercedes-Benz GLE 350 Base 4MATIC"
          ],
          [
           "Mercedes-Benz GLS 450 4MATIC"
          ],
          [
           "Mercedes-Benz GLB 250 Base"
          ],
          [
           "Mercedes-Benz C-Class C 300"
          ],
          [
           "Mercedes-Benz GLS 450 4MATIC"
          ],
          [
           "Mercedes-Benz EQE 500 Base 4MATIC"
          ],
          [
           "Mercedes-Benz C-Class C 300 4MATIC"
          ],
          [
           "Mercedes-Benz GLA 250 Base"
          ],
          [
           "Mercedes-Benz GLB 250 Base 4MATIC"
          ],
          [
           "Mercedes-Benz GLB 250 Base 4MATIC"
          ],
          [
           "Mercedes-Benz AMG GLE 63 S"
          ],
          [
           "Mercedes-Benz GLE 580 AWD 4MATIC"
          ],
          [
           "Mercedes-Benz GLB 250 Base 4MATIC"
          ],
          [
           "Mercedes-Benz GLB 250 Base 4MATIC"
          ],
          [
           "Mercedes-Benz CLA 250 Base 4MATIC"
          ],
          [
           "Mercedes-Benz G-Class G 550 4MATIC"
          ],
          [
           "Mercedes-Benz S-Class Base"
          ],
          [
           "Mercedes-Benz GLC 300 4MATIC Coupe"
          ],
          [
           "Mercedes-Benz GLC 300 Base 4MATIC"
          ],
          [
           "Mercedes-Benz CLA 250 Base 4MATIC"
          ],
          [
           "Mercedes-Benz CLA 250 Base 4MATIC"
          ],
          [
           "Mercedes-Benz GLA 250 Base"
          ],
          [
           "Mercedes-Benz AMG G 63 4MATIC"
          ],
          [
           "Mercedes-Benz AMG GLC 43 4MATIC Coupe"
          ],
          [
           "Mercedes-Benz E-Class E 350 4MATIC"
          ],
          [
           "Mercedes-Benz GLA 250 Base 4MATIC"
          ],
          [
           "Mercedes-Benz E-Class E 350 4MATIC"
          ],
          [
           "Mercedes-Benz GLC 300 Base 4MATIC"
          ],
          [
           "Mercedes-Benz GLA 250 Base"
          ],
          [
           "Mercedes-Benz GLC 300 Base 4MATIC"
          ],
          [
           "Mercedes-Benz GLE 350 Base 4MATIC"
          ],
          [
           "Mercedes-Benz GLB 250 "
          ],
          [
           "Mercedes-Benz GLA 250 Base"
          ],
          [
           "Mercedes-Benz GLC 300 Base"
          ],
          [
           "Mercedes-Benz GLE 350 Base 4MATIC"
          ],
          [
           "Mercedes-Benz E-Class E 350 4MATIC"
          ],
          [
           "Mercedes-Benz CLA 250 Base 4MATIC"
          ],
          [
           "Mercedes-Benz C-Class C 300"
          ],
          [
           "Mercedes-Benz AMG GLE 53 Base"
          ],
          [
           "Mercedes-Benz C-Class C 300 4MATIC"
          ],
          [
           "Mercedes-Benz GLE 350 Base 4MATIC"
          ],
          [
           "Mercedes-Benz GLE 350 Base 4MATIC"
          ],
          [
           "Mercedes-Benz GLA 250 Base 4MATIC"
          ],
          [
           "Mercedes-Benz Metris Base"
          ],
          [
           "Mercedes-Benz CLA 250 Base 4MATIC"
          ],
          [
           "Mercedes-Benz GLC 300 Base"
          ],
          [
           "Mercedes-Benz CLA 250 Base"
          ],
          [
           "Mercedes-Benz AMG GLE 53 AMG GLE 53"
          ],
          [
           "Mercedes-Benz GLA 250 Base 4MATIC"
          ],
          [
           "Mercedes-Benz G-Class G 550 4MATIC"
          ],
          [
           "Mercedes-Benz GLB 250 Base 4MATIC"
          ],
          [
           "Mercedes-Benz AMG E 53 Base 4MATIC"
          ],
          [
           "Mercedes-Benz GLS 580 Base 4MATIC"
          ],
          [
           "Mercedes-Benz GLE 450 4MATIC"
          ],
          [
           "Mercedes-Benz GLC 300 "
          ],
          [
           "Mercedes-Benz GLC 300 Base 4MATIC"
          ],
          [
           "Mercedes-Benz C-Class C 300 4MATIC"
          ],
          [
           "Mercedes-Benz GLE 350 Base 4MATIC"
          ],
          [
           "Mercedes-Benz GLB 250 Base 4MATIC"
          ],
          [
           "Mercedes-Benz GLS 450 4MATIC"
          ],
          [
           "Mercedes-Benz AMG GT 53 Base"
          ],
          [
           "Mercedes-Benz GLB 250 Base"
          ],
          [
           "Mercedes-Benz C-Class C 300 4MATIC"
          ],
          [
           "Mercedes-Benz C-Class "
          ],
          [
           "Mercedes-Benz AMG GLE 53 4MATIC Coupe"
          ],
          [
           "Mercedes-Benz GLE 450 4MATIC"
          ],
          [
           "Mercedes-Benz GLA 250 Base 4MATIC"
          ],
          [
           "Mercedes-Benz Metris Base"
          ],
          [
           "Mercedes-Benz C-Class C 300"
          ],
          [
           "Mercedes-Benz CLA 250 Base 4MATIC"
          ],
          [
           "Mercedes-Benz GLB 250 Base"
          ],
          [
           "Mercedes-Benz E-Class E 450 4MATIC"
          ],
          [
           "Mercedes-Benz GLE 350 Base 4MATIC"
          ],
          [
           "Mercedes-Benz AMG G 63 4MATIC"
          ],
          [
           "Mercedes-Benz GLC 300 Base 4MATIC"
          ],
          [
           "Mercedes-Benz CLA 250 Base"
          ],
          [
           "Mercedes-Benz C-Class C 300 4MATIC"
          ],
          [
           "Mercedes-Benz AMG GLC 43 4MATIC"
          ],
          [
           "Mercedes-Benz GLE 350 Base 4MATIC"
          ],
          [
           "Mercedes-Benz E-Class E 350"
          ],
          [
           "Mercedes-Benz E-Class E 350"
          ],
          [
           "Mercedes-Benz GLC 300 Base 4MATIC"
          ],
          [
           "Mercedes-Benz GLB 250 Base 4MATIC"
          ],
          [
           "Mercedes-Benz GLE 350 Base 4MATIC"
          ],
          [
           "Mercedes-Benz GLS 450 "
          ],
          [
           "Mercedes-Benz GLB 250 Base"
          ],
          [
           "Mercedes-Benz GLE 350 Base 4MATIC"
          ],
          [
           "Mercedes-Benz AMG SL 55 Base"
          ],
          [
           "Mercedes-Benz CLS-Class CLS 550"
          ],
          [
           "Mercedes-Benz GLB 250 Base"
          ],
          [
           "Mercedes-Benz CLA 250 Base 4MATIC"
          ],
          [
           "Mercedes-Benz GLE 350 Base 4MATIC"
          ],
          [
           "Mercedes-Benz AMG SL 55 Base"
          ],
          [
           "Mercedes-Benz C-Class C 300"
          ],
          [
           "Mercedes-Benz GLE 350 Base 4MATIC"
          ],
          [
           "Mercedes-Benz GLB 250 Base"
          ],
          [
           "Mercedes-Benz GLS 450 4MATIC"
          ],
          [
           "Mercedes-Benz E-Class E 350 4MATIC"
          ],
          [
           "Mercedes-Benz GLE 350 Base"
          ],
          [
           "Mercedes-Benz GLE 350 Base 4MATIC"
          ],
          [
           "Mercedes-Benz GLC 300 Base"
          ],
          [
           "Mercedes-Benz GLA 250 Base"
          ],
          [
           "Mercedes-Benz GLB 250 Base 4MATIC"
          ],
          [
           "Mercedes-Benz GLA 250 Base 4MATIC"
          ],
          [
           "Mercedes-Benz GLA 250 Base 4MATIC"
          ],
          [
           "Mercedes-Benz AMG GLE 53 Base"
          ],
          [
           "Mercedes-Benz GLE 350 Base"
          ],
          [
           "Mercedes-Benz C-Class C 300"
          ],
          [
           "Mercedes-Benz CLA 250 Base 4MATIC"
          ],
          [
           "Mercedes-Benz GLB 250 Base 4MATIC"
          ],
          [
           "Mercedes-Benz E-Class E 350"
          ],
          [
           "Mercedes-Benz AMG G 63 "
          ],
          [
           "Mercedes-Benz GLA 250 Base 4MATIC"
          ],
          [
           "Mercedes-Benz GLB 250 Base"
          ],
          [
           "Mercedes-Benz AMG GT 43 Base"
          ],
          [
           "Mercedes-Benz GLE 350 Base 4MATIC"
          ],
          [
           "Mercedes-Benz GLE 350 Base 4MATIC"
          ],
          [
           "Mercedes-Benz GLA 250 Base 4MATIC"
          ],
          [
           "Mercedes-Benz GLB 250 Base 4MATIC"
          ],
          [
           "Mercedes-Benz C-Class C 300 4MATIC"
          ],
          [
           "Mercedes-Benz AMG G 63 "
          ],
          [
           "Mercedes-Benz C-Class C 300 4MATIC"
          ],
          [
           "Mercedes-Benz C-Class C 300 4MATIC"
          ],
          [
           "Mercedes-Benz GLB 250 Base"
          ],
          [
           "Mercedes-Benz AMG GLC 43 Base 4MATIC"
          ],
          [
           "Mercedes-Benz GLE 350 Base 4MATIC"
          ],
          [
           "Mercedes-Benz GLC 300 Base 4MATIC"
          ],
          [
           "Mercedes-Benz GLC 300 Base 4MATIC"
          ],
          [
           "Mercedes-Benz C-Class C 300"
          ],
          [
           "Mercedes-Benz EQS 450+ "
          ],
          [
           "Mercedes-Benz GLS 450 Base 4MATIC"
          ],
          [
           "Mercedes-Benz C-Class C 300 4MATIC"
          ],
          [
           "Mercedes-Benz C-Class C 300"
          ],
          [
           "Mercedes-Benz GLC 300 Base 4MATIC"
          ],
          [
           "Mercedes-Benz GLA 250 Base"
          ],
          [
           "Mercedes-Benz EQE 350+ Base"
          ],
          [
           "Mercedes-Benz GLE 450 "
          ],
          [
           "Mercedes-Benz G-Class G 550 4MATIC"
          ],
          [
           "Mercedes-Benz CLS 450 "
          ],
          [
           "Mercedes-Benz S-Class 4MATIC"
          ],
          [
           "Mercedes-Benz GLE 350 Base 4MATIC"
          ],
          [
           "Mercedes-Benz GLB 250 Base"
          ],
          [
           "Mercedes-Benz GLA 250 Base 4MATIC"
          ],
          [
           "Mercedes-Benz C-Class C 300 4MATIC"
          ],
          [
           "Mercedes-Benz GLC 300 Base 4MATIC"
          ],
          [
           "Mercedes-Benz C-Class C 300"
          ],
          [
           "Mercedes-Benz GLB 250 Base"
          ],
          [
           "Mercedes-Benz GLB 250 Base"
          ],
          [
           "Mercedes-Benz GLB 250 "
          ],
          [
           "Mercedes-Benz C-Class "
          ],
          [
           "Mercedes-Benz CLA 250 Base"
          ],
          [
           "Mercedes-Benz AMG GLA 45 Base"
          ],
          [
           "Mercedes-Benz GLC 300 Base"
          ],
          [
           "Mercedes-Benz GLC 300 Base 4MATIC"
          ],
          [
           "Mercedes-Benz GLE 350 Base"
          ],
          [
           "Mercedes-Benz GLE 350 Base 4MATIC"
          ],
          [
           "Mercedes-Benz EQB 350 Base 4MATIC"
          ],
          [
           "Mercedes-Benz GLC 300 Base"
          ],
          [
           "Mercedes-Benz GLB 250 Base"
          ],
          [
           "Mercedes-Benz GLE 350 Base 4MATIC"
          ],
          [
           "Mercedes-Benz GLE 350 Base 4MATIC"
          ],
          [
           "Mercedes-Benz GLS 450 4MATIC"
          ],
          [
           "Mercedes-Benz GLS 450 4MATIC"
          ],
          [
           "Mercedes-Benz GLB 250 Base"
          ],
          [
           "Mercedes-Benz C-Class C 300 4MATIC"
          ],
          [
           "Mercedes-Benz C-Class C 300 4MATIC"
          ],
          [
           "Mercedes-Benz GLA 250 Base"
          ],
          [
           "Mercedes-Benz E-Class E 350"
          ],
          [
           "Mercedes-Benz G-Class G 550 4MATIC"
          ],
          [
           "Mercedes-Benz AMG SL 63 Base"
          ],
          [
           "Mercedes-Benz C-Class C 300 4MATIC"
          ],
          [
           "Mercedes-Benz E-Class E 400"
          ],
          [
           "Mercedes-Benz C-Class Sedan"
          ],
          [
           "Mercedes-Benz GLE 350 Base 4MATIC"
          ],
          [
           "Mercedes-Benz CLS 450 Base"
          ],
          [
           "Mercedes-Benz GLB 250 Base 4MATIC"
          ],
          [
           "Mercedes-Benz E-Class E 350 4MATIC"
          ],
          [
           "Mercedes-Benz GLA 250 Base 4MATIC"
          ],
          [
           "Mercedes-Benz E-Class E 350 4MATIC"
          ],
          [
           "Mercedes-Benz GLE 350 Base 4MATIC"
          ],
          [
           "Mercedes-Benz GLA 250 Base 4MATIC"
          ],
          [
           "Mercedes-Benz E-Class E 300"
          ],
          [
           "Mercedes-Benz GLB 250 Base 4MATIC"
          ],
          [
           "Mercedes-Benz GLE 350 Base"
          ],
          [
           "Mercedes-Benz GLE 350 Base"
          ],
          [
           "Mercedes-Benz C-Class C 300"
          ],
          [
           "Mercedes-Benz GLB 250 Base"
          ],
          [
           "Mercedes-Benz CLA 250 Base"
          ],
          [
           "Mercedes-Benz AMG GLC 43 Base 4MATIC"
          ],
          [
           "Mercedes-Benz GLB 250 Base 4MATIC"
          ],
          [
           "Mercedes-Benz AMG CLA 35 Base 4MATIC"
          ],
          [
           "Mercedes-Benz E-Class E 450 4MATIC"
          ],
          [
           "Mercedes-Benz CLA 250 Base"
          ],
          [
           "Mercedes-Benz GLB 250 Base"
          ],
          [
           "Mercedes-Benz GLA 250 Base 4MATIC"
          ],
          [
           "Mercedes-Benz CLA 250 Base"
          ],
          [
           "Mercedes-Benz GLC 300 Base 4MATIC"
          ],
          [
           "Mercedes-Benz GLE 450 Plug-In Hybrid Base 4MATIC"
          ],
          [
           "Mercedes-Benz GLB 250 Base"
          ],
          [
           "Mercedes-Benz AMG GLC 43 4MATIC Coupe"
          ],
          [
           "Mercedes-Benz AMG C 43 Base 4MATIC"
          ],
          [
           "Mercedes-Benz C-Class C 300 4MATIC"
          ],
          [
           "Mercedes-Benz E-Class 4MATIC"
          ],
          [
           "Mercedes-Benz GLC 300 Base 4MATIC"
          ],
          [
           "Mercedes-Benz GLC 300 Base 4MATIC"
          ],
          [
           "Mercedes-Benz C-Class 4MATIC"
          ],
          [
           "Mercedes-Benz C-Class C 300 4MATIC"
          ],
          [
           "Mercedes-Benz GLE 350 Base 4MATIC"
          ],
          [
           "Mercedes-Benz CLS 450 Base"
          ],
          [
           "Mercedes-Benz GLB 250 Base 4MATIC"
          ],
          [
           "Mercedes-Benz AMG GLE 63 S"
          ],
          [
           "Mercedes-Benz GLE 450 GLE 450"
          ],
          [
           "Mercedes-Benz C-Class C 300"
          ],
          [
           "Mercedes-Benz C-Class C 300 4MATIC"
          ],
          [
           "Mercedes-Benz CLA 250 Base"
          ],
          [
           "Mercedes-Benz E-Class E 350"
          ],
          [
           "Mercedes-Benz GLE 350 Base 4MATIC"
          ],
          [
           "Mercedes-Benz AMG GT 63 S 4-Door"
          ],
          [
           "Mercedes-Benz EQB 250 Base"
          ],
          [
           "Mercedes-Benz AMG GT 43 Base"
          ],
          [
           "Mercedes-Benz GLS 450 4MATIC"
          ],
          [
           "Mercedes-Benz GLA 250 Base 4MATIC"
          ],
          [
           "Mercedes-Benz GLE 450 4MATIC"
          ],
          [
           "Mercedes-Benz GLC 300 "
          ],
          [
           "Mercedes-Benz GLS 450 4MATIC"
          ],
          [
           "Mercedes-Benz AMG GLE 63 S Coupe 4MATIC"
          ],
          [
           "Mercedes-Benz C-Class C 300"
          ],
          [
           "Mercedes-Benz GLB 250 Base"
          ],
          [
           "Mercedes-Benz E-Class E 300 Sport"
          ],
          [
           "Mercedes-Benz AMG GLA 45 Base"
          ],
          [
           "Mercedes-Benz C-Class C 300 4MATIC"
          ],
          [
           "Mercedes-Benz AMG GLE 43 4MATIC Coupe"
          ],
          [
           "Mercedes-Benz CLA 250 Base 4MATIC"
          ],
          [
           "Mercedes-Benz GLE 350 Base 4MATIC"
          ],
          [
           "Mercedes-Benz C-Class C 300"
          ],
          [
           "Mercedes-Benz GLA 250 Base 4MATIC"
          ],
          [
           "Mercedes-Benz GLE 350 Base 4MATIC"
          ],
          [
           "Mercedes-Benz GLB 250 Base"
          ],
          [
           "Mercedes-Benz AMG GT 43 Base"
          ],
          [
           "Mercedes-Benz AMG GLC 43 4MATIC Coupe"
          ],
          [
           "Mercedes-Benz GLE 350 Base"
          ],
          [
           "Mercedes-Benz E-Class E 450 4MATIC"
          ],
          [
           "Mercedes-Benz CLA 250 Base 4MATIC"
          ],
          [
           "Mercedes-Benz GLA 250 Base"
          ],
          [
           "Mercedes-Benz CLA 250 Base"
          ],
          [
           "Mercedes-Benz E-Class E 350 4MATIC"
          ],
          [
           "Mercedes-Benz GLS 450 4MATIC"
          ],
          [
           "Mercedes-Benz AMG GLE 63 S-model"
          ],
          [
           "Mercedes-Benz C-Class C 300"
          ],
          [
           "Mercedes-Benz E-Class E 450 4MATIC"
          ],
          [
           "Mercedes-Benz CLA 250 Base 4MATIC"
          ],
          [
           "Mercedes-Benz GLE 350 Base 4MATIC"
          ],
          [
           "Mercedes-Benz GLA 250 Base"
          ],
          [
           "Mercedes-Benz CLA 250 Base"
          ],
          [
           "Mercedes-Benz GLB 250 Base 4MATIC"
          ],
          [
           "Mercedes-Benz E-Class E 350 4MATIC"
          ],
          [
           "Mercedes-Benz GLA 250 Base"
          ],
          [
           "Mercedes-Benz GLA 250 Base"
          ],
          [
           "Mercedes-Benz GLB 250 Base 4MATIC"
          ],
          [
           "Mercedes-Benz S-Class 4MATIC"
          ],
          [
           "Mercedes-Benz CLA 250 Base 4MATIC"
          ],
          [
           "Mercedes-Benz GLC 300 Base"
          ],
          [
           "Mercedes-Benz E-Class E 350"
          ],
          [
           "Mercedes-Benz E-Class E 350"
          ],
          [
           "Mercedes-Benz CLS 450 Base 4MATIC"
          ],
          [
           "Mercedes-Benz GLB 250 Base"
          ],
          [
           "Mercedes-Benz C-Class C 300"
          ],
          [
           "Mercedes-Benz C-Class C 300 4MATIC"
          ],
          [
           "Mercedes-Benz AMG G 63 Base"
          ],
          [
           "Mercedes-Benz GLB 250 Base 4MATIC"
          ],
          [
           "Mercedes-Benz C-Class C 300"
          ],
          [
           "Mercedes-Benz CLA 250 Base 4MATIC"
          ],
          [
           "Mercedes-Benz A-Class A 220 4MATIC"
          ],
          [
           "Mercedes-Benz C-Class C 300"
          ],
          [
           "Mercedes-Benz GLE 350 Base 4MATIC"
          ],
          [
           "Mercedes-Benz C-Class C 300 4MATIC"
          ],
          [
           "Mercedes-Benz C-Class C 300 4MATIC"
          ],
          [
           "Mercedes-Benz E-Class E 350"
          ],
          [
           "Mercedes-Benz CLA 250 Base 4MATIC"
          ],
          [
           "Mercedes-Benz GLE 350 Base 4MATIC"
          ],
          [
           "Mercedes-Benz E-Class E 63 AMG 4MATIC"
          ],
          [
           "Mercedes-Benz GLA 250 Base"
          ],
          [
           "Mercedes-Benz CLA 250 Base"
          ],
          [
           "Mercedes-Benz E-Class E 350 4MATIC"
          ],
          [
           "Mercedes-Benz CLA 250 CLA 250"
          ],
          [
           "Mercedes-Benz GLS 450 4MATIC"
          ],
          [
           "Mercedes-Benz E-Class E 350"
          ],
          [
           "Mercedes-Benz GLB 250 Base 4MATIC"
          ],
          [
           "Mercedes-Benz GLA 250 Base"
          ],
          [
           "Mercedes-Benz S-Class S 550"
          ],
          [
           "Mercedes-Benz C-Class C 300 4MATIC"
          ],
          [
           "Mercedes-Benz AMG GT 43 Base"
          ],
          [
           "Mercedes-Benz AMG G 63 4MATIC"
          ],
          [
           "Mercedes-Benz E-Class E 450"
          ],
          [
           "Mercedes-Benz E-Class E 450 4MATIC"
          ],
          [
           "Mercedes-Benz GLS 450 4MATIC"
          ],
          [
           "Mercedes-Benz EQB 300 Base 4MATIC"
          ],
          [
           "Mercedes-Benz E-Class E 350"
          ],
          [
           "Mercedes-Benz C-Class C 300 4MATIC"
          ],
          [
           "Mercedes-Benz C-Class C 300 4MATIC"
          ],
          [
           "Mercedes-Benz AMG GLS 63 Base 4MATIC"
          ],
          [
           "Mercedes-Benz GLC 300 "
          ],
          [
           "Mercedes-Benz GLC 300 Base"
          ],
          [
           "Mercedes-Benz C-Class C 300 4MATIC"
          ],
          [
           "Mercedes-Benz E-Class E 350"
          ],
          [
           "Mercedes-Benz GLC 300 4MATIC Coupe"
          ],
          [
           "Mercedes-Benz AMG GLE 53 Base"
          ],
          [
           "Mercedes-Benz AMG C 43 Base 4MATIC"
          ],
          [
           "Mercedes-Benz E-Class E 350"
          ],
          [
           "Mercedes-Benz AMG C 43 AMG C 43 4MATIC"
          ],
          [
           "Mercedes-Benz GLB 250 Base"
          ],
          [
           "Mercedes-Benz GLC 300 Base 4MATIC"
          ],
          [
           "Mercedes-Benz GLB 250 Base"
          ],
          [
           "Mercedes-Benz GLE 350 Base 4MATIC"
          ],
          [
           "Mercedes-Benz GLA 250 Base 4MATIC"
          ],
          [
           "Mercedes-Benz GLC 300 Base 4MATIC"
          ],
          [
           "Mercedes-Benz E-Class E 300 Luxury"
          ],
          [
           "Mercedes-Benz EQE 350+ 350+ Sedan"
          ],
          [
           "Mercedes-Benz GLE 350 Base 4MATIC"
          ],
          [
           "Mercedes-Benz GLC 300 Base 4MATIC"
          ],
          [
           "Mercedes-Benz E-Class E 350"
          ],
          [
           "Mercedes-Benz AMG GLE 53 Base"
          ],
          [
           "Mercedes-Benz GLA 250 Base"
          ],
          [
           "Mercedes-Benz GLE 350 Base"
          ],
          [
           "Mercedes-Benz GLE 350 Base"
          ],
          [
           "Mercedes-Benz GLA 250 Base 4MATIC"
          ],
          [
           "Mercedes-Benz CLA 250 Base 4MATIC"
          ],
          [
           "Mercedes-Benz GLE 350 Base 4MATIC"
          ],
          [
           "Mercedes-Benz E-Class E 350"
          ],
          [
           "Mercedes-Benz C-Class "
          ],
          [
           "Mercedes-Benz GLS 580 Base 4MATIC"
          ],
          [
           "Mercedes-Benz E-Class E 350 4MATIC"
          ],
          [
           "Mercedes-Benz GLA 250 Base 4MATIC"
          ],
          [
           "Mercedes-Benz GLC 300 Base 4MATIC"
          ],
          [
           "Mercedes-Benz AMG GLC 43 Base 4MATIC"
          ],
          [
           "Mercedes-Benz GLE 350 Base"
          ],
          [
           "Mercedes-Benz CLA 250 Base 4MATIC"
          ],
          [
           "Mercedes-Benz E-Class E 350"
          ],
          [
           "Mercedes-Benz GLA 250 Base"
          ],
          [
           "Mercedes-Benz C-Class C 300"
          ],
          [
           "Mercedes-Benz GLE 350 Base 4MATIC"
          ],
          [
           "Mercedes-Benz GLA 250 Base"
          ],
          [
           "Mercedes-Benz E-Class E 450"
          ],
          [
           "Mercedes-Benz E-Class E 350 4MATIC"
          ],
          [
           "Mercedes-Benz CLA 250 Base 4MATIC"
          ],
          [
           "Mercedes-Benz EQE 350+ Base"
          ],
          [
           "Mercedes-Benz GLE 350 Base 4MATIC"
          ],
          [
           "Mercedes-Benz GLB 250 Base 4MATIC"
          ],
          [
           "Mercedes-Benz E-Class E 350"
          ],
          [
           "Mercedes-Benz CLA 250 Base 4MATIC"
          ],
          [
           "Mercedes-Benz AMG A 35 "
          ],
          [
           "Mercedes-Benz GLE 350 Base"
          ],
          [
           "Mercedes-Benz C-Class C 300 4MATIC"
          ],
          [
           "Mercedes-Benz GLB 250 Base"
          ],
          [
           "Mercedes-Benz GLB 250 Base"
          ],
          [
           "Mercedes-Benz E-Class E 450"
          ],
          [
           "Mercedes-Benz CLA 250 Base 4MATIC"
          ],
          [
           "Mercedes-Benz C-Class C 300"
          ],
          [
           "Mercedes-Benz GLA 250 Base"
          ],
          [
           "Mercedes-Benz C-Class C 300 4MATIC"
          ],
          [
           "Mercedes-Benz GLE 350 "
          ],
          [
           "Mercedes-Benz GLE 350 Base"
          ],
          [
           "Mercedes-Benz GLE 350 "
          ],
          [
           "Mercedes-Benz GLE 350 "
          ],
          [
           "Mercedes-Benz GLS 450 4MATIC"
          ],
          [
           "Mercedes-Benz C-Class C 300 4MATIC"
          ],
          [
           "Mercedes-Benz GLE 450 4MATIC"
          ],
          [
           "Mercedes-Benz CLA 250 Base 4MATIC"
          ],
          [
           "Mercedes-Benz GLB 250 Base 4MATIC"
          ],
          [
           "Mercedes-Benz E-Class E 350"
          ],
          [
           "Mercedes-Benz E-Class E 450"
          ],
          [
           "Mercedes-Benz C-Class C 300 4MATIC"
          ],
          [
           "Mercedes-Benz GLE 450 4MATIC"
          ],
          [
           "Mercedes-Benz GLB 250 Base"
          ],
          [
           "Mercedes-Benz GLC 300 Base 4MATIC"
          ],
          [
           "Mercedes-Benz AMG G 63 Base"
          ],
          [
           "Mercedes-Benz C-Class C 300 4MATIC"
          ],
          [
           "Mercedes-Benz GLC 300 Base"
          ],
          [
           "Mercedes-Benz GLE 350 Base 4MATIC"
          ],
          [
           "Mercedes-Benz GLB 250 Base 4MATIC"
          ],
          [
           "Mercedes-Benz C-Class C 300"
          ],
          [
           "Mercedes-Benz CLA 250 Base 4MATIC"
          ],
          [
           "Mercedes-Benz GLB 250 Base"
          ],
          [
           "Mercedes-Benz GLA 250 Base 4MATIC"
          ],
          [
           "Mercedes-Benz GLE 350 Base"
          ],
          [
           "Mercedes-Benz AMG G 63 Base"
          ],
          [
           "Mercedes-Benz E-Class E 350 4MATIC"
          ],
          [
           "Mercedes-Benz GLA 250 "
          ],
          [
           "Mercedes-Benz EQE 350 Base 4MATIC"
          ],
          [
           "Mercedes-Benz GLS 450 Base 4MATIC"
          ],
          [
           "Mercedes-Benz C-Class C 300"
          ],
          [
           "Mercedes-Benz GLB 250 Base"
          ],
          [
           "Mercedes-Benz GLB 250 Base"
          ],
          [
           "Mercedes-Benz GLB 250 Base 4MATIC"
          ],
          [
           "Mercedes-Benz S-Class S 450"
          ],
          [
           "Mercedes-Benz A-Class A 220"
          ],
          [
           "Mercedes-Benz A-Class A 220"
          ],
          [
           "Mercedes-Benz E-Class E 450"
          ],
          [
           "Mercedes-Benz S-Class S 580 4MATIC"
          ],
          [
           "Mercedes-Benz GLA 250 Base 4MATIC"
          ],
          [
           "Mercedes-Benz E-Class E 350 Sedan"
          ],
          [
           "Mercedes-Benz GLS 450 4MATIC"
          ],
          [
           "Mercedes-Benz GLE 350 Base"
          ],
          [
           "Mercedes-Benz GLC 300 Base 4MATIC"
          ],
          [
           "Mercedes-Benz GLA 250 "
          ],
          [
           "Mercedes-Benz GLE 350 Base"
          ],
          [
           "Mercedes-Benz C-Class C 300 4MATIC"
          ],
          [
           "Mercedes-Benz GLC 350e Base 4MATIC"
          ],
          [
           "Mercedes-Benz GLA 250 Base 4MATIC"
          ],
          [
           "Mercedes-Benz CLA 250 Base"
          ],
          [
           "Mercedes-Benz EQB 350 Base 4MATIC"
          ],
          [
           "Mercedes-Benz A-Class A 220 4MATIC"
          ],
          [
           "Mercedes-Benz GLE 350 Base 4MATIC"
          ],
          [
           "Mercedes-Benz C-Class C 300 4MATIC"
          ],
          [
           "Mercedes-Benz EQS 450+ Base"
          ],
          [
           "Mercedes-Benz GLE 350 Base 4MATIC"
          ],
          [
           "Mercedes-Benz GLE 350 Base"
          ],
          [
           "Mercedes-Benz GLE 350 Base 4MATIC"
          ],
          [
           "Mercedes-Benz C-Class C 300"
          ],
          [
           "Mercedes-Benz AMG GLE 63 S"
          ],
          [
           "Mercedes-Benz S-Class S 500"
          ],
          [
           "Mercedes-Benz GLB 250 Base 4MATIC"
          ],
          [
           "Mercedes-Benz GLE 350 Base 4MATIC"
          ],
          [
           "Mercedes-Benz GLC 300 Base 4MATIC"
          ],
          [
           "Mercedes-Benz E-Class E 350 4MATIC"
          ],
          [
           "Mercedes-Benz A-Class A 220 4MATIC"
          ],
          [
           "Mercedes-Benz GLC 300 Base"
          ],
          [
           "Mercedes-Benz GLC 300 Base"
          ],
          [
           "Mercedes-Benz C-Class C 300 4MATIC"
          ],
          [
           "Mercedes-Benz CLA 250 Base 4MATIC"
          ],
          [
           "Mercedes-Benz CLA 250 Base"
          ],
          [
           "Mercedes-Benz GLC 300 Base"
          ],
          [
           "Mercedes-Benz AMG GLS 63 Base 4MATIC"
          ],
          [
           "Mercedes-Benz GLB 250 Base"
          ],
          [
           "Mercedes-Benz EQS 450 Base 4MATIC"
          ],
          [
           "Mercedes-Benz GLC 350e Base 4MATIC"
          ],
          [
           "Mercedes-Benz GLC 300 Base 4MATIC"
          ],
          [
           "Mercedes-Benz GLS 450 4MATIC"
          ],
          [
           "Mercedes-Benz GLC 300 Base 4MATIC"
          ],
          [
           "Mercedes-Benz C-Class 4MATIC Sedan"
          ],
          [
           "Mercedes-Benz GLA 250 Base"
          ],
          [
           "Mercedes-Benz C-Class 4MATIC"
          ],
          [
           "Mercedes-Benz CLS 450 Base"
          ],
          [
           "Mercedes-Benz C-Class C 300"
          ],
          [
           "Mercedes-Benz GLB 250 Base"
          ],
          [
           "Mercedes-Benz GLB 250 Base"
          ],
          [
           "Mercedes-Benz AMG C 43 Base 4MATIC"
          ],
          [
           "Mercedes-Benz E-Class E 350"
          ],
          [
           "Mercedes-Benz AMG GLC 43 Base 4MATIC"
          ],
          [
           "Mercedes-Benz GLC 300 Base 4MATIC"
          ],
          [
           "Mercedes-Benz GLC 300 Base"
          ],
          [
           "Mercedes-Benz CLS 450 Base 4MATIC"
          ],
          [
           "Mercedes-Benz A-Class A 220 4MATIC"
          ],
          [
           "Mercedes-Benz GLB 250 Base 4MATIC"
          ],
          [
           "Mercedes-Benz C-Class C 300 4MATIC"
          ],
          [
           "Mercedes-Benz GLC 300 Base"
          ],
          [
           "Mercedes-Benz EQS 580 Base 4MATIC"
          ],
          [
           "Mercedes-Benz EQB 300 "
          ],
          [
           "Mercedes-Benz C-Class C 300"
          ],
          [
           "Mercedes-Benz AMG C 43 Base 4MATIC"
          ],
          [
           "Mercedes-Benz AMG GLE 63 S"
          ],
          [
           "Mercedes-Benz GLE 450 Plug-In Hybrid Base 4MATIC"
          ],
          [
           "Mercedes-Benz AMG GT 43 Base"
          ],
          [
           "Mercedes-Benz E-Class E 450 4MATIC"
          ],
          [
           "Mercedes-Benz AMG GLE 53 Base"
          ],
          [
           "Mercedes-Benz GLB 250 Base 4MATIC"
          ],
          [
           "Mercedes-Benz GLA 250 Base 4MATIC"
          ],
          [
           "Mercedes-Benz GLC 300 Base"
          ],
          [
           "Mercedes-Benz GLE 450 4MATIC"
          ],
          [
           "Mercedes-Benz CLA 250 Base 4MATIC"
          ],
          [
           "Mercedes-Benz GLC 300 Base 4MATIC"
          ],
          [
           "Mercedes-Benz AMG G 63 4MATIC"
          ],
          [
           "Mercedes-Benz GLB 250 Base"
          ],
          [
           "Mercedes-Benz GLS 450 4MATIC"
          ],
          [
           "Mercedes-Benz E-Class E 350"
          ],
          [
           "Mercedes-Benz EQS 450+ Base"
          ],
          [
           "Mercedes-Benz GLE 350 Base 4MATIC"
          ],
          [
           "Mercedes-Benz GLE 350 Base 4MATIC"
          ],
          [
           "Mercedes-Benz CLA 250 Base 4MATIC"
          ],
          [
           "Mercedes-Benz AMG G 63 Base"
          ],
          [
           "Mercedes-Benz GLB 250 Base"
          ],
          [
           "Mercedes-Benz GLS 450 4MATIC"
          ],
          [
           "Mercedes-Benz GLB 250 Base"
          ],
          [
           "Mercedes-Benz GLE 350 Base 4MATIC"
          ],
          [
           "Mercedes-Benz CLA 250 Base 4MATIC"
          ],
          [
           "Mercedes-Benz CLA 250 Base 4MATIC"
          ],
          [
           "Mercedes-Benz GLB 250 Base"
          ],
          [
           "Mercedes-Benz GLB 250 Base 4MATIC"
          ],
          [
           "Mercedes-Benz CLA 250 Base"
          ],
          [
           "Mercedes-Benz S-Class 4MATIC"
          ],
          [
           "Mercedes-Benz C-Class C 300 4MATIC"
          ],
          [
           "Mercedes-Benz GLE 450 4MATIC"
          ],
          [
           "Mercedes-Benz GLS 580 Base 4MATIC"
          ],
          [
           "Mercedes-Benz AMG GT 53 Base"
          ],
          [
           "Mercedes-Benz CLA 250 Base 4MATIC"
          ],
          [
           "Mercedes-Benz AMG GLE 63 "
          ],
          [
           "Mercedes-Benz GLC 300 Base 4MATIC"
          ],
          [
           "Mercedes-Benz S-Class S 580 4MATIC"
          ],
          [
           "Mercedes-Benz GLB 250 Base 4MATIC"
          ],
          [
           "Mercedes-Benz E-Class E 350 4MATIC"
          ],
          [
           "Mercedes-Benz GLB 250 Base"
          ],
          [
           "Mercedes-Benz GLA 250 Base 4MATIC"
          ],
          [
           "Mercedes-Benz A-Class 4MATIC"
          ],
          [
           "Mercedes-Benz GLC 300 Base 4MATIC"
          ],
          [
           "Mercedes-Benz GLB 250 Base"
          ],
          [
           "Mercedes-Benz GLB 250 Base 4MATIC"
          ],
          [
           "Mercedes-Benz S-Class S 560 4MATIC"
          ],
          [
           "Mercedes-Benz GLC 300 Base 4MATIC"
          ],
          [
           "Mercedes-Benz AMG GLC 43 Base 4MATIC"
          ],
          [
           "Mercedes-Benz EQE 350+ Base"
          ],
          [
           "Mercedes-Benz S-Class S 500 4MATIC"
          ],
          [
           "Mercedes-Benz GLS 450 4MATIC"
          ],
          [
           "Mercedes-Benz E-Class E 300"
          ],
          [
           "Mercedes-Benz GLB 250 Base"
          ],
          [
           "Mercedes-Benz GLB 250 Base"
          ],
          [
           "Mercedes-Benz GLS 580 Base 4MATIC"
          ],
          [
           "Mercedes-Benz AMG C 43 Base 4MATIC"
          ],
          [
           "Mercedes-Benz C-Class C 300 4MATIC"
          ],
          [
           "Mercedes-Benz C-Class C 300"
          ],
          [
           "Mercedes-Benz C-Class 4MATIC Sedan"
          ],
          [
           "Mercedes-Benz GLE 350 Base"
          ],
          [
           "Mercedes-Benz GLC 300 Base"
          ],
          [
           "Mercedes-Benz GLS 450 4MATIC"
          ],
          [
           "Mercedes-Benz EQB 250 Base"
          ],
          [
           "Mercedes-Benz CLA 250 Base"
          ],
          [
           "Mercedes-Benz GLA 250 Base"
          ],
          [
           "Mercedes-Benz A-Class A 220"
          ],
          [
           "Mercedes-Benz GLB 250 Base 4MATIC"
          ],
          [
           "Mercedes-Benz GLB 250 Base 4MATIC"
          ],
          [
           "Mercedes-Benz AMG C 43 AMG C 43 4MATIC"
          ],
          [
           "Mercedes-Benz C-Class C 300 4MATIC"
          ],
          [
           "Mercedes-Benz GLC 300 4MATIC"
          ],
          [
           "Mercedes-Benz E-Class E 350"
          ],
          [
           "Mercedes-Benz C-Class C 300"
          ],
          [
           "Mercedes-Benz GLE 450 4MATIC"
          ],
          [
           "Mercedes-Benz GLA 250 Base 4MATIC"
          ],
          [
           "Mercedes-Benz CLA 250 Base 4MATIC"
          ],
          [
           "Mercedes-Benz CLA 250 Base"
          ],
          [
           "Mercedes-Benz C-Class C 300 4MATIC"
          ],
          [
           "Mercedes-Benz E-Class E 350"
          ],
          [
           "Mercedes-Benz C-Class C 300 4MATIC"
          ],
          [
           "Mercedes-Benz GLC 300 4MATIC Coupe"
          ],
          [
           "Mercedes-Benz GLC 300 Base"
          ],
          [
           "Mercedes-Benz AMG C 43 Base 4MATIC"
          ],
          [
           "Mercedes-Benz CLA 250 Base"
          ],
          [
           "Mercedes-Benz GLS 450 4MATIC"
          ],
          [
           "Mercedes-Benz GLB 250 Base"
          ],
          [
           "Mercedes-Benz AMG G 63 Base"
          ],
          [
           "Mercedes-Benz GLC 300 "
          ],
          [
           "Mercedes-Benz GLC 300 Base"
          ],
          [
           "Mercedes-Benz GLC 300 Base 4MATIC"
          ],
          [
           "Mercedes-Benz CLS 450 Base"
          ],
          [
           "Mercedes-Benz GLC 300 Base 4MATIC"
          ],
          [
           "Mercedes-Benz CLS 450 Base"
          ],
          [
           "Mercedes-Benz C-Class C 300 4MATIC"
          ],
          [
           "Mercedes-Benz GLA 250 Base"
          ],
          [
           "Mercedes-Benz GLB 250 Base 4MATIC"
          ],
          [
           "Mercedes-Benz GLA 250 Base"
          ],
          [
           "Mercedes-Benz GLA 250 Base 4MATIC"
          ],
          [
           "Mercedes-Benz E-Class E 300"
          ],
          [
           "Mercedes-Benz G-Class "
          ],
          [
           "Mercedes-Benz CLA 250 Base 4MATIC"
          ],
          [
           "Mercedes-Benz GLA 250 Base 4MATIC"
          ],
          [
           "Mercedes-Benz AMG GLE 63 S-Model 4MATIC"
          ],
          [
           "Mercedes-Benz C-Class C 300"
          ],
          [
           "Mercedes-Benz GLB 250 Base"
          ],
          [
           "Mercedes-Benz EQS 450+ Base"
          ],
          [
           "Mercedes-Benz E-Class E 450 4MATIC"
          ],
          [
           "Mercedes-Benz CLS 450 Base 4MATIC"
          ],
          [
           "Mercedes-Benz CLS 450 Base 4MATIC"
          ],
          [
           "Mercedes-Benz GLS 450 4MATIC"
          ],
          [
           "Mercedes-Benz CLS 450 Base 4MATIC"
          ],
          [
           "Mercedes-Benz C-Class C 300 4MATIC"
          ],
          [
           "Mercedes-Benz E-Class E 350 4MATIC"
          ],
          [
           "Mercedes-Benz GLC 300 Base"
          ],
          [
           "Mercedes-Benz GLC 300 Base 4MATIC"
          ],
          [
           "Mercedes-Benz AMG GT Base"
          ],
          [
           "Mercedes-Benz AMG GT C"
          ],
          [
           "Mercedes-Benz CLA 250 Base 4MATIC"
          ],
          [
           "Mercedes-Benz E-Class E 450 4MATIC"
          ],
          [
           "Mercedes-Benz GLB 250 Base 4MATIC"
          ],
          [
           "Mercedes-Benz S-Class S 500 4MATIC"
          ],
          [
           "Mercedes-Benz G-Class G 550 4MATIC"
          ],
          [
           "Mercedes-Benz CLA 250 Base 4MATIC"
          ],
          [
           "Mercedes-Benz A-Class A 220"
          ],
          [
           "Mercedes-Benz GLE 350 Base 4MATIC"
          ],
          [
           "Mercedes-Benz CLA 250 Base 4MATIC"
          ],
          [
           "Mercedes-Benz GLA 250 Base 4MATIC"
          ],
          [
           "Mercedes-Benz E-Class E 350 4MATIC"
          ],
          [
           "Mercedes-Benz GLC 300 "
          ],
          [
           "Mercedes-Benz GLE 350 Base 4MATIC"
          ],
          [
           "Mercedes-Benz GLC 300 Base"
          ],
          [
           "Mercedes-Benz GLC 300 4MATIC Coupe"
          ],
          [
           "Mercedes-Benz AMG GLE 53 4MATIC Coupe"
          ],
          [
           "Mercedes-Benz GLA 250 Base 4MATIC"
          ],
          [
           "Mercedes-Benz GLA 250 Base 4MATIC"
          ],
          [
           "Mercedes-Benz AMG G 63 4MATIC"
          ],
          [
           "Mercedes-Benz GLB 250 Base"
          ],
          [
           "Mercedes-Benz GLA 250 Base 4MATIC"
          ],
          [
           "Mercedes-Benz GLC 300 Base 4MATIC"
          ],
          [
           "Mercedes-Benz E-Class E 450 4MATIC"
          ],
          [
           "Mercedes-Benz GLC 300 Base 4MATIC"
          ],
          [
           "Mercedes-Benz GLC 300 Base 4MATIC"
          ],
          [
           "Mercedes-Benz E-Class E 450 4MATIC"
          ],
          [
           "Mercedes-Benz E-Class E 450 4MATIC"
          ],
          [
           "Mercedes-Benz GLB 250 Base 4MATIC"
          ],
          [
           "Mercedes-Benz GLE 350 Base"
          ],
          [
           "Mercedes-Benz GLC 300 4MATIC Coupe"
          ],
          [
           "Mercedes-Benz E-Class E 350"
          ],
          [
           "Mercedes-Benz GLE 350 "
          ],
          [
           "Mercedes-Benz GLC 300 Base 4MATIC"
          ],
          [
           "Mercedes-Benz GLA 250 Base"
          ],
          [
           "Mercedes-Benz GLA 250 Base"
          ],
          [
           "Mercedes-Benz GLE 450 "
          ],
          [
           "Mercedes-Benz AMG GLB 35 Base"
          ],
          [
           "Mercedes-Benz GLC 300 Base 4MATIC"
          ],
          [
           "Mercedes-Benz C-Class C 300 4MATIC"
          ],
          [
           "Mercedes-Benz GLE 350 Base 4MATIC"
          ],
          [
           "Mercedes-Benz AMG GLE 53 Base"
          ],
          [
           "Mercedes-Benz GLC 300 Base 4MATIC"
          ],
          [
           "Mercedes-Benz AMG GLE 53 Base"
          ],
          [
           "Mercedes-Benz GLB 250 Base 4MATIC"
          ],
          [
           "Mercedes-Benz C-Class C 300"
          ],
          [
           "Mercedes-Benz EQE 350 Base 4MATIC"
          ],
          [
           "Mercedes-Benz GLA 250 Base 4MATIC"
          ],
          [
           "Mercedes-Benz C-Class C 300"
          ],
          [
           "Mercedes-Benz C-Class C 300"
          ],
          [
           "Mercedes-Benz E-Class E 450 4MATIC"
          ],
          [
           "Mercedes-Benz EQS 580 4MATIC"
          ],
          [
           "Mercedes-Benz E-Class E 450 4MATIC"
          ],
          [
           "Mercedes-Benz GLC 300 Base 4MATIC"
          ],
          [
           "Mercedes-Benz S-Class S 560"
          ],
          [
           "Mercedes-Benz EQS 450 4MATIC"
          ],
          [
           "Mercedes-Benz C-Class C 300"
          ],
          [
           "Mercedes-Benz GLC 300 Base 4MATIC"
          ],
          [
           "Mercedes-Benz CLA 250 Base 4MATIC"
          ],
          [
           "Mercedes-Benz C-Class C 300"
          ],
          [
           "Mercedes-Benz EQB 350 Base 4MATIC"
          ],
          [
           "Mercedes-Benz GLE 350 Base 4MATIC"
          ],
          [
           "Mercedes-Benz E-Class E 450 4MATIC"
          ],
          [
           "Mercedes-Benz GLB 250 Base 4MATIC"
          ],
          [
           "Mercedes-Benz EQE 350 4MATIC"
          ],
          [
           "Mercedes-Benz GLA 250 Base 4MATIC"
          ],
          [
           "Mercedes-Benz GLA 250 Base 4MATIC"
          ],
          [
           "Mercedes-Benz GLC 300 Base"
          ],
          [
           "Mercedes-Benz E-Class E 350 4MATIC"
          ],
          [
           "Mercedes-Benz GLE 350 Base 4MATIC"
          ],
          [
           "Mercedes-Benz EQB 350 Base 4MATIC"
          ],
          [
           "Mercedes-Benz A-Class 4MATIC"
          ],
          [
           "Mercedes-Benz CLA 250 Base 4MATIC"
          ],
          [
           "Mercedes-Benz AMG G 63 "
          ],
          [
           "Mercedes-Benz GLE 350 "
          ],
          [
           "Mercedes-Benz GLA 250 Base 4MATIC"
          ],
          [
           "Mercedes-Benz CLA 250 Base 4MATIC"
          ],
          [
           "Mercedes-Benz EQB 350 Base 4MATIC"
          ],
          [
           "Mercedes-Benz GLA 250 Base 4MATIC"
          ],
          [
           "Mercedes-Benz GLC 300 Base"
          ],
          [
           "Mercedes-Benz GLE 350 Base 4MATIC"
          ],
          [
           "Mercedes-Benz EQB 300 Base 4MATIC"
          ],
          [
           "Mercedes-Benz E-Class E 350 4MATIC"
          ],
          [
           "Mercedes-Benz GLA 250 Base 4MATIC"
          ],
          [
           "Mercedes-Benz AMG GLA 45 Base"
          ],
          [
           "Mercedes-Benz E-Class E 350 4MATIC"
          ],
          [
           "Mercedes-Benz GLS 580 Base 4MATIC"
          ],
          [
           "Mercedes-Benz GLC 300 Base 4MATIC"
          ],
          [
           "Mercedes-Benz GLS 450 Base 4MATIC"
          ],
          [
           "Mercedes-Benz GLA 250 Base"
          ],
          [
           "Mercedes-Benz GLC 300 Base"
          ],
          [
           "Mercedes-Benz GLE 450 4MATIC"
          ],
          [
           "Mercedes-Benz AMG GLB 35 Base"
          ],
          [
           "Mercedes-Benz E-Class E 450"
          ],
          [
           "Mercedes-Benz GLB 250 Base 4MATIC"
          ],
          [
           "Mercedes-Benz S-Class S 580 4MATIC"
          ],
          [
           "Mercedes-Benz C-Class "
          ],
          [
           "Mercedes-Benz GLS 450 4MATIC"
          ],
          [
           "Mercedes-Benz GLS 580 "
          ],
          [
           "Mercedes-Benz GLB 250 Base"
          ],
          [
           "Mercedes-Benz C-Class 4MATIC Sedan"
          ],
          [
           "Mercedes-Benz GLA 250 Base 4MATIC"
          ],
          [
           "Mercedes-Benz GLC 300 Base 4MATIC"
          ],
          [
           "Mercedes-Benz GLE 350 Base"
          ],
          [
           "Mercedes-Benz E-Class E 350"
          ],
          [
           "Mercedes-Benz C-Class C 300 4MATIC"
          ],
          [
           "Mercedes-Benz EQB 300 Base 4MATIC"
          ],
          [
           "Mercedes-Benz CLS 450 Base"
          ],
          [
           "Mercedes-Benz GLE 350 Base"
          ],
          [
           "Mercedes-Benz C-Class C 300"
          ],
          [
           "Mercedes-Benz AMG GLC 63 Base 4MATIC"
          ],
          [
           "Mercedes-Benz GLE 450 Plug-In Hybrid Base 4MATIC"
          ],
          [
           "Mercedes-Benz E-Class E 350 4MATIC"
          ],
          [
           "Mercedes-Benz GLB 250 Base"
          ],
          [
           "Mercedes-Benz C-Class C 300"
          ],
          [
           "Mercedes-Benz CLA 250 Base"
          ],
          [
           "Mercedes-Benz C-Class C 300"
          ],
          [
           "Mercedes-Benz GLC 300 Base"
          ],
          [
           "Mercedes-Benz CLA 250 Base"
          ],
          [
           "Mercedes-Benz GLC 300 Base 4MATIC"
          ],
          [
           "Mercedes-Benz GLA 250 Base"
          ],
          [
           "Mercedes-Benz GLE 350 "
          ],
          [
           "Mercedes-Benz GLA 250 Base 4MATIC"
          ],
          [
           "Mercedes-Benz EQB 300 4MATIC"
          ],
          [
           "Mercedes-Benz S-Class S 560"
          ],
          [
           "Mercedes-Benz A-Class A 220 4MATIC"
          ],
          [
           "Mercedes-Benz E-Class E 350 4MATIC"
          ],
          [
           "Mercedes-Benz E-Class E 350 4MATIC"
          ],
          [
           "Mercedes-Benz GLA 250 Base"
          ],
          [
           "Mercedes-Benz S-Class 4MATIC"
          ],
          [
           "Mercedes-Benz S-Class S 560"
          ],
          [
           "Mercedes-Benz GLA 250 Base 4MATIC"
          ],
          [
           "Mercedes-Benz GLA 250 Base"
          ],
          [
           "Mercedes-Benz GLC 300 Base"
          ],
          [
           "Mercedes-Benz GLA 250 Base"
          ],
          [
           "Mercedes-Benz GLC 300 Base 4MATIC"
          ],
          [
           "Mercedes-Benz C-Class C 300 4MATIC"
          ],
          [
           "Mercedes-Benz GLA 250 Base"
          ],
          [
           "Mercedes-Benz EQS 450+ Base"
          ],
          [
           "Mercedes-Benz CLA 250 Base 4MATIC"
          ],
          [
           "Mercedes-Benz AMG CLA 35 4MATIC"
          ],
          [
           "Mercedes-Benz AMG G 63 4MATIC"
          ],
          [
           "Mercedes-Benz Sprinter 2500 144 WB Standard Roof Passenger"
          ],
          [
           "Mercedes-Benz AMG C 43 Base 4MATIC"
          ],
          [
           "Mercedes-Benz GLB 250 Base"
          ],
          [
           "Mercedes-Benz A-Class "
          ],
          [
           "Mercedes-Benz CLA 250 Base 4MATIC"
          ],
          [
           "Mercedes-Benz GLC 300 Base"
          ],
          [
           "Mercedes-Benz AMG EQE 4MATIC"
          ],
          [
           "Mercedes-Benz GLB 250 4MATIC"
          ],
          [
           "Mercedes-Benz C-Class C 300 4MATIC"
          ],
          [
           "Mercedes-Benz C-Class C 300"
          ],
          [
           "Mercedes-Benz GLB 250 Base"
          ],
          [
           "Mercedes-Benz GLE 350 Base"
          ],
          [
           "Mercedes-Benz GLC 300 Base 4MATIC"
          ],
          [
           "Mercedes-Benz EQE 350+ Base"
          ],
          [
           "Mercedes-Benz C-Class C 300"
          ],
          [
           "Mercedes-Benz C-Class C 300"
          ],
          [
           "Mercedes-Benz E-Class E 450 4MATIC"
          ],
          [
           "Mercedes-Benz GLB 250 Base 4MATIC"
          ],
          [
           "Mercedes-Benz C-Class C 300"
          ],
          [
           "Mercedes-Benz GLB 250 Base"
          ],
          [
           "Mercedes-Benz EQB 250 Base"
          ],
          [
           "Mercedes-Benz GLB 250 Base"
          ],
          [
           "Mercedes-Benz C-Class 4MATIC"
          ],
          [
           "Mercedes-Benz AMG GLC 43 Base 4MATIC"
          ],
          [
           "Mercedes-Benz CLA 250 Base"
          ],
          [
           "Mercedes-Benz E-Class E 450"
          ],
          [
           "Mercedes-Benz C-Class Sedan"
          ],
          [
           "Mercedes-Benz G-Class G 550 4MATIC"
          ],
          [
           "Mercedes-Benz GLB 250 Base"
          ],
          [
           "Mercedes-Benz C-Class C 300 4MATIC"
          ],
          [
           "Mercedes-Benz C-Class C 300"
          ],
          [
           "Mercedes-Benz AMG G 63 4MATIC"
          ],
          [
           "Mercedes-Benz GLE 450 4MATIC"
          ],
          [
           "Mercedes-Benz GLS 580 4MATIC"
          ],
          [
           "Mercedes-Benz GLE 350 Base 4MATIC"
          ],
          [
           "Mercedes-Benz GLE 350 Base 4MATIC"
          ],
          [
           "Mercedes-Benz AMG GT 53 C"
          ],
          [
           "Mercedes-Benz CLA 250 Base 4MATIC"
          ],
          [
           "Mercedes-Benz EQB 350 Base 4MATIC"
          ],
          [
           "Mercedes-Benz GLE 350 Base 4MATIC"
          ],
          [
           "Mercedes-Benz GLS 580 Base 4MATIC"
          ],
          [
           "Mercedes-Benz CLA 250 Base 4MATIC"
          ],
          [
           "Mercedes-Benz AMG GLE 53 Base"
          ],
          [
           "Mercedes-Benz GLE 450 4MATIC"
          ],
          [
           "Mercedes-Benz EQB 300 Base 4MATIC"
          ],
          [
           "Mercedes-Benz GLB 250 Base 4MATIC"
          ],
          [
           "Mercedes-Benz GLC 300 Base 4MATIC"
          ],
          [
           "Mercedes-Benz EQB 350 Base 4MATIC"
          ],
          [
           "Mercedes-Benz AMG GLB 35 "
          ],
          [
           "Mercedes-Benz GLB 250 Base"
          ],
          [
           "Mercedes-Benz CLA 250 Base"
          ],
          [
           "Mercedes-Benz E-Class E 350 4MATIC"
          ],
          [
           "Mercedes-Benz EQS 580 Base 4MATIC"
          ],
          [
           "Mercedes-Benz C-Class C 300"
          ],
          [
           "Mercedes-Benz S-Class S 580 4MATIC"
          ],
          [
           "Mercedes-Benz GLC 300 Base 4MATIC"
          ],
          [
           "Mercedes-Benz GLC 300 Base 4MATIC"
          ],
          [
           "Mercedes-Benz AMG GT 43 Base"
          ],
          [
           "Mercedes-Benz GLE 450 4MATIC"
          ],
          [
           "Mercedes-Benz AMG GT 53 Base"
          ],
          [
           "Mercedes-Benz E-Class E 450 4MATIC"
          ],
          [
           "Mercedes-Benz S-Class 4MATIC"
          ],
          [
           "Mercedes-Benz GLB 250 Base 4MATIC"
          ],
          [
           "Mercedes-Benz E-Class E 450 4MATIC"
          ],
          [
           "Mercedes-Benz GLA 250 Base"
          ]
         ],
         "hovertemplate": "Car Year=%{x}<br>Price (USD)=%{y}<br>Model=%{customdata[0]}<extra></extra>",
         "legendgroup": "",
         "marker": {
          "color": "#636efa",
          "symbol": "circle"
         },
         "mode": "markers",
         "name": "",
         "showlegend": false,
         "type": "scattergl",
         "x": {
          "bdata": "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",
          "dtype": "f8"
         },
         "xaxis": "x",
         "y": {
          "bdata": "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",
          "dtype": "f8"
         },
         "yaxis": "y"
        },
        {
         "hovertemplate": "<b>OLS trendline</b><br>Price = 4626.77 * Year + -9.29828e+06<br>R<sup>2</sup>=0.054883<br><br>Car Year=%{x}<br>Price (USD)=%{y} <b>(trend)</b><extra></extra>",
         "legendgroup": "",
         "marker": {
          "color": "#636efa",
          "symbol": "circle"
         },
         "mode": "lines",
         "name": "",
         "showlegend": false,
         "type": "scattergl",
         "x": {
          "bdata": "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",
          "dtype": "f8"
         },
         "xaxis": "x",
         "y": {
          "bdata": "ABCFsuCS00AAcIoxkhfYQABwijGSF9hAAHCKMZIX2EAA0I+wQ5zcQADQj7BDnNxAANCPsEOc3EAA0I+wQ5zcQADQj7BDnNxAANCPsEOc3EAA0I+wQ5zcQADQj7BDnNxAANCPsEOc3EAA0I+wQ5zcQADQj7BDnNxAANCPsEOc3EAA0I+wQ5zcQADQj7BDnNxAANCPsEOc3EAA0I+wQ5zcQADQj7BDnNxAAJnKl3qQ4EAAmcqXepDgQACZypd6kOBAAJnKl3qQ4EAAmcqXepDgQACZypd6kOBAAJnKl3qQ4EAAmcqXepDgQACZypd6kOBAAJnKl3qQ4EAAmcqXepDgQACZypd6kOBAAJnKl3qQ4EAAmcqXepDgQACZypd6kOBAAJnKl3qQ4EAASU1X09LiQABJTVfT0uJAAElNV9PS4kAASU1X09LiQABJTVfT0uJAAElNV9PS4kAASU1X09LiQABJTVfT0uJAAElNV9PS4kAASU1X09LiQABJTVfT0uJAAElNV9PS4kAASU1X09LiQABJTVfT0uJAAElNV9PS4kAASU1X09LiQABJTVfT0uJAAElNV9PS4kAASU1X09LiQABJTVfT0uJAAElNV9PS4kAASU1X09LiQABJTVfT0uJAAElNV9PS4kAASU1X09LiQABJTVfT0uJAAElNV9PS4kAASU1X09LiQABJTVfT0uJAAElNV9PS4kAASU1X09LiQABJTVfT0uJAAPrPFiwV5UAA+s8WLBXlQAD6zxYsFeVAAPrPFiwV5UAA+s8WLBXlQAD6zxYsFeVAAPrPFiwV5UAA+s8WLBXlQAD6zxYsFeVAAPrPFiwV5UAA+s8WLBXlQAD6zxYsFeVAAPrPFiwV5UAA+s8WLBXlQAD6zxYsFeVAAPrPFiwV5UAA+s8WLBXlQAD6zxYsFeVAAPrPFiwV5UAA+s8WLBXlQAD6zxYsFeVAAPrPFiwV5UAA+s8WLBXlQAD6zxYsFeVAAPrPFiwV5UAA+s8WLBXlQAD6zxYsFeVAAPrPFiwV5UAA+s8WLBXlQAD6zxYsFeVAAPrPFiwV5UAA+s8WLBXlQAD6zxYsFeVAAPrPFiwV5UAA+s8WLBXlQAD6zxYsFeVAAPrPFiwV5UAA+s8WLBXlQAD6zxYsFeVAAPrPFiwV5UAA+s8WLBXlQAD6zxYsFeVAAPrPFiwV5UAA+s8WLBXlQAD6zxYsFeVAAPrPFiwV5UAA+s8WLBXlQAD6zxYsFeVAAPrPFiwV5UAA+s8WLBXlQAD6zxYsFeVAAPrPFiwV5UAA+s8WLBXlQAD6zxYsFeVAAPrPFiwV5UAA+s8WLBXlQAD6zxYsFeVAAPrPFiwV5UAA+s8WLBXlQAD6zxYsFeVAAPrPFiwV5UAA+s8WLBXlQAD6zxYsFeVAAPrPFiwV5UAA+s8WLBXlQAD6zxYsFeVAAPrPFiwV5UAA+s8WLBXlQAD6zxYsFeVAAPrPFiwV5UAA+s8WLBXlQAD6zxYsFeVAAPrPFiwV5UAA+s8WLBXlQAD6zxYsFeVAAPrPFiwV5UAA+s8WLBXlQAD6zxYsFeVAAPrPFiwV5UAA+s8WLBXlQAD6zxYsFeVAAPrPFiwV5UAA+s8WLBXlQAD6zxYsFeVAAPrPFiwV5UAA+s8WLBXlQAD6zxYsFeVAAPrPFiwV5UAA+s8WLBXlQAD6zxYsFeVAAPrPFiwV5UAA+s8WLBXlQAD6zxYsFeVAAPrPFiwV5UAA+s8WLBXlQAD6zxYsFeVAAPrPFiwV5UAA+s8WLBXlQAD6zxYsFeVAAPrPFiwV5UAA+s8WLBXlQAD6zxYsFeVAAPrPFiwV5UAAqlLWhFfnQACqUtaEV+dAAKpS1oRX50AAqlLWhFfnQACqUtaEV+dAAKpS1oRX50AAqlLWhFfnQACqUtaEV+dAAKpS1oRX50AAqlLWhFfnQACqUtaEV+dAAKpS1oRX50AAqlLWhFfnQACqUtaEV+dAAKpS1oRX50AAqlLWhFfnQACqUtaEV+dAAKpS1oRX50AAqlLWhFfnQACqUtaEV+dAAKpS1oRX50AAqlLWhFfnQACqUtaEV+dAAKpS1oRX50AAqlLWhFfnQACqUtaEV+dAAKpS1oRX50AAqlLWhFfnQACqUtaEV+dAAKpS1oRX50AAqlLWhFfnQACqUtaEV+dAAKpS1oRX50AAqlLWhFfnQACqUtaEV+dAAKpS1oRX50AAqlLWhFfnQACqUtaEV+dAAKpS1oRX50AAqlLWhFfnQACqUtaEV+dAAKpS1oRX50AAqlLWhFfnQACqUtaEV+dAAKpS1oRX50AAqlLWhFfnQACqUtaEV+dAAKpS1oRX50AAqlLWhFfnQACqUtaEV+dAAKpS1oRX50AAqlLWhFfnQACqUtaEV+dAAKpS1oRX50AAqlLWhFfnQACqUtaEV+dAAKpS1oRX50AAqlLWhFfnQACqUtaEV+dAAKpS1oRX50AAqlLWhFfnQACqUtaEV+dAAKpS1oRX50AAqlLWhFfnQACqUtaEV+dAAKpS1oRX50AAqlLWhFfnQACqUtaEV+dAAKpS1oRX50AAqlLWhFfnQACqUtaEV+dAAKpS1oRX50AAqlLWhFfnQACqUtaEV+dAAKpS1oRX50AAqlLWhFfnQACqUtaEV+dAAKpS1oRX50AAqlLWhFfnQACqUtaEV+dAAKpS1oRX50AAqlLWhFfnQACqUtaEV+dAAKpS1oRX50AAqlLWhFfnQACqUtaEV+dAAKpS1oRX50AAqlLWhFfnQACqUtaEV+dAAKpS1oRX50AAqlLWhFfnQACqUtaEV+dAAKpS1oRX50AAqlLWhFfnQACqUtaEV+dAAKpS1oRX50AAqlLWhFfnQACqUtaEV+dAAKpS1oRX50AAqlLWhFfnQACqUtaEV+dAAKpS1oRX50AAqlLWhFfnQACqUtaEV+dAAKpS1oRX50AAqlLWhFfnQACqUtaEV+dAAKpS1oRX50AAqlLWhFfnQACqUtaEV+dAAKpS1oRX50AAqlLWhFfnQACqUtaEV+dAAKpS1oRX50AAqlLWhFfnQACqUtaEV+dAAKpS1oRX50AAqlLWhFfnQACqUtaEV+dAAKpS1oRX50AAqlLWhFfnQACqUtaEV+dAAKpS1oRX50AAqlLWhFfnQACqUtaEV+dAAKpS1oRX50AAqlLWhFfnQACqUtaEV+dAAKpS1oRX50AAqlLWhFfnQACqUtaEV+dAAKpS1oRX50AAqlLWhFfnQACqUtaEV+dAAKpS1oRX50AAqlLWhFfnQACqUtaEV+dAAKpS1oRX50AAqlLWhFfnQACqUtaEV+dAAKpS1oRX50AAqlLWhFfnQACqUtaEV+dAAKpS1oRX50AAqlLWhFfnQACqUtaEV+dAAKpS1oRX50AAqlLWhFfnQACqUtaEV+dAAKpS1oRX50AAqlLWhFfnQACqUtaEV+dAAKpS1oRX50AAqlLWhFfnQACqUtaEV+dAAKpS1oRX50AAqlLWhFfnQACqUtaEV+dAAKpS1oRX50AAqlLWhFfnQACqUtaEV+dAAKpS1oRX50AAqlLWhFfnQACqUtaEV+dAAKpS1oRX50AAqlLWhFfnQACqUtaEV+dAAKpS1oRX50AAqlLWhFfnQACqUtaEV+dAAKpS1oRX50AAqlLWhFfnQACqUtaEV+dAAKpS1oRX50AAqlLWhFfnQACqUtaEV+dAAKpS1oRX50AAqlLWhFfnQACqUtaEV+dAAKpS1oRX50AAqlLWhFfnQACqUtaEV+dAAKpS1oRX50AAqlLWhFfnQACqUtaEV+dAAKpS1oRX50AAqlLWhFfnQACqUtaEV+dAAKpS1oRX50AAqlLWhFfnQACqUtaEV+dAAKpS1oRX50AAqlLWhFfnQACqUtaEV+dAAKpS1oRX50AAqlLWhFfnQACqUtaEV+dAAKpS1oRX50AAqlLWhFfnQACqUtaEV+dAAKpS1oRX50AAqlLWhFfnQACqUtaEV+dAAKpS1oRX50AAqlLWhFfnQACqUtaEV+dAAKpS1oRX50AAqlLWhFfnQACqUtaEV+dAAKpS1oRX50AAqlLWhFfnQACqUtaEV+dAAKpS1oRX50AAqlLWhFfnQACqUtaEV+dAAKpS1oRX50AAqlLWhFfnQACqUtaEV+dAAKpS1oRX50AAqlLWhFfnQACqUtaEV+dAAKpS1oRX50AAqlLWhFfnQACqUtaEV+dAAKpS1oRX50AAqlLWhFfnQACqUtaEV+dAAKpS1oRX50AAqlLWhFfnQACqUtaEV+dAAKpS1oRX50AAqlLWhFfnQACqUtaEV+dAAKpS1oRX50AAqlLWhFfnQACqUtaEV+dAAKpS1oRX50AAqlLWhFfnQACqUtaEV+dAAKpS1oRX50AAqlLWhFfnQACqUtaEV+dAAKpS1oRX50AAqlLWhFfnQACqUtaEV+dAAKpS1oRX50AAqlLWhFfnQACqUtaEV+dAAKpS1oRX50AAqlLWhFfnQACqUtaEV+dAAKpS1oRX50AAqlLWhFfnQACqUtaEV+dAAKpS1oRX50AAqlLWhFfnQACqUtaEV+dAAKpS1oRX50AAqlLWhFfnQACqUtaEV+dAAKpS1oRX50AAqlLWhFfnQACqUtaEV+dAAKpS1oRX50AAqlLWhFfnQACqUtaEV+dAAKpS1oRX50AAqlLWhFfnQACqUtaEV+dAAKpS1oRX50AAqlLWhFfnQACqUtaEV+dAAKpS1oRX50AAqlLWhFfnQACqUtaEV+dAAKpS1oRX50AAqlLWhFfnQACqUtaEV+dAAKpS1oRX50AAqlLWhFfnQACqUtaEV+dAAKpS1oRX50AAqlLWhFfnQACqUtaEV+dAAKpS1oRX50AAqlLWhFfnQACqUtaEV+dAAKpS1oRX50AAqlLWhFfnQACqUtaEV+dAAKpS1oRX50AAqlLWhFfnQACqUtaEV+dAAKpS1oRX50AAqlLWhFfnQACqUtaEV+dAAKpS1oRX50AAqlLWhFfnQACqUtaEV+dAAKpS1oRX50AAqlLWhFfnQACqUtaEV+dAAKpS1oRX50AAqlLWhFfnQACqUtaEV+dAAKpS1oRX50AAqlLWhFfnQACqUtaEV+dAAKpS1oRX50AAqlLWhFfnQACqUtaEV+dAAKpS1oRX50AAqlLWhFfnQACqUtaEV+dAAKpS1oRX50AAqlLWhFfnQACqUtaEV+dAAKpS1oRX50AAqlLWhFfnQACqUtaEV+dAAKpS1oRX50AAqlLWhFfnQACqUtaEV+dAAKpS1oRX50AAqlLWhFfnQACqUtaEV+dAAKpS1oRX50AAqlLWhFfnQACqUtaEV+dAAKpS1oRX50AAqlLWhFfnQACqUtaEV+dAAKpS1oRX50AAqlLWhFfnQACqUtaEV+dAAKpS1oRX50AAqlLWhFfnQACqUtaEV+dAAKpS1oRX50AAqlLWhFfnQACqUtaEV+dAAKpS1oRX50AAqlLWhFfnQABb1ZXdmelAAFvVld2Z6UAAW9WV3ZnpQABb1ZXdmelAAFvVld2Z6UAAW9WV3ZnpQABb1ZXdmelAAFvVld2Z6UAAW9WV3ZnpQABb1ZXdmelAAFvVld2Z6UAAW9WV3ZnpQABb1ZXdmelAAFvVld2Z6UAAW9WV3ZnpQABb1ZXdmelAAFvVld2Z6UAAW9WV3ZnpQABb1ZXdmelAAFvVld2Z6UAAW9WV3ZnpQABb1ZXdmelAAFvVld2Z6UAAW9WV3ZnpQABb1ZXdmelAAFvVld2Z6UAAW9WV3ZnpQABb1ZXdmelAAFvVld2Z6UAAW9WV3ZnpQABb1ZXdmelAAFvVld2Z6UAAW9WV3ZnpQABb1ZXdmelAAFvVld2Z6UAAW9WV3ZnpQABb1ZXdmelAAFvVld2Z6UAAW9WV3ZnpQABb1ZXdmelAAFvVld2Z6UAAW9WV3ZnpQABb1ZXdmelAAFvVld2Z6UAAW9WV3ZnpQABb1ZXdmelAAFvVld2Z6UAAW9WV3ZnpQABb1ZXdmelAAFvVld2Z6UAAW9WV3ZnpQABb1ZXdmelAAFvVld2Z6UAAW9WV3ZnpQABb1ZXdmelAAFvVld2Z6UAAW9WV3ZnpQABb1ZXdmelAAFvVld2Z6UAAW9WV3ZnpQABb1ZXdmelAAFvVld2Z6UAAW9WV3ZnpQABb1ZXdmelAAFvVld2Z6UAAW9WV3ZnpQABb1ZXdmelAAFvVld2Z6UAAW9WV3ZnpQABb1ZXdmelAAFvVld2Z6UAAW9WV3ZnpQABb1ZXdmelAAFvVld2Z6UAAW9WV3ZnpQABb1ZXdmelAAFvVld2Z6UAAW9WV3ZnpQABb1ZXdmelAAFvVld2Z6UAAW9WV3ZnpQABb1ZXdmelAAFvVld2Z6UAAW9WV3ZnpQABb1ZXdmelAAFvVld2Z6UAAW9WV3ZnpQABb1ZXdmelAAFvVld2Z6UAAW9WV3ZnpQABb1ZXdmelAAFvVld2Z6UAAW9WV3ZnpQABb1ZXdmelAAFvVld2Z6UAAW9WV3ZnpQABb1ZXdmelAAFvVld2Z6UAAW9WV3ZnpQABb1ZXdmelAAFvVld2Z6UAAW9WV3ZnpQABb1ZXdmelAAFvVld2Z6UAAW9WV3ZnpQABb1ZXdmelAAFvVld2Z6UAAW9WV3ZnpQABb1ZXdmelAAFvVld2Z6UAAW9WV3ZnpQABb1ZXdmelAAFvVld2Z6UAAW9WV3ZnpQABb1ZXdmelAAFvVld2Z6UAAW9WV3ZnpQABb1ZXdmelAAFvVld2Z6UAAW9WV3ZnpQABb1ZXdmelAAFvVld2Z6UAAW9WV3ZnpQABb1ZXdmelAAFvVld2Z6UAAW9WV3ZnpQABb1ZXdmelAAFvVld2Z6UAAW9WV3ZnpQABb1ZXdmelAAFvVld2Z6UAAW9WV3ZnpQABb1ZXdmelAAFvVld2Z6UAAW9WV3ZnpQABb1ZXdmelAAFvVld2Z6UAAW9WV3ZnpQABb1ZXdmelAAFvVld2Z6UAAW9WV3ZnpQABb1ZXdmelAAFvVld2Z6UAAW9WV3ZnpQABb1ZXdmelAAFvVld2Z6UAAW9WV3ZnpQABb1ZXdmelAAFvVld2Z6UAAW9WV3ZnpQABb1ZXdmelAAFvVld2Z6UAAW9WV3ZnpQABb1ZXdmelAAFvVld2Z6UAAW9WV3ZnpQABb1ZXdmelAAFvVld2Z6UAAW9WV3ZnpQABb1ZXdmelAAFvVld2Z6UAAW9WV3ZnpQABb1ZXdmelAAFvVld2Z6UAAW9WV3ZnpQABb1ZXdmelAAFvVld2Z6UAAW9WV3ZnpQABb1ZXdmelAAFvVld2Z6UAAW9WV3ZnpQABb1ZXdmelAAFvVld2Z6UAAW9WV3ZnpQABb1ZXdmelAAFvVld2Z6UAAW9WV3ZnpQABb1ZXdmelAAFvVld2Z6UAAW9WV3ZnpQABb1ZXdmelAAFvVld2Z6UAAW9WV3ZnpQABb1ZXdmelAAFvVld2Z6UAAW9WV3ZnpQABb1ZXdmelAAFvVld2Z6UAAW9WV3ZnpQABb1ZXdmelAAFvVld2Z6UAAW9WV3ZnpQABb1ZXdmelAAFvVld2Z6UAAW9WV3ZnpQABb1ZXdmelAAFvVld2Z6UAAW9WV3ZnpQABb1ZXdmelAAFvVld2Z6UAAW9WV3ZnpQABb1ZXdmelAAFvVld2Z6UAAW9WV3ZnpQABb1ZXdmelAAFvVld2Z6UAAW9WV3ZnpQABb1ZXdmelAAFvVld2Z6UAAW9WV3ZnpQABb1ZXdmelAAFvVld2Z6UAAW9WV3ZnpQABb1ZXdmelAAFvVld2Z6UAAW9WV3ZnpQABb1ZXdmelAAFvVld2Z6UAAW9WV3ZnpQABb1ZXdmelAAFvVld2Z6UAAW9WV3ZnpQABb1ZXdmelAAFvVld2Z6UAAW9WV3ZnpQABb1ZXdmelAAFvVld2Z6UAAW9WV3ZnpQABb1ZXdmelAAFvVld2Z6UAAW9WV3ZnpQABb1ZXdmelAAFvVld2Z6UAAW9WV3ZnpQABb1ZXdmelAAFvVld2Z6UAAW9WV3ZnpQABb1ZXdmelAAFvVld2Z6UAAW9WV3ZnpQABb1ZXdmelAAFvVld2Z6UAAW9WV3ZnpQABb1ZXdmelAAFvVld2Z6UAAW9WV3ZnpQABb1ZXdmelAAFvVld2Z6UAAW9WV3ZnpQABb1ZXdmelAAFvVld2Z6UAAW9WV3ZnpQABb1ZXdmelAAFvVld2Z6UAAW9WV3ZnpQABb1ZXdmelAAFvVld2Z6UAAW9WV3ZnpQABb1ZXdmelAAFvVld2Z6UAAW9WV3ZnpQABb1ZXdmelAAFvVld2Z6UAAW9WV3ZnpQABb1ZXdmelAAFvVld2Z6UAAW9WV3ZnpQABb1ZXdmelAAFvVld2Z6UAAW9WV3ZnpQABb1ZXdmelAAFvVld2Z6UAAW9WV3ZnpQABb1ZXdmelAAFvVld2Z6UAAW9WV3ZnpQABb1ZXdmelAAFvVld2Z6UAAW9WV3ZnpQABb1ZXdmelAAFvVld2Z6UAAW9WV3ZnpQABb1ZXdmelAAFvVld2Z6UAAW9WV3ZnpQABb1ZXdmelAAFvVld2Z6UAAW9WV3ZnpQABb1ZXdmelAAFvVld2Z6UAAW9WV3ZnpQABb1ZXdmelAAFvVld2Z6UAAW9WV3ZnpQABb1ZXdmelAAFvVld2Z6UAAW9WV3ZnpQABb1ZXdmelAAFvVld2Z6UAAW9WV3ZnpQABb1ZXdmelAAFvVld2Z6UAAW9WV3ZnpQABb1ZXdmelAAFvVld2Z6UAAW9WV3ZnpQABb1ZXdmelAAFvVld2Z6UAAW9WV3ZnpQABb1ZXdmelAAFvVld2Z6UAAW9WV3ZnpQABb1ZXdmelAAFvVld2Z6UAAW9WV3ZnpQABb1ZXdmelAAFvVld2Z6UAAW9WV3ZnpQABb1ZXdmelAAFvVld2Z6UAAW9WV3ZnpQABb1ZXdmelAAFvVld2Z6UAAW9WV3ZnpQABb1ZXdmelAAFvVld2Z6UAAW9WV3ZnpQABb1ZXdmelAAFvVld2Z6UAAW9WV3ZnpQABb1ZXdmelAAFvVld2Z6UAAW9WV3ZnpQABb1ZXdmelAAFvVld2Z6UAAW9WV3ZnpQABb1ZXdmelAAFvVld2Z6UAAW9WV3ZnpQABb1ZXdmelAAFvVld2Z6UAAW9WV3ZnpQABb1ZXdmelAAFvVld2Z6UAAW9WV3ZnpQABb1ZXdmelAAFvVld2Z6UAAW9WV3ZnpQABb1ZXdmelAAFvVld2Z6UAAW9WV3ZnpQABb1ZXdmelAAFvVld2Z6UAAW9WV3ZnpQABb1ZXdmelAAFvVld2Z6UAAW9WV3ZnpQABb1ZXdmelAAFvVld2Z6UAAW9WV3ZnpQABb1ZXdmelAAFvVld2Z6UAAW9WV3ZnpQABb1ZXdmelAAFvVld2Z6UAAW9WV3ZnpQABb1ZXdmelAAFvVld2Z6UAAW9WV3ZnpQABb1ZXdmelAAFvVld2Z6UAAW9WV3ZnpQABb1ZXdmelAAFvVld2Z6UAAW9WV3ZnpQABb1ZXdmelAAFvVld2Z6UAAW9WV3ZnpQABb1ZXdmelAAFvVld2Z6UAAW9WV3ZnpQABb1ZXdmelAAFvVld2Z6UAAW9WV3ZnpQABb1ZXdmelAAFvVld2Z6UAAW9WV3ZnpQABb1ZXdmelAAFvVld2Z6UAAW9WV3ZnpQABb1ZXdmelAAFvVld2Z6UAAW9WV3ZnpQABb1ZXdmelAAFvVld2Z6UAAW9WV3ZnpQABb1ZXdmelAAFvVld2Z6UAAW9WV3ZnpQABb1ZXdmelAAFvVld2Z6UAAW9WV3ZnpQABb1ZXdmelAAFvVld2Z6UAAW9WV3ZnpQABb1ZXdmelAAFvVld2Z6UAAW9WV3ZnpQABb1ZXdmelAAFvVld2Z6UAAW9WV3ZnpQABb1ZXdmelAAFvVld2Z6UAAW9WV3ZnpQABb1ZXdmelAAFvVld2Z6UAAW9WV3ZnpQABb1ZXdmelAAFvVld2Z6UAAW9WV3ZnpQABb1ZXdmelAAFvVld2Z6UAAW9WV3ZnpQABb1ZXdmelAAFvVld2Z6UAAW9WV3ZnpQABb1ZXdmelAAFvVld2Z6UAAW9WV3ZnpQABb1ZXdmelAAFvVld2Z6UAAW9WV3ZnpQABb1ZXdmelAAFvVld2Z6UAAW9WV3ZnpQABb1ZXdmelAAFvVld2Z6UAAW9WV3ZnpQABb1ZXdmelAAFvVld2Z6UAAW9WV3ZnpQABb1ZXdmelAAFvVld2Z6UAAW9WV3ZnpQABb1ZXdmelAAFvVld2Z6UAAW9WV3ZnpQABb1ZXdmelAAFvVld2Z6UAAW9WV3ZnpQABb1ZXdmelAAFvVld2Z6UAAW9WV3ZnpQABb1ZXdmelAAFvVld2Z6UAAW9WV3ZnpQABb1ZXdmelAAFvVld2Z6UAAW9WV3ZnpQABb1ZXdmelAAFvVld2Z6UAAW9WV3ZnpQABb1ZXdmelAAFvVld2Z6UAAW9WV3ZnpQABb1ZXdmelAAFvVld2Z6UAAW9WV3ZnpQABb1ZXdmelAAFvVld2Z6UAAW9WV3ZnpQABb1ZXdmelAAFvVld2Z6UAAW9WV3ZnpQABb1ZXdmelAAFvVld2Z6UAAW9WV3ZnpQABb1ZXdmelAAFvVld2Z6UAAW9WV3ZnpQABb1ZXdmelAAFvVld2Z6UAAW9WV3ZnpQABb1ZXdmelAAFvVld2Z6UAAW9WV3ZnpQABb1ZXdmelAAFvVld2Z6UAAW9WV3ZnpQABb1ZXdmelAAFvVld2Z6UAAW9WV3ZnpQABb1ZXdmelAAFvVld2Z6UAAW9WV3ZnpQABb1ZXdmelAAFvVld2Z6UAAW9WV3ZnpQABb1ZXdmelAAFvVld2Z6UAAW9WV3ZnpQABb1ZXdmelAAFvVld2Z6UAAW9WV3ZnpQABb1ZXdmelAAFvVld2Z6UAAW9WV3ZnpQABb1ZXdmelAAFvVld2Z6UAAW9WV3ZnpQABb1ZXdmelAAFvVld2Z6UAAW9WV3ZnpQABb1ZXdmelAAFvVld2Z6UAAW9WV3ZnpQABb1ZXdmelAAFvVld2Z6UAAW9WV3ZnpQABb1ZXdmelAAFvVld2Z6UAAW9WV3ZnpQABb1ZXdmelAAFvVld2Z6UAAW9WV3ZnpQABb1ZXdmelAAFvVld2Z6UAAW9WV3ZnpQABb1ZXdmelAAFvVld2Z6UAAW9WV3ZnpQABb1ZXdmelAAFvVld2Z6UAAW9WV3ZnpQAALWFU23OtAAAtYVTbc60AAC1hVNtzrQAALWFU23OtAAAtYVTbc60AAC1hVNtzrQAALWFU23OtAAAtYVTbc60AAC1hVNtzrQAALWFU23OtAAAtYVTbc60AAC1hVNtzrQAALWFU23OtAAAtYVTbc60AAC1hVNtzrQAALWFU23OtAAAtYVTbc60AAC1hVNtzrQAALWFU23OtAAAtYVTbc60AAC1hVNtzrQAALWFU23OtAAAtYVTbc60AAC1hVNtzrQAALWFU23OtAAAtYVTbc60AAC1hVNtzrQAALWFU23OtAAAtYVTbc60AAC1hVNtzrQAALWFU23OtAAAtYVTbc60AAC1hVNtzrQAALWFU23OtAAAtYVTbc60AAC1hVNtzrQAALWFU23OtAAAtYVTbc60AAC1hVNtzrQAALWFU23OtAAAtYVTbc60AAC1hVNtzrQAALWFU23OtAAAtYVTbc60AAC1hVNtzrQAALWFU23OtAAAtYVTbc60AAC1hVNtzrQAALWFU23OtAAAtYVTbc60AAC1hVNtzrQAALWFU23OtAAAtYVTbc60AAC1hVNtzrQAALWFU23OtAAAtYVTbc60AAC1hVNtzrQAALWFU23OtAAAtYVTbc60AAC1hVNtzrQAALWFU23OtAAAtYVTbc60AAC1hVNtzrQAALWFU23OtAAAtYVTbc60AAC1hVNtzrQAALWFU23OtAAAtYVTbc60AAC1hVNtzrQAALWFU23OtAAAtYVTbc60AAC1hVNtzrQAALWFU23OtAAAtYVTbc60AAC1hVNtzrQAALWFU23OtAAAtYVTbc60AAC1hVNtzrQAALWFU23OtAAAtYVTbc60AAC1hVNtzrQAALWFU23OtAAAtYVTbc60AAC1hVNtzrQAALWFU23OtAAAtYVTbc60AAC1hVNtzrQAALWFU23OtAAAtYVTbc60AAC1hVNtzrQAALWFU23OtAAAtYVTbc60AAC1hVNtzrQAALWFU23OtAAAtYVTbc60AAC1hVNtzrQAALWFU23OtAAAtYVTbc60AAC1hVNtzrQAALWFU23OtAAAtYVTbc60AAC1hVNtzrQAALWFU23OtAAAtYVTbc60AAC1hVNtzrQAALWFU23OtAAAtYVTbc60AAC1hVNtzrQAALWFU23OtAAAtYVTbc60AAC1hVNtzrQAALWFU23OtAAAtYVTbc60AAC1hVNtzrQAALWFU23OtAAAtYVTbc60AAC1hVNtzrQAALWFU23OtAAAtYVTbc60AAC1hVNtzrQAALWFU23OtAAAtYVTbc60AAC1hVNtzrQAALWFU23OtAAAtYVTbc60AAC1hVNtzrQAALWFU23OtAAAtYVTbc60AAC1hVNtzrQAALWFU23OtAAAtYVTbc60AAC1hVNtzrQAALWFU23OtAAAtYVTbc60AAC1hVNtzrQAALWFU23OtAAAtYVTbc60AAC1hVNtzrQAALWFU23OtAAAtYVTbc60AAC1hVNtzrQAALWFU23OtAAAtYVTbc60AAC1hVNtzrQAALWFU23OtAAAtYVTbc60AAC1hVNtzrQAALWFU23OtAAAtYVTbc60AAC1hVNtzrQAALWFU23OtAAAtYVTbc60AAC1hVNtzrQAALWFU23OtAAAtYVTbc60AAC1hVNtzrQAALWFU23OtAAAtYVTbc60AAC1hVNtzrQAALWFU23OtAAAtYVTbc60AAC1hVNtzrQAALWFU23OtAAAtYVTbc60AAC1hVNtzrQAALWFU23OtAAAtYVTbc60AAC1hVNtzrQAALWFU23OtAAAtYVTbc60AAC1hVNtzrQAALWFU23OtAAAtYVTbc60AAC1hVNtzrQAALWFU23OtAAAtYVTbc60AAC1hVNtzrQAALWFU23OtAAAtYVTbc60AAC1hVNtzrQAALWFU23OtAAAtYVTbc60AAC1hVNtzrQAALWFU23OtAAAtYVTbc60AAC1hVNtzrQAALWFU23OtAAAtYVTbc60AAC1hVNtzrQAALWFU23OtAAAtYVTbc60AAC1hVNtzrQAALWFU23OtAAAtYVTbc60AAC1hVNtzrQAALWFU23OtAAAtYVTbc60AAC1hVNtzrQAALWFU23OtAAAtYVTbc60AAC1hVNtzrQAALWFU23OtAAAtYVTbc60AAC1hVNtzrQAALWFU23OtAAAtYVTbc60AAC1hVNtzrQAALWFU23OtAAAtYVTbc60AAC1hVNtzrQAALWFU23OtAAAtYVTbc60AAC1hVNtzrQAALWFU23OtAAAtYVTbc60AAC1hVNtzrQAALWFU23OtAAAtYVTbc60AAC1hVNtzrQAALWFU23OtAAAtYVTbc60AAC1hVNtzrQAALWFU23OtAAAtYVTbc60AAC1hVNtzrQAALWFU23OtAAAtYVTbc60AAC1hVNtzrQAALWFU23OtAAAtYVTbc60AAC1hVNtzrQAALWFU23OtAAAtYVTbc60AAC1hVNtzrQAALWFU23OtAAAtYVTbc60AAC1hVNtzrQAALWFU23OtAAAtYVTbc60AAC1hVNtzrQAALWFU23OtAAAtYVTbc60AAC1hVNtzrQAALWFU23OtAAAtYVTbc60AAC1hVNtzrQAALWFU23OtAAAtYVTbc60AAC1hVNtzrQAALWFU23OtAAAtYVTbc60AAC1hVNtzrQAALWFU23OtAAAtYVTbc60AAC1hVNtzrQAALWFU23OtAAAtYVTbc60AAC1hVNtzrQAALWFU23OtAAAtYVTbc60AAC1hVNtzrQAALWFU23OtAALzaFI8e7kAAvNoUjx7uQAC82hSPHu5AALzaFI8e7kAAvNoUjx7uQAC82hSPHu5AALzaFI8e7kAAvNoUjx7uQAC82hSPHu5AALzaFI8e7kAAvNoUjx7uQAC82hSPHu5AALzaFI8e7kAAvNoUjx7uQAC82hSPHu5AALzaFI8e7kAAvNoUjx7uQAC82hSPHu5AALzaFI8e7kAAvNoUjx7uQAC82hSPHu5AALzaFI8e7kAAvNoUjx7uQAC82hSPHu5AALzaFI8e7kAAvNoUjx7uQAC82hSPHu5AALzaFI8e7kAAvNoUjx7uQAC82hSPHu5AALzaFI8e7kAAvNoUjx7uQAC82hSPHu5AALzaFI8e7kAAvNoUjx7uQAC82hSPHu5AALzaFI8e7kAAvNoUjx7uQAC82hSPHu5AALzaFI8e7kAAvNoUjx7uQAC82hSPHu5AALzaFI8e7kAAvNoUjx7uQAC82hSPHu5AALzaFI8e7kAAvNoUjx7uQAC82hSPHu5AALzaFI8e7kAAvNoUjx7uQAC82hSPHu5AALzaFI8e7kAAvNoUjx7uQAC82hSPHu5AALzaFI8e7kAAvNoUjx7uQAC82hSPHu5AALzaFI8e7kAAvNoUjx7uQAC82hSPHu5AALzaFI8e7kAAvNoUjx7uQAC82hSPHu5AALzaFI8e7kAAvNoUjx7uQAC82hSPHu5AALzaFI8e7kAAvNoUjx7uQAC82hSPHu5AALzaFI8e7kAAvNoUjx7uQAC82hSPHu5AALzaFI8e7kAAvNoUjx7uQAC82hSPHu5AALzaFI8e7kAAvNoUjx7uQAC82hSPHu5AALzaFI8e7kAAvNoUjx7uQAC82hSPHu5AALzaFI8e7kAAvNoUjx7uQAC82hSPHu5AALzaFI8e7kAAvNoUjx7uQAC82hSPHu5AALzaFI8e7kAAvNoUjx7uQAC82hSPHu5AALzaFI8e7kAAvNoUjx7uQAC82hSPHu5AALzaFI8e7kAAvNoUjx7uQAC82hSPHu5AALzaFI8e7kAAvNoUjx7uQAC82hSPHu5AALzaFI8e7kAAvNoUjx7uQAC82hSPHu5AALzaFI8e7kAAvNoUjx7uQAC82hSPHu5AALzaFI8e7kAAvNoUjx7uQAC82hSPHu5AALzaFI8e7kAAvNoUjx7uQAC82hSPHu5AALzaFI8e7kAAvNoUjx7uQAC82hSPHu5AALzaFI8e7kAAvNoUjx7uQAC82hSPHu5AALzaFI8e7kAAvNoUjx7uQAC82hSPHu5AALzaFI8e7kAAvNoUjx7uQAC82hSPHu5AALzaFI8e7kAAvNoUjx7uQAC82hSPHu5AALzaFI8e7kAAvNoUjx7uQAC82hSPHu5AALzaFI8e7kAAvNoUjx7uQAC82hSPHu5AALzaFI8e7kAAvNoUjx7uQAC82hSPHu5AALzaFI8e7kAAvNoUjx7uQAC82hSPHu5AALzaFI8e7kAAvNoUjx7uQAC82hSPHu5AALzaFI8e7kAAvNoUjx7uQAC82hSPHu5AALzaFI8e7kAAvNoUjx7uQAC82hSPHu5AALzaFI8e7kAAvNoUjx7uQAC82hSPHu5AALzaFI8e7kAAvNoUjx7uQAC82hSPHu5AALzaFI8e7kAAvNoUjx7uQAC82hSPHu5AALzaFI8e7kAAvNoUjx7uQAC82hSPHu5AALzaFI8e7kAAvNoUjx7uQAC82hSPHu5AALzaFI8e7kAAvNoUjx7uQAC82hSPHu5AALzaFI8e7kAAvNoUjx7uQAC82hSPHu5AALzaFI8e7kAAvNoUjx7uQAC82hSPHu5AALzaFI8e7kAAvNoUjx7uQAC82hSPHu5AALzaFI8e7kAAvNoUjx7uQAC82hSPHu5AALzaFI8e7kAAvNoUjx7uQAC82hSPHu5AALzaFI8e7kAAvNoUjx7uQAC82hSPHu5AALzaFI8e7kAAvNoUjx7uQAC82hSPHu5AALzaFI8e7kAAvNoUjx7uQAC82hSPHu5AALzaFI8e7kAAvNoUjx7uQAC82hSPHu5AALzaFI8e7kAAvNoUjx7uQAC82hSPHu5AALzaFI8e7kAAvNoUjx7uQAC82hSPHu5AALzaFI8e7kAAvNoUjx7uQAC82hSPHu5AALzaFI8e7kAAvNoUjx7uQAC82hSPHu5AALzaFI8e7kAAvNoUjx7uQAC82hSPHu5AALzaFI8e7kAAvNoUjx7uQAC82hSPHu5AALzaFI8e7kAAvNoUjx7uQAC82hSPHu5AALzaFI8e7kAAvNoUjx7uQAC82hSPHu5AALzaFI8e7kAAvNoUjx7uQAC82hSPHu5AALzaFI8e7kAAvNoUjx7uQAC82hSPHu5AALzaFI8e7kAAvNoUjx7uQAC82hSPHu5AALzaFI8e7kAAvNoUjx7uQAC82hSPHu5AALzaFI8e7kAAvNoUjx7uQAC82hSPHu5AALzaFI8e7kAAvNoUjx7uQAC82hSPHu5AALzaFI8e7kAAvNoUjx7uQAC82hSPHu5AALzaFI8e7kAAvNoUjx7uQAC82hSPHu5AALzaFI8e7kAAvNoUjx7uQAC82hSPHu5AALzaFI8e7kAAvNoUjx7uQAC82hSPHu5AALzaFI8e7kAAvNoUjx7uQAC82hSPHu5AALzaFI8e7kAAvNoUjx7uQAC82hSPHu5AALzaFI8e7kAAvNoUjx7uQAC82hSPHu5AALzaFI8e7kAAvNoUjx7uQAC82hSPHu5AALzaFI8e7kAAvNoUjx7uQAC82hSPHu5AALzaFI8e7kAAvNoUjx7uQAC82hSPHu5AALzaFI8e7kAAvNoUjx7uQAC82hSPHu5AALzaFI8e7kAAvNoUjx7uQAC82hSPHu5AALzaFI8e7kAAvNoUjx7uQAC82hSPHu5AALzaFI8e7kAAvNoUjx7uQAC82hSPHu5AALzaFI8e7kAAvNoUjx7uQAC82hSPHu5AALzaFI8e7kAAvNoUjx7uQAC82hSPHu5AALzaFI8e7kAAvNoUjx7uQAC82hSPHu5AALzaFI8e7kAAvNoUjx7uQAC82hSPHu5AALzaFI8e7kAAvNoUjx7uQAC82hSPHu5AALzaFI8e7kAAvNoUjx7uQAC82hSPHu5AALzaFI8e7kAAvNoUjx7uQAC82hSPHu5AALzaFI8e7kAAvNoUjx7uQAC82hSPHu5AALzaFI8e7kAAvNoUjx7uQAC82hSPHu5AALzaFI8e7kAAvNoUjx7uQAC82hSPHu5AALzaFI8e7kAAvNoUjx7uQAC82hSPHu5AALzaFI8e7kAAvNoUjx7uQAC82hSPHu5AALzaFI8e7kAAvNoUjx7uQAC82hSPHu5AALzaFI8e7kAAvNoUjx7uQAC82hSPHu5AALzaFI8e7kAAvNoUjx7uQAC82hSPHu5AALzaFI8e7kAAvNoUjx7uQAC82hSPHu5AALzaFI8e7kAAvNoUjx7uQAC82hSPHu5AALzaFI8e7kAAvNoUjx7uQAC82hSPHu5AALzaFI8e7kAAvNoUjx7uQAC82hSPHu5AALzaFI8e7kAAvNoUjx7uQAC82hSPHu5AALzaFI8e7kAAvNoUjx7uQAC82hSPHu5AALzaFI8e7kAAvNoUjx7uQAC82hSPHu5AALzaFI8e7kAAvNoUjx7uQAC82hSPHu5AALzaFI8e7kAAvNoUjx7uQAC82hSPHu5AALzaFI8e7kAAvNoUjx7uQAC82hSPHu5AALzaFI8e7kAAvNoUjx7uQAC82hSPHu5AALzaFI8e7kAAvNoUjx7uQAC82hSPHu5AALzaFI8e7kAAvNoUjx7uQAC82hSPHu5AALzaFI8e7kAAvNoUjx7uQAC82hSPHu5AALzaFI8e7kAAvNoUjx7uQAC82hSPHu5AALzaFI8e7kAAvNoUjx7uQAC82hSPHu5AALzaFI8e7kAAvNoUjx7uQAC82hSPHu5AALzaFI8e7kAAvNoUjx7uQAC82hSPHu5AALzaFI8e7kAAvNoUjx7uQAC82hSPHu5AALzaFI8e7kAAvNoUjx7uQAC82hSPHu5AALzaFI8e7kAAvNoUjx7uQAC82hSPHu5AALzaFI8e7kAAvNoUjx7uQAC82hSPHu5AALzaFI8e7kAAvNoUjx7uQAC82hSPHu5AALzaFI8e7kAAvNoUjx7uQAC82hSPHu5AALzaFI8e7kAAvNoUjx7uQAC82hSPHu5AALzaFI8e7kAAvNoUjx7uQAC82hSPHu5AALzaFI8e7kAAvNoUjx7uQAC82hSPHu5AALzaFI8e7kAAvNoUjx7uQAC82hSPHu5AALzaFI8e7kAAvNoUjx7uQAC82hSPHu5AALzaFI8e7kAAvNoUjx7uQAC82hSPHu5AALzaFI8e7kAAvNoUjx7uQAC82hSPHu5AALzaFI8e7kAAvNoUjx7uQAC82hSPHu5AALzaFI8e7kAAvNoUjx7uQAC82hSPHu5AALzaFI8e7kAAvNoUjx7uQAC82hSPHu5AALzaFI8e7kAAvNoUjx7uQAC82hSPHu5AALzaFI8e7kAAvNoUjx7uQAC82hSPHu5AALzaFI8e7kAAvNoUjx7uQAC82hSPHu5AALzaFI8e7kAAvNoUjx7uQAC82hSPHu5AALzaFI8e7kAAvNoUjx7uQAC82hSPHu5AALzaFI8e7kAAvNoUjx7uQAC82hSPHu5AALzaFI8e7kAAvNoUjx7uQAC82hSPHu5AALzaFI8e7kAAvNoUjx7uQAC82hSPHu5AALzaFI8e7kAAvNoUjx7uQAC82hSPHu5AALzaFI8e7kAAvNoUjx7uQAC82hSPHu5AALzaFI8e7kAAvNoUjx7uQAC82hSPHu5AALzaFI8e7kAAvNoUjx7uQAC82hSPHu5AALzaFI8e7kAAvNoUjx7uQAC82hSPHu5AALzaFI8e7kAAvNoUjx7uQAC82hSPHu5AALzaFI8e7kAAvNoUjx7uQAC82hSPHu5AALzaFI8e7kAAvNoUjx7uQAC82hSPHu5AALzaFI8e7kAAvNoUjx7uQAC82hSPHu5AALzaFI8e7kAAvNoUjx7uQAC82hSPHu5AALzaFI8e7kAAvNoUjx7uQAC82hSPHu5AALzaFI8e7kAAvNoUjx7uQAC82hSPHu5AALzaFI8e7kAAvNoUjx7uQAC82hSPHu5AALzaFI8e7kAAvNoUjx7uQAC82hSPHu5AALzaFI8e7kAAvNoUjx7uQAC82hSPHu5AALzaFI8e7kAAvNoUjx7uQAC82hSPHu5AALzaFI8e7kAAvNoUjx7uQAC82hSPHu5AALzaFI8e7kAAvNoUjx7uQAC82hSPHu5AALzaFI8e7kAAvNoUjx7uQAC82hSPHu5AALzaFI8e7kAAvNoUjx7uQAC82hSPHu5AALzaFI8e7kAAvNoUjx7uQAC82hSPHu5AALzaFI8e7kAAvNoUjx7uQAC82hSPHu5AALzaFI8e7kAAvNoUjx7uQAC82hSPHu5AALzaFI8e7kAAvNoUjx7uQAC82hSPHu5AALzaFI8e7kAAvNoUjx7uQAC82hSPHu5AALzaFI8e7kAAvNoUjx7uQAC82hSPHu5AALzaFI8e7kAAvNoUjx7uQAC82hSPHu5AALzaFI8e7kAAvNoUjx7uQAC82hSPHu5AALzaFI8e7kAAvNoUjx7uQAC82hSPHu5AALzaFI8e7kAAvNoUjx7uQAC82hSPHu5AALzaFI8e7kAAvNoUjx7uQAC82hSPHu5AALzaFI8e7kAAvNoUjx7uQAC82hSPHu5AALzaFI8e7kAAvNoUjx7uQAC82hSPHu5AALzaFI8e7kAAvNoUjx7uQAC82hSPHu5AALzaFI8e7kAAvNoUjx7uQAC82hSPHu5AALzaFI8e7kAAvNoUjx7uQAC82hSPHu5AALzaFI8e7kAAvNoUjx7uQAC82hSPHu5AALzaFI8e7kAAvNoUjx7uQAC82hSPHu5AALzaFI8e7kAAvNoUjx7uQAC82hSPHu5AALzaFI8e7kAAvNoUjx7uQAC82hSPHu5AALzaFI8e7kAAvNoUjx7uQAC82hSPHu5AALzaFI8e7kAAvNoUjx7uQAC82hSPHu5AALzaFI8e7kAAvNoUjx7uQAC82hSPHu5AALzaFI8e7kAAvNoUjx7uQAC82hSPHu5AALzaFI8e7kAAvNoUjx7uQAC82hSPHu5AALzaFI8e7kAAvNoUjx7uQAC82hSPHu5AALzaFI8e7kAAvNoUjx7uQAC82hSPHu5AALzaFI8e7kAAvNoUjx7uQAC82hSPHu5AALzaFI8e7kAAvNoUjx7uQAC82hSPHu5AALzaFI8e7kAAvNoUjx7uQAC82hSPHu5AALzaFI8e7kAAvNoUjx7uQAC82hSPHu5AALzaFI8e7kAAvNoUjx7uQAC82hSPHu5AALzaFI8e7kAAvNoUjx7uQAC82hSPHu5AALzaFI8e7kAAvNoUjx7uQAC82hSPHu5AALzaFI8e7kAAvNoUjx7uQAC82hSPHu5AALzaFI8e7kAAvNoUjx7uQAC82hSPHu5AALzaFI8e7kAAvNoUjx7uQAC82hSPHu5AALzaFI8e7kAAvNoUjx7uQAC82hSPHu5AALzaFI8e7kAAvNoUjx7uQAC82hSPHu5AALzaFI8e7kAAvNoUjx7uQAC82hSPHu5AALzaFI8e7kAAvNoUjx7uQAC82hSPHu5AALzaFI8e7kAAvNoUjx7uQAC82hSPHu5AALzaFI8e7kAAvNoUjx7uQAC82hSPHu5AALzaFI8e7kAAvNoUjx7uQAC82hSPHu5AALzaFI8e7kAAvNoUjx7uQAC82hSPHu5AALzaFI8e7kAAvNoUjx7uQAC82hSPHu5AALzaFI8e7kAAvNoUjx7uQAC82hSPHu5AALzaFI8e7kAAvNoUjx7uQAC82hSPHu5AALzaFI8e7kAAvNoUjx7uQAC82hSPHu5AALzaFI8e7kAAvNoUjx7uQAC82hSPHu5AALzaFI8e7kAAvNoUjx7uQAC82hSPHu5AALzaFI8e7kAAvNoUjx7uQAC82hSPHu5AALzaFI8e7kAAvNoUjx7uQAC82hSPHu5AALzaFI8e7kAAvNoUjx7uQAC82hSPHu5AALzaFI8e7kAAvNoUjx7uQAC82hSPHu5AALzaFI8e7kAAvNoUjx7uQAC82hSPHu5AALzaFI8e7kAAvNoUjx7uQAC82hSPHu5AALzaFI8e7kAAvNoUjx7uQAC82hSPHu5AALzaFI8e7kAAvNoUjx7uQAC82hSPHu5AALzaFI8e7kAAvNoUjx7uQAC82hSPHu5AALzaFI8e7kAAvNoUjx7uQAC82hSPHu5AALzaFI8e7kAAvNoUjx7uQAC82hSPHu5AALzaFI8e7kAAvNoUjx7uQAC82hSPHu5AALzaFI8e7kAAvNoUjx7uQAC82hSPHu5AALzaFI8e7kAAvNoUjx7uQAC82hSPHu5AALzaFI8e7kAAvNoUjx7uQAC82hSPHu5AALzaFI8e7kAAvNoUjx7uQAC82hSPHu5AALzaFI8e7kAAvNoUjx7uQAC82hSPHu5AALzaFI8e7kAAvNoUjx7uQAC82hSPHu5AALzaFI8e7kAAvNoUjx7uQAC82hSPHu5AALzaFI8e7kAAvNoUjx7uQAC82hSPHu5AALzaFI8e7kAAvNoUjx7uQAC82hSPHu5AALzaFI8e7kAAvNoUjx7uQAC82hSPHu5AALzaFI8e7kAAvNoUjx7uQAC82hSPHu5AALzaFI8e7kAAvNoUjx7uQAC82hSPHu5AALzaFI8e7kAAvNoUjx7uQAC82hSPHu5AALzaFI8e7kAAvNoUjx7uQAC82hSPHu5AALzaFI8e7kAAvNoUjx7uQAC82hSPHu5AALzaFI8e7kAAvNoUjx7uQAC82hSPHu5AALzaFI8e7kAAvNoUjx7uQAC82hSPHu5AALzaFI8e7kAAvNoUjx7uQAC82hSPHu5AALzaFI8e7kAAvNoUjx7uQAC82hSPHu5AALzaFI8e7kAAvNoUjx7uQAC82hSPHu5AALzaFI8e7kAAvNoUjx7uQAC82hSPHu5AALzaFI8e7kAAvNoUjx7uQAC82hSPHu5AALzaFI8e7kAAvNoUjx7uQAC82hSPHu5AALzaFI8e7kAAvNoUjx7uQAC82hSPHu5AALzaFI8e7kAAvNoUjx7uQAC82hSPHu5AALzaFI8e7kAAvNoUjx7uQAC82hSPHu5AALzaFI8e7kAAvNoUjx7uQAC82hSPHu5AALzaFI8e7kAAvNoUjx7uQAC82hSPHu5AALzaFI8e7kAAvNoUjx7uQAC82hSPHu5AALzaFI8e7kAAvNoUjx7uQAC82hSPHu5AALzaFI8e7kAAvNoUjx7uQAC82hSPHu5AALzaFI8e7kAAvNoUjx7uQAC82hSPHu5AALzaFI8e7kAAvNoUjx7uQAC82hSPHu5AALzaFI8e7kAAvNoUjx7uQAC82hSPHu5AALzaFI8e7kAAvNoUjx7uQAC82hSPHu5AALzaFI8e7kAAvNoUjx7uQAC82hSPHu5AALzaFI8e7kAAvNoUjx7uQAC82hSPHu5AALzaFI8e7kAAvNoUjx7uQAC82hSPHu5AALzaFI8e7kAAvNoUjx7uQAC82hSPHu5AALzaFI8e7kAAvNoUjx7uQAC82hSPHu5AALzaFI8e7kAAvNoUjx7uQAC82hSPHu5AALzaFI8e7kAAvNoUjx7uQAC82hSPHu5AALzaFI8e7kAAvNoUjx7uQAC82hSPHu5AALzaFI8e7kAAvNoUjx7uQAC82hSPHu5AALzaFI8e7kAAvNoUjx7uQAC82hSPHu5AALzaFI8e7kAAvNoUjx7uQAC82hSPHu5AALzaFI8e7kAAvNoUjx7uQAC82hSPHu5AALzaFI8e7kAAvNoUjx7uQAC82hSPHu5AALzaFI8e7kAAvNoUjx7uQAC82hSPHu5AALzaFI8e7kAAvNoUjx7uQAC82hSPHu5AALzaFI8e7kAAvNoUjx7uQAC82hSPHu5AALzaFI8e7kAAvNoUjx7uQAC82hSPHu5AALzaFI8e7kAAvNoUjx7uQAC82hSPHu5AALzaFI8e7kAAvNoUjx7uQAC82hSPHu5AALzaFI8e7kAAvNoUjx7uQAC82hSPHu5AALzaFI8e7kAAvNoUjx7uQAC82hSPHu5AALzaFI8e7kAAvNoUjx7uQAC82hSPHu5AALzaFI8e7kAAvNoUjx7uQAC82hSPHu5AALzaFI8e7kAAvNoUjx7uQAC82hSPHu5AALzaFI8e7kAAvNoUjx7uQAC82hSPHu5AALzaFI8e7kAAvNoUjx7uQAC82hSPHu5AALzaFI8e7kAAvNoUjx7uQAC82hSPHu5AALzaFI8e7kAAvNoUjx7uQAC82hSPHu5AALzaFI8e7kAAvNoUjx7uQAC82hSPHu5AALzaFI8e7kAAvNoUjx7uQAC82hSPHu5AALzaFI8e7kAAvNoUjx7uQAC82hSPHu5AALzaFI8e7kAAvNoUjx7uQAC82hSPHu5AALzaFI8e7kAAvNoUjx7uQAC82hSPHu5AALzaFI8e7kAAvNoUjx7uQAC82hSPHu5AALzaFI8e7kAAvNoUjx7uQAC82hSPHu5AALzaFI8e7kAAvNoUjx7uQAC82hSPHu5AALzaFI8e7kAAvNoUjx7uQAC82hSPHu5AALzaFI8e7kAAvNoUjx7uQAC82hSPHu5AALzaFI8e7kAAvNoUjx7uQAC82hSPHu5AALzaFI8e7kAAvNoUjx7uQAC82hSPHu5AALzaFI8e7kAAvNoUjx7uQAC82hSPHu5AALYu6nMw8EAAti7qczDwQAC2LupzMPBAALYu6nMw8EAAti7qczDwQAC2LupzMPBAALYu6nMw8EAAti7qczDwQAC2LupzMPBAALYu6nMw8EAAti7qczDwQAC2LupzMPBAALYu6nMw8EAAti7qczDwQAC2LupzMPBAALYu6nMw8EAAti7qczDwQAC2LupzMPBAALYu6nMw8EAAti7qczDwQAC2LupzMPBAALYu6nMw8EAAti7qczDwQAC2LupzMPBAALYu6nMw8EAAti7qczDwQAC2LupzMPBAALYu6nMw8EAAti7qczDwQAC2LupzMPBAALYu6nMw8EAAti7qczDwQAC2LupzMPBAALYu6nMw8EAAti7qczDwQAC2LupzMPBAALYu6nMw8EAAti7qczDwQAC2LupzMPBAALYu6nMw8EAAti7qczDwQAC2LupzMPBAALYu6nMw8EAAti7qczDwQAC2LupzMPBAALYu6nMw8EAAti7qczDwQAC2LupzMPBAALYu6nMw8EAAti7qczDwQAC2LupzMPBAALYu6nMw8EAAti7qczDwQAC2LupzMPBAALYu6nMw8EAAti7qczDwQAC2LupzMPBAALYu6nMw8EAAti7qczDwQAC2LupzMPBAALYu6nMw8EAAti7qczDwQAC2LupzMPBAALYu6nMw8EAAti7qczDwQAC2LupzMPBAALYu6nMw8EAAti7qczDwQAC2LupzMPBAALYu6nMw8EAAti7qczDwQAC2LupzMPBAALYu6nMw8EAAti7qczDwQAC2LupzMPBAALYu6nMw8EAAti7qczDwQAC2LupzMPBAALYu6nMw8EAAti7qczDwQAC2LupzMPBAALYu6nMw8EAAti7qczDwQAC2LupzMPBAALYu6nMw8EAAti7qczDwQAC2LupzMPBAALYu6nMw8EAAti7qczDwQAC2LupzMPBAALYu6nMw8EAAti7qczDwQAC2LupzMPBAALYu6nMw8EAAti7qczDwQAC2LupzMPBAALYu6nMw8EAAti7qczDwQAC2LupzMPBAALYu6nMw8EAAti7qczDwQAC2LupzMPBAALYu6nMw8EAAti7qczDwQAC2LupzMPBAALYu6nMw8EAAti7qczDwQAC2LupzMPBAALYu6nMw8EAAti7qczDwQAC2LupzMPBAALYu6nMw8EAAti7qczDwQAC2LupzMPBAALYu6nMw8EAAti7qczDwQAC2LupzMPBAALYu6nMw8EAAti7qczDwQAC2LupzMPBAALYu6nMw8EAAti7qczDwQAC2LupzMPBAALYu6nMw8EAAti7qczDwQAC2LupzMPBAALYu6nMw8EAAti7qczDwQAC2LupzMPBAALYu6nMw8EAAti7qczDwQAC2LupzMPBAALYu6nMw8EAAti7qczDwQAC2LupzMPBAALYu6nMw8EAAti7qczDwQAC2LupzMPBAALYu6nMw8EAAti7qczDwQAC2LupzMPBAALYu6nMw8EAAti7qczDwQAC2LupzMPBAALYu6nMw8EAAti7qczDwQAC2LupzMPBAALYu6nMw8EAAti7qczDwQAC2LupzMPBAALYu6nMw8EAAti7qczDwQAC2LupzMPBAALYu6nMw8EAAti7qczDwQAC2LupzMPBAALYu6nMw8EAAti7qczDwQAC2LupzMPBAALYu6nMw8EAAti7qczDwQAC2LupzMPBAALYu6nMw8EAAti7qczDwQAC2LupzMPBAALYu6nMw8EAAti7qczDwQAC2LupzMPBAALYu6nMw8EAAti7qczDwQAC2LupzMPBAALYu6nMw8EAAti7qczDwQAC2LupzMPBAALYu6nMw8EAAti7qczDwQAC2LupzMPBAALYu6nMw8EAAti7qczDwQAC2LupzMPBAALYu6nMw8EAAti7qczDwQAC2LupzMPBAALYu6nMw8EAAti7qczDwQAC2LupzMPBAALYu6nMw8EAAti7qczDwQAC2LupzMPBAALYu6nMw8EAAti7qczDwQAC2LupzMPBAALYu6nMw8EA=",
          "dtype": "f8"
         },
         "yaxis": "y"
        }
       ],
       "layout": {
        "legend": {
         "tracegroupgap": 0
        },
        "template": {
         "data": {
          "bar": [
           {
            "error_x": {
             "color": "#2a3f5f"
            },
            "error_y": {
             "color": "#2a3f5f"
            },
            "marker": {
             "line": {
              "color": "white",
              "width": 0.5
             },
             "pattern": {
              "fillmode": "overlay",
              "size": 10,
              "solidity": 0.2
             }
            },
            "type": "bar"
           }
          ],
          "barpolar": [
           {
            "marker": {
             "line": {
              "color": "white",
              "width": 0.5
             },
             "pattern": {
              "fillmode": "overlay",
              "size": 10,
              "solidity": 0.2
             }
            },
            "type": "barpolar"
           }
          ],
          "carpet": [
           {
            "aaxis": {
             "endlinecolor": "#2a3f5f",
             "gridcolor": "#C8D4E3",
             "linecolor": "#C8D4E3",
             "minorgridcolor": "#C8D4E3",
             "startlinecolor": "#2a3f5f"
            },
            "baxis": {
             "endlinecolor": "#2a3f5f",
             "gridcolor": "#C8D4E3",
             "linecolor": "#C8D4E3",
             "minorgridcolor": "#C8D4E3",
             "startlinecolor": "#2a3f5f"
            },
            "type": "carpet"
           }
          ],
          "choropleth": [
           {
            "colorbar": {
             "outlinewidth": 0,
             "ticks": ""
            },
            "type": "choropleth"
           }
          ],
          "contour": [
           {
            "colorbar": {
             "outlinewidth": 0,
             "ticks": ""
            },
            "colorscale": [
             [
              0,
              "#0d0887"
             ],
             [
              0.1111111111111111,
              "#46039f"
             ],
             [
              0.2222222222222222,
              "#7201a8"
             ],
             [
              0.3333333333333333,
              "#9c179e"
             ],
             [
              0.4444444444444444,
              "#bd3786"
             ],
             [
              0.5555555555555556,
              "#d8576b"
             ],
             [
              0.6666666666666666,
              "#ed7953"
             ],
             [
              0.7777777777777778,
              "#fb9f3a"
             ],
             [
              0.8888888888888888,
              "#fdca26"
             ],
             [
              1,
              "#f0f921"
             ]
            ],
            "type": "contour"
           }
          ],
          "contourcarpet": [
           {
            "colorbar": {
             "outlinewidth": 0,
             "ticks": ""
            },
            "type": "contourcarpet"
           }
          ],
          "heatmap": [
           {
            "colorbar": {
             "outlinewidth": 0,
             "ticks": ""
            },
            "colorscale": [
             [
              0,
              "#0d0887"
             ],
             [
              0.1111111111111111,
              "#46039f"
             ],
             [
              0.2222222222222222,
              "#7201a8"
             ],
             [
              0.3333333333333333,
              "#9c179e"
             ],
             [
              0.4444444444444444,
              "#bd3786"
             ],
             [
              0.5555555555555556,
              "#d8576b"
             ],
             [
              0.6666666666666666,
              "#ed7953"
             ],
             [
              0.7777777777777778,
              "#fb9f3a"
             ],
             [
              0.8888888888888888,
              "#fdca26"
             ],
             [
              1,
              "#f0f921"
             ]
            ],
            "type": "heatmap"
           }
          ],
          "histogram": [
           {
            "marker": {
             "pattern": {
              "fillmode": "overlay",
              "size": 10,
              "solidity": 0.2
             }
            },
            "type": "histogram"
           }
          ],
          "histogram2d": [
           {
            "colorbar": {
             "outlinewidth": 0,
             "ticks": ""
            },
            "colorscale": [
             [
              0,
              "#0d0887"
             ],
             [
              0.1111111111111111,
              "#46039f"
             ],
             [
              0.2222222222222222,
              "#7201a8"
             ],
             [
              0.3333333333333333,
              "#9c179e"
             ],
             [
              0.4444444444444444,
              "#bd3786"
             ],
             [
              0.5555555555555556,
              "#d8576b"
             ],
             [
              0.6666666666666666,
              "#ed7953"
             ],
             [
              0.7777777777777778,
              "#fb9f3a"
             ],
             [
              0.8888888888888888,
              "#fdca26"
             ],
             [
              1,
              "#f0f921"
             ]
            ],
            "type": "histogram2d"
           }
          ],
          "histogram2dcontour": [
           {
            "colorbar": {
             "outlinewidth": 0,
             "ticks": ""
            },
            "colorscale": [
             [
              0,
              "#0d0887"
             ],
             [
              0.1111111111111111,
              "#46039f"
             ],
             [
              0.2222222222222222,
              "#7201a8"
             ],
             [
              0.3333333333333333,
              "#9c179e"
             ],
             [
              0.4444444444444444,
              "#bd3786"
             ],
             [
              0.5555555555555556,
              "#d8576b"
             ],
             [
              0.6666666666666666,
              "#ed7953"
             ],
             [
              0.7777777777777778,
              "#fb9f3a"
             ],
             [
              0.8888888888888888,
              "#fdca26"
             ],
             [
              1,
              "#f0f921"
             ]
            ],
            "type": "histogram2dcontour"
           }
          ],
          "mesh3d": [
           {
            "colorbar": {
             "outlinewidth": 0,
             "ticks": ""
            },
            "type": "mesh3d"
           }
          ],
          "parcoords": [
           {
            "line": {
             "colorbar": {
              "outlinewidth": 0,
              "ticks": ""
             }
            },
            "type": "parcoords"
           }
          ],
          "pie": [
           {
            "automargin": true,
            "type": "pie"
           }
          ],
          "scatter": [
           {
            "fillpattern": {
             "fillmode": "overlay",
             "size": 10,
             "solidity": 0.2
            },
            "type": "scatter"
           }
          ],
          "scatter3d": [
           {
            "line": {
             "colorbar": {
              "outlinewidth": 0,
              "ticks": ""
             }
            },
            "marker": {
             "colorbar": {
              "outlinewidth": 0,
              "ticks": ""
             }
            },
            "type": "scatter3d"
           }
          ],
          "scattercarpet": [
           {
            "marker": {
             "colorbar": {
              "outlinewidth": 0,
              "ticks": ""
             }
            },
            "type": "scattercarpet"
           }
          ],
          "scattergeo": [
           {
            "marker": {
             "colorbar": {
              "outlinewidth": 0,
              "ticks": ""
             }
            },
            "type": "scattergeo"
           }
          ],
          "scattergl": [
           {
            "marker": {
             "colorbar": {
              "outlinewidth": 0,
              "ticks": ""
             }
            },
            "type": "scattergl"
           }
          ],
          "scattermap": [
           {
            "marker": {
             "colorbar": {
              "outlinewidth": 0,
              "ticks": ""
             }
            },
            "type": "scattermap"
           }
          ],
          "scattermapbox": [
           {
            "marker": {
             "colorbar": {
              "outlinewidth": 0,
              "ticks": ""
             }
            },
            "type": "scattermapbox"
           }
          ],
          "scatterpolar": [
           {
            "marker": {
             "colorbar": {
              "outlinewidth": 0,
              "ticks": ""
             }
            },
            "type": "scatterpolar"
           }
          ],
          "scatterpolargl": [
           {
            "marker": {
             "colorbar": {
              "outlinewidth": 0,
              "ticks": ""
             }
            },
            "type": "scatterpolargl"
           }
          ],
          "scatterternary": [
           {
            "marker": {
             "colorbar": {
              "outlinewidth": 0,
              "ticks": ""
             }
            },
            "type": "scatterternary"
           }
          ],
          "surface": [
           {
            "colorbar": {
             "outlinewidth": 0,
             "ticks": ""
            },
            "colorscale": [
             [
              0,
              "#0d0887"
             ],
             [
              0.1111111111111111,
              "#46039f"
             ],
             [
              0.2222222222222222,
              "#7201a8"
             ],
             [
              0.3333333333333333,
              "#9c179e"
             ],
             [
              0.4444444444444444,
              "#bd3786"
             ],
             [
              0.5555555555555556,
              "#d8576b"
             ],
             [
              0.6666666666666666,
              "#ed7953"
             ],
             [
              0.7777777777777778,
              "#fb9f3a"
             ],
             [
              0.8888888888888888,
              "#fdca26"
             ],
             [
              1,
              "#f0f921"
             ]
            ],
            "type": "surface"
           }
          ],
          "table": [
           {
            "cells": {
             "fill": {
              "color": "#EBF0F8"
             },
             "line": {
              "color": "white"
             }
            },
            "header": {
             "fill": {
              "color": "#C8D4E3"
             },
             "line": {
              "color": "white"
             }
            },
            "type": "table"
           }
          ]
         },
         "layout": {
          "annotationdefaults": {
           "arrowcolor": "#2a3f5f",
           "arrowhead": 0,
           "arrowwidth": 1
          },
          "autotypenumbers": "strict",
          "coloraxis": {
           "colorbar": {
            "outlinewidth": 0,
            "ticks": ""
           }
          },
          "colorscale": {
           "diverging": [
            [
             0,
             "#8e0152"
            ],
            [
             0.1,
             "#c51b7d"
            ],
            [
             0.2,
             "#de77ae"
            ],
            [
             0.3,
             "#f1b6da"
            ],
            [
             0.4,
             "#fde0ef"
            ],
            [
             0.5,
             "#f7f7f7"
            ],
            [
             0.6,
             "#e6f5d0"
            ],
            [
             0.7,
             "#b8e186"
            ],
            [
             0.8,
             "#7fbc41"
            ],
            [
             0.9,
             "#4d9221"
            ],
            [
             1,
             "#276419"
            ]
           ],
           "sequential": [
            [
             0,
             "#0d0887"
            ],
            [
             0.1111111111111111,
             "#46039f"
            ],
            [
             0.2222222222222222,
             "#7201a8"
            ],
            [
             0.3333333333333333,
             "#9c179e"
            ],
            [
             0.4444444444444444,
             "#bd3786"
            ],
            [
             0.5555555555555556,
             "#d8576b"
            ],
            [
             0.6666666666666666,
             "#ed7953"
            ],
            [
             0.7777777777777778,
             "#fb9f3a"
            ],
            [
             0.8888888888888888,
             "#fdca26"
            ],
            [
             1,
             "#f0f921"
            ]
           ],
           "sequentialminus": [
            [
             0,
             "#0d0887"
            ],
            [
             0.1111111111111111,
             "#46039f"
            ],
            [
             0.2222222222222222,
             "#7201a8"
            ],
            [
             0.3333333333333333,
             "#9c179e"
            ],
            [
             0.4444444444444444,
             "#bd3786"
            ],
            [
             0.5555555555555556,
             "#d8576b"
            ],
            [
             0.6666666666666666,
             "#ed7953"
            ],
            [
             0.7777777777777778,
             "#fb9f3a"
            ],
            [
             0.8888888888888888,
             "#fdca26"
            ],
            [
             1,
             "#f0f921"
            ]
           ]
          },
          "colorway": [
           "#636efa",
           "#EF553B",
           "#00cc96",
           "#ab63fa",
           "#FFA15A",
           "#19d3f3",
           "#FF6692",
           "#B6E880",
           "#FF97FF",
           "#FECB52"
          ],
          "font": {
           "color": "#2a3f5f"
          },
          "geo": {
           "bgcolor": "white",
           "lakecolor": "white",
           "landcolor": "white",
           "showlakes": true,
           "showland": true,
           "subunitcolor": "#C8D4E3"
          },
          "hoverlabel": {
           "align": "left"
          },
          "hovermode": "closest",
          "mapbox": {
           "style": "light"
          },
          "paper_bgcolor": "white",
          "plot_bgcolor": "white",
          "polar": {
           "angularaxis": {
            "gridcolor": "#EBF0F8",
            "linecolor": "#EBF0F8",
            "ticks": ""
           },
           "bgcolor": "white",
           "radialaxis": {
            "gridcolor": "#EBF0F8",
            "linecolor": "#EBF0F8",
            "ticks": ""
           }
          },
          "scene": {
           "xaxis": {
            "backgroundcolor": "white",
            "gridcolor": "#DFE8F3",
            "gridwidth": 2,
            "linecolor": "#EBF0F8",
            "showbackground": true,
            "ticks": "",
            "zerolinecolor": "#EBF0F8"
           },
           "yaxis": {
            "backgroundcolor": "white",
            "gridcolor": "#DFE8F3",
            "gridwidth": 2,
            "linecolor": "#EBF0F8",
            "showbackground": true,
            "ticks": "",
            "zerolinecolor": "#EBF0F8"
           },
           "zaxis": {
            "backgroundcolor": "white",
            "gridcolor": "#DFE8F3",
            "gridwidth": 2,
            "linecolor": "#EBF0F8",
            "showbackground": true,
            "ticks": "",
            "zerolinecolor": "#EBF0F8"
           }
          },
          "shapedefaults": {
           "line": {
            "color": "#2a3f5f"
           }
          },
          "ternary": {
           "aaxis": {
            "gridcolor": "#DFE8F3",
            "linecolor": "#A2B1C6",
            "ticks": ""
           },
           "baxis": {
            "gridcolor": "#DFE8F3",
            "linecolor": "#A2B1C6",
            "ticks": ""
           },
           "bgcolor": "white",
           "caxis": {
            "gridcolor": "#DFE8F3",
            "linecolor": "#A2B1C6",
            "ticks": ""
           }
          },
          "title": {
           "x": 0.05
          },
          "xaxis": {
           "automargin": true,
           "gridcolor": "#EBF0F8",
           "linecolor": "#EBF0F8",
           "ticks": "",
           "title": {
            "standoff": 15
           },
           "zerolinecolor": "#EBF0F8",
           "zerolinewidth": 2
          },
          "yaxis": {
           "automargin": true,
           "gridcolor": "#EBF0F8",
           "linecolor": "#EBF0F8",
           "ticks": "",
           "title": {
            "standoff": 15
           },
           "zerolinecolor": "#EBF0F8",
           "zerolinewidth": 2
          }
         }
        },
        "title": {
         "text": "Mercedes-Benz Car Price by Year"
        },
        "xaxis": {
         "anchor": "y",
         "domain": [
          0,
          1
         ],
         "title": {
          "text": "Car Year"
         }
        },
        "yaxis": {
         "anchor": "x",
         "domain": [
          0,
          1
         ],
         "title": {
          "text": "Price (USD)"
         }
        }
       }
      }
     },
     "metadata": {},
     "output_type": "display_data"
    }
   ],
   "source": [
    "fig = px.scatter(\n",
    "    df,\n",
    "    x='Year',\n",
    "    y='Price',\n",
    "    title='Mercedes-Benz Car Price by Year',\n",
    "    labels={'Year': 'Car Year', 'Price': 'Price (USD)'},\n",
    "    trendline='ols',\n",
    "    template='plotly_white',\n",
    "    hover_data=['Model']  \n",
    ")\n",
    "\n",
    "fig.show()"
   ]
  },
  {
   "cell_type": "code",
   "execution_count": 33,
   "id": "7193cf55",
   "metadata": {},
   "outputs": [
    {
     "data": {
      "application/vnd.plotly.v1+json": {
       "config": {
        "plotlyServerURL": "https://plot.ly"
       },
       "data": [
        {
         "bingroup": "x",
         "hovertemplate": "Price (USD)=%{x}<br>count=%{y}<extra></extra>",
         "legendgroup": "",
         "marker": {
          "color": "#636efa",
          "pattern": {
           "shape": ""
          }
         },
         "name": "",
         "nbinsx": 50,
         "orientation": "v",
         "showlegend": false,
         "type": "histogram",
         "x": {
          "bdata": "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",
          "dtype": "f8"
         },
         "xaxis": "x",
         "yaxis": "y"
        }
       ],
       "layout": {
        "barmode": "relative",
        "legend": {
         "tracegroupgap": 0
        },
        "template": {
         "data": {
          "bar": [
           {
            "error_x": {
             "color": "#2a3f5f"
            },
            "error_y": {
             "color": "#2a3f5f"
            },
            "marker": {
             "line": {
              "color": "white",
              "width": 0.5
             },
             "pattern": {
              "fillmode": "overlay",
              "size": 10,
              "solidity": 0.2
             }
            },
            "type": "bar"
           }
          ],
          "barpolar": [
           {
            "marker": {
             "line": {
              "color": "white",
              "width": 0.5
             },
             "pattern": {
              "fillmode": "overlay",
              "size": 10,
              "solidity": 0.2
             }
            },
            "type": "barpolar"
           }
          ],
          "carpet": [
           {
            "aaxis": {
             "endlinecolor": "#2a3f5f",
             "gridcolor": "#C8D4E3",
             "linecolor": "#C8D4E3",
             "minorgridcolor": "#C8D4E3",
             "startlinecolor": "#2a3f5f"
            },
            "baxis": {
             "endlinecolor": "#2a3f5f",
             "gridcolor": "#C8D4E3",
             "linecolor": "#C8D4E3",
             "minorgridcolor": "#C8D4E3",
             "startlinecolor": "#2a3f5f"
            },
            "type": "carpet"
           }
          ],
          "choropleth": [
           {
            "colorbar": {
             "outlinewidth": 0,
             "ticks": ""
            },
            "type": "choropleth"
           }
          ],
          "contour": [
           {
            "colorbar": {
             "outlinewidth": 0,
             "ticks": ""
            },
            "colorscale": [
             [
              0,
              "#0d0887"
             ],
             [
              0.1111111111111111,
              "#46039f"
             ],
             [
              0.2222222222222222,
              "#7201a8"
             ],
             [
              0.3333333333333333,
              "#9c179e"
             ],
             [
              0.4444444444444444,
              "#bd3786"
             ],
             [
              0.5555555555555556,
              "#d8576b"
             ],
             [
              0.6666666666666666,
              "#ed7953"
             ],
             [
              0.7777777777777778,
              "#fb9f3a"
             ],
             [
              0.8888888888888888,
              "#fdca26"
             ],
             [
              1,
              "#f0f921"
             ]
            ],
            "type": "contour"
           }
          ],
          "contourcarpet": [
           {
            "colorbar": {
             "outlinewidth": 0,
             "ticks": ""
            },
            "type": "contourcarpet"
           }
          ],
          "heatmap": [
           {
            "colorbar": {
             "outlinewidth": 0,
             "ticks": ""
            },
            "colorscale": [
             [
              0,
              "#0d0887"
             ],
             [
              0.1111111111111111,
              "#46039f"
             ],
             [
              0.2222222222222222,
              "#7201a8"
             ],
             [
              0.3333333333333333,
              "#9c179e"
             ],
             [
              0.4444444444444444,
              "#bd3786"
             ],
             [
              0.5555555555555556,
              "#d8576b"
             ],
             [
              0.6666666666666666,
              "#ed7953"
             ],
             [
              0.7777777777777778,
              "#fb9f3a"
             ],
             [
              0.8888888888888888,
              "#fdca26"
             ],
             [
              1,
              "#f0f921"
             ]
            ],
            "type": "heatmap"
           }
          ],
          "histogram": [
           {
            "marker": {
             "pattern": {
              "fillmode": "overlay",
              "size": 10,
              "solidity": 0.2
             }
            },
            "type": "histogram"
           }
          ],
          "histogram2d": [
           {
            "colorbar": {
             "outlinewidth": 0,
             "ticks": ""
            },
            "colorscale": [
             [
              0,
              "#0d0887"
             ],
             [
              0.1111111111111111,
              "#46039f"
             ],
             [
              0.2222222222222222,
              "#7201a8"
             ],
             [
              0.3333333333333333,
              "#9c179e"
             ],
             [
              0.4444444444444444,
              "#bd3786"
             ],
             [
              0.5555555555555556,
              "#d8576b"
             ],
             [
              0.6666666666666666,
              "#ed7953"
             ],
             [
              0.7777777777777778,
              "#fb9f3a"
             ],
             [
              0.8888888888888888,
              "#fdca26"
             ],
             [
              1,
              "#f0f921"
             ]
            ],
            "type": "histogram2d"
           }
          ],
          "histogram2dcontour": [
           {
            "colorbar": {
             "outlinewidth": 0,
             "ticks": ""
            },
            "colorscale": [
             [
              0,
              "#0d0887"
             ],
             [
              0.1111111111111111,
              "#46039f"
             ],
             [
              0.2222222222222222,
              "#7201a8"
             ],
             [
              0.3333333333333333,
              "#9c179e"
             ],
             [
              0.4444444444444444,
              "#bd3786"
             ],
             [
              0.5555555555555556,
              "#d8576b"
             ],
             [
              0.6666666666666666,
              "#ed7953"
             ],
             [
              0.7777777777777778,
              "#fb9f3a"
             ],
             [
              0.8888888888888888,
              "#fdca26"
             ],
             [
              1,
              "#f0f921"
             ]
            ],
            "type": "histogram2dcontour"
           }
          ],
          "mesh3d": [
           {
            "colorbar": {
             "outlinewidth": 0,
             "ticks": ""
            },
            "type": "mesh3d"
           }
          ],
          "parcoords": [
           {
            "line": {
             "colorbar": {
              "outlinewidth": 0,
              "ticks": ""
             }
            },
            "type": "parcoords"
           }
          ],
          "pie": [
           {
            "automargin": true,
            "type": "pie"
           }
          ],
          "scatter": [
           {
            "fillpattern": {
             "fillmode": "overlay",
             "size": 10,
             "solidity": 0.2
            },
            "type": "scatter"
           }
          ],
          "scatter3d": [
           {
            "line": {
             "colorbar": {
              "outlinewidth": 0,
              "ticks": ""
             }
            },
            "marker": {
             "colorbar": {
              "outlinewidth": 0,
              "ticks": ""
             }
            },
            "type": "scatter3d"
           }
          ],
          "scattercarpet": [
           {
            "marker": {
             "colorbar": {
              "outlinewidth": 0,
              "ticks": ""
             }
            },
            "type": "scattercarpet"
           }
          ],
          "scattergeo": [
           {
            "marker": {
             "colorbar": {
              "outlinewidth": 0,
              "ticks": ""
             }
            },
            "type": "scattergeo"
           }
          ],
          "scattergl": [
           {
            "marker": {
             "colorbar": {
              "outlinewidth": 0,
              "ticks": ""
             }
            },
            "type": "scattergl"
           }
          ],
          "scattermap": [
           {
            "marker": {
             "colorbar": {
              "outlinewidth": 0,
              "ticks": ""
             }
            },
            "type": "scattermap"
           }
          ],
          "scattermapbox": [
           {
            "marker": {
             "colorbar": {
              "outlinewidth": 0,
              "ticks": ""
             }
            },
            "type": "scattermapbox"
           }
          ],
          "scatterpolar": [
           {
            "marker": {
             "colorbar": {
              "outlinewidth": 0,
              "ticks": ""
             }
            },
            "type": "scatterpolar"
           }
          ],
          "scatterpolargl": [
           {
            "marker": {
             "colorbar": {
              "outlinewidth": 0,
              "ticks": ""
             }
            },
            "type": "scatterpolargl"
           }
          ],
          "scatterternary": [
           {
            "marker": {
             "colorbar": {
              "outlinewidth": 0,
              "ticks": ""
             }
            },
            "type": "scatterternary"
           }
          ],
          "surface": [
           {
            "colorbar": {
             "outlinewidth": 0,
             "ticks": ""
            },
            "colorscale": [
             [
              0,
              "#0d0887"
             ],
             [
              0.1111111111111111,
              "#46039f"
             ],
             [
              0.2222222222222222,
              "#7201a8"
             ],
             [
              0.3333333333333333,
              "#9c179e"
             ],
             [
              0.4444444444444444,
              "#bd3786"
             ],
             [
              0.5555555555555556,
              "#d8576b"
             ],
             [
              0.6666666666666666,
              "#ed7953"
             ],
             [
              0.7777777777777778,
              "#fb9f3a"
             ],
             [
              0.8888888888888888,
              "#fdca26"
             ],
             [
              1,
              "#f0f921"
             ]
            ],
            "type": "surface"
           }
          ],
          "table": [
           {
            "cells": {
             "fill": {
              "color": "#EBF0F8"
             },
             "line": {
              "color": "white"
             }
            },
            "header": {
             "fill": {
              "color": "#C8D4E3"
             },
             "line": {
              "color": "white"
             }
            },
            "type": "table"
           }
          ]
         },
         "layout": {
          "annotationdefaults": {
           "arrowcolor": "#2a3f5f",
           "arrowhead": 0,
           "arrowwidth": 1
          },
          "autotypenumbers": "strict",
          "coloraxis": {
           "colorbar": {
            "outlinewidth": 0,
            "ticks": ""
           }
          },
          "colorscale": {
           "diverging": [
            [
             0,
             "#8e0152"
            ],
            [
             0.1,
             "#c51b7d"
            ],
            [
             0.2,
             "#de77ae"
            ],
            [
             0.3,
             "#f1b6da"
            ],
            [
             0.4,
             "#fde0ef"
            ],
            [
             0.5,
             "#f7f7f7"
            ],
            [
             0.6,
             "#e6f5d0"
            ],
            [
             0.7,
             "#b8e186"
            ],
            [
             0.8,
             "#7fbc41"
            ],
            [
             0.9,
             "#4d9221"
            ],
            [
             1,
             "#276419"
            ]
           ],
           "sequential": [
            [
             0,
             "#0d0887"
            ],
            [
             0.1111111111111111,
             "#46039f"
            ],
            [
             0.2222222222222222,
             "#7201a8"
            ],
            [
             0.3333333333333333,
             "#9c179e"
            ],
            [
             0.4444444444444444,
             "#bd3786"
            ],
            [
             0.5555555555555556,
             "#d8576b"
            ],
            [
             0.6666666666666666,
             "#ed7953"
            ],
            [
             0.7777777777777778,
             "#fb9f3a"
            ],
            [
             0.8888888888888888,
             "#fdca26"
            ],
            [
             1,
             "#f0f921"
            ]
           ],
           "sequentialminus": [
            [
             0,
             "#0d0887"
            ],
            [
             0.1111111111111111,
             "#46039f"
            ],
            [
             0.2222222222222222,
             "#7201a8"
            ],
            [
             0.3333333333333333,
             "#9c179e"
            ],
            [
             0.4444444444444444,
             "#bd3786"
            ],
            [
             0.5555555555555556,
             "#d8576b"
            ],
            [
             0.6666666666666666,
             "#ed7953"
            ],
            [
             0.7777777777777778,
             "#fb9f3a"
            ],
            [
             0.8888888888888888,
             "#fdca26"
            ],
            [
             1,
             "#f0f921"
            ]
           ]
          },
          "colorway": [
           "#636efa",
           "#EF553B",
           "#00cc96",
           "#ab63fa",
           "#FFA15A",
           "#19d3f3",
           "#FF6692",
           "#B6E880",
           "#FF97FF",
           "#FECB52"
          ],
          "font": {
           "color": "#2a3f5f"
          },
          "geo": {
           "bgcolor": "white",
           "lakecolor": "white",
           "landcolor": "white",
           "showlakes": true,
           "showland": true,
           "subunitcolor": "#C8D4E3"
          },
          "hoverlabel": {
           "align": "left"
          },
          "hovermode": "closest",
          "mapbox": {
           "style": "light"
          },
          "paper_bgcolor": "white",
          "plot_bgcolor": "white",
          "polar": {
           "angularaxis": {
            "gridcolor": "#EBF0F8",
            "linecolor": "#EBF0F8",
            "ticks": ""
           },
           "bgcolor": "white",
           "radialaxis": {
            "gridcolor": "#EBF0F8",
            "linecolor": "#EBF0F8",
            "ticks": ""
           }
          },
          "scene": {
           "xaxis": {
            "backgroundcolor": "white",
            "gridcolor": "#DFE8F3",
            "gridwidth": 2,
            "linecolor": "#EBF0F8",
            "showbackground": true,
            "ticks": "",
            "zerolinecolor": "#EBF0F8"
           },
           "yaxis": {
            "backgroundcolor": "white",
            "gridcolor": "#DFE8F3",
            "gridwidth": 2,
            "linecolor": "#EBF0F8",
            "showbackground": true,
            "ticks": "",
            "zerolinecolor": "#EBF0F8"
           },
           "zaxis": {
            "backgroundcolor": "white",
            "gridcolor": "#DFE8F3",
            "gridwidth": 2,
            "linecolor": "#EBF0F8",
            "showbackground": true,
            "ticks": "",
            "zerolinecolor": "#EBF0F8"
           }
          },
          "shapedefaults": {
           "line": {
            "color": "#2a3f5f"
           }
          },
          "ternary": {
           "aaxis": {
            "gridcolor": "#DFE8F3",
            "linecolor": "#A2B1C6",
            "ticks": ""
           },
           "baxis": {
            "gridcolor": "#DFE8F3",
            "linecolor": "#A2B1C6",
            "ticks": ""
           },
           "bgcolor": "white",
           "caxis": {
            "gridcolor": "#DFE8F3",
            "linecolor": "#A2B1C6",
            "ticks": ""
           }
          },
          "title": {
           "x": 0.05
          },
          "xaxis": {
           "automargin": true,
           "gridcolor": "#EBF0F8",
           "linecolor": "#EBF0F8",
           "ticks": "",
           "title": {
            "standoff": 15
           },
           "zerolinecolor": "#EBF0F8",
           "zerolinewidth": 2
          },
          "yaxis": {
           "automargin": true,
           "gridcolor": "#EBF0F8",
           "linecolor": "#EBF0F8",
           "ticks": "",
           "title": {
            "standoff": 15
           },
           "zerolinecolor": "#EBF0F8",
           "zerolinewidth": 2
          }
         }
        },
        "title": {
         "text": "Distribution of Mercedes-Benz Car Prices"
        },
        "xaxis": {
         "anchor": "y",
         "domain": [
          0,
          1
         ],
         "title": {
          "text": "Price (USD)"
         }
        },
        "yaxis": {
         "anchor": "x",
         "domain": [
          0,
          1
         ],
         "title": {
          "text": "Count"
         }
        }
       }
      }
     },
     "metadata": {},
     "output_type": "display_data"
    }
   ],
   "source": [
    "# Histogram of car prices\n",
    "fig = px.histogram(\n",
    "    df,\n",
    "    x='Price',\n",
    "    nbins=50,\n",
    "    title='Distribution of Mercedes-Benz Car Prices',\n",
    "    labels={'Price': 'Price (USD)'},\n",
    "    template='plotly_white'\n",
    ")\n",
    "fig.update_layout(\n",
    "    xaxis_title='Price (USD)',\n",
    "    yaxis_title='Count'\n",
    ")\n",
    "fig.show()"
   ]
  },
  {
   "cell_type": "code",
   "execution_count": 34,
   "id": "b2141546",
   "metadata": {},
   "outputs": [
    {
     "data": {
      "image/png": "[encoded data removed]",
      "text/plain": [
       "<Figure size 1400x600 with 1 Axes>"
      ]
     },
     "metadata": {},
     "output_type": "display_data"
    }
   ],
   "source": [
    "# Price by Model (Top 10 models)\n",
    "top_models = df['Model'].value_counts().nlargest(10).index\n",
    "df_top_models = df[df['Model'].isin(top_models)]\n",
    "\n",
    "plt.figure(figsize=(14, 6))\n",
    "sns.boxplot(data=df_top_models, x='Model', y='Price')\n",
    "plt.xticks(rotation=45)\n",
    "plt.title(\"Price Distribution by Mercedes-Benz Model\")\n",
    "plt.show()"
   ]
  },
  {
   "cell_type": "code",
   "execution_count": 35,
   "id": "3bba21d8",
   "metadata": {},
   "outputs": [
    {
     "data": {
      "application/vnd.plotly.v1+json": {
       "config": {
        "plotlyServerURL": "https://plot.ly"
       },
       "data": [
        {
         "customdata": {
          "bdata": "AAAAAACUn0AAAAAAAJSfQAAAAAAAkJ9AAAAAAACYn0AAAAAAAJCfQAAAAAAAlJ9AAAAAAACUn0AAAAAAAJSfQAAAAAAAkJ9AAAAAAACYn0AAAAAAAJSfQAAAAAAAlJ9AAAAAAACQn0AAAAAAAJSfQAAAAAAAlJ9AAAAAAACMn0AAAAAAAJSfQAAAAAAAkJ9AAAAAAACUn0AAAAAAAJCfQAAAAAAAjJ9AAAAAAACQn0AAAAAAAJSfQAAAAAAAkJ9AAAAAAACUn0AAAAAAAJCfQAAAAAAAlJ9AAAAAAACYn0A=",
          "dtype": "f8",
          "shape": "28, 1"
         },
         "hovertemplate": "Model=Mercedes-Benz A-Class A 220 4MATIC<br>Mileage=%{x}<br>Price=%{y}<br>Year=%{customdata[0]}<extra></extra>",
         "legendgroup": "Mercedes-Benz A-Class A 220 4MATIC",
         "marker": {
          "color": "#636efa",
          "symbol": "circle"
         },
         "mode": "markers",
         "name": "Mercedes-Benz A-Class A 220 4MATIC",
         "showlegend": true,
         "type": "scattergl",
         "x": {
          "bdata": "AAAAAADx3EAAAAAAgA7JQAAAAADAuudAAAAAAIC2xEAAAAAAAP3GQAAAAAAgBuZAAAAAAEAA0EAAAAAAAE/MQAAAAADAMtxAAAAAAICJwkAAAAAAgF/iQAAAAABAANBAAAAAAIB+5EAAAAAAANHCQAAAAAAA8dxAAAAAAAB06EAAAAAAoHjhQAAAAABAUdRAAAAAAOBz5EAAAAAAwNnbQAAAAABgnuFAAAAAAOAF40AAAAAAQLPQQAAAAAAA6OBAAAAAAMCu10AAAAAAQJvcQAAAAAAAzN1AAAAAAMCp4kA=",
          "dtype": "f8"
         },
         "xaxis": "x",
         "y": {
          "bdata": "AAAAAAAt3kAAAAAAACjeQAAAAADA4NlAAAAAAOCZ4EAAAAAAQI/eQAAAAAAA69lAAAAAAACw3UAAAAAAACjeQAAAAACA59xAAAAAAIAV4UAAAAAAAE/cQAAAAAAAsN1AAAAAAMBn2EAAAAAAgD3eQAAAAAAALd5AAAAAAADU10AAAAAAwB7cQAAAAADAzttAAAAAAMBQ3EAAAAAAQNDZQAAAAADAS91AAAAAAABA2kAAAAAAQKDdQAAAAADAZ9hAAAAAAIBC3kAAAAAAgCTcQAAAAACAP99AAAAAAEAw3UA=",
          "dtype": "f8"
         },
         "yaxis": "y"
        },
        {
         "customdata": {
          "bdata": "AAAAAACYn0AAAAAAAJifQAAAAAAAmJ9AAAAAAACcn0AAAAAAAJifQAAAAAAAnJ9AAAAAAACYn0AAAAAAAJifQA==",
          "dtype": "f8",
          "shape": "8, 1"
         },
         "hovertemplate": "Model=Mercedes-Benz AMG SL 63 Base<br>Mileage=%{x}<br>Price=%{y}<br>Year=%{customdata[0]}<extra></extra>",
         "legendgroup": "Mercedes-Benz AMG SL 63 Base",
         "marker": {
          "color": "#EF553B",
          "symbol": "circle"
         },
         "mode": "markers",
         "name": "Mercedes-Benz AMG SL 63 Base",
         "showlegend": true,
         "type": "scattergl",
         "x": {
          "bdata": "AAAAAACktUAAAAAAABqzQAAAAAAAmJNAAAAAAADApkAAAAAAAGCCQAAAAAAA2qBAAAAAAAA3skAAAAAAAByUQA==",
          "dtype": "f8"
         },
         "xaxis": "x",
         "y": {
          "bdata": "AAAAAPgWAUEAAAAAODwAQQAAAABw+/9AAAAAABAkBEEAAAAAMK8BQQAAAABoegNBAAAAAEgWAUEAAAAAmBMBQQ==",
          "dtype": "f8"
         },
         "yaxis": "y"
        },
        {
         "customdata": {
          "bdata": "AAAAAACQn0AAAAAAAJifQAAAAAAAkJ9AAAAAAACYn0AAAAAAAJCfQAAAAAAAkJ9AAAAAAACcn0AAAAAAAIyfQAAAAAAAlJ9AAAAAAACUn0AAAAAAAJCfQAAAAAAAkJ9AAAAAAACUn0AAAAAAAJSfQAAAAAAAjJ9AAAAAAACUn0AAAAAAAJSfQAAAAAAAkJ9AAAAAAACYn0A=",
          "dtype": "f8",
          "shape": "19, 1"
         },
         "hovertemplate": "Model=Mercedes-Benz AMG E 53 Base 4MATIC<br>Mileage=%{x}<br>Price=%{y}<br>Year=%{customdata[0]}<extra></extra>",
         "legendgroup": "Mercedes-Benz AMG E 53 Base 4MATIC",
         "marker": {
          "color": "#00cc96",
          "symbol": "circle"
         },
         "mode": "markers",
         "name": "Mercedes-Benz AMG E 53 Base 4MATIC",
         "showlegend": true,
         "type": "scattergl",
         "x": {
          "bdata": "AAAAAIAM3UAAAAAAAOqrQAAAAACA0MhAAAAAAIAhw0AAAAAAgFDVQAAAAABg8uBAAAAAAADcnEAAAAAAgCDAQAAAAAAAqdxAAAAAAIAL3EAAAAAAoBXiQAAAAADAxtRAAAAAAGBJ40AAAAAAgOzPQAAAAADAxNpAAAAAAIDr2EAAAAAAgMDpQAAAAABAgeZAAAAAAMAh0kA=",
          "dtype": "f8"
         },
         "xaxis": "x",
         "y": {
          "bdata": "AAAAAGCb7EAAAAAAcE/yQAAAAACgQuxAAAAAAHDX8EAAAAAAYI/oQAAAAADgDuxAAAAAAPA79UAAAAAAgCvoQAAAAADwmPBAAAAAAJC+8kAAAAAAQF7tQAAAAAAgxu1AAAAAAAC870AAAAAAwP7wQAAAAABguuVAAAAAAEAT7UAAAAAAwCDqQAAAAABgr+hAAAAAAEAn8EA=",
          "dtype": "f8"
         },
         "yaxis": "y"
        },
        {
         "customdata": {
          "bdata": "AAAAAACUn0AAAAAAAJSfQAAAAAAAlJ9AAAAAAACgn0AAAAAAAIyfQAAAAAAAnJ9AAAAAAACUn0AAAAAAAJSfQAAAAAAAlJ9AAAAAAACUn0AAAAAAAJSfQAAAAAAAnJ9AAAAAAACgn0A=",
          "dtype": "f8",
          "shape": "13, 1"
         },
         "hovertemplate": "Model=Mercedes-Benz AMG GLS 63 Base 4MATIC<br>Mileage=%{x}<br>Price=%{y}<br>Year=%{customdata[0]}<extra></extra>",
         "legendgroup": "Mercedes-Benz AMG GLS 63 Base 4MATIC",
         "marker": {
          "color": "#ab63fa",
          "symbol": "circle"
         },
         "mode": "markers",
         "name": "Mercedes-Benz AMG GLS 63 Base 4MATIC",
         "showlegend": true,
         "type": "scattergl",
         "x": {
          "bdata": "AAAAAMDd30AAAAAAQEDfQAAAAAAAzdFAAAAAAIARwEAAAAAAwPXtQAAAAAAAuJ9AAAAAAIBQx0AAAAAAwDvUQAAAAADAytZAAAAAAICE1kAAAAAAgFjZQAAAAAAA37BAAAAAAADipUA=",
          "dtype": "f8"
         },
         "xaxis": "x",
         "y": {
          "bdata": "AAAAAGBv90AAAAAAgDD3QAAAAAAwXfhAAAAAACD7/0AAAAAAgFDsQAAAAAD4agBBAAAAAADm90AAAAAAYKT3QAAAAAAA+fVAAAAAAACu9kAAAAAA8Oz3QAAAAAAAvf9AAAAAALg/AkE=",
          "dtype": "f8"
         },
         "yaxis": "y"
        },
        {
         "customdata": {
          "bdata": "AAAAAACcn0AAAAAAAKCfQAAAAAAAkJ9AAAAAAACgn0AAAAAAAKCfQAAAAAAAmJ9AAAAAAACUn0AAAAAAAKCfQAAAAAAAmJ9AAAAAAACQn0AAAAAAAJyfQAAAAAAAkJ9AAAAAAACUn0AAAAAAAJSfQAAAAAAAoJ9AAAAAAACQn0AAAAAAAJCfQAAAAAAAoJ9AAAAAAACgn0AAAAAAAKCfQAAAAAAAlJ9AAAAAAACYn0AAAAAAAKCfQAAAAAAAoJ9AAAAAAACgn0AAAAAAAKCfQAAAAAAAoJ9AAAAAAACYn0AAAAAAAJifQAAAAAAAmJ9AAAAAAACcn0AAAAAAAJCfQAAAAAAAlJ9AAAAAAACYn0AAAAAAAJCfQAAAAAAAoJ9AAAAAAACYn0AAAAAAAJSfQAAAAAAAkJ9AAAAAAACQn0AAAAAAAKCfQAAAAAAAlJ9AAAAAAACUn0AAAAAAAJSfQAAAAAAAmJ9AAAAAAACgn0AAAAAAAJCfQAAAAAAAlJ9AAAAAAACUn0AAAAAAAJSfQAAAAAAAlJ9AAAAAAACcn0AAAAAAAJSfQAAAAAAAoJ9AAAAAAACQn0AAAAAAAKCfQAAAAAAAoJ9AAAAAAACcn0AAAAAAAJCfQAAAAAAAlJ9AAAAAAACcn0AAAAAAAKCfQAAAAAAAlJ9AAAAAAACgn0AAAAAAAJifQAAAAAAAoJ9AAAAAAACgn0AAAAAAAJifQAAAAAAAlJ9AAAAAAACYn0AAAAAAAJifQAAAAAAAkJ9AAAAAAACUn0AAAAAAAJifQAAAAAAAmJ9AAAAAAACUn0AAAAAAAJCfQAAAAAAAnJ9AAAAAAACUn0AAAAAAAJSfQAAAAAAAlJ9AAAAAAACYn0AAAAAAAKCfQAAAAAAAnJ9AAAAAAACgn0AAAAAAAJCfQAAAAAAAoJ9AAAAAAACgn0AAAAAAAJifQAAAAAAAoJ9AAAAAAACgn0AAAAAAAJyfQAAAAAAAoJ9AAAAAAACgn0AAAAAAAKCfQAAAAAAAoJ9AAAAAAACgn0AAAAAAAJCfQAAAAAAAkJ9AAAAAAACUn0AAAAAAAJSfQAAAAAAAoJ9AAAAAAACYn0AAAAAAAJyfQAAAAAAAoJ9AAAAAAACQn0AAAAAAAJifQAAAAAAAmJ9AAAAAAACgn0AAAAAAAJSfQAAAAAAAoJ9AAAAAAACgn0AAAAAAAJSfQAAAAAAAoJ9AAAAAAACUn0AAAAAAAJSfQAAAAAAAlJ9AAAAAAACgn0AAAAAAAJCfQAAAAAAAoJ9AAAAAAACQn0AAAAAAAKCfQAAAAAAAoJ9AAAAAAACUn0AAAAAAAJyfQAAAAAAAoJ9AAAAAAACgn0AAAAAAAIifQAAAAAAAoJ9AAAAAAACgn0AAAAAAAJCfQAAAAAAAkJ9AAAAAAACQn0AAAAAAAJSfQAAAAAAAoJ9AAAAAAACgn0AAAAAAAJifQAAAAAAAmJ9AAAAAAACQn0AAAAAAAJifQAAAAAAAmJ9AAAAAAACYn0AAAAAAAJCfQAAAAAAAkJ9AAAAAAACgn0AAAAAAAKCfQAAAAAAAnJ9AAAAAAACgn0A=",
          "dtype": "f8",
          "shape": "148, 1"
         },
         "hovertemplate": "Model=Mercedes-Benz GLE 350 Base 4MATIC<br>Mileage=%{x}<br>Price=%{y}<br>Year=%{customdata[0]}<extra></extra>",
         "legendgroup": "Mercedes-Benz GLE 350 Base 4MATIC",
         "marker": {
          "color": "#FFA15A",
          "symbol": "circle"
         },
         "mode": "markers",
         "name": "Mercedes-Benz GLE 350 Base 4MATIC",
         "showlegend": true,
         "type": "scattergl",
         "x": {
          "bdata": "AAAAAMCH1kAAAAAAAN63QAAAAADgZ+xAAAAAAACitUAAAAAAgArAQAAAAADAE9tAAAAAAMBZ4UAAAAAAAN6hQAAAAAAA59JAAAAAAOBK6EAAAAAAgBfFQAAAAACAbtpAAAAAAEBT0UAAAAAAABfiQAAAAAAAJbNAAAAAACAP4EAAAAAA0AbwQAAAAAAAOrZAAAAAAAA3w0AAAAAAgM/DQAAAAAAAqNxAAAAAAIDGzUAAAAAAgI7EQAAAAACAYcJAAAAAAIBPw0AAAAAAADKxQAAAAAAApKtAAAAAAACO1kAAAAAAQKzcQAAAAACAWtFAAAAAAIBgyEAAAAAA4GfsQAAAAABA2t5AAAAAAAAw0UAAAAAAIF/kQAAAAAAAtL5AAAAAAIAd4kAAAAAAAC7qQAAAAACAe99AAAAAAACG7EAAAAAAAD6vQAAAAADg5OlAAAAAAOAi4EAAAAAAQB7SQAAAAAAAOu9AAAAAAAA9tEAAAAAAAB3oQAAAAAAAmttAAAAAAMDg5UAAAAAAQPPgQAAAAACACMpAAAAAAABozUAAAAAAwObVQAAAAAAA08JAAAAAAABB20AAAAAAgCzJQAAAAAAAbLZAAAAAAODo5EAAAAAAIE/jQAAAAABAaNpAAAAAAECi30AAAAAAAASZQAAAAABAzNxAAAAAAAD0rkAAAAAAAOXKQAAAAAAAOrhAAAAAAACsm0AAAAAAwOTTQAAAAAAA3+ZAAAAAAICKwUAAAAAAANXUQAAAAABgB/BAAAAAAECS1EAAAAAAAH/SQAAAAACAy9NAAAAAAABJ4EAAAAAAYFTlQAAAAAAAWrVAAAAAAEAy7EAAAAAA4EnmQAAAAABAf+hAAAAAAEBD40AAAAAAAHifQAAAAACA6slAAAAAAIA4w0AAAAAAgOfkQAAAAAAAI71AAAAAAADEtUAAAAAA4HDmQAAAAAAAxMpAAAAAAIBXzkAAAAAAAHrIQAAAAACAs8dAAAAAAADWvUAAAAAAAPiqQAAAAAAAJq9AAAAAAADAwkAAAAAAwFzhQAAAAADAP+BAAAAAAIBs4UAAAAAAACjJQAAAAACAOMhAAAAAAAAUyEAAAAAAAKnHQAAAAAAAgqtAAAAAAMDt1EAAAAAAwN/WQAAAAABAA9VAAAAAAAA9tEAAAAAAIBfiQAAAAACAdcNAAAAAAIAbyEAAAAAAgL/XQAAAAAAAfKpAAAAAAIBl40AAAAAAQMrUQAAAAADAZuhAAAAAAAB9ukAAAAAAANjaQAAAAAAAsKZAAAAAAMBa00AAAAAAgFXCQAAAAACAFsZAAAAAAMBt1kAAAAAAgLnIQAAAAACAO8BAAAAAAACCpkAAAAAAgEj7QAAAAAAAc8JAAAAAAABAr0AAAAAAwCfYQAAAAAAATuRAAAAAAODZ40AAAAAAABrgQAAAAAAAYJtAAAAAAACyp0AAAAAAgGXSQAAAAACAg8VAAAAAAAD94kAAAAAAgLXAQAAAAACAAMtAAAAAAICKzkAAAAAA4DzkQAAAAACApOZAAAAAAADoikAAAAAAAKSmQAAAAAAARM1AAAAAAABvw0A=",
          "dtype": "f8"
         },
         "xaxis": "x",
         "y": {
          "bdata": "AAAAAGBX60AAAAAAoOvwQAAAAACABOJAAAAAAPBU8UAAAAAAEIDwQAAAAACAF+pAAAAAACA95UAAAAAA4JPxQAAAAACgzuxAAAAAAECB5EAAAAAAoEXuQAAAAADgMOVAAAAAAGDy5kAAAAAA4EPnQAAAAABQpvFAAAAAAGBg50AAAAAAIEnjQAAAAACgePBAAAAAAOCl70AAAAAAgMHuQAAAAACg+OVAAAAAAKDY6kAAAAAAgMHuQAAAAABw8fFAAAAAAGC370AAAAAAYPzvQAAAAAAA3e5AAAAAAIBo6EAAAAAAgFHqQAAAAACgT+xAAAAAAECe7kAAAAAAgATiQAAAAAAAcuZAAAAAAIDl6EAAAAAAAP/jQAAAAABQFvFAAAAAAECW50AAAAAAYEjjQAAAAADA9+VAAAAAAOB34kAAAAAAAMPuQAAAAAAAVeNAAAAAAOBV50AAAAAA4LnoQAAAAAAgbeVAAAAAAMAs7UAAAAAAgATiQAAAAACgIelAAAAAAGCd5kAAAAAAgHrlQAAAAACg5uhAAAAAAMCS7UAAAAAAwG7nQAAAAACQk/BAAAAAACBw5UAAAAAAwEXuQAAAAACwDvFAAAAAAOBK7UAAAAAAAAXkQAAAAAAAcOdAAAAAAABl7UAAAAAAwFPwQAAAAACAbudAAAAAACAK8kAAAAAAAErqQAAAAAAgKu5AAAAAAECT8UAAAAAAAD7pQAAAAAAABeRAAAAAAABS7EAAAAAAQJ7pQAAAAAAAyd1AAAAAAOBJ50AAAAAAgEvrQAAAAAAgGOpAAAAAAMB15kAAAAAA4DXiQAAAAADAwO9AAAAAAAB15kAAAAAAAODlQAAAAADAeuVAAAAAAADf50AAAAAAgLLxQAAAAADA/+5AAAAAAIDB7kAAAAAAoIfjQAAAAAAgre1AAAAAAICX8EAAAAAA4G3nQAAAAAAAmfBAAAAAAIB870AAAAAAQJzsQAAAAACARO5AAAAAAOBa8EAAAAAA4LvvQAAAAACAsO9AAAAAAFDY80AAAAAAoFvoQAAAAADA++RAAAAAAOB05kAAAAAAYBnnQAAAAACARO5AAAAAAICo6EAAAAAAgITuQAAAAAAQA/JAAAAAAOA650AAAAAAgFbrQAAAAABg2upAAAAAALC68EAAAAAAgG7nQAAAAACAwe5AAAAAAIDB7kAAAAAA4PLmQAAAAAAAbPFAAAAAAODs50AAAAAAQNPnQAAAAADgb+RAAAAAACCK7kAAAAAAoH/lQAAAAACAfu9AAAAAAABw50AAAAAAgMHuQAAAAACgfe9AAAAAAIBo6EAAAAAAYD/vQAAAAADAJu9AAAAAAIAB70AAAAAAwCnUQAAAAAAgFvFAAAAAABBU8UAAAAAAQIDkQAAAAACAZuRAAAAAAKAC5EAAAAAAQKHkQAAAAACQTfBAAAAAACCh70AAAAAAAFzoQAAAAADAV+tAAAAAAGB75UAAAAAAoLDtQAAAAADg2epAAAAAAGBo6EAAAAAAgDXmQAAAAADggeRAAAAAAPDR8UAAAAAA4FrvQAAAAABAP+9AAAAAAGA/70A=",
          "dtype": "f8"
         },
         "yaxis": "y"
        },
        {
         "customdata": {
          "bdata": "AAAAAACUn0AAAAAAAIyfQAAAAAAAlJ9AAAAAAACUn0AAAAAAAIyfQAAAAAAAlJ9AAAAAAACQn0A=",
          "dtype": "f8",
          "shape": "7, 1"
         },
         "hovertemplate": "Model=Mercedes-Benz AMG GT C<br>Mileage=%{x}<br>Price=%{y}<br>Year=%{customdata[0]}<extra></extra>",
         "legendgroup": "Mercedes-Benz AMG GT C",
         "marker": {
          "color": "#19d3f3",
          "symbol": "circle"
         },
         "mode": "markers",
         "name": "Mercedes-Benz AMG GT C",
         "showlegend": true,
         "type": "scattergl",
         "x": {
          "bdata": "AAAAAIDFzkAAAAAAgODBQAAAAACAONBAAAAAAMCw2UAAAAAAwM3YQAAAAACABc5AAAAAAIDCxEA=",
          "dtype": "f8"
         },
         "xaxis": "x",
         "y": {
          "bdata": "AAAAAPCT8UAAAAAAEDb1QAAAAAAwAf9AAAAAAKCE8kAAAAAAMHv1QAAAAAAwxvNAAAAAAPCP/EA=",
          "dtype": "f8"
         },
         "yaxis": "y"
        },
        {
         "customdata": {
          "bdata": "AAAAAACcn0AAAAAAAJifQAAAAAAAnJ9A",
          "dtype": "f8",
          "shape": "3, 1"
         },
         "hovertemplate": "Model=Mercedes-Benz AMG CLA 45 Base 4MATIC<br>Mileage=%{x}<br>Price=%{y}<br>Year=%{customdata[0]}<extra></extra>",
         "legendgroup": "Mercedes-Benz AMG CLA 45 Base 4MATIC",
         "marker": {
          "color": "#FF6692",
          "symbol": "circle"
         },
         "mode": "markers",
         "name": "Mercedes-Benz AMG CLA 45 Base 4MATIC",
         "showlegend": true,
         "type": "scattergl",
         "x": {
          "bdata": "AAAAAAC8pkAAAAAAgMfbQAAAAAAAPJ9A",
          "dtype": "f8"
         },
         "xaxis": "x",
         "y": {
          "bdata": "AAAAAOC/7kAAAAAAQDfqQAAAAAAARe5A",
          "dtype": "f8"
         },
         "yaxis": "y"
        },
        {
         "customdata": {
          "bdata": "AAAAAACUn0AAAAAAAJSfQAAAAAAAlJ9AAAAAAACYn0AAAAAAAJifQAAAAAAAnJ9AAAAAAACYn0AAAAAAAJifQAAAAAAAlJ9AAAAAAACQn0AAAAAAAJifQAAAAAAAmJ9AAAAAAACUn0AAAAAAAJCfQA==",
          "dtype": "f8",
          "shape": "14, 1"
         },
         "hovertemplate": "Model=Mercedes-Benz AMG GT 53 Base<br>Mileage=%{x}<br>Price=%{y}<br>Year=%{customdata[0]}<extra></extra>",
         "legendgroup": "Mercedes-Benz AMG GT 53 Base",
         "marker": {
          "color": "#B6E880",
          "symbol": "circle"
         },
         "mode": "markers",
         "name": "Mercedes-Benz AMG GT 53 Base",
         "showlegend": true,
         "type": "scattergl",
         "x": {
          "bdata": "AAAAAMAW0UAAAAAAgMvQQAAAAABAJN5AAAAAAAAFuEAAAAAAAPSXQAAAAAAAcqNAAAAAAAAEzEAAAAAAgNzGQAAAAADANNpAAAAAAACj3kAAAAAAgFTAQAAAAAAApsZAAAAAAID65UAAAAAAwPnhQA==",
          "dtype": "f8"
         },
         "xaxis": "x",
         "y": {
          "bdata": "AAAAAPA89EAAAAAAUMD0QAAAAADwdfNAAAAAAPBp+EAAAAAAAOz2QAAAAADwXfpAAAAAAPD49UAAAAAAMP70QAAAAABggfNAAAAAAMD38EAAAAAAAG/2QAAAAADgTfZAAAAAAOCM8kAAAAAAkHPyQA==",
          "dtype": "f8"
         },
         "yaxis": "y"
        },
        {
         "customdata": {
          "bdata": "AAAAAACcn0AAAAAAAJyfQAAAAAAAnJ9AAAAAAACcn0AAAAAAAJyfQAAAAAAAnJ9AAAAAAACcn0AAAAAAAJyfQAAAAAAAnJ9AAAAAAACcn0AAAAAAAJyfQAAAAAAAnJ9AAAAAAACcn0AAAAAAAJyfQAAAAAAAnJ9AAAAAAACcn0AAAAAAAJyfQAAAAAAAnJ9AAAAAAACcn0AAAAAAAJyfQAAAAAAAnJ9AAAAAAACcn0AAAAAAAJyfQAAAAAAAnJ9AAAAAAACcn0AAAAAAAJyfQAAAAAAAnJ9AAAAAAACcn0A=",
          "dtype": "f8",
          "shape": "28, 1"
         },
         "hovertemplate": "Model=Mercedes-Benz EQB 250 Base<br>Mileage=%{x}<br>Price=%{y}<br>Year=%{customdata[0]}<extra></extra>",
         "legendgroup": "Mercedes-Benz EQB 250 Base",
         "marker": {
          "color": "#FF97FF",
          "symbol": "circle"
         },
         "mode": "markers",
         "name": "Mercedes-Benz EQB 250 Base",
         "showlegend": true,
         "type": "scattergl",
         "x": {
          "bdata": "AAAAAACuqEAAAAAAAOm7QAAAAAAArJ1AAAAAAACipkAAAAAAALCOQAAAAAAAcLJAAAAAAABxvkAAAAAAAFKvQAAAAAAAI75AAAAAAABooEAAAAAAACSTQAAAAAAA97JAAAAAAAC4m0AAAAAAAMm+QAAAAAAAAbdAAAAAAABhskAAAAAAACygQAAAAAAAVqNAAAAAAABFskAAAAAAAKqjQAAAAAAAjqNAAAAAAAAWqEAAAAAAAB+xQAAAAAAA0JZAAAAAAAArvEAAAAAAADC1QAAAAAAA7JVAAAAAAIDpw0A=",
          "dtype": "f8"
         },
         "xaxis": "x",
         "y": {
          "bdata": "AAAAAECG6EAAAAAAAHDnQAAAAACAaOhAAAAAAADB6UAAAAAAgGjoQAAAAACAWOtAAAAAACDd5UAAAAAAgG/lQAAAAACAauVAAAAAAABw50AAAAAAgDfmQAAAAADA+OVAAAAAAIBp5kAAAAAA4ITjQAAAAACAb+VAAAAAAIAS60AAAAAAgK3mQAAAAACAHepAAAAAAID45kAAAAAAYE7oQAAAAADg7OdAAAAAAEB15kAAAAAAgEnpQAAAAAAA+eVAAAAAAGB75UAAAAAAwNzmQAAAAABgBupAAAAAAMDD4UA=",
          "dtype": "f8"
         },
         "yaxis": "y"
        },
        {
         "customdata": {
          "bdata": "AAAAAACMn0AAAAAAAJyfQAAAAAAAlJ9AAAAAAACcn0AAAAAAAJyfQAAAAAAAnJ9AAAAAAACcn0AAAAAAAJSfQAAAAAAAnJ9AAAAAAACcn0AAAAAAAJyfQAAAAAAAnJ9AAAAAAACcn0AAAAAAAKCfQAAAAAAAnJ9AAAAAAACcn0AAAAAAAKCfQAAAAAAAnJ9AAAAAAACcn0AAAAAAAJyfQAAAAAAAnJ9AAAAAAACcn0AAAAAAAJSfQAAAAAAAoJ9AAAAAAACcn0AAAAAAAJifQAAAAAAAnJ9AAAAAAACcn0AAAAAAAJyfQAAAAAAAmJ9AAAAAAACcn0AAAAAAAJyfQAAAAAAAnJ9AAAAAAACcn0AAAAAAAJyfQAAAAAAAnJ9AAAAAAACcn0AAAAAAAJyfQAAAAAAAnJ9AAAAAAACQn0AAAAAAAJyfQAAAAAAAnJ9AAAAAAACcn0AAAAAAAJyfQAAAAAAAnJ9AAAAAAACIn0AAAAAAAJyfQAAAAAAAnJ9AAAAAAACcn0AAAAAAAJyfQAAAAAAAnJ9AAAAAAACcn0AAAAAAAJSfQAAAAAAAnJ9AAAAAAACcn0AAAAAAAJCfQAAAAAAAnJ9AAAAAAACcn0AAAAAAAJyfQAAAAAAAnJ9AAAAAAACcn0AAAAAAAJyfQAAAAAAAnJ9AAAAAAACcn0AAAAAAAJyfQAAAAAAAnJ9AAAAAAACQn0AAAAAAAKCfQAAAAAAAnJ9AAAAAAACcn0AAAAAAAJCfQAAAAAAAnJ9AAAAAAACcn0AAAAAAAJyfQAAAAAAAlJ9AAAAAAACcn0AAAAAAAJyfQAAAAAAAnJ9AAAAAAACcn0AAAAAAAJyfQAAAAAAAnJ9AAAAAAACcn0AAAAAAAJyfQAAAAAAAnJ9AAAAAAACcn0AAAAAAAJifQAAAAAAAnJ9AAAAAAACcn0A=",
          "dtype": "f8",
          "shape": "88, 1"
         },
         "hovertemplate": "Model=Mercedes-Benz CLA 250 Base 4MATIC<br>Mileage=%{x}<br>Price=%{y}<br>Year=%{customdata[0]}<extra></extra>",
         "legendgroup": "Mercedes-Benz CLA 250 Base 4MATIC",
         "marker": {
          "color": "#FECB52",
          "symbol": "circle"
         },
         "mode": "markers",
         "name": "Mercedes-Benz CLA 250 Base 4MATIC",
         "showlegend": true,
         "type": "scattergl",
         "x": {
          "bdata": "AAAAAGD97UAAAAAAAMCTQAAAAACAudxAAAAAAACRsUAAAAAAgMLUQAAAAAAA8sJAAAAAAACwqEAAAAAAAFPZQAAAAACAAMBAAAAAAAAerkAAAAAAAFe7QAAAAAAA6qRAAAAAAABkqkAAAAAAAFalQAAAAACAn8JAAAAAAAAzxEAAAAAAAMSaQAAAAAAA5KJAAAAAAABks0AAAAAAALzBQAAAAAAAkbFAAAAAAACdvEAAAAAAgI3ZQAAAAAAAKJ1AAAAAAABWs0AAAAAAgHzEQAAAAACAYsFAAAAAAADysUAAAAAAAJqsQAAAAAAAzb1AAAAAAAA1wkAAAAAAACrCQAAAAAAAEr5AAAAAAIArwUAAAAAAAOPEQAAAAAAAbbFAAAAAAAAfsUAAAAAAAFibQAAAAACAScJAAAAAAEBH2kAAAAAAACCvQAAAAAAApbZAAAAAAACcskAAAAAAAFqyQAAAAAAAcKdAAAAAAJAn8EAAAAAAAP2/QAAAAAAAuKlAAAAAAAAUw0AAAAAAACayQAAAAAAAcbxAAAAAAACxvUAAAAAAAJ3dQAAAAAAAHrlAAAAAAADlvEAAAAAAwBvqQAAAAAAA/LxAAAAAAADcvEAAAAAAAICgQAAAAAAABb1AAAAAAADcsEAAAAAAAMqnQAAAAAAAeLJAAAAAAIBWwkAAAAAAAMewQAAAAAAAFrJAAAAAAMDB0EAAAAAAANaqQAAAAAAAusVAAAAAAIDZw0AAAAAAgJ7aQAAAAADAh9pAAAAAAAAgu0AAAAAAgOTBQAAAAADAN9RAAAAAAAACr0AAAAAAAOK+QAAAAAAAgrtAAAAAAAAUrUAAAAAAAA+zQAAAAAAAFbRAAAAAAACmrUAAAAAAAB65QAAAAAAADcxAAAAAAACYsUAAAAAAQNPiQAAAAAAAzrNAAAAAAACkuEA=",
          "dtype": "f8"
         },
         "xaxis": "x",
         "y": {
          "bdata": "AAAAAMD31UAAAAAAAB7kQAAAAADgk+BAAAAAAIBv5UAAAAAAwIThQAAAAADgh+NAAAAAAACI40AAAAAAAIvfQAAAAAAgzOJAAAAAAABu5UAAAAAAgPLkQAAAAABgJOVAAAAAAAD340AAAAAAAN/nQAAAAABg0+VAAAAAAMAQ4kAAAAAAYKroQAAAAAAA9+NAAAAAAOBI40AAAAAAgP7iQAAAAACAb+VAAAAAAGCp5kAAAAAAQJTfQAAAAAAgiuhAAAAAAMC54kAAAAAAIN3gQAAAAADgBORAAAAAAOC+5EAAAAAAgOzlQAAAAAAAlOFAAAAAAID440AAAAAA4IHkQAAAAACAD+JAAAAAAAA940AAAAAA4IHkQAAAAAAAT+JAAAAAAACC5EAAAAAAYETlQAAAAACA+ONAAAAAAKCY4EAAAAAAAFznQAAAAADgSONAAAAAAOCA5EAAAAAAgPjjQAAAAACgxuNAAAAAAICF00AAAAAA4A/iQAAAAACAe+NAAAAAACBD5UAAAAAAQKfoQAAAAADAgOJAAAAAAKBj4kAAAAAAgBDgQAAAAACg6uJAAAAAACC/40AAAAAAAEjdQAAAAABgeuNAAAAAACAG40AAAAAAYPjlQAAAAACAQuRAAAAAAKB540AAAAAAAPPmQAAAAACAdeRAAAAAAKCH40AAAAAAgPLkQAAAAACAs+JAAAAAAIAQ4EAAAAAAQPnmQAAAAACgXeNAAAAAAGBE5EAAAAAAAEDfQAAAAADA8eJAAAAAAGDv4kAAAAAAAGnkQAAAAACAPd9AAAAAACDp40AAAAAAwArjQAAAAABA8eJAAAAAAIBv5UAAAAAAoMnjQAAAAADgjeJAAAAAAABC6EAAAAAA4HjjQAAAAAAg+uJAAAAAAMB05kAAAAAAAAXeQAAAAAAAJONAAAAAAADt4kA=",
          "dtype": "f8"
         },
         "yaxis": "y"
        },
        {
         "customdata": {
          "bdata": "AAAAAACcn0AAAAAAAJyfQAAAAAAAnJ9AAAAAAACcn0AAAAAAAKCfQAAAAAAAoJ9A",
          "dtype": "f8",
          "shape": "6, 1"
         },
         "hovertemplate": "Model=Mercedes-Benz GLE 450 GLE 450<br>Mileage=%{x}<br>Price=%{y}<br>Year=%{customdata[0]}<extra></extra>",
         "legendgroup": "Mercedes-Benz GLE 450 GLE 450",
         "marker": {
          "color": "#636efa",
          "symbol": "circle"
         },
         "mode": "markers",
         "name": "Mercedes-Benz GLE 450 GLE 450",
         "showlegend": true,
         "type": "scattergl",
         "x": {
          "bdata": "AAAAAIBQzUAAAAAAAITKQAAAAACAic9AAAAAAIAHzkAAAAAAAOihQAAAAAAAQKJA",
          "dtype": "f8"
         },
         "xaxis": "x",
         "y": {
          "bdata": "AAAAAMA/70AAAAAA0BbxQAAAAADQFvFAAAAAAICt70AAAAAAUGvyQAAAAADAdPFA",
          "dtype": "f8"
         },
         "yaxis": "y"
        },
        {
         "customdata": {
          "bdata": "AAAAAACQn0A=",
          "dtype": "f8",
          "shape": "1, 1"
         },
         "hovertemplate": "Model=Mercedes-Benz SL 450 SL 450<br>Mileage=%{x}<br>Price=%{y}<br>Year=%{customdata[0]}<extra></extra>",
         "legendgroup": "Mercedes-Benz SL 450 SL 450",
         "marker": {
          "color": "#EF553B",
          "symbol": "circle"
         },
         "mode": "markers",
         "name": "Mercedes-Benz SL 450 SL 450",
         "showlegend": true,
         "type": "scattergl",
         "x": {
          "bdata": "AAAAAIBiy0A=",
          "dtype": "f8"
         },
         "xaxis": "x",
         "y": {
          "bdata": "AAAAAADA70A=",
          "dtype": "f8"
         },
         "yaxis": "y"
        },
        {
         "customdata": {
          "bdata": "AAAAAACcn0AAAAAAAJyfQAAAAAAAnJ9AAAAAAACcn0AAAAAAAJyfQAAAAAAAnJ9AAAAAAACcn0AAAAAAAJyfQAAAAAAAnJ9AAAAAAACcn0AAAAAAAJyfQAAAAAAAnJ9AAAAAAACcn0AAAAAAAJyfQA==",
          "dtype": "f8",
          "shape": "14, 1"
         },
         "hovertemplate": "Model=Mercedes-Benz EQE 350 Base 4MATIC<br>Mileage=%{x}<br>Price=%{y}<br>Year=%{customdata[0]}<extra></extra>",
         "legendgroup": "Mercedes-Benz EQE 350 Base 4MATIC",
         "marker": {
          "color": "#00cc96",
          "symbol": "circle"
         },
         "mode": "markers",
         "name": "Mercedes-Benz EQE 350 Base 4MATIC",
         "showlegend": true,
         "type": "scattergl",
         "x": {
          "bdata": "AAAAAAAWqEAAAAAAANqzQAAAAAAAiqNAAAAAAACqs0AAAAAAANCgQAAAAAAAoKJAAAAAAIDpwEAAAAAAALSmQAAAAAAAz7dAAAAAAAByq0AAAAAAAEKnQAAAAAAAir1AAAAAAABAvEAAAAAAADWzQA==",
          "dtype": "f8"
         },
         "xaxis": "x",
         "y": {
          "bdata": "AAAAALAI8UAAAAAAcDHyQAAAAACQxPFAAAAAAODS8EAAAAAA8BbxQAAAAAAAzPJAAAAAAIC17EAAAAAAQI3xQAAAAACAzexAAAAAACAl8UAAAAAAQLvvQAAAAAAAoulAAAAAAJAK8UAAAAAAYKvxQA==",
          "dtype": "f8"
         },
         "yaxis": "y"
        },
        {
         "customdata": {
          "bdata": "AAAAAACcn0AAAAAAAJCfQAAAAAAAnJ9AAAAAAACQn0AAAAAAAJCfQAAAAAAAoJ9AAAAAAACQn0AAAAAAAJyfQAAAAAAAmJ9AAAAAAACgn0AAAAAAAKCfQAAAAAAAnJ9AAAAAAACgn0AAAAAAAJifQAAAAAAAkJ9AAAAAAACQn0AAAAAAAJyfQAAAAAAAlJ9AAAAAAACcn0AAAAAAAJCfQAAAAAAAoJ9AAAAAAACYn0AAAAAAAJifQAAAAAAAkJ9AAAAAAACYn0AAAAAAAJyfQAAAAAAAkJ9AAAAAAACgn0AAAAAAAJifQAAAAAAAlJ9AAAAAAACUn0AAAAAAAJCfQAAAAAAAnJ9AAAAAAACgn0AAAAAAAJCfQAAAAAAAoJ9AAAAAAACYn0AAAAAAAJyfQAAAAAAAlJ9AAAAAAACcn0AAAAAAAJyfQAAAAAAAmJ9AAAAAAACYn0AAAAAAAJSfQAAAAAAAmJ9AAAAAAACcn0AAAAAAAJyfQAAAAAAAlJ9AAAAAAACQn0AAAAAAAKCfQAAAAAAAlJ9AAAAAAACUn0AAAAAAAJSfQAAAAAAAkJ9AAAAAAACcn0AAAAAAAJSfQAAAAAAAlJ9AAAAAAACcn0AAAAAAAJifQAAAAAAAlJ9AAAAAAACcn0AAAAAAAJCfQAAAAAAAnJ9AAAAAAACQn0AAAAAAAJSfQAAAAAAAnJ9AAAAAAACcn0AAAAAAAJSfQAAAAAAAnJ9AAAAAAACcn0AAAAAAAJyfQAAAAAAAnJ9AAAAAAACgn0AAAAAAAIyfQAAAAAAAlJ9AAAAAAACQn0AAAAAAAJyfQAAAAAAAmJ9AAAAAAACUn0AAAAAAAJyfQAAAAAAAmJ9AAAAAAACgn0AAAAAAAJSfQAAAAAAAmJ9AAAAAAACQn0AAAAAAAJSfQAAAAAAAiJ9AAAAAAACQn0AAAAAAAJifQAAAAAAAkJ9AAAAAAACIn0AAAAAAAJyfQAAAAAAAmJ9AAAAAAACQn0AAAAAAAKCfQAAAAAAAiJ9AAAAAAACUn0AAAAAAAJSfQAAAAAAAlJ9AAAAAAACQn0AAAAAAAJyfQAAAAAAAnJ9AAAAAAACcn0AAAAAAAJifQAAAAAAAnJ9AAAAAAACgn0AAAAAAAKCfQAAAAAAAkJ9AAAAAAACUn0AAAAAAAJCfQAAAAAAAnJ9AAAAAAACYn0AAAAAAAJSfQAAAAAAAkJ9AAAAAAACcn0AAAAAAAKCfQAAAAAAAmJ9AAAAAAACYn0AAAAAAAKCfQAAAAAAAlJ9AAAAAAACMn0AAAAAAAJCfQAAAAAAAkJ9AAAAAAACcn0AAAAAAAJyfQAAAAAAAkJ9AAAAAAACcn0AAAAAAAJCfQAAAAAAAmJ9AAAAAAACcn0AAAAAAAJSfQAAAAAAAnJ9AAAAAAACQn0AAAAAAAJSfQAAAAAAAmJ9AAAAAAACUn0AAAAAAAJCfQAAAAAAAlJ9A",
          "dtype": "f8",
          "shape": "138, 1"
         },
         "hovertemplate": "Model=Mercedes-Benz GLC 300 Base 4MATIC<br>Mileage=%{x}<br>Price=%{y}<br>Year=%{customdata[0]}<extra></extra>",
         "legendgroup": "Mercedes-Benz GLC 300 Base 4MATIC",
         "marker": {
          "color": "#ab63fa",
          "symbol": "circle"
         },
         "mode": "markers",
         "name": "Mercedes-Benz GLC 300 Base 4MATIC",
         "showlegend": true,
         "type": "scattergl",
         "x": {
          "bdata": "AAAAAABJsUAAAAAAoB/jQAAAAAAAXK1AAAAAAADqz0AAAAAAwEfoQAAAAAAAKrZAAAAAAICZ5EAAAAAAAKyjQAAAAAAAps1AAAAAAABwd0AAAAAAADGzQAAAAACAUMRAAAAAAAAytkAAAAAAwCfQQAAAAABA19VAAAAAAOAx6UAAAAAAAJqzQAAAAADAQdBAAAAAAAAjtEAAAAAAgOfdQAAAAAAAwIdAAAAAAABOy0AAAAAAAGfQQAAAAACAQd5AAAAAAMAG0EAAAAAAAFm/QAAAAABAettAAAAAAAAJs0AAAAAAgF7PQAAAAACAh+VAAAAAACA240AAAAAAwB/bQAAAAAAAv7pAAAAAAACQqUAAAAAAgJDfQAAAAAAARrZAAAAAAAANxUAAAAAAACDAQAAAAACA8uBAAAAAAIACxkAAAAAAAGHBQAAAAACAjsRAAAAAAEDe00AAAAAA4N/hQAAAAACAE8VAAAAAAADBvUAAAAAAABu5QAAAAACgKeJAAAAAACCo40AAAAAAAOytQAAAAAAAd9BAAAAAACBp4UAAAAAAoITiQAAAAABgz+JAAAAAAAA7s0AAAAAAIAfmQAAAAABAIuBAAAAAAAABu0AAAAAAAKvNQAAAAADARuBAAAAAAAAKvUAAAAAAIM7tQAAAAAAArL9AAAAAAKC54UAAAAAAwPPUQAAAAAAAkrVAAAAAAADquUAAAAAAQFjWQAAAAAAAh8BAAAAAAABHtEAAAAAAAMnGQAAAAAAAccdAAAAAAAB3skAAAAAAQF/SQAAAAABAFeFAAAAAAEAA30AAAAAAAMGyQAAAAAAAkNBAAAAAAMBU30AAAAAAAGu4QAAAAABATN1AAAAAAADipEAAAAAAgFHcQAAAAADAsNZAAAAAAMCx30AAAAAAwMjUQAAAAACgh+lAAAAAAAAe4kAAAAAAwCXQQAAAAAAApeRAAAAAAABV6EAAAAAAgBPDQAAAAACAdctAAAAAAOCT5EAAAAAAABCSQAAAAAAgru5AAAAAAEDb2kAAAAAAAKO9QAAAAAAA3tJAAAAAAIBc3UAAAAAAAFjGQAAAAAAA4LpAAAAAAABWsUAAAAAAgI/FQAAAAAAAbb9AAAAAAACJsUAAAAAAANaxQAAAAACgP+VAAAAAAABa3UAAAAAAQDXpQAAAAAAAPKlAAAAAAIBAxUAAAAAAgCfdQAAAAACAY+ZAAAAAAAALu0AAAAAAAFi3QAAAAADg++BAAAAAAIDyzEAAAAAAAP2xQAAAAACA5dtAAAAAACBB7UAAAAAAYKbiQAAAAACAGdlAAAAAAABuwEAAAAAAACS9QAAAAADA3NpAAAAAAID9x0AAAAAAgLrJQAAAAACAjsdAAAAAAABQeUAAAAAAADziQAAAAAAARLdAAAAAAMDC2kAAAAAAQEDoQAAAAACActxAAAAAAKAJ4UAAAAAAQGLiQAAAAABAYudA",
          "dtype": "f8"
         },
         "xaxis": "x",
         "y": {
          "bdata": "AAAAAGBj6UAAAAAAIFvgQAAAAABgV+tAAAAAAEBi4kAAAAAAAMXaQAAAAACgGOpAAAAAAIDJ3UAAAAAAYGnoQAAAAABAb+RAAAAAAMDU60AAAAAAYGnoQAAAAABgguZAAAAAAGBp6EAAAAAAAE7kQAAAAADg1+BAAAAAAMBQ3EAAAAAAgIvnQAAAAACgFeJAAAAAAMDq50AAAAAAABvgQAAAAACg7O1AAAAAAICA5EAAAAAAwIDkQAAAAADA895AAAAAAICA5EAAAAAAAPLqQAAAAADgc+BAAAAAAABM60AAAAAAQEjjQAAAAAAAaOBAAAAAAMBQ3EAAAAAAYE7gQAAAAABAq+dAAAAAAABk6UAAAAAAgEXeQAAAAACAtulAAAAAAIB65EAAAAAAgEToQAAAAADAYeFAAAAAAGBt6UAAAAAAIL3pQAAAAACAeuVAAAAAAODF40AAAAAAYFLhQAAAAADgCuNAAAAAAIBJ6UAAAAAA4N7pQAAAAADAHOBAAAAAAIBF3kAAAAAA4NrqQAAAAABAteJAAAAAAMDE4UAAAAAAgNjgQAAAAADAt+BAAAAAAADh6UAAAAAAgNLeQAAAAACACuFAAAAAAGBj6UAAAAAAgIPjQAAAAAAAhuFAAAAAAGAm6UAAAAAAADzeQAAAAADA6OpAAAAAAEDw4EAAAAAAAAPiQAAAAABgzOlAAAAAAABw50AAAAAAAI7iQAAAAADgV+tAAAAAAKCb6kAAAAAAAHbmQAAAAACg1OtAAAAAAGAm6kAAAAAAgETeQAAAAAAgheBAAAAAAEBL3UAAAAAAoAbrQAAAAADAy+JAAAAAAIAC4kAAAAAA4GLpQAAAAABgMeJAAAAAACDF6UAAAAAAgFXhQAAAAADAy+JAAAAAAIA13EAAAAAAoK/hQAAAAACAAthAAAAAAICB4kAAAAAAwIDkQAAAAABAd99AAAAAAEAZ20AAAAAAYEfnQAAAAABgeuRAAAAAAABG3kAAAAAAAMLqQAAAAAAAS9lAAAAAAGDe4UAAAAAAYI3iQAAAAABgxeFAAAAAAOAK4EAAAAAA4GPpQAAAAACA1OlAAAAAAABR6kAAAAAAwP3kQAAAAACAMOlAAAAAAGAa7EAAAAAAQBjrQAAAAAAAFOBAAAAAAGCS4UAAAAAAgAHfQAAAAACA4OlAAAAAAEDS40AAAAAAwAviQAAAAACAmOBAAAAAAKDs6EAAAAAA4EPoQAAAAADA/uFAAAAAAEBI40AAAAAAYCbqQAAAAADAIO9AAAAAAACc2EAAAAAAQAnhQAAAAAAgS+1AAAAAAIDU6UAAAAAAYK7nQAAAAADAieBAAAAAACBU50AAAAAAoHbiQAAAAACgg+NAAAAAAICc6kAAAAAAQN7fQAAAAAAAnOhAAAAAAADI30AAAAAAQMjdQAAAAACAe+NAAAAAAGAW4UAAAAAAAD7fQAAAAAAAS+FA",
          "dtype": "f8"
         },
         "yaxis": "y"
        },
        {
         "customdata": {
          "bdata": "AAAAAACUn0AAAAAAAJyfQAAAAAAAmJ9AAAAAAACYn0AAAAAAAJSfQAAAAAAAnJ9AAAAAAACYn0A=",
          "dtype": "f8",
          "shape": "7, 1"
         },
         "hovertemplate": "Model=Mercedes-Benz AMG GLC 43 4MATIC Coupe<br>Mileage=%{x}<br>Price=%{y}<br>Year=%{customdata[0]}<extra></extra>",
         "legendgroup": "Mercedes-Benz AMG GLC 43 4MATIC Coupe",
         "marker": {
          "color": "#FFA15A",
          "symbol": "circle"
         },
         "mode": "markers",
         "name": "Mercedes-Benz AMG GLC 43 4MATIC Coupe",
         "showlegend": true,
         "type": "scattergl",
         "x": {
          "bdata": "AAAAAMDz00AAAAAAACjEQAAAAABAo91AAAAAAEBh00AAAAAA0NnxQAAAAAAAJdVAAAAAAADXtEA=",
          "dtype": "f8"
         },
         "xaxis": "x",
         "y": {
          "bdata": "AAAAACBb6kAAAAAAYJTwQAAAAADAqexAAAAAAODT60AAAAAAIGDlQAAAAABgP+9AAAAAAKBD7UA=",
          "dtype": "f8"
         },
         "yaxis": "y"
        },
        {
         "customdata": {
          "bdata": "AAAAAACEn0AAAAAAAIyfQAAAAAAAkJ9A",
          "dtype": "f8",
          "shape": "3, 1"
         },
         "hovertemplate": "Model=Mercedes-Benz SLC 300 Base<br>Mileage=%{x}<br>Price=%{y}<br>Year=%{customdata[0]}<extra></extra>",
         "legendgroup": "Mercedes-Benz SLC 300 Base",
         "marker": {
          "color": "#19d3f3",
          "symbol": "circle"
         },
         "mode": "markers",
         "name": "Mercedes-Benz SLC 300 Base",
         "showlegend": true,
         "type": "scattergl",
         "x": {
          "bdata": "AAAAAMAV7kAAAAAAwJfbQAAAAAAgMeNA",
          "dtype": "f8"
         },
         "xaxis": "x",
         "y": {
          "bdata": "AAAAAID41UAAAAAAwBHeQAAAAABgVOJA",
          "dtype": "f8"
         },
         "yaxis": "y"
        },
        {
         "customdata": {
          "bdata": "AAAAAACUn0AAAAAAAJifQAAAAAAAmJ9AAAAAAACMn0AAAAAAAJSfQAAAAAAAlJ9AAAAAAACQn0AAAAAAAJCfQAAAAAAAmJ9AAAAAAACUn0AAAAAAAJSfQAAAAAAAlJ9AAAAAAACMn0AAAAAAAJCfQAAAAAAAjJ9AAAAAAACUn0AAAAAAAJSfQAAAAAAAkJ9A",
          "dtype": "f8",
          "shape": "18, 1"
         },
         "hovertemplate": "Model=Mercedes-Benz A-Class A 220<br>Mileage=%{x}<br>Price=%{y}<br>Year=%{customdata[0]}<extra></extra>",
         "legendgroup": "Mercedes-Benz A-Class A 220",
         "marker": {
          "color": "#FF6692",
          "symbol": "circle"
         },
         "mode": "markers",
         "name": "Mercedes-Benz A-Class A 220",
         "showlegend": true,
         "type": "scattergl",
         "x": {
          "bdata": "AAAAAEA13UAAAAAAgG7NQAAAAAAAprlAAAAAAOAP7EAAAAAAgFXUQAAAAAAARt5AAAAAAKCZ5kAAAAAAYN7pQAAAAACABc1AAAAAAIBj1UAAAAAAgCLqQAAAAADAo+FAAAAAAAAn5kAAAAAAgGzgQAAAAADADPFAAAAAAEAH0EAAAAAAgPHAQAAAAACA2tJA",
          "dtype": "f8"
         },
         "xaxis": "x",
         "y": {
          "bdata": "AAAAAAAc3EAAAAAAAOXgQAAAAACA59xAAAAAAAAc2EAAAAAAwFHcQAAAAADASd1AAAAAAABS3EAAAAAAwFzaQAAAAABADdxAAAAAAMBD3kAAAAAAwG3XQAAAAADgFeFAAAAAAMBQ2EAAAAAAgBnbQAAAAACARNRAAAAAAADV30AAAAAAYGLgQAAAAACAP91A",
          "dtype": "f8"
         },
         "yaxis": "y"
        },
        {
         "customdata": {
          "bdata": "AAAAAACQn0AAAAAAAJCfQAAAAAAAiJ9AAAAAAACQn0AAAAAAAJCfQAAAAAAAkJ9AAAAAAACQn0AAAAAAAIyfQAAAAAAAjJ9A",
          "dtype": "f8",
          "shape": "9, 1"
         },
         "hovertemplate": "Model=Mercedes-Benz SL 450 Base<br>Mileage=%{x}<br>Price=%{y}<br>Year=%{customdata[0]}<extra></extra>",
         "legendgroup": "Mercedes-Benz SL 450 Base",
         "marker": {
          "color": "#B6E880",
          "symbol": "circle"
         },
         "mode": "markers",
         "name": "Mercedes-Benz SL 450 Base",
         "showlegend": true,
         "type": "scattergl",
         "x": {
          "bdata": "AAAAAADSyEAAAAAAANLIQAAAAACABtJAAAAAAAC4v0AAAAAAwCPXQAAAAAAA9dZAAAAAAEAN50AAAAAAwKroQAAAAACAgNZA",
          "dtype": "f8"
         },
         "xaxis": "x",
         "y": {
          "bdata": "AAAAAICN8EAAAAAAgI3wQAAAAAAA2+pAAAAAAPAc8EAAAAAAwHrwQAAAAADgse9AAAAAAMDO7EAAAAAA4MHpQAAAAABAMO9A",
          "dtype": "f8"
         },
         "yaxis": "y"
        },
        {
         "customdata": {
          "bdata": "AAAAAACQn0AAAAAAAJyfQAAAAAAAnJ9AAAAAAACcn0AAAAAAAJyfQAAAAAAAkJ9AAAAAAACgn0AAAAAAAKCfQAAAAAAAoJ9AAAAAAACUn0AAAAAAAKCfQAAAAAAAmJ9AAAAAAACcn0AAAAAAAJifQAAAAAAAoJ9AAAAAAACcn0AAAAAAAJyfQAAAAAAAoJ9AAAAAAACYn0AAAAAAAJSfQAAAAAAAlJ9AAAAAAACUn0AAAAAAAJyfQAAAAAAAoJ9AAAAAAACgn0AAAAAAAJSfQAAAAAAAmJ9AAAAAAACcn0AAAAAAAKCfQAAAAAAAoJ9AAAAAAACgn0AAAAAAAJifQA==",
          "dtype": "f8",
          "shape": "32, 1"
         },
         "hovertemplate": "Model=Mercedes-Benz GLE 450 4MATIC<br>Mileage=%{x}<br>Price=%{y}<br>Year=%{customdata[0]}<extra></extra>",
         "legendgroup": "Mercedes-Benz GLE 450 4MATIC",
         "marker": {
          "color": "#FF97FF",
          "symbol": "circle"
         },
         "mode": "markers",
         "name": "Mercedes-Benz GLE 450 4MATIC",
         "showlegend": true,
         "type": "scattergl",
         "x": {
          "bdata": "AAAAAOCm5UAAAAAAAJPNQAAAAACAKM1AAAAAAICXzUAAAAAAQHXSQAAAAABgZeNAAAAAAAAYgEAAAAAAAH+9QAAAAACA+8BAAAAAAADZ1kAAAAAAAMSqQAAAAACAdetAAAAAAABC00AAAAAAQOfnQAAAAAAAqKRAAAAAAAD5wUAAAAAAABDIQAAAAAAAhKJAAAAAAOAz4EAAAAAAIJXtQAAAAACAst9AAAAAAAAe20AAAAAAAFy/QAAAAAAAVrNAAAAAAADskEAAAAAAoL7kQAAAAABAS9BAAAAAAAA2w0AAAAAAAOy3QAAAAAAAzqJAAAAAAABGpEAAAAAAQEXSQA==",
          "dtype": "f8"
         },
         "xaxis": "x",
         "y": {
          "bdata": "AAAAAGDM5EAAAAAAgBzwQAAAAABA/e9AAAAAAID070AAAAAAsHvwQAAAAADg8uZAAAAAAOCN8kAAAAAAgATyQAAAAAAQyvFAAAAAAKDY6kAAAAAAgI3wQAAAAABgw+pAAAAAAKCT8UAAAAAAoFvpQAAAAADw/vRAAAAAAMCm8EAAAAAAYA3xQAAAAADQw/FAAAAAAOC460AAAAAAgPflQAAAAACAXehAAAAAAKBj6UAAAAAA8AnyQAAAAADgy/JAAAAAACDM8kAAAAAAICbpQAAAAADgk+1AAAAAAGDw8UAAAAAAIOzyQAAAAAAQtvFAAAAAANBO8kAAAAAA4BXwQA==",
          "dtype": "f8"
         },
         "yaxis": "y"
        },
        {
         "customdata": {
          "bdata": "AAAAAACcn0AAAAAAAJyfQAAAAAAAnJ9AAAAAAACcn0A=",
          "dtype": "f8",
          "shape": "4, 1"
         },
         "hovertemplate": "Model=Mercedes-Benz EQS 450+ 450<br>Mileage=%{x}<br>Price=%{y}<br>Year=%{customdata[0]}<extra></extra>",
         "legendgroup": "Mercedes-Benz EQS 450+ 450",
         "marker": {
          "color": "#FECB52",
          "symbol": "circle"
         },
         "mode": "markers",
         "name": "Mercedes-Benz EQS 450+ 450",
         "showlegend": true,
         "type": "scattergl",
         "x": {
          "bdata": "AAAAAADtxEAAAAAAgMDEQAAAAAAAx81AAAAAAACLukA=",
          "dtype": "f8"
         },
         "xaxis": "x",
         "y": {
          "bdata": "AAAAAEBC8kAAAAAAkCjyQAAAAACAVPBAAAAAAHB08EA=",
          "dtype": "f8"
         },
         "yaxis": "y"
        },
        {
         "customdata": {
          "bdata": "AAAAAACcn0AAAAAAAJSfQA==",
          "dtype": "f8",
          "shape": "2, 1"
         },
         "hovertemplate": "Model=Mercedes-Benz AMG CLA 45 AMG CLA 45 4MATIC<br>Mileage=%{x}<br>Price=%{y}<br>Year=%{customdata[0]}<extra></extra>",
         "legendgroup": "Mercedes-Benz AMG CLA 45 AMG CLA 45 4MATIC",
         "marker": {
          "color": "#636efa",
          "symbol": "circle"
         },
         "mode": "markers",
         "name": "Mercedes-Benz AMG CLA 45 AMG CLA 45 4MATIC",
         "showlegend": true,
         "type": "scattergl",
         "x": {
          "bdata": "AAAAAAAdvkAAAAAAAFPfQA==",
          "dtype": "f8"
         },
         "xaxis": "x",
         "y": {
          "bdata": "AAAAAECy7EAAAAAAIFvoQA==",
          "dtype": "f8"
         },
         "yaxis": "y"
        },
        {
         "customdata": {
          "bdata": "AAAAAACcn0AAAAAAAJyfQAAAAAAAmJ9AAAAAAACUn0AAAAAAAJyfQAAAAAAAnJ9AAAAAAACYn0AAAAAAAJifQAAAAAAAnJ9AAAAAAACcn0A=",
          "dtype": "f8",
          "shape": "10, 1"
         },
         "hovertemplate": "Model=Mercedes-Benz AMG CLA 35 Base 4MATIC<br>Mileage=%{x}<br>Price=%{y}<br>Year=%{customdata[0]}<extra></extra>",
         "legendgroup": "Mercedes-Benz AMG CLA 35 Base 4MATIC",
         "marker": {
          "color": "#EF553B",
          "symbol": "circle"
         },
         "mode": "markers",
         "name": "Mercedes-Benz AMG CLA 35 Base 4MATIC",
         "showlegend": true,
         "type": "scattergl",
         "x": {
          "bdata": "AAAAAADPsUAAAAAAgD7FQAAAAADAseFAAAAAAKB34UAAAAAAAFGxQAAAAACAUM1AAAAAAACnxkAAAAAAAGm3QAAAAAAAArdAAAAAAADEp0A=",
          "dtype": "f8"
         },
         "xaxis": "x",
         "y": {
          "bdata": "AAAAAIDm5kAAAAAAAB/oQAAAAABA7OVAAAAAAEDK4kAAAAAA4FvqQAAAAACg2OZAAAAAAMD35UAAAAAAYJzmQAAAAAAAx+pAAAAAAGBQ6EA=",
          "dtype": "f8"
         },
         "yaxis": "y"
        },
        {
         "customdata": {
          "bdata": "AAAAAACMn0AAAAAAAIyfQAAAAAAAkJ9AAAAAAACUn0AAAAAAAJSfQAAAAAAAkJ9AAAAAAACQn0AAAAAAAJSfQAAAAAAAlJ9AAAAAAACUn0A=",
          "dtype": "f8",
          "shape": "10, 1"
         },
         "hovertemplate": "Model=Mercedes-Benz CLS 450 Base<br>Mileage=%{x}<br>Price=%{y}<br>Year=%{customdata[0]}<extra></extra>",
         "legendgroup": "Mercedes-Benz CLS 450 Base",
         "marker": {
          "color": "#00cc96",
          "symbol": "circle"
         },
         "mode": "markers",
         "name": "Mercedes-Benz CLS 450 Base",
         "showlegend": true,
         "type": "scattergl",
         "x": {
          "bdata": "AAAAAODI4kAAAAAAYN3gQAAAAAAgoepAAAAAAODW50AAAAAAIFLiQAAAAACALuBAAAAAAADF6EAAAAAAAO/hQAAAAABAx9ZAAAAAAICH0EA=",
          "dtype": "f8"
         },
         "xaxis": "x",
         "y": {
          "bdata": "AAAAAIAK40AAAAAA4G7lQAAAAAAAjuJAAAAAAGBQ5kAAAAAAIJvoQAAAAACAN+ZAAAAAAEDF40AAAAAAwF/mQAAAAACg5uhAAAAAAIBR6kA=",
          "dtype": "f8"
         },
         "yaxis": "y"
        },
        {
         "customdata": {
          "bdata": "AAAAAACMn0AAAAAAAJSfQAAAAAAAjJ9AAAAAAACcn0AAAAAAAIyfQAAAAAAAlJ9AAAAAAACMn0AAAAAAAJifQAAAAAAAmJ9AAAAAAACUn0AAAAAAAJCfQAAAAAAAmJ9AAAAAAACcn0A=",
          "dtype": "f8",
          "shape": "13, 1"
         },
         "hovertemplate": "Model=Mercedes-Benz CLS 450 Base 4MATIC<br>Mileage=%{x}<br>Price=%{y}<br>Year=%{customdata[0]}<extra></extra>",
         "legendgroup": "Mercedes-Benz CLS 450 Base 4MATIC",
         "marker": {
          "color": "#ab63fa",
          "symbol": "circle"
         },
         "mode": "markers",
         "name": "Mercedes-Benz CLS 450 Base 4MATIC",
         "showlegend": true,
         "type": "scattergl",
         "x": {
          "bdata": "AAAAAEDm6kAAAAAAoEPiQAAAAACAgMNAAAAAAAAos0AAAAAAAIfUQAAAAACAn8xAAAAAAECL7UAAAAAAgL3TQAAAAACAN8RAAAAAAACK4EAAAAAAAAjhQAAAAACA885AAAAAAMCs3UA=",
          "dtype": "f8"
         },
         "xaxis": "x",
         "y": {
          "bdata": "AAAAAEBC40AAAAAAgJvmQAAAAADgb+dAAAAAAODX8EAAAAAAwI/mQAAAAAAAP+tAAAAAAECA4kAAAAAA4LvvQAAAAADwHPBAAAAAAIAx50AAAAAAYG/nQAAAAABwHPBAAAAAAAD570A=",
          "dtype": "f8"
         },
         "yaxis": "y"
        },
        {
         "customdata": {
          "bdata": "AAAAAACgn0AAAAAAAJSfQAAAAAAAlJ9AAAAAAACcn0AAAAAAAJCfQAAAAAAAlJ9AAAAAAACYn0AAAAAAAJSfQAAAAAAAnJ9AAAAAAACUn0AAAAAAAJSfQAAAAAAAlJ9AAAAAAACQn0AAAAAAAJyfQAAAAAAAlJ9AAAAAAACUn0AAAAAAAJCfQA==",
          "dtype": "f8",
          "shape": "17, 1"
         },
         "hovertemplate": "Model=Mercedes-Benz GLS 580 Base 4MATIC<br>Mileage=%{x}<br>Price=%{y}<br>Year=%{customdata[0]}<extra></extra>",
         "legendgroup": "Mercedes-Benz GLS 580 Base 4MATIC",
         "marker": {
          "color": "#FFA15A",
          "symbol": "circle"
         },
         "mode": "markers",
         "name": "Mercedes-Benz GLS 580 Base 4MATIC",
         "showlegend": true,
         "type": "scattergl",
         "x": {
          "bdata": "AAAAAACzv0AAAAAAAITeQAAAAACgIOpAAAAAAIAiw0AAAAAA0EXxQAAAAADgueJAAAAAAAAbxUAAAAAAwFzvQAAAAAAA8I5AAAAAACAt4EAAAAAAABzYQAAAAACA0M9AAAAAAMD300AAAAAAAPCLQAAAAABg5OhAAAAAAEAH5UAAAAAA4HTsQA==",
          "dtype": "f8"
         },
         "xaxis": "x",
         "y": {
          "bdata": "AAAAANCG+0AAAAAA4BDyQAAAAAAAnu5AAAAAADAr+EAAAAAAgM7qQAAAAAAgk/BAAAAAALBy9UAAAAAAcBbxQAAAAAAgC/hAAAAAALAU8UAAAAAAAFDyQAAAAADQBvNAAAAAALCT8UAAAAAA8Gn4QAAAAACAMu5AAAAAAAAZ8EAAAAAA4K7rQA==",
          "dtype": "f8"
         },
         "yaxis": "y"
        },
        {
         "customdata": {
          "bdata": "AAAAAACUn0A=",
          "dtype": "f8",
          "shape": "1, 1"
         },
         "hovertemplate": "Model=Mercedes-Benz AMG CLS 53 4MATIC<br>Mileage=%{x}<br>Price=%{y}<br>Year=%{customdata[0]}<extra></extra>",
         "legendgroup": "Mercedes-Benz AMG CLS 53 4MATIC",
         "marker": {
          "color": "#19d3f3",
          "symbol": "circle"
         },
         "mode": "markers",
         "name": "Mercedes-Benz AMG CLS 53 4MATIC",
         "showlegend": true,
         "type": "scattergl",
         "x": {
          "bdata": "AAAAAIDV3kA=",
          "dtype": "f8"
         },
         "xaxis": "x",
         "y": {
          "bdata": "AAAAAIBF7EA=",
          "dtype": "f8"
         },
         "yaxis": "y"
        },
        {
         "customdata": {
          "bdata": "AAAAAACcn0A=",
          "dtype": "f8",
          "shape": "1, 1"
         },
         "hovertemplate": "Model=Mercedes-Benz EQB 250 250 4D Sport Utility<br>Mileage=%{x}<br>Price=%{y}<br>Year=%{customdata[0]}<extra></extra>",
         "legendgroup": "Mercedes-Benz EQB 250 250 4D Sport Utility",
         "marker": {
          "color": "#FF6692",
          "symbol": "circle"
         },
         "mode": "markers",
         "name": "Mercedes-Benz EQB 250 250 4D Sport Utility",
         "showlegend": true,
         "type": "scattergl",
         "x": {
          "bdata": "AAAAAAB4oUA=",
          "dtype": "f8"
         },
         "xaxis": "x",
         "y": {
          "bdata": "AAAAAGBp6EA=",
          "dtype": "f8"
         },
         "yaxis": "y"
        },
        {
         "customdata": {
          "bdata": "AAAAAACYn0AAAAAAAJifQAAAAAAAmJ9AAAAAAACYn0AAAAAAAJifQA==",
          "dtype": "f8",
          "shape": "5, 1"
         },
         "hovertemplate": "Model=Mercedes-Benz Maybach S 580 4MATIC<br>Mileage=%{x}<br>Price=%{y}<br>Year=%{customdata[0]}<extra></extra>",
         "legendgroup": "Mercedes-Benz Maybach S 580 4MATIC",
         "marker": {
          "color": "#B6E880",
          "symbol": "circle"
         },
         "mode": "markers",
         "name": "Mercedes-Benz Maybach S 580 4MATIC",
         "showlegend": true,
         "type": "scattergl",
         "x": {
          "bdata": "AAAAAIBwxkAAAAAAAFi5QAAAAACAReNAAAAAAABYuUAAAAAAAPHTQA==",
          "dtype": "f8"
         },
         "xaxis": "x",
         "y": {
          "bdata": "AAAAANDDAkEAAAAA2K0FQQAAAADQWAFBAAAAANitBUEAAAAAoOgCQQ==",
          "dtype": "f8"
         },
         "yaxis": "y"
        },
        {
         "customdata": {
          "bdata": "AAAAAACcn0AAAAAAAJyfQAAAAAAAnJ9AAAAAAACcn0AAAAAAAJyfQAAAAAAAnJ9AAAAAAACcn0AAAAAAAJyfQAAAAAAAnJ9AAAAAAACcn0AAAAAAAJSfQAAAAAAAmJ9AAAAAAACYn0AAAAAAAJyfQAAAAAAAmJ9AAAAAAACQn0AAAAAAAJyfQAAAAAAAlJ9AAAAAAACYn0AAAAAAAJifQAAAAAAAlJ9AAAAAAACcn0AAAAAAAJyfQAAAAAAAkJ9AAAAAAACcn0AAAAAAAJyfQAAAAAAAnJ9AAAAAAACcn0AAAAAAAJyfQAAAAAAAnJ9AAAAAAACcn0AAAAAAAJyfQAAAAAAAnJ9AAAAAAACcn0AAAAAAAJyfQAAAAAAAnJ9AAAAAAACcn0AAAAAAAJCfQAAAAAAAlJ9AAAAAAACcn0AAAAAAAJyfQAAAAAAAoJ9AAAAAAACcn0AAAAAAAJSfQAAAAAAAkJ9AAAAAAACUn0AAAAAAAJyfQAAAAAAAnJ9AAAAAAACcn0AAAAAAAJSfQAAAAAAAlJ9AAAAAAACcn0AAAAAAAJyfQAAAAAAAlJ9AAAAAAACUn0AAAAAAAJSfQAAAAAAAmJ9AAAAAAACUn0AAAAAAAJyfQAAAAAAAnJ9AAAAAAACcn0AAAAAAAJSfQAAAAAAAnJ9AAAAAAACcn0AAAAAAAJyfQAAAAAAAlJ9AAAAAAACQn0AAAAAAAJyfQAAAAAAAnJ9AAAAAAACcn0AAAAAAAJSfQAAAAAAAkJ9AAAAAAACcn0AAAAAAAJyfQAAAAAAAnJ9AAAAAAACUn0AAAAAAAJSfQAAAAAAAnJ9AAAAAAACcn0AAAAAAAJSfQAAAAAAAnJ9AAAAAAACQn0AAAAAAAJCfQAAAAAAAnJ9AAAAAAACcn0AAAAAAAJyfQAAAAAAAnJ9AAAAAAACUn0AAAAAAAJyfQAAAAAAAlJ9AAAAAAACcn0AAAAAAAJSfQAAAAAAAnJ9AAAAAAACUn0AAAAAAAJyfQAAAAAAAkJ9AAAAAAACUn0AAAAAAAJCfQAAAAAAAnJ9AAAAAAACUn0AAAAAAAJyfQAAAAAAAlJ9AAAAAAACUn0AAAAAAAJyfQAAAAAAAkJ9AAAAAAACgn0AAAAAAAJCfQAAAAAAAlJ9AAAAAAACcn0AAAAAAAJSfQAAAAAAAnJ9AAAAAAACcn0AAAAAAAJSfQAAAAAAAnJ9AAAAAAACUn0AAAAAAAJyfQAAAAAAAnJ9AAAAAAACUn0AAAAAAAJifQA==",
          "dtype": "f8",
          "shape": "119, 1"
         },
         "hovertemplate": "Model=Mercedes-Benz GLB 250 Base<br>Mileage=%{x}<br>Price=%{y}<br>Year=%{customdata[0]}<extra></extra>",
         "legendgroup": "Mercedes-Benz GLB 250 Base",
         "marker": {
          "color": "#FF97FF",
          "symbol": "circle"
         },
         "mode": "markers",
         "name": "Mercedes-Benz GLB 250 Base",
         "showlegend": true,
         "type": "scattergl",
         "x": {
          "bdata": "AAAAAABzvkAAAAAAAJm9QAAAAAAASLRAAAAAAAATuUAAAAAAAIu9QAAAAACAEM5AAAAAAIAlxUAAAAAAANG9QAAAAAAAU7lAAAAAAICdyEAAAAAAACvjQAAAAAAA1s9AAAAAAIDU2EAAAAAAACe6QAAAAAAA1s9AAAAAAABD30AAAAAAwLbRQAAAAAAAiuJAAAAAAADWz0AAAAAAAGLbQAAAAACAiuFAAAAAAAAipUAAAAAAAH2zQAAAAABA4d1AAAAAAAB9s0AAAAAAAAaxQAAAAABAKNFAAAAAAAATukAAAAAAAODBQAAAAAAA+LRAAAAAAAB3w0AAAAAAgG7LQAAAAAAAqKtAAAAAAAC0s0AAAAAAAJa/QAAAAACAyMFAAAAAAABcp0AAAAAAAAjZQAAAAACgSeNAAAAAAAD8qUAAAAAAAKm2QAAAAAAAWJ9AAAAAAACqpUAAAAAAwNvUQAAAAADAmeJAAAAAAADx2EAAAAAAABi0QAAAAAAAfcVAAAAAAADOsEAAAAAAAOPoQAAAAACADtxAAAAAAIAiy0AAAAAAgAbFQAAAAADAUthAAAAAAOCh4kAAAAAAwAfiQAAAAACAqtdAAAAAAEBX3EAAAAAAAL7LQAAAAACAy8FAAAAAAABDv0AAAAAAIDzgQAAAAAAACMFAAAAAAAC8wUAAAAAAgLHNQAAAAACgy+JAAAAAAED32UAAAAAAQJDTQAAAAAAAB7pAAAAAAACwzEAAAAAAQLbVQAAAAAAAA8pAAAAAAADBxEAAAAAAAGuyQAAAAAAAeJpAAAAAAKDk40AAAAAAYDfkQAAAAACASMFAAAAAAIDIxEAAAAAAYBjmQAAAAACAosVAAAAAAIAx3EAAAAAA4PLnQAAAAACAQ81AAAAAAAAApEAAAAAAAHGyQAAAAACACcVAAAAAAIAz3UAAAAAAALq8QAAAAAAgGuBAAAAAAACwmkAAAAAAQIDjQAAAAACAvcFAAAAAAGCn60AAAAAAAByuQAAAAACA3eFAAAAAAIDk0UAAAAAAAKfwQAAAAAAA4sVAAAAAAEAS1UAAAAAAAMa1QAAAAACAVuBAAAAAAMAR4EAAAAAAAAW5QAAAAADgcOpAAAAAAACsqEAAAAAAYH/gQAAAAACAos1AAAAAAKBR60AAAAAAQGDjQAAAAAAAqrBAAAAAAAAnw0AAAAAAAOLWQAAAAACAzcVAAAAAAIBg1UAAAAAAAHa2QAAAAAAAGrtAAAAAAIAs4UAAAAAAADXnQA==",
          "dtype": "f8"
         },
         "xaxis": "x",
         "y": {
          "bdata": "AAAAAOBp5UAAAAAAIAzlQAAAAAAA2eVAAAAAAGDA5EAAAAAAIGDlQAAAAACAlOVAAAAAAAB340AAAAAAIN3lQAAAAAAg1+ZAAAAAACBN50AAAAAAQLXcQAAAAADguOFAAAAAAOCF4UAAAAAAoA3kQAAAAADguOFAAAAAAICh30AAAAAAYHTjQAAAAADAOt5AAAAAAOC44UAAAAAAIIfhQAAAAABgpOFAAAAAAACa5kAAAAAAQHXmQAAAAAAAQN9AAAAAAEB15kAAAAAAoDXmQAAAAADAaedAAAAAACCo5kAAAAAAoPjlQAAAAACgPudAAAAAACAf5kAAAAAAQD3lQAAAAABgDOdAAAAAACAZ50AAAAAAgBnnQAAAAACgMudAAAAAAOD95EAAAAAAQO7cQAAAAADA3d1AAAAAAGCB4kAAAAAAgHvjQAAAAADg6ONAAAAAAMAx50AAAAAA4EHgQAAAAAAArt5AAAAAAADp3kAAAAAAAK3kQAAAAACgBORAAAAAAIBX50AAAAAAwJbcQAAAAABA9+BAAAAAAICR5kAAAAAAAJvkQAAAAAAAjeBAAAAAAAAq3kAAAAAAgEndQAAAAADAPN9AAAAAAADU20AAAAAAgELkQAAAAADgeeVAAAAAAGBz5EAAAAAAQDXeQAAAAABgbeVAAAAAAGCT5kAAAAAAYBbhQAAAAABAQ95AAAAAAABz30AAAAAAwHrjQAAAAACABORAAAAAAECX40AAAAAAgPrdQAAAAADAS91AAAAAAMD45UAAAAAAYGPlQAAAAACg9eNAAAAAAMCl3kAAAAAAwEPeQAAAAAAg2+ZAAAAAAEB640AAAAAAwErdQAAAAABgyOVAAAAAAAC930AAAAAAgP7YQAAAAADgdOZAAAAAAECB5EAAAAAAYHvlQAAAAACgIORAAAAAAIBv30AAAAAAwPflQAAAAAAANuFAAAAAAIDp5UAAAAAAAMDeQAAAAAAAY+VAAAAAAMAY3UAAAAAAgIbjQAAAAACAPt1AAAAAAEAv30AAAAAAwFzaQAAAAAAABeRAAAAAAADs4EAAAAAAoBHlQAAAAADAq91AAAAAAEBq3kAAAAAA4P7kQAAAAAAAW9pAAAAAAABo5kAAAAAAwODdQAAAAACgFOBAAAAAAIDR4EAAAAAAgMbdQAAAAACgbuVAAAAAACCS5kAAAAAA4AjhQAAAAACgVOdAAAAAAMAT3kAAAAAAwIfjQAAAAACgg+dAAAAAAMB23kAAAAAAAC3eQA==",
          "dtype": "f8"
         },
         "yaxis": "y"
        },
        {
         "customdata": {
          "bdata": "AAAAAACQn0AAAAAAAJCfQAAAAAAAkJ9AAAAAAACQn0AAAAAAAJCfQAAAAAAAkJ9AAAAAAACQn0AAAAAAAIyfQAAAAAAAkJ9AAAAAAACQn0AAAAAAAJCfQAAAAAAAkJ9AAAAAAACMn0AAAAAAAISfQAAAAAAAjJ9AAAAAAACQn0AAAAAAAIifQAAAAAAAjJ9AAAAAAACQn0AAAAAAAJCfQAAAAAAAkJ9AAAAAAACQn0AAAAAAAISfQAAAAAAAkJ9AAAAAAACQn0AAAAAAAJCfQAAAAAAAkJ9AAAAAAACQn0AAAAAAAJCfQAAAAAAAkJ9A",
          "dtype": "f8",
          "shape": "30, 1"
         },
         "hovertemplate": "Model=Mercedes-Benz GLS 450 Base 4MATIC<br>Mileage=%{x}<br>Price=%{y}<br>Year=%{customdata[0]}<extra></extra>",
         "legendgroup": "Mercedes-Benz GLS 450 Base 4MATIC",
         "marker": {
          "color": "#FECB52",
          "symbol": "circle"
         },
         "mode": "markers",
         "name": "Mercedes-Benz GLS 450 Base 4MATIC",
         "showlegend": true,
         "type": "scattergl",
         "x": {
          "bdata": "AAAAACB540AAAAAAwNXhQAAAAAAgBOZAAAAAACAE5kAAAAAAIHnjQAAAAABgrelAAAAAAID85EAAAAAAoO7hQAAAAADQjPVAAAAAAGDa5UAAAAAAIATmQAAAAABANOJAAAAAAOBF7UAAAAAAYOv1QAAAAABAm+1AAAAAAADH5EAAAAAAMHDzQAAAAADA5OlAAAAAAGBi60AAAAAAwH7gQAAAAABgiuJAAAAAAKBv60AAAAAAYODxQAAAAAAgxuNAAAAAAEAI2EAAAAAAYLrjQAAAAABA/+VAAAAAACDU5UAAAAAAoEToQAAAAABgSOlA",
          "dtype": "f8"
         },
         "xaxis": "x",
         "y": {
          "bdata": "AAAAAGCw6EAAAAAAAF7qQAAAAACA2uhAAAAAAIDa6EAAAAAAYLDoQAAAAADgKuhAAAAAAMBo6EAAAAAAYATkQAAAAABAkOVAAAAAAADP7EAAAAAAgNroQAAAAACAyOtAAAAAAMCJ4UAAAAAAgEnZQAAAAAAgyeBAAAAAACDY6EAAAAAAAFjbQAAAAACAT+JAAAAAAED+5EAAAAAAwFrqQAAAAADAVutAAAAAAODr50AAAAAAgGnYQAAAAACACupAAAAAAABK60AAAAAAgMfnQAAAAAAAV+dAAAAAAEBH6EAAAAAA4DbmQAAAAAAg0edA",
          "dtype": "f8"
         },
         "yaxis": "y"
        },
        {
         "customdata": {
          "bdata": "AAAAAACMn0AAAAAAAIifQAAAAAAAnJ9AAAAAAACUn0AAAAAAAJyfQAAAAAAAjJ9AAAAAAACMn0A=",
          "dtype": "f8",
          "shape": "7, 1"
         },
         "hovertemplate": "Model=Mercedes-Benz AMG E 63 S 4MATIC<br>Mileage=%{x}<br>Price=%{y}<br>Year=%{customdata[0]}<extra></extra>",
         "legendgroup": "Mercedes-Benz AMG E 63 S 4MATIC",
         "marker": {
          "color": "#636efa",
          "symbol": "circle"
         },
         "mode": "markers",
         "name": "Mercedes-Benz AMG E 63 S 4MATIC",
         "showlegend": true,
         "type": "scattergl",
         "x": {
          "bdata": "AAAAAID30UAAAAAAgP/SQAAAAAAABMFAAAAAAKAz40AAAAAAAATBQAAAAADg6eNAAAAAACDW4kA=",
          "dtype": "f8"
         },
         "xaxis": "x",
         "y": {
          "bdata": "AAAAAHBI8kAAAAAAYBDyQAAAAABYQgNBAAAAANA49UAAAAAAWEIDQQAAAADgFvFAAAAAAEAQ8UA=",
          "dtype": "f8"
         },
         "yaxis": "y"
        },
        {
         "customdata": {
          "bdata": "AAAAAACQn0A=",
          "dtype": "f8",
          "shape": "1, 1"
         },
         "hovertemplate": "Model=Mercedes-Benz GLE 580 4MATIC<br>Mileage=%{x}<br>Price=%{y}<br>Year=%{customdata[0]}<extra></extra>",
         "legendgroup": "Mercedes-Benz GLE 580 4MATIC",
         "marker": {
          "color": "#EF553B",
          "symbol": "circle"
         },
         "mode": "markers",
         "name": "Mercedes-Benz GLE 580 4MATIC",
         "showlegend": true,
         "type": "scattergl",
         "x": {
          "bdata": "AAAAAIBazUA=",
          "dtype": "f8"
         },
         "xaxis": "x",
         "y": {
          "bdata": "AAAAAKAC7UA=",
          "dtype": "f8"
         },
         "yaxis": "y"
        },
        {
         "customdata": {
          "bdata": "AAAAAACMn0AAAAAAAISfQAAAAAAAnJ9AAAAAAACUn0AAAAAAAIyfQA==",
          "dtype": "f8",
          "shape": "5, 1"
         },
         "hovertemplate": "Model=Mercedes-Benz AMG C 63 S<br>Mileage=%{x}<br>Price=%{y}<br>Year=%{customdata[0]}<extra></extra>",
         "legendgroup": "Mercedes-Benz AMG C 63 S",
         "marker": {
          "color": "#00cc96",
          "symbol": "circle"
         },
         "mode": "markers",
         "name": "Mercedes-Benz AMG C 63 S",
         "showlegend": true,
         "type": "scattergl",
         "x": {
          "bdata": "AAAAACAR4EAAAAAAgK/mQAAAAAAAVrVAAAAAAACjy0AAAAAAwFfXQA==",
          "dtype": "f8"
         },
         "xaxis": "x",
         "y": {
          "bdata": "AAAAAKB67kAAAAAAgK7nQAAAAADw4PlAAAAAAOCH80AAAAAAYDPvQA==",
          "dtype": "f8"
         },
         "yaxis": "y"
        },
        {
         "customdata": {
          "bdata": "AAAAAACYn0AAAAAAAJyfQAAAAAAAnJ9AAAAAAACcn0AAAAAAAJyfQAAAAAAAlJ9AAAAAAACcn0AAAAAAAJSfQAAAAAAAmJ9AAAAAAACcn0AAAAAAAJyfQAAAAAAAoJ9AAAAAAACcn0AAAAAAAJifQAAAAAAAmJ9AAAAAAACcn0AAAAAAAJSfQAAAAAAAmJ9AAAAAAACQn0AAAAAAAJifQAAAAAAAmJ9AAAAAAACcn0AAAAAAAJSfQAAAAAAAnJ9AAAAAAACYn0AAAAAAAJifQAAAAAAAnJ9A",
          "dtype": "f8",
          "shape": "27, 1"
         },
         "hovertemplate": "Model=Mercedes-Benz AMG G 63 4MATIC<br>Mileage=%{x}<br>Price=%{y}<br>Year=%{customdata[0]}<extra></extra>",
         "legendgroup": "Mercedes-Benz AMG G 63 4MATIC",
         "marker": {
          "color": "#ab63fa",
          "symbol": "circle"
         },
         "mode": "markers",
         "name": "Mercedes-Benz AMG G 63 4MATIC",
         "showlegend": true,
         "type": "scattergl",
         "x": {
          "bdata": "AAAAAABWz0AAAAAAAK23QAAAAAAATbtAAAAAAAClu0AAAAAAAMm1QAAAAABAlNJAAAAAAAAfw0AAAAAAgLPJQAAAAAAAWI1AAAAAAAA2p0AAAAAAAMm1QAAAAAAAgFxAAAAAAACmpUAAAAAAAHHNQAAAAAAAM79AAAAAAADgbUAAAAAAwEbTQAAAAAAA6KVAAAAAAEDH3EAAAAAAgGjGQAAAAAAAqtRAAAAAAIASwUAAAAAAAJrJQAAAAAAAHJlAAAAAAID2wkAAAAAAgErSQAAAAAAAxJtA",
          "dtype": "f8"
         },
         "xaxis": "x",
         "y": {
          "bdata": "AAAAAIArCEEAAAAAWKIJQQAAAADIZQhBAAAAALBFC0EAAAAAUBkLQQAAAADotQRBAAAAAPjmCEEAAAAAgN0FQQAAAADY2gpBAAAAAOjUCkEAAAAAUBkLQQAAAACwCAxBAAAAANhzC0EAAAAAMJ8JQQAAAAA4fQpBAAAAAMi5CkEAAAAAAC4HQQAAAACw1wpBAAAAAHjABEEAAAAA8PwJQQAAAAAojwdBAAAAAChBCUEAAAAAQEcIQQAAAAAY3wtBAAAAADiiCUEAAAAAaKsHQQAAAADwEAxB",
          "dtype": "f8"
         },
         "yaxis": "y"
        },
        {
         "customdata": {
          "bdata": "AAAAAACUn0AAAAAAAJyfQAAAAAAAnJ9AAAAAAACcn0AAAAAAAJifQAAAAAAAlJ9AAAAAAACYn0AAAAAAAJSfQAAAAAAAnJ9AAAAAAACgn0AAAAAAAJSfQAAAAAAAnJ9AAAAAAACUn0AAAAAAAKCfQAAAAAAAoJ9AAAAAAACgn0AAAAAAAKCfQAAAAAAAlJ9AAAAAAACcn0AAAAAAAKCfQA==",
          "dtype": "f8",
          "shape": "20, 1"
         },
         "hovertemplate": "Model=Mercedes-Benz AMG GLE 53 Base<br>Mileage=%{x}<br>Price=%{y}<br>Year=%{customdata[0]}<extra></extra>",
         "legendgroup": "Mercedes-Benz AMG GLE 53 Base",
         "marker": {
          "color": "#FFA15A",
          "symbol": "circle"
         },
         "mode": "markers",
         "name": "Mercedes-Benz AMG GLE 53 Base",
         "showlegend": true,
         "type": "scattergl",
         "x": {
          "bdata": "AAAAAGDh5kAAAAAAQBLZQAAAAACAO81AAAAAAIBjzkAAAAAAAHPNQAAAAAAASO9AAAAAAMBz1kAAAAAAYPLiQAAAAACAbcRAAAAAAADevEAAAAAAADDWQAAAAAAATsdAAAAAAGDi4kAAAAAAAGymQAAAAAAAHMFAAAAAAIDCxkAAAAAAABymQAAAAADAFt9AAAAAAIBW0kAAAAAAAGSVQA==",
          "dtype": "f8"
         },
         "xaxis": "x",
         "y": {
          "bdata": "AAAAAIBq7kAAAAAAICr1QAAAAADgVfVAAAAAAIDA9EAAAAAA4J/yQAAAAADgQ+pAAAAAAPCW80AAAAAAoL3xQAAAAADwjfJAAAAAACDA9EAAAAAAgMzyQAAAAADAD/JAAAAAAMBr8UAAAAAA8HX2QAAAAADANfZAAAAAALA19kAAAAAAAPj1QAAAAABQvfFAAAAAAGCH80AAAAAA0DD3QA==",
          "dtype": "f8"
         },
         "yaxis": "y"
        },
        {
         "customdata": {
          "bdata": "AAAAAACMn0A=",
          "dtype": "f8",
          "shape": "1, 1"
         },
         "hovertemplate": "Model=Mercedes-Benz Sprinter 3500 144 WB ROOF<br>Mileage=%{x}<br>Price=%{y}<br>Year=%{customdata[0]}<extra></extra>",
         "legendgroup": "Mercedes-Benz Sprinter 3500 144 WB ROOF",
         "marker": {
          "color": "#19d3f3",
          "symbol": "circle"
         },
         "mode": "markers",
         "name": "Mercedes-Benz Sprinter 3500 144 WB ROOF",
         "showlegend": true,
         "type": "scattergl",
         "x": {
          "bdata": "AAAAAMAC8UA=",
          "dtype": "f8"
         },
         "xaxis": "x",
         "y": {
          "bdata": "AAAAAOB05kA=",
          "dtype": "f8"
         },
         "yaxis": "y"
        },
        {
         "customdata": {
          "bdata": "AAAAAACMn0AAAAAAAJCfQAAAAAAAjJ9AAAAAAACQn0AAAAAAAJCfQA==",
          "dtype": "f8",
          "shape": "5, 1"
         },
         "hovertemplate": "Model=Mercedes-Benz AMG S 63 Base 4MATIC<br>Mileage=%{x}<br>Price=%{y}<br>Year=%{customdata[0]}<extra></extra>",
         "legendgroup": "Mercedes-Benz AMG S 63 Base 4MATIC",
         "marker": {
          "color": "#FF6692",
          "symbol": "circle"
         },
         "mode": "markers",
         "name": "Mercedes-Benz AMG S 63 Base 4MATIC",
         "showlegend": true,
         "type": "scattergl",
         "x": {
          "bdata": "AAAAAGAK6kAAAAAAANrTQAAAAACAQN5AAAAAAMCd0UAAAAAAwDfTQA==",
          "dtype": "f8"
         },
         "xaxis": "x",
         "y": {
          "bdata": "AAAAAIAq+EAAAAAA0G73QAAAAAAwh/NAAAAAANAM+EAAAAAAICEEQQ==",
          "dtype": "f8"
         },
         "yaxis": "y"
        },
        {
         "customdata": {
          "bdata": "AAAAAACgn0AAAAAAAKCfQA==",
          "dtype": "f8",
          "shape": "2, 1"
         },
         "hovertemplate": "Model=Mercedes-Benz GLE 450 Plug-In Hybrid 4MATIC<br>Mileage=%{x}<br>Price=%{y}<br>Year=%{customdata[0]}<extra></extra>",
         "legendgroup": "Mercedes-Benz GLE 450 Plug-In Hybrid 4MATIC",
         "marker": {
          "color": "#B6E880",
          "symbol": "circle"
         },
         "mode": "markers",
         "name": "Mercedes-Benz GLE 450 Plug-In Hybrid 4MATIC",
         "showlegend": true,
         "type": "scattergl",
         "x": {
          "bdata": "AAAAAAB8q0AAAAAAAPCsQA==",
          "dtype": "f8"
         },
         "xaxis": "x",
         "y": {
          "bdata": "AAAAAED48kAAAAAAQEL0QA==",
          "dtype": "f8"
         },
         "yaxis": "y"
        },
        {
         "customdata": {
          "bdata": "AAAAAACUn0AAAAAAAJyfQAAAAAAAlJ9AAAAAAACYn0AAAAAAAJifQAAAAAAAnJ9AAAAAAACYn0AAAAAAAJyfQAAAAAAAnJ9AAAAAAACgn0AAAAAAAJifQAAAAAAAnJ9AAAAAAACcn0AAAAAAAJifQAAAAAAAlJ9AAAAAAACUn0AAAAAAAKCfQAAAAAAAlJ9AAAAAAACgn0AAAAAAAJifQAAAAAAAnJ9AAAAAAACgn0AAAAAAAJyfQAAAAAAAlJ9AAAAAAACcn0AAAAAAAJifQAAAAAAAoJ9AAAAAAACcn0AAAAAAAJyfQAAAAAAAnJ9AAAAAAACUn0AAAAAAAKCfQAAAAAAAmJ9AAAAAAACgn0AAAAAAAJSfQAAAAAAAmJ9AAAAAAACcn0AAAAAAAJSfQAAAAAAAlJ9AAAAAAACUn0AAAAAAAJSfQAAAAAAAnJ9AAAAAAACYn0AAAAAAAJSfQAAAAAAAlJ9AAAAAAACUn0AAAAAAAKCfQAAAAAAAlJ9AAAAAAACgn0AAAAAAAJSfQA==",
          "dtype": "f8",
          "shape": "50, 1"
         },
         "hovertemplate": "Model=Mercedes-Benz GLS 450 4MATIC<br>Mileage=%{x}<br>Price=%{y}<br>Year=%{customdata[0]}<extra></extra>",
         "legendgroup": "Mercedes-Benz GLS 450 4MATIC",
         "marker": {
          "color": "#FF97FF",
          "symbol": "circle"
         },
         "mode": "markers",
         "name": "Mercedes-Benz GLS 450 4MATIC",
         "showlegend": true,
         "type": "scattergl",
         "x": {
          "bdata": "AAAAAGCN4kAAAAAAgG7OQAAAAACAMOJAAAAAAOBW5kAAAAAAAPrgQAAAAACAFcVAAAAAAIDRwUAAAAAAAIOwQAAAAACAEdVAAAAAAABCsEAAAAAAQCTSQAAAAAAAlcZAAAAAAAAAx0AAAAAAQAveQAAAAACAb99AAAAAAADn4kAAAAAAAASZQAAAAABAEeNAAAAAAADgtUAAAAAAQCrcQAAAAAAA5MpAAAAAAAA0qUAAAAAAAErFQAAAAABAAuJAAAAAAIBZzUAAAAAAgOTgQAAAAAAAqqpAAAAAAIATy0AAAAAAAJzFQAAAAACALsJAAAAAAEBR2EAAAAAAAHB8QAAAAAAAes1AAAAAAABogEAAAAAAAOPiQAAAAABAteJAAAAAAAAYyEAAAAAAAOfQQAAAAABA3uBAAAAAAIBR40AAAAAAAM7fQAAAAAAAGdlAAAAAAMCa4EAAAAAA4JnlQAAAAACAlONAAAAAACBk4EAAAAAAAEKuQAAAAACAX9xAAAAAAABgpEAAAAAA4OnhQA==",
          "dtype": "f8"
         },
         "xaxis": "x",
         "y": {
          "bdata": "AAAAAICw6kAAAAAAMEPzQAAAAADgm+pAAAAAAMBF7kAAAAAAYLzvQAAAAADgsPNAAAAAAIAW8UAAAAAAgMbzQAAAAABg5fNAAAAAAAD59UAAAAAAAI3xQAAAAAAQdPRAAAAAAJDr80AAAAAAUJPxQAAAAADAzuxAAAAAAOBF7kAAAAAAwNn1QAAAAABgtOtAAAAAANA89UAAAAAAcBzwQAAAAAAQ8fRAAAAAABDz9kAAAAAAsPf0QAAAAAAglOtAAAAAAEB180AAAAAAABDxQAAAAACQUvZAAAAAAKBr8kAAAAAAwIHzQAAAAABg/vNAAAAAAODU60AAAAAAwLr2QAAAAAAgVfFAAAAAANCv9kAAAAAAYJbrQAAAAADAP+9AAAAAAJDU80AAAAAAoB/uQAAAAACAP+1AAAAAAAC77UAAAAAAIBHuQAAAAAAwt/FAAAAAAODR8UAAAAAAwNrqQAAAAADgPetAAAAAACCw60AAAAAAAIL0QAAAAABg7e1AAAAAAADz9kAAAAAAIBHuQA==",
          "dtype": "f8"
         },
         "yaxis": "y"
        },
        {
         "customdata": {
          "bdata": "AAAAAACUn0AAAAAAAJyfQAAAAAAAkJ9AAAAAAACMn0AAAAAAAJSfQAAAAAAAkJ9AAAAAAACUn0AAAAAAAJSfQAAAAAAAlJ9AAAAAAACUn0AAAAAAAJyfQAAAAAAAlJ9AAAAAAACQn0AAAAAAAJSfQAAAAAAAnJ9AAAAAAACMn0AAAAAAAIyfQAAAAAAAnJ9AAAAAAACcn0AAAAAAAJyfQA==",
          "dtype": "f8",
          "shape": "20, 1"
         },
         "hovertemplate": "Model=Mercedes-Benz G-Class G 550 4MATIC<br>Mileage=%{x}<br>Price=%{y}<br>Year=%{customdata[0]}<extra></extra>",
         "legendgroup": "Mercedes-Benz G-Class G 550 4MATIC",
         "marker": {
          "color": "#FECB52",
          "symbol": "circle"
         },
         "mode": "markers",
         "name": "Mercedes-Benz G-Class G 550 4MATIC",
         "showlegend": true,
         "type": "scattergl",
         "x": {
          "bdata": "AAAAAIAd1kAAAAAAQK/YQAAAAAAA0sNAAAAAACBv4UAAAAAAQDXVQAAAAAAAKvBAAAAAAAD1w0AAAAAAIHfjQAAAAAAAtt5AAAAAAIBe0kAAAAAAAByzQAAAAACAP81AAAAAAECS5kAAAAAAYBPoQAAAAAAAXbJAAAAAAACT3EAAAAAAYM/tQAAAAACADcxAAAAAAACHvkAAAAAAwC3RQA==",
          "dtype": "f8"
         },
         "xaxis": "x",
         "y": {
          "bdata": "AAAAABCGAUEAAAAAeL8DQQAAAACAVQFBAAAAACB3+0AAAAAA0BYBQQAAAACgr/5AAAAAALCHA0EAAAAAcHf/QAAAAABIbwFBAAAAAGDVAEEAAAAAeMAEQQAAAACwhwNBAAAAAEBKAEEAAAAAICQAQQAAAACgzARBAAAAAHAd/UAAAAAA4If6QAAAAACg4gNBAAAAAHA9BUEAAAAA0KwCQQ==",
          "dtype": "f8"
         },
         "yaxis": "y"
        },
        {
         "customdata": {
          "bdata": "AAAAAACcn0AAAAAAAJyfQAAAAAAAmJ9AAAAAAACUn0AAAAAAAJyfQAAAAAAAlJ9AAAAAAACMn0AAAAAAAJCfQAAAAAAAlJ9AAAAAAACMn0AAAAAAAIifQAAAAAAAkJ9AAAAAAACcn0AAAAAAAJSfQAAAAAAAnJ9AAAAAAACcn0AAAAAAAIifQAAAAAAAlJ9AAAAAAACcn0A=",
          "dtype": "f8",
          "shape": "19, 1"
         },
         "hovertemplate": "Model=Mercedes-Benz AMG C 43 Base 4MATIC<br>Mileage=%{x}<br>Price=%{y}<br>Year=%{customdata[0]}<extra></extra>",
         "legendgroup": "Mercedes-Benz AMG C 43 Base 4MATIC",
         "marker": {
          "color": "#636efa",
          "symbol": "circle"
         },
         "mode": "markers",
         "name": "Mercedes-Benz AMG C 43 Base 4MATIC",
         "showlegend": true,
         "type": "scattergl",
         "x": {
          "bdata": "AAAAAADVsEAAAAAAAOm6QAAAAAAA37tAAAAAAABu1UAAAAAAAHSkQAAAAAAAG8VAAAAAAADM10AAAAAAwCnTQAAAAABAyd5AAAAAAICK5UAAAAAAoB/uQAAAAAAAq99AAAAAAIDGxEAAAAAAAGXJQAAAAAAACb1AAAAAAAA4okAAAAAAAN3TQAAAAABgFOVAAAAAAAAqvkA=",
          "dtype": "f8"
         },
         "xaxis": "x",
         "y": {
          "bdata": "AAAAAIBF7EAAAAAAAHPtQAAAAACAzetAAAAAAGBw5kAAAAAA4IDsQAAAAAAAye1AAAAAAMB640AAAAAAYPLmQAAAAACA8OVAAAAAAGD+4kAAAAAA4BzgQAAAAAAAwORAAAAAAHBa8EAAAAAA4M7sQAAAAADgRO5AAAAAAGD860AAAAAAAPbhQAAAAADAAuRAAAAAAECc6kA=",
          "dtype": "f8"
         },
         "yaxis": "y"
        },
        {
         "customdata": {
          "bdata": "AAAAAACcn0AAAAAAAJyfQAAAAAAAlJ9A",
          "dtype": "f8",
          "shape": "3, 1"
         },
         "hovertemplate": "Model=Mercedes-Benz AMG CLA 35 4MATIC<br>Mileage=%{x}<br>Price=%{y}<br>Year=%{customdata[0]}<extra></extra>",
         "legendgroup": "Mercedes-Benz AMG CLA 35 4MATIC",
         "marker": {
          "color": "#EF553B",
          "symbol": "circle"
         },
         "mode": "markers",
         "name": "Mercedes-Benz AMG CLA 35 4MATIC",
         "showlegend": true,
         "type": "scattergl",
         "x": {
          "bdata": "AAAAAICwykAAAAAAgODCQAAAAADAN9dA",
          "dtype": "f8"
         },
         "xaxis": "x",
         "y": {
          "bdata": "AAAAACBf6EAAAAAAgPPpQAAAAADASuRA",
          "dtype": "f8"
         },
         "yaxis": "y"
        },
        {
         "customdata": {
          "bdata": "AAAAAACAn0A=",
          "dtype": "f8",
          "shape": "1, 1"
         },
         "hovertemplate": "Model=Mercedes-Benz GL-Class GL 450 4MATIC<br>Mileage=%{x}<br>Price=%{y}<br>Year=%{customdata[0]}<extra></extra>",
         "legendgroup": "Mercedes-Benz GL-Class GL 450 4MATIC",
         "marker": {
          "color": "#00cc96",
          "symbol": "circle"
         },
         "mode": "markers",
         "name": "Mercedes-Benz GL-Class GL 450 4MATIC",
         "showlegend": true,
         "type": "scattergl",
         "x": {
          "bdata": "AAAAAICn8EA=",
          "dtype": "f8"
         },
         "xaxis": "x",
         "y": {
          "bdata": "AAAAAICW1EA=",
          "dtype": "f8"
         },
         "yaxis": "y"
        },
        {
         "customdata": {
          "bdata": "AAAAAACcn0AAAAAAAJyfQAAAAAAAnJ9AAAAAAACcn0AAAAAAAJyfQAAAAAAAhJ9AAAAAAACYn0AAAAAAAJyfQAAAAAAAnJ9AAAAAAACYn0AAAAAAAJCfQA==",
          "dtype": "f8",
          "shape": "11, 1"
         },
         "hovertemplate": "Model=Mercedes-Benz Metris Base<br>Mileage=%{x}<br>Price=%{y}<br>Year=%{customdata[0]}<extra></extra>",
         "legendgroup": "Mercedes-Benz Metris Base",
         "marker": {
          "color": "#ab63fa",
          "symbol": "circle"
         },
         "mode": "markers",
         "name": "Mercedes-Benz Metris Base",
         "showlegend": true,
         "type": "scattergl",
         "x": {
          "bdata": "AAAAAAAgYkAAAAAAANfIQAAAAAAANJhAAAAAAAAhsUAAAAAAAGK0QAAAAADYrwdBAAAAACBk7kAAAAAAAEiTQAAAAACArsZAAAAAAMCn1kAAAAAAABCXQA==",
          "dtype": "f8"
         },
         "xaxis": "x",
         "y": {
          "bdata": "AAAAAMCB40AAAAAAQGDqQAAAAADAgeNAAAAAAIDk50AAAAAAgCXpQAAAAACAk8FAAAAAAEB54EAAAAAAAGLnQAAAAADA+OVAAAAAAGBE40AAAAAAgHriQA==",
          "dtype": "f8"
         },
         "yaxis": "y"
        },
        {
         "customdata": {
          "bdata": "AAAAAACUn0AAAAAAAJCfQAAAAAAAlJ9AAAAAAACUn0AAAAAAAJSfQA==",
          "dtype": "f8",
          "shape": "5, 1"
         },
         "hovertemplate": "Model=Mercedes-Benz AMG A 35 Base<br>Mileage=%{x}<br>Price=%{y}<br>Year=%{customdata[0]}<extra></extra>",
         "legendgroup": "Mercedes-Benz AMG A 35 Base",
         "marker": {
          "color": "#FFA15A",
          "symbol": "circle"
         },
         "mode": "markers",
         "name": "Mercedes-Benz AMG A 35 Base",
         "showlegend": true,
         "type": "scattergl",
         "x": {
          "bdata": "AAAAAEDa2EAAAAAAgCLZQAAAAAAglOFAAAAAAMAc3kAAAAAAQBHeQA==",
          "dtype": "f8"
         },
         "xaxis": "x",
         "y": {
          "bdata": "AAAAAGAG40AAAAAA4DzlQAAAAABgjeJAAAAAAGCN4kAAAAAA4AnjQA==",
          "dtype": "f8"
         },
         "yaxis": "y"
        },
        {
         "customdata": {
          "bdata": "AAAAAACcn0AAAAAAAJifQAAAAAAAnJ9AAAAAAACYn0AAAAAAAJifQAAAAAAAnJ9AAAAAAACcn0AAAAAAAJifQAAAAAAAnJ9AAAAAAACcn0AAAAAAAJifQAAAAAAAnJ9AAAAAAACcn0AAAAAAAJyfQAAAAAAAnJ9AAAAAAACcn0A=",
          "dtype": "f8",
          "shape": "16, 1"
         },
         "hovertemplate": "Model=Mercedes-Benz EQS 580 Base 4MATIC<br>Mileage=%{x}<br>Price=%{y}<br>Year=%{customdata[0]}<extra></extra>",
         "legendgroup": "Mercedes-Benz EQS 580 Base 4MATIC",
         "marker": {
          "color": "#19d3f3",
          "symbol": "circle"
         },
         "mode": "markers",
         "name": "Mercedes-Benz EQS 580 Base 4MATIC",
         "showlegend": true,
         "type": "scattergl",
         "x": {
          "bdata": "AAAAAADCrkAAAAAAADO5QAAAAAAAILxAAAAAAIBbw0AAAAAAAPSlQAAAAAAAcMdAAAAAAACjuEAAAAAAADO5QAAAAAAAo7hAAAAAAACjuEAAAAAAABy/QAAAAACA9cJAAAAAAADtu0AAAAAAAJ26QAAAAAAACKZAAAAAAABoo0A=",
          "dtype": "f8"
         },
         "xaxis": "x",
         "y": {
          "bdata": "AAAAAABC+kAAAAAAwAj4QAAAAAAwlfZAAAAAALC28UAAAAAAkM7yQAAAAAAA8vVAAAAAACC/+kAAAAAAwAj4QAAAAAAgv/pAAAAAACC/+kAAAAAAoN/yQAAAAABg2vpAAAAAANBv90AAAAAAwJ30QAAAAADAjgBBAAAAAOD49UA=",
          "dtype": "f8"
         },
         "yaxis": "y"
        },
        {
         "customdata": {
          "bdata": "AAAAAACEn0A=",
          "dtype": "f8",
          "shape": "1, 1"
         },
         "hovertemplate": "Model=Mercedes-Benz SL 550 SL550<br>Mileage=%{x}<br>Price=%{y}<br>Year=%{customdata[0]}<extra></extra>",
         "legendgroup": "Mercedes-Benz SL 550 SL550",
         "marker": {
          "color": "#FF6692",
          "symbol": "circle"
         },
         "mode": "markers",
         "name": "Mercedes-Benz SL 550 SL550",
         "showlegend": true,
         "type": "scattergl",
         "x": {
          "bdata": "AAAAAGDK40A=",
          "dtype": "f8"
         },
         "xaxis": "x",
         "y": {
          "bdata": "AAAAAGC06EA=",
          "dtype": "f8"
         },
         "yaxis": "y"
        },
        {
         "customdata": {
          "bdata": "AAAAAACUn0AAAAAAAJSfQAAAAAAAnJ9AAAAAAACcn0AAAAAAAJyfQAAAAAAAlJ9AAAAAAACcn0AAAAAAAJyfQAAAAAAAnJ9AAAAAAACQn0AAAAAAAJSfQAAAAAAAkJ9AAAAAAACcn0AAAAAAAJCfQAAAAAAAmJ9AAAAAAACUn0AAAAAAAJyfQAAAAAAAlJ9AAAAAAACUn0AAAAAAAJyfQAAAAAAAlJ9AAAAAAACcn0AAAAAAAJSfQAAAAAAAnJ9AAAAAAACUn0AAAAAAAJSfQAAAAAAAnJ9AAAAAAACcn0AAAAAAAJSfQAAAAAAAlJ9AAAAAAACcn0AAAAAAAJyfQAAAAAAAnJ9AAAAAAACcn0AAAAAAAJyfQAAAAAAAlJ9AAAAAAACIn0AAAAAAAIyfQAAAAAAAnJ9AAAAAAACUn0AAAAAAAJSfQAAAAAAAkJ9AAAAAAACQn0AAAAAAAJSfQAAAAAAAkJ9AAAAAAACgn0AAAAAAAJyfQAAAAAAAlJ9AAAAAAACcn0AAAAAAAJSfQAAAAAAAnJ9AAAAAAACcn0AAAAAAAJSfQAAAAAAAlJ9AAAAAAACcn0AAAAAAAJSfQAAAAAAAlJ9AAAAAAACUn0AAAAAAAJCfQAAAAAAAnJ9AAAAAAACcn0AAAAAAAJSfQAAAAAAAnJ9AAAAAAACcn0AAAAAAAJyfQAAAAAAAlJ9AAAAAAACUn0AAAAAAAJSfQAAAAAAAlJ9AAAAAAACYn0AAAAAAAJSfQAAAAAAAnJ9AAAAAAACUn0AAAAAAAJSfQAAAAAAAnJ9AAAAAAACUn0AAAAAAAJSfQAAAAAAAlJ9AAAAAAACcn0AAAAAAAJCfQAAAAAAAlJ9AAAAAAACUn0AAAAAAAJSfQAAAAAAAkJ9A",
          "dtype": "f8",
          "shape": "84, 1"
         },
         "hovertemplate": "Model=Mercedes-Benz GLA 250 Base 4MATIC<br>Mileage=%{x}<br>Price=%{y}<br>Year=%{customdata[0]}<extra></extra>",
         "legendgroup": "Mercedes-Benz GLA 250 Base 4MATIC",
         "marker": {
          "color": "#B6E880",
          "symbol": "circle"
         },
         "mode": "markers",
         "name": "Mercedes-Benz GLA 250 Base 4MATIC",
         "showlegend": true,
         "type": "scattergl",
         "x": {
          "bdata": "AAAAAIAR3kAAAAAAAITWQAAAAACAgsZAAAAAAADnyEAAAAAAABG7QAAAAABAWeVAAAAAAACYvEAAAAAAAHKxQAAAAAAAI7BAAAAAAABG2UAAAAAAoEjmQAAAAADAdd5AAAAAAABYtkAAAAAAwDbZQAAAAADAKN5AAAAAAED32kAAAAAAAGSiQAAAAACg3uBAAAAAAEAa4EAAAAAAAKu3QAAAAABgHeVAAAAAAAAwxEAAAAAAwJ/WQAAAAAAAT7FAAAAAAECQ1EAAAAAAQOLbQAAAAACAXM5AAAAAAADmtUAAAAAAwG/VQAAAAACA9tRAAAAAAIAOwEAAAAAAALq0QAAAAAAAMq1AAAAAAAByrEAAAAAAABu4QAAAAADAe9RAAAAAAGAq6kAAAAAA4AnnQAAAAACAHsFAAAAAAKAq40AAAAAAQHbdQAAAAACA39RAAAAAAADR3UAAAAAAQMjRQAAAAADAo+FAAAAAAAA6oEAAAAAAADfHQAAAAACAf9pAAAAAAAA0uUAAAAAAQBXfQAAAAAAABrpAAAAAAACGtUAAAAAAwBXTQAAAAAAAksRAAAAAAICSwEAAAAAAQDniQAAAAABAtd5AAAAAAKCF4kAAAAAAAETRQAAAAACACsRAAAAAAABStUAAAAAAQLDQQAAAAACAisRAAAAAAAA1vUAAAAAAgIDDQAAAAABAUd1AAAAAAEBk0UAAAAAAQCTWQAAAAAAAUrdAAAAAAAAAxUAAAAAAgJbVQAAAAAAAX7NAAAAAAIDQ2UAAAAAAAEvTQAAAAACA9sBAAAAAAIAB3EAAAAAAwKfdQAAAAACAINxAAAAAAIDRxEAAAAAAQL3UQAAAAADA499AAAAAAAD+3kAAAAAAQEnTQAAAAABgaeFA",
          "dtype": "f8"
         },
         "xaxis": "x",
         "y": {
          "bdata": "AAAAAMBL3UAAAAAAAJreQAAAAACgCuNAAAAAAMB94kAAAAAAALLiQAAAAAAA29pAAAAAAKD85EAAAAAAQPriQAAAAAAAguRAAAAAAEDQ20AAAAAAQO/dQAAAAADAY9lAAAAAACDX5EAAAAAAANvaQAAAAAAAY99AAAAAAICQ3EAAAAAAYF3jQAAAAACANd5AAAAAAIB530AAAAAAoH/kQAAAAAAANtxAAAAAAKAJ40AAAAAAAB7eQAAAAACgbOZAAAAAAEDr30AAAAAAQFvbQAAAAACAfeRAAAAAACA75UAAAAAAwELeQAAAAADAot9AAAAAACBg5UAAAAAAAAXkQAAAAABgzuNAAAAAAAA75EAAAAAAoH7kQAAAAABAB99AAAAAAADc1EAAAAAAAAjZQAAAAAAgYOVAAAAAAABD3kAAAAAAwJXdQAAAAAAActxAAAAAAMBd2kAAAAAAgC/dQAAAAADA79pAAAAAAMCB5EAAAAAAwIDkQAAAAABgHOBAAAAAAEBy5EAAAAAAgEXeQAAAAACAe+NAAAAAAABW40AAAAAAgInfQAAAAADgWuBAAAAAAIBJ40AAAAAAADfcQAAAAACARd5AAAAAAADa2kAAAAAAgBDaQAAAAADAPOJAAAAAAAA35EAAAAAAwHbeQAAAAABASOJAAAAAAMCM4kAAAAAAgDzkQAAAAACgmOBAAAAAAED130AAAAAAwF/gQAAAAABAW+BAAAAAAOAJ4UAAAAAAgD/fQAAAAADAO+NAAAAAAIAc3kAAAAAAgD/fQAAAAACg9OVAAAAAAAAv3EAAAAAA4JngQAAAAADAE95AAAAAAACI40AAAAAAQAnbQAAAAADAmOBAAAAAAADV20AAAAAAgDPfQAAAAAAAXtlA",
          "dtype": "f8"
         },
         "yaxis": "y"
        },
        {
         "customdata": {
          "bdata": "AAAAAACQn0AAAAAAAJyfQAAAAAAAkJ9AAAAAAACYn0AAAAAAAJCfQAAAAAAAnJ9A",
          "dtype": "f8",
          "shape": "6, 1"
         },
         "hovertemplate": "Model=Mercedes-Benz AMG E 53 4MATIC<br>Mileage=%{x}<br>Price=%{y}<br>Year=%{customdata[0]}<extra></extra>",
         "legendgroup": "Mercedes-Benz AMG E 53 4MATIC",
         "marker": {
          "color": "#FF97FF",
          "symbol": "circle"
         },
         "mode": "markers",
         "name": "Mercedes-Benz AMG E 53 4MATIC",
         "showlegend": true,
         "type": "scattergl",
         "x": {
          "bdata": "AAAAAICU4kAAAAAAACWxQAAAAACAKN5AAAAAAICT3UAAAAAAgEPdQAAAAAAAKb9A",
          "dtype": "f8"
         },
         "xaxis": "x",
         "y": {
          "bdata": "AAAAAEA550AAAAAAgMzyQAAAAABAyOhAAAAAAGA+70AAAAAAoOboQAAAAABg+PVA",
          "dtype": "f8"
         },
         "yaxis": "y"
        },
        {
         "customdata": {
          "bdata": "AAAAAACYn0AAAAAAAJifQAAAAAAAlJ9AAAAAAACcn0AAAAAAAJifQAAAAAAAkJ9AAAAAAACYn0AAAAAAAJyfQAAAAAAAlJ9AAAAAAACYn0AAAAAAAJCfQAAAAAAAlJ9AAAAAAACUn0AAAAAAAJCfQAAAAAAAnJ9AAAAAAACYn0AAAAAAAJCfQAAAAAAAkJ9AAAAAAACYn0AAAAAAAJifQAAAAAAAmJ9AAAAAAACUn0AAAAAAAJCfQAAAAAAAkJ9AAAAAAACUn0AAAAAAAIifQAAAAAAAlJ9AAAAAAACUn0AAAAAAAJifQAAAAAAAlJ9AAAAAAACQn0AAAAAAAJifQAAAAAAAlJ9AAAAAAACUn0AAAAAAAJSfQAAAAAAAiJ9AAAAAAACQn0AAAAAAAJCfQAAAAAAAmJ9AAAAAAACcn0AAAAAAAJSfQAAAAAAAlJ9AAAAAAACcn0AAAAAAAJSfQAAAAAAAkJ9AAAAAAACcn0AAAAAAAJCfQAAAAAAAkJ9AAAAAAACYn0AAAAAAAJSfQAAAAAAAmJ9A",
          "dtype": "f8",
          "shape": "51, 1"
         },
         "hovertemplate": "Model=Mercedes-Benz GLE 350 Base<br>Mileage=%{x}<br>Price=%{y}<br>Year=%{customdata[0]}<extra></extra>",
         "legendgroup": "Mercedes-Benz GLE 350 Base",
         "marker": {
          "color": "#FECB52",
          "symbol": "circle"
         },
         "mode": "markers",
         "name": "Mercedes-Benz GLE 350 Base",
         "showlegend": true,
         "type": "scattergl",
         "x": {
          "bdata": "AAAAAGCI4kAAAAAAYLzxQAAAAADAw9ZAAAAAAMBD0EAAAAAAIFPlQAAAAADAxOVAAAAAAGDd4EAAAAAAwNDVQAAAAADAMd9AAAAAAMD72EAAAAAAQCLgQAAAAAAA9dtAAAAAAABw6EAAAAAAgB7hQAAAAAAApbxAAAAAAAA/zEAAAAAAoKfiQAAAAAAgCuVAAAAAAKAg4kAAAAAAQK7fQAAAAAAAO8tAAAAAAMDx4EAAAAAAoEfkQAAAAADg+OdAAAAAAAAX10AAAAAA0Pn3QAAAAADAuNVAAAAAAKDo4EAAAAAAQL/ZQAAAAABANN9AAAAAAKBI4kAAAAAAALjTQAAAAABA4uxAAAAAAODI4kAAAAAAYLDjQAAAAACgmOtAAAAAAMC46UAAAAAAYAPuQAAAAAAA/d5AAAAAAADwwkAAAAAAwMbQQAAAAADA1+FAAAAAAABhzkAAAAAA4ALiQAAAAACAqN9AAAAAAIBHyEAAAAAAgJXnQAAAAAAAbu1AAAAAAMBl2UAAAAAAwHneQAAAAACAhdFA",
          "dtype": "f8"
         },
         "xaxis": "x",
         "y": {
          "bdata": "AAAAAADZ6EAAAAAAIHnkQAAAAACgpehAAAAAAKAt7kAAAAAAoCToQAAAAAAAfuJAAAAAACAe6kAAAAAAAFDrQAAAAABg8eZAAAAAAEDs50AAAAAA4PHmQAAAAAAAzOZAAAAAAEA95UAAAAAAICrlQAAAAAAAwOxAAAAAAMBX60AAAAAAwIDkQAAAAABAeONAAAAAAOBO50AAAAAAQP3kQAAAAADA0+lAAAAAAKBX6UAAAAAAQFHjQAAAAADAD+JAAAAAAADw5EAAAAAAAMPUQAAAAACgXOdAAAAAAKBi6UAAAAAAAADpQAAAAABgXedAAAAAAEBA50AAAAAAIPzqQAAAAADgheNAAAAAAIBu5UAAAAAAwFDnQAAAAACAL9lAAAAAAODF40AAAAAAAPziQAAAAADAYudAAAAAAAC67UAAAAAAwGnoQAAAAAAABOhAAAAAAEDP60AAAAAAwGjoQAAAAABgSuZAAAAAAMDN6kAAAAAAwP7kQAAAAADAHOBAAAAAAGD35UAAAAAAwGPpQAAAAABg1OtA",
          "dtype": "f8"
         },
         "yaxis": "y"
        },
        {
         "customdata": {
          "bdata": "AAAAAACMn0AAAAAAAIyfQAAAAAAAnJ9AAAAAAACUn0A=",
          "dtype": "f8",
          "shape": "4, 1"
         },
         "hovertemplate": "Model=Mercedes-Benz AMG GT 63 S 4-Door<br>Mileage=%{x}<br>Price=%{y}<br>Year=%{customdata[0]}<extra></extra>",
         "legendgroup": "Mercedes-Benz AMG GT 63 S 4-Door",
         "marker": {
          "color": "#636efa",
          "symbol": "circle"
         },
         "mode": "markers",
         "name": "Mercedes-Benz AMG GT 63 S 4-Door",
         "showlegend": true,
         "type": "scattergl",
         "x": {
          "bdata": "AAAAAIA+2UAAAAAAABHiQAAAAAAAOKFAAAAAAIDl4EA=",
          "dtype": "f8"
         },
         "xaxis": "x",
         "y": {
          "bdata": "AAAAALAP+EAAAAAA0Gn4QAAAAACY8gZBAAAAADCi+UA=",
          "dtype": "f8"
         },
         "yaxis": "y"
        },
        {
         "customdata": {
          "bdata": "AAAAAACgn0AAAAAAAJSfQAAAAAAAoJ9AAAAAAACQn0AAAAAAAJCfQAAAAAAAnJ9AAAAAAACcn0AAAAAAAJSfQAAAAAAAlJ9AAAAAAACUn0AAAAAAAJifQAAAAAAAmJ9AAAAAAACYn0AAAAAAAJifQAAAAAAAlJ9AAAAAAACUn0AAAAAAAJSfQAAAAAAAmJ9AAAAAAACYn0AAAAAAAJifQAAAAAAAkJ9AAAAAAACYn0AAAAAAAJifQAAAAAAAmJ9AAAAAAACYn0AAAAAAAJSfQAAAAAAAlJ9AAAAAAACUn0AAAAAAAJSfQAAAAAAAkJ9AAAAAAACQn0AAAAAAAJyfQAAAAAAAlJ9AAAAAAACUn0AAAAAAAJSfQAAAAAAAmJ9AAAAAAACUn0AAAAAAAJifQAAAAAAAlJ9AAAAAAACYn0AAAAAAAJCfQAAAAAAAlJ9AAAAAAACYn0AAAAAAAJSfQAAAAAAAlJ9AAAAAAACUn0AAAAAAAJifQAAAAAAAkJ9AAAAAAACcn0AAAAAAAJCfQAAAAAAAlJ9A",
          "dtype": "f8",
          "shape": "51, 1"
         },
         "hovertemplate": "Model=Mercedes-Benz GLC 300 Base<br>Mileage=%{x}<br>Price=%{y}<br>Year=%{customdata[0]}<extra></extra>",
         "legendgroup": "Mercedes-Benz GLC 300 Base",
         "marker": {
          "color": "#EF553B",
          "symbol": "circle"
         },
         "mode": "markers",
         "name": "Mercedes-Benz GLC 300 Base",
         "showlegend": true,
         "type": "scattergl",
         "x": {
          "bdata": "AAAAAACIn0AAAAAAACCsQAAAAAAAIKdAAAAAAIDo5kAAAAAAwHbmQAAAAAAAJLRAAAAAAABVwEAAAAAAQPvWQAAAAACA59xAAAAAAAAD1kAAAAAAAIPNQAAAAACAEtRAAAAAAEC60UAAAAAAwATWQAAAAADgauNAAAAAAIAR0kAAAAAAoGnlQAAAAAAAKdVAAAAAAAB/ukAAAAAAwObTQAAAAABAIuZAAAAAAIA12EAAAAAAAOfEQAAAAABAKtxAAAAAAADN1UAAAAAAQDbfQAAAAACAd+JAAAAAAEAz5EAAAAAAIAHiQAAAAADwK/JAAAAAAIBl3EAAAAAAANK7QAAAAACg9eZAAAAAAMBY4EAAAAAAQOjcQAAAAAAA0s9AAAAAAGC04EAAAAAAgNvEQAAAAABA2tVAAAAAAADzzEAAAAAAwE3fQAAAAABAWtBAAAAAAIAc0EAAAAAAwJ/YQAAAAAAAZuhAAAAAAIBW10AAAAAAQIjWQAAAAABAOtJAAAAAAAAWuEAAAAAAsD/wQAAAAACA79xA",
          "dtype": "f8"
         },
         "xaxis": "x",
         "y": {
          "bdata": "AAAAAKAM7EAAAAAAgOriQAAAAADgzexAAAAAAADJ3UAAAAAAQAjfQAAAAACgaehAAAAAACDL6EAAAAAAIOPhQAAAAAAAFeFAAAAAAACO4kAAAAAAYArjQAAAAABgCuNAAAAAAID+4UAAAAAAoPHlQAAAAAAgAuFAAAAAAMDB3kAAAAAAoBXhQAAAAAAAxuFAAAAAAIBz5EAAAAAAoNjiQAAAAAAAQN9AAAAAAIBo4kAAAAAA4IzjQAAAAACA9ORAAAAAACBF4kAAAAAAYP7hQAAAAADAHOBAAAAAAEA/30AAAAAAwLndQAAAAAAATthAAAAAAAAn30AAAAAAgCvoQAAAAACgWuBAAAAAAMC730AAAAAAQAbgQAAAAACAVeFAAAAAAICM4kAAAAAAAF/jQAAAAAAgzeBAAAAAAOCG40AAAAAAgAHfQAAAAACgh+NAAAAAAACO4kAAAAAAoJHgQAAAAACAMd1AAAAAAICM4EAAAAAAoIvhQAAAAABAueBAAAAAAEDL6EAAAAAAwFfbQAAAAABAh+BA",
          "dtype": "f8"
         },
         "yaxis": "y"
        },
        {
         "customdata": {
          "bdata": "AAAAAACMn0AAAAAAAJSfQAAAAAAAlJ9AAAAAAACQn0AAAAAAAJSfQAAAAAAAnJ9A",
          "dtype": "f8",
          "shape": "6, 1"
         },
         "hovertemplate": "Model=Mercedes-Benz AMG GT 63 4-Door<br>Mileage=%{x}<br>Price=%{y}<br>Year=%{customdata[0]}<extra></extra>",
         "legendgroup": "Mercedes-Benz AMG GT 63 4-Door",
         "marker": {
          "color": "#00cc96",
          "symbol": "circle"
         },
         "mode": "markers",
         "name": "Mercedes-Benz AMG GT 63 4-Door",
         "showlegend": true,
         "type": "scattergl",
         "x": {
          "bdata": "AAAAAICl0EAAAAAAgHPHQAAAAACAKuZAAAAAAECg2kAAAAAAgHrRQAAAAAAAUsZA",
          "dtype": "f8"
         },
         "xaxis": "x",
         "y": {
          "bdata": "AAAAADAx90AAAAAA4AP8QAAAAAAQc/pAAAAAAHAr+EAAAAAAYBb7QAAAAABAWP9A",
          "dtype": "f8"
         },
         "yaxis": "y"
        },
        {
         "customdata": {
          "bdata": "AAAAAACAn0A=",
          "dtype": "f8",
          "shape": "1, 1"
         },
         "hovertemplate": "Model=Mercedes-Benz Maybach S S 600<br>Mileage=%{x}<br>Price=%{y}<br>Year=%{customdata[0]}<extra></extra>",
         "legendgroup": "Mercedes-Benz Maybach S S 600",
         "marker": {
          "color": "#ab63fa",
          "symbol": "circle"
         },
         "mode": "markers",
         "name": "Mercedes-Benz Maybach S S 600",
         "showlegend": true,
         "type": "scattergl",
         "x": {
          "bdata": "AAAAAKAz6EA=",
          "dtype": "f8"
         },
         "xaxis": "x",
         "y": {
          "bdata": "AAAAAMBX60A=",
          "dtype": "f8"
         },
         "yaxis": "y"
        },
        {
         "customdata": {
          "bdata": "AAAAAACIn0AAAAAAAJCfQAAAAAAAkJ9A",
          "dtype": "f8",
          "shape": "3, 1"
         },
         "hovertemplate": "Model=Mercedes-Benz S-Class S 450<br>Mileage=%{x}<br>Price=%{y}<br>Year=%{customdata[0]}<extra></extra>",
         "legendgroup": "Mercedes-Benz S-Class S 450",
         "marker": {
          "color": "#FFA15A",
          "symbol": "circle"
         },
         "mode": "markers",
         "name": "Mercedes-Benz S-Class S 450",
         "showlegend": true,
         "type": "scattergl",
         "x": {
          "bdata": "AAAAAICK40AAAAAA4BDlQAAAAABgm+RA",
          "dtype": "f8"
         },
         "xaxis": "x",
         "y": {
          "bdata": "AAAAAAAF5EAAAAAA4OXoQAAAAADAPedA",
          "dtype": "f8"
         },
         "yaxis": "y"
        },
        {
         "customdata": {
          "bdata": "AAAAAACcn0AAAAAAAIifQAAAAAAAnJ9AAAAAAACQn0AAAAAAAJCfQAAAAAAAnJ9AAAAAAACcn0AAAAAAAJyfQAAAAAAAnJ9AAAAAAACcn0AAAAAAAJyfQAAAAAAAkJ9AAAAAAACMn0AAAAAAAJyfQAAAAAAAnJ9AAAAAAACcn0AAAAAAAJSfQAAAAAAAnJ9AAAAAAACIn0AAAAAAAJSfQAAAAAAAnJ9AAAAAAACUn0AAAAAAAJSfQAAAAAAAlJ9AAAAAAACcn0AAAAAAAJSfQAAAAAAAlJ9AAAAAAACMn0AAAAAAAJSfQAAAAAAAnJ9AAAAAAACEn0AAAAAAAJyfQAAAAAAAmJ9AAAAAAACcn0AAAAAAAJyfQAAAAAAAkJ9AAAAAAACUn0AAAAAAAJSfQAAAAAAAnJ9AAAAAAACUn0AAAAAAAJSfQAAAAAAAjJ9AAAAAAACUn0AAAAAAAJyfQAAAAAAAlJ9AAAAAAACQn0AAAAAAAJCfQAAAAAAAlJ9AAAAAAACcn0AAAAAAAJSfQAAAAAAAlJ9AAAAAAACUn0AAAAAAAJyfQAAAAAAAnJ9AAAAAAACQn0AAAAAAAJSfQAAAAAAAlJ9AAAAAAACUn0AAAAAAAJSfQAAAAAAAnJ9AAAAAAACcn0A=",
          "dtype": "f8",
          "shape": "61, 1"
         },
         "hovertemplate": "Model=Mercedes-Benz GLA 250 Base<br>Mileage=%{x}<br>Price=%{y}<br>Year=%{customdata[0]}<extra></extra>",
         "legendgroup": "Mercedes-Benz GLA 250 Base",
         "marker": {
          "color": "#19d3f3",
          "symbol": "circle"
         },
         "mode": "markers",
         "name": "Mercedes-Benz GLA 250 Base",
         "showlegend": true,
         "type": "scattergl",
         "x": {
          "bdata": "AAAAAABcsEAAAAAAIFHrQAAAAAAAL8FAAAAAAMC24UAAAAAAgMjLQAAAAACAf81AAAAAAICPyUAAAAAAgO7CQAAAAAAAS8JAAAAAAACjwUAAAAAAAO22QAAAAABAcdJAAAAAACD050AAAAAAADalQAAAAAAAicVAAAAAAAB0uUAAAAAAALLeQAAAAAAAiIlAAAAAAKCP6EAAAAAAAM3UQAAAAAAAeMtAAAAAAACQykAAAAAAgNXYQAAAAABATu9AAAAAAID9wkAAAAAA4HLhQAAAAAAAiNhAAAAAAEBQ2EAAAAAAwI/oQAAAAAAA3cFAAAAAAMDn8EAAAAAAAP+4QAAAAABgiuBAAAAAAICoyEAAAAAAANK8QAAAAADA2OFAAAAAAKBF5UAAAAAA4LHkQAAAAAAAAMJAAAAAAKCt40AAAAAAAC3ZQAAAAAAgKeZAAAAAAECK3UAAAAAAAGnBQAAAAACAstlAAAAAAICI30AAAAAAQDvYQAAAAAAA39dAAAAAAACEw0AAAAAAgHnaQAAAAAAAedxAAAAAACDg4UAAAAAAAFDNQAAAAAAAMdNAAAAAAIBe30AAAAAAgOHWQAAAAACATOFAAAAAAEBE3kAAAAAAACzZQAAAAAAAlL1AAAAAAADAuEA=",
          "dtype": "f8"
         },
         "xaxis": "x",
         "y": {
          "bdata": "AAAAAKAo40AAAAAAQCzUQAAAAADgBORAAAAAAMAK2kAAAAAAQEHaQAAAAACggOJAAAAAAOCL4kAAAAAAQI3iQAAAAAAA0+JAAAAAAKBJ5kAAAAAAwATkQAAAAACAnNpAAAAAAMCn1kAAAAAAoIfjQAAAAACgA+RAAAAAAMD340AAAAAAAELdQAAAAADgAuRAAAAAAIBx1UAAAAAAIAbgQAAAAAAAXuJAAAAAAEAt30AAAAAAQDHdQAAAAADAX9lAAAAAACBm5EAAAAAAgDHdQAAAAADAS91AAAAAAACH2UAAAAAAgGLZQAAAAADgCeNAAAAAAAAIz0AAAAAAQH/iQAAAAAAAFeFAAAAAAACG40AAAAAAQAnjQAAAAACABtpAAAAAAEA73UAAAAAAQFHcQAAAAAAgieBAAAAAAMBd2kAAAAAAQMbdQAAAAAAAa9dAAAAAAABO4EAAAAAAQALiQAAAAAAAHt5AAAAAAIA820AAAAAAwFjaQAAAAACAV9tAAAAAACDF4UAAAAAAQDvdQAAAAADgFeFAAAAAAADk3EAAAAAAoIziQAAAAAAAEOJAAAAAAEBp2EAAAAAAQDHdQAAAAACA4dtAAAAAAABG3kAAAAAAwOfcQAAAAADghuNAAAAAAGB65kA=",
          "dtype": "f8"
         },
         "yaxis": "y"
        },
        {
         "customdata": {
          "bdata": "AAAAAACcn0AAAAAAAJifQAAAAAAAnJ9AAAAAAACcn0AAAAAAAJyfQAAAAAAAmJ9AAAAAAACcn0AAAAAAAJCfQAAAAAAAlJ9AAAAAAACUn0AAAAAAAJyfQAAAAAAAnJ9AAAAAAACUn0AAAAAAAJSfQAAAAAAAnJ9AAAAAAACcn0AAAAAAAJyfQAAAAAAAlJ9AAAAAAACcn0AAAAAAAJyfQAAAAAAAkJ9AAAAAAACcn0AAAAAAAJSfQAAAAAAAlJ9AAAAAAACcn0AAAAAAAJyfQAAAAAAAlJ9AAAAAAACUn0AAAAAAAJSfQAAAAAAAkJ9AAAAAAACUn0AAAAAAAJSfQAAAAAAAlJ9AAAAAAACcn0AAAAAAAJyfQAAAAAAAkJ9AAAAAAACcn0AAAAAAAJSfQAAAAAAAlJ9AAAAAAACQn0AAAAAAAJSfQAAAAAAAlJ9AAAAAAACcn0AAAAAAAJyfQAAAAAAAkJ9AAAAAAACUn0AAAAAAAJyfQAAAAAAAlJ9AAAAAAACcn0AAAAAAAJyfQAAAAAAAlJ9AAAAAAACYn0AAAAAAAJCfQAAAAAAAnJ9AAAAAAACcn0AAAAAAAJyfQAAAAAAAnJ9AAAAAAACUn0AAAAAAAJSfQAAAAAAAnJ9A",
          "dtype": "f8",
          "shape": "60, 1"
         },
         "hovertemplate": "Model=Mercedes-Benz E-Class E 350 4MATIC<br>Mileage=%{x}<br>Price=%{y}<br>Year=%{customdata[0]}<extra></extra>",
         "legendgroup": "Mercedes-Benz E-Class E 350 4MATIC",
         "marker": {
          "color": "#FF6692",
          "symbol": "circle"
         },
         "mode": "markers",
         "name": "Mercedes-Benz E-Class E 350 4MATIC",
         "showlegend": true,
         "type": "scattergl",
         "x": {
          "bdata": "AAAAAADww0AAAAAAgHfRQAAAAAAAKrBAAAAAAAAQqUAAAAAAAMK0QAAAAAAAEqdAAAAAAABKq0AAAAAAwFbjQAAAAADA5t1AAAAAAIBt3EAAAAAAAMykQAAAAAAAjrBAAAAAAECn10AAAAAAALHMQAAAAAAA97ZAAAAAAABftkAAAAAAACqwQAAAAADgI+NAAAAAAABarkAAAAAAAJCqQAAAAACAvN1AAAAAAAAGrEAAAAAAgHnaQAAAAAAAZt1AAAAAAAB2qUAAAAAAAJSdQAAAAACAa8dAAAAAAACO5UAAAAAAwHrWQAAAAABQE/FAAAAAAEB33EAAAAAAoPjkQAAAAACgmu9AAAAAAIA1zUAAAAAAAMB6QAAAAABgi+RAAAAAAADXskAAAAAAgHzbQAAAAABgjeRAAAAAAKBu4EAAAAAAYAfkQAAAAADA4tlAAAAAAADAckAAAAAAwD7QQAAAAAAATedAAAAAAGAP6EAAAAAAABGyQAAAAABAK9pAAAAAAIBLzUAAAAAAQNbQQAAAAABA79hAAAAAAACBxEAAAAAAQEXgQAAAAAAANcBAAAAAAABDtEAAAAAAAE6sQAAAAAAAxrRAAAAAAABH1kAAAAAAAEfWQAAAAAAAObBA",
          "dtype": "f8"
         },
         "xaxis": "x",
         "y": {
          "bdata": "AAAAAMC17EAAAAAA4CTnQAAAAACARexAAAAAAEAl7EAAAAAAYHfvQAAAAABAguhAAAAAAGAT7EAAAAAAoKPhQAAAAABAAeRAAAAAAECL4kAAAAAA4GrsQAAAAADQKfBAAAAAAIDy5EAAAAAAAG7lQAAAAAAgDOxAAAAAAGBD60AAAAAAgEXsQAAAAACgAuJAAAAAAMA070AAAAAAoDXxQAAAAACAT+JAAAAAAIC87UAAAAAAAHTkQAAAAADAlONAAAAAAIC27kAAAAAAAEztQAAAAAAAuOVAAAAAAICG40AAAAAAgP3kQAAAAADA/9xAAAAAAIDk4kAAAAAAgMvkQAAAAACAJN9AAAAAAKAw6kAAAAAAYNrqQAAAAACAEeRAAAAAAGCd60AAAAAAgPLkQAAAAACgeONAAAAAAGDY4kAAAAAAgJLhQAAAAABAMeZAAAAAAMDC7UAAAAAAoGLpQAAAAACAh+FAAAAAAAC84kAAAAAAIDzrQAAAAABA2eNAAAAAAADm6EAAAAAAwN/pQAAAAABgA+RAAAAAAIC05kAAAAAAgHjhQAAAAAAA2+pAAAAAAGAT7EAAAAAAsIrwQAAAAACAzupAAAAAAGAp5EAAAAAAYCnkQAAAAABgGuxA",
          "dtype": "f8"
         },
         "yaxis": "y"
        },
        {
         "customdata": {
          "bdata": "AAAAAACAn0AAAAAAAICfQAAAAAAAgJ9A",
          "dtype": "f8",
          "shape": "3, 1"
         },
         "hovertemplate": "Model=Mercedes-Benz AMG S AMG S 63 4MATIC<br>Mileage=%{x}<br>Price=%{y}<br>Year=%{customdata[0]}<extra></extra>",
         "legendgroup": "Mercedes-Benz AMG S AMG S 63 4MATIC",
         "marker": {
          "color": "#B6E880",
          "symbol": "circle"
         },
         "mode": "markers",
         "name": "Mercedes-Benz AMG S AMG S 63 4MATIC",
         "showlegend": true,
         "type": "scattergl",
         "x": {
          "bdata": "AAAAAICn2UAAAAAAQFvTQAAAAACAAeVA",
          "dtype": "f8"
         },
         "xaxis": "x",
         "y": {
          "bdata": "AAAAAOAW8UAAAAAAQLnwQAAAAADAYulA",
          "dtype": "f8"
         },
         "yaxis": "y"
        },
        {
         "customdata": {
          "bdata": "AAAAAACgn0AAAAAAAJyfQAAAAAAAnJ9AAAAAAACgn0AAAAAAAJifQAAAAAAAmJ9AAAAAAACgn0AAAAAAAJifQAAAAAAAoJ9AAAAAAACgn0A=",
          "dtype": "f8",
          "shape": "10, 1"
         },
         "hovertemplate": "Model=Mercedes-Benz AMG GLE 63 S<br>Mileage=%{x}<br>Price=%{y}<br>Year=%{customdata[0]}<extra></extra>",
         "legendgroup": "Mercedes-Benz AMG GLE 63 S",
         "marker": {
          "color": "#FF97FF",
          "symbol": "circle"
         },
         "mode": "markers",
         "name": "Mercedes-Benz AMG GLE 63 S",
         "showlegend": true,
         "type": "scattergl",
         "x": {
          "bdata": "AAAAAAButkAAAAAAANbKQAAAAAAAabJAAAAAAADMmEAAAAAAgJrGQAAAAACAmcdAAAAAAACao0AAAAAAALTRQAAAAAAAF7NAAAAAAABqsEA=",
          "dtype": "f8"
         },
         "xaxis": "x",
         "y": {
          "bdata": "AAAAAFCK/UAAAAAAUJb7QAAAAABwlvtAAAAAAIC7/kAAAAAA4I/3QAAAAACQ2fpAAAAAAEDu/EAAAAAA8K33QAAAAADQzfxAAAAAAOAm/0A=",
          "dtype": "f8"
         },
         "yaxis": "y"
        },
        {
         "customdata": {
          "bdata": "AAAAAACQn0AAAAAAAJSfQAAAAAAAiJ9A",
          "dtype": "f8",
          "shape": "3, 1"
         },
         "hovertemplate": "Model=Mercedes-Benz AMG GT R<br>Mileage=%{x}<br>Price=%{y}<br>Year=%{customdata[0]}<extra></extra>",
         "legendgroup": "Mercedes-Benz AMG GT R",
         "marker": {
          "color": "#FECB52",
          "symbol": "circle"
         },
         "mode": "markers",
         "name": "Mercedes-Benz AMG GT R",
         "showlegend": true,
         "type": "scattergl",
         "x": {
          "bdata": "AAAAAAADwEAAAAAAAA6hQAAAAAAACJRA",
          "dtype": "f8"
         },
         "xaxis": "x",
         "y": {
          "bdata": "AAAAAOA5A0EAAAAAkD7+QAAAAACATwJB",
          "dtype": "f8"
         },
         "yaxis": "y"
        },
        {
         "customdata": {
          "bdata": "AAAAAACcn0AAAAAAAJCfQAAAAAAAmJ9AAAAAAACUn0AAAAAAAJyfQAAAAAAAnJ9AAAAAAACUn0AAAAAAAJCfQAAAAAAAnJ9AAAAAAACcn0AAAAAAAJyfQAAAAAAAnJ9AAAAAAACcn0AAAAAAAJyfQAAAAAAAnJ9AAAAAAACcn0AAAAAAAJCfQAAAAAAAlJ9AAAAAAACUn0AAAAAAAIyfQAAAAAAAnJ9AAAAAAACYn0AAAAAAAJyfQAAAAAAAmJ9AAAAAAACUn0AAAAAAAJCfQAAAAAAAkJ9AAAAAAACUn0AAAAAAAJifQAAAAAAAlJ9AAAAAAACcn0AAAAAAAJyfQAAAAAAAkJ9AAAAAAACQn0AAAAAAAJyfQAAAAAAAnJ9AAAAAAACUn0AAAAAAAJSfQAAAAAAAlJ9AAAAAAACcn0AAAAAAAJyfQAAAAAAAmJ9AAAAAAACYn0AAAAAAAJyfQAAAAAAAnJ9AAAAAAACcn0AAAAAAAIifQA==",
          "dtype": "f8",
          "shape": "47, 1"
         },
         "hovertemplate": "Model=Mercedes-Benz CLA 250 Base<br>Mileage=%{x}<br>Price=%{y}<br>Year=%{customdata[0]}<extra></extra>",
         "legendgroup": "Mercedes-Benz CLA 250 Base",
         "marker": {
          "color": "#636efa",
          "symbol": "circle"
         },
         "mode": "markers",
         "name": "Mercedes-Benz CLA 250 Base",
         "showlegend": true,
         "type": "scattergl",
         "x": {
          "bdata": "AAAAAACKuEAAAAAAAOTnQAAAAACAWMNAAAAAAMD55kAAAAAAAE6uQAAAAAAA8KFAAAAAAAAx4EAAAAAAgBriQAAAAACAf8NAAAAAAIClwEAAAAAAACnCQAAAAAAAbK5AAAAAAIAOyEAAAAAAgK3AQAAAAAAAGsNAAAAAAAAMpkAAAAAAoAvxQAAAAAAAA9xAAAAAAOB77UAAAAAAgDTjQAAAAAAAaMBAAAAAAACVx0AAAAAAgOjBQAAAAADA6tVAAAAAAOAZ4EAAAAAAAOzcQAAAAACA+ulAAAAAAOBX6EAAAAAAQI7SQAAAAAAgfeZAAAAAAABnwUAAAAAAALfHQAAAAABAXNlAAAAAAMD02UAAAAAAgAjCQAAAAAAAoMVAAAAAAICpyUAAAAAA4EvgQAAAAABAjNtAAAAAAACftEAAAAAAALnKQAAAAADAO9VAAAAAAEBY20AAAAAAgPDMQAAAAACA3cFAAAAAAAAYwkAAAAAAwIznQA==",
          "dtype": "f8"
         },
         "xaxis": "x",
         "y": {
          "bdata": "AAAAACBR5kAAAAAAAFjbQAAAAABgYeFAAAAAAMCc3UAAAAAAwI7lQAAAAACg/eRAAAAAAMAN3kAAAAAAwLrbQAAAAACAD+JAAAAAACBM40AAAAAAgKfkQAAAAABAWuNAAAAAAACI40AAAAAAgIbjQAAAAACAdeRAAAAAAGDx4kAAAAAAQPHZQAAAAAAAP95AAAAAAMBF3kAAAAAAwNXcQAAAAAAggORAAAAAAECM4EAAAAAAwIDkQAAAAABAxuBAAAAAAAAw3UAAAAAAgFfbQAAAAABASd1AAAAAAIBD3kAAAAAAwJPhQAAAAAAAmN1AAAAAAIAP4kAAAAAAAAPkQAAAAADAUdxAAAAAAID+3EAAAAAAgIziQAAAAADAhONAAAAAAOCn4EAAAAAAgFHcQAAAAADAS91AAAAAAIBt5UAAAAAAIOnjQAAAAADAg+JAAAAAAICD4kAAAAAAoFXjQAAAAAAgWuZAAAAAACDX5kAAAAAAgBTUQA==",
          "dtype": "f8"
         },
         "yaxis": "y"
        },
        {
         "customdata": {
          "bdata": "AAAAAACYn0AAAAAAAJifQAAAAAAAlJ9AAAAAAACcn0AAAAAAAJyfQAAAAAAAnJ9AAAAAAACcn0AAAAAAAJyfQAAAAAAAnJ9AAAAAAACUn0AAAAAAAJifQAAAAAAAnJ9AAAAAAACcn0AAAAAAAJCfQAAAAAAAlJ9AAAAAAACUn0AAAAAAAJSfQAAAAAAAlJ9AAAAAAACQn0AAAAAAAJCfQAAAAAAAnJ9AAAAAAACQn0AAAAAAAJyfQAAAAAAAmJ9AAAAAAACcn0AAAAAAAJifQAAAAAAAkJ9AAAAAAACcn0AAAAAAAJyfQAAAAAAAnJ9AAAAAAACUn0AAAAAAAJSfQAAAAAAAlJ9AAAAAAACcn0AAAAAAAJSfQAAAAAAAlJ9AAAAAAACUn0AAAAAAAJyfQAAAAAAAkJ9AAAAAAACcn0AAAAAAAJifQAAAAAAAnJ9AAAAAAACUn0AAAAAAAJifQAAAAAAAnJ9AAAAAAACUn0AAAAAAAJSfQAAAAAAAlJ9AAAAAAACcn0A=",
          "dtype": "f8",
          "shape": "49, 1"
         },
         "hovertemplate": "Model=Mercedes-Benz E-Class E 350<br>Mileage=%{x}<br>Price=%{y}<br>Year=%{customdata[0]}<extra></extra>",
         "legendgroup": "Mercedes-Benz E-Class E 350",
         "marker": {
          "color": "#EF553B",
          "symbol": "circle"
         },
         "mode": "markers",
         "name": "Mercedes-Benz E-Class E 350",
         "showlegend": true,
         "type": "scattergl",
         "x": {
          "bdata": "AAAAAACN4kAAAAAAwHvWQAAAAACAwt1AAAAAAAC8s0AAAAAAALyzQAAAAAAAqbRAAAAAAACVsUAAAAAAAB24QAAAAAAAQLNAAAAAAABY2UAAAAAAgLfHQAAAAAAAqbxAAAAAAABypkAAAAAAYC3jQAAAAABgAeZAAAAAAIDG1EAAAAAAAPzRQAAAAABAQuZAAAAAAIAM2EAAAAAA4MrgQAAAAAAAq7xAAAAAAOB740AAAAAAAKS8QAAAAACgN+JAAAAAAAC4zUAAAAAAQAfaQAAAAAAAoepAAAAAAACGuUAAAAAAgCjAQAAAAAAAPLlAAAAAAMCu4kAAAAAAALO2QAAAAADg2eBAAAAAAACqvEAAAAAAgAHnQAAAAACAU9xAAAAAAID32UAAAAAAALHBQAAAAADAdeRAAAAAAACXs0AAAAAAgDPHQAAAAAAAB7tAAAAAAACXxUAAAAAAAP6nQAAAAAAA+sFAAAAAAAA710AAAAAAAHLMQAAAAADAwdlAAAAAAACzwkA=",
          "dtype": "f8"
         },
         "xaxis": "x",
         "y": {
          "bdata": "AAAAAIB75EAAAAAAwHPmQAAAAACAF+NAAAAAAGBS7EAAAAAAYFLsQAAAAADgZetAAAAAACBY60AAAAAAIInsQAAAAABgLOtAAAAAAABC5EAAAAAAQB7nQAAAAABgwOxAAAAAAEAz6kAAAAAAwPTgQAAAAABAHuNAAAAAAKBH40AAAAAAgGLmQAAAAAAgD+JAAAAAAIB15EAAAAAAwJPgQAAAAADASu1AAAAAAGDv4EAAAAAAgNvqQAAAAAAAWeZAAAAAAKDg6UAAAAAAQMLlQAAAAACAQN5AAAAAACC560AAAAAAwGLpQAAAAAAgv+pAAAAAAABz5EAAAAAAADDmQAAAAACgSONAAAAAAMDU60AAAAAAAG7hQAAAAADgh+NAAAAAAEBR40AAAAAAIMXpQAAAAACAht9AAAAAAODH60AAAAAAwHTmQAAAAABgQepAAAAAAGA95EAAAAAAwHTmQAAAAABgivBAAAAAACC440AAAAAA4HDkQAAAAAAAiONAAAAAAKCW7UA=",
          "dtype": "f8"
         },
         "yaxis": "y"
        },
        {
         "customdata": {
          "bdata": "AAAAAACcn0A=",
          "dtype": "f8",
          "shape": "1, 1"
         },
         "hovertemplate": "Model=Mercedes-Benz AMG SL 43 4MATIC+<br>Mileage=%{x}<br>Price=%{y}<br>Year=%{customdata[0]}<extra></extra>",
         "legendgroup": "Mercedes-Benz AMG SL 43 4MATIC+",
         "marker": {
          "color": "#00cc96",
          "symbol": "circle"
         },
         "mode": "markers",
         "name": "Mercedes-Benz AMG SL 43 4MATIC+",
         "showlegend": true,
         "type": "scattergl",
         "x": {
          "bdata": "AAAAAAB0kEA=",
          "dtype": "f8"
         },
         "xaxis": "x",
         "y": {
          "bdata": "AAAAANBd+EA=",
          "dtype": "f8"
         },
         "yaxis": "y"
        },
        {
         "customdata": {
          "bdata": "AAAAAACMn0A=",
          "dtype": "f8",
          "shape": "1, 1"
         },
         "hovertemplate": "Model=Mercedes-Benz AMG GLE 63 S 4MATIC Coupe<br>Mileage=%{x}<br>Price=%{y}<br>Year=%{customdata[0]}<extra></extra>",
         "legendgroup": "Mercedes-Benz AMG GLE 63 S 4MATIC Coupe",
         "marker": {
          "color": "#ab63fa",
          "symbol": "circle"
         },
         "mode": "markers",
         "name": "Mercedes-Benz AMG GLE 63 S 4MATIC Coupe",
         "showlegend": true,
         "type": "scattergl",
         "x": {
          "bdata": "AAAAAGB85UA=",
          "dtype": "f8"
         },
         "xaxis": "x",
         "y": {
          "bdata": "AAAAAKDO7EA=",
          "dtype": "f8"
         },
         "yaxis": "y"
        },
        {
         "customdata": {
          "bdata": "AAAAAACQn0AAAAAAAJyfQAAAAAAAlJ9AAAAAAACUn0AAAAAAAJifQAAAAAAAlJ9AAAAAAACQn0AAAAAAAJCfQA==",
          "dtype": "f8",
          "shape": "8, 1"
         },
         "hovertemplate": "Model=Mercedes-Benz E-Class 4MATIC<br>Mileage=%{x}<br>Price=%{y}<br>Year=%{customdata[0]}<extra></extra>",
         "legendgroup": "Mercedes-Benz E-Class 4MATIC",
         "marker": {
          "color": "#FFA15A",
          "symbol": "circle"
         },
         "mode": "markers",
         "name": "Mercedes-Benz E-Class 4MATIC",
         "showlegend": true,
         "type": "scattergl",
         "x": {
          "bdata": "AAAAAADY30AAAAAAAEKnQAAAAAAAuNBAAAAAAMCW6EAAAAAAgKTPQAAAAAAA6OJAAAAAAOBZ4kAAAAAAgEjdQA==",
          "dtype": "f8"
         },
         "xaxis": "x",
         "y": {
          "bdata": "AAAAAAB+4UAAAAAAwH7vQAAAAAAA5+hAAAAAAECa4kAAAAAA4G3mQAAAAACA3eNAAAAAAKD94kAAAAAAgA7iQA==",
          "dtype": "f8"
         },
         "yaxis": "y"
        },
        {
         "customdata": {
          "bdata": "AAAAAACcn0A=",
          "dtype": "f8",
          "shape": "1, 1"
         },
         "hovertemplate": "Model=Mercedes-Benz EQB 350 4MATIC<br>Mileage=%{x}<br>Price=%{y}<br>Year=%{customdata[0]}<extra></extra>",
         "legendgroup": "Mercedes-Benz EQB 350 4MATIC",
         "marker": {
          "color": "#19d3f3",
          "symbol": "circle"
         },
         "mode": "markers",
         "name": "Mercedes-Benz EQB 350 4MATIC",
         "showlegend": true,
         "type": "scattergl",
         "x": {
          "bdata": "AAAAAABAokA=",
          "dtype": "f8"
         },
         "xaxis": "x",
         "y": {
          "bdata": "AAAAAEDI7UA=",
          "dtype": "f8"
         },
         "yaxis": "y"
        },
        {
         "customdata": {
          "bdata": "AAAAAACMn0AAAAAAAIyfQAAAAAAAkJ9A",
          "dtype": "f8",
          "shape": "3, 1"
         },
         "hovertemplate": "Model=Mercedes-Benz AMG GLC 63 Base 4MATIC<br>Mileage=%{x}<br>Price=%{y}<br>Year=%{customdata[0]}<extra></extra>",
         "legendgroup": "Mercedes-Benz AMG GLC 63 Base 4MATIC",
         "marker": {
          "color": "#FF6692",
          "symbol": "circle"
         },
         "mode": "markers",
         "name": "Mercedes-Benz AMG GLC 63 Base 4MATIC",
         "showlegend": true,
         "type": "scattergl",
         "x": {
          "bdata": "AAAAAACV0EAAAAAAwH3QQAAAAABAyNFA",
          "dtype": "f8"
         },
         "xaxis": "x",
         "y": {
          "bdata": "AAAAAEBU6kAAAAAAwNrqQAAAAABw2PBA",
          "dtype": "f8"
         },
         "yaxis": "y"
        },
        {
         "customdata": {
          "bdata": "AAAAAAB8n0AAAAAAAICfQA==",
          "dtype": "f8",
          "shape": "2, 1"
         },
         "hovertemplate": "Model=Mercedes-Benz S-Class S 550 4MATIC<br>Mileage=%{x}<br>Price=%{y}<br>Year=%{customdata[0]}<extra></extra>",
         "legendgroup": "Mercedes-Benz S-Class S 550 4MATIC",
         "marker": {
          "color": "#B6E880",
          "symbol": "circle"
         },
         "mode": "markers",
         "name": "Mercedes-Benz S-Class S 550 4MATIC",
         "showlegend": true,
         "type": "scattergl",
         "x": {
          "bdata": "AAAAAJAQ8UAAAAAAQIPxQA==",
          "dtype": "f8"
         },
         "xaxis": "x",
         "y": {
          "bdata": "AAAAAEBb5EAAAAAAoIrgQA==",
          "dtype": "f8"
         },
         "yaxis": "y"
        },
        {
         "customdata": {
          "bdata": "AAAAAACMn0AAAAAAAIyfQAAAAAAAiJ9AAAAAAACIn0AAAAAAAISfQA==",
          "dtype": "f8",
          "shape": "5, 1"
         },
         "hovertemplate": "Model=Mercedes-Benz AMG GLE 43 Base 4MATIC<br>Mileage=%{x}<br>Price=%{y}<br>Year=%{customdata[0]}<extra></extra>",
         "legendgroup": "Mercedes-Benz AMG GLE 43 Base 4MATIC",
         "marker": {
          "color": "#FF97FF",
          "symbol": "circle"
         },
         "mode": "markers",
         "name": "Mercedes-Benz AMG GLE 43 Base 4MATIC",
         "showlegend": true,
         "type": "scattergl",
         "x": {
          "bdata": "AAAAAAC850AAAAAAYEDtQAAAAACQxPNAAAAAAHBH8kAAAAAAwHvwQA==",
          "dtype": "f8"
         },
         "xaxis": "x",
         "y": {
          "bdata": "AAAAAOBn6EAAAAAA4CfmQAAAAACARtxAAAAAAMA930AAAAAAwC7dQA==",
          "dtype": "f8"
         },
         "yaxis": "y"
        },
        {
         "customdata": {
          "bdata": "AAAAAACQn0A=",
          "dtype": "f8",
          "shape": "1, 1"
         },
         "hovertemplate": "Model=Mercedes-Benz Maybach S 650 Base<br>Mileage=%{x}<br>Price=%{y}<br>Year=%{customdata[0]}<extra></extra>",
         "legendgroup": "Mercedes-Benz Maybach S 650 Base",
         "marker": {
          "color": "#FECB52",
          "symbol": "circle"
         },
         "mode": "markers",
         "name": "Mercedes-Benz Maybach S 650 Base",
         "showlegend": true,
         "type": "scattergl",
         "x": {
          "bdata": "AAAAAIB54UA=",
          "dtype": "f8"
         },
         "xaxis": "x",
         "y": {
          "bdata": "AAAAAOAt+0A=",
          "dtype": "f8"
         },
         "yaxis": "y"
        },
        {
         "customdata": {
          "bdata": "AAAAAACgn0AAAAAAAKCfQAAAAAAAoJ9AAAAAAACgn0AAAAAAAKCfQAAAAAAAoJ9AAAAAAACgn0AAAAAAAKCfQA==",
          "dtype": "f8",
          "shape": "8, 1"
         },
         "hovertemplate": "Model=Mercedes-Benz GLE 450 Plug-In Hybrid Base 4MATIC<br>Mileage=%{x}<br>Price=%{y}<br>Year=%{customdata[0]}<extra></extra>",
         "legendgroup": "Mercedes-Benz GLE 450 Plug-In Hybrid Base 4MATIC",
         "marker": {
          "color": "#636efa",
          "symbol": "circle"
         },
         "mode": "markers",
         "name": "Mercedes-Benz GLE 450 Plug-In Hybrid Base 4MATIC",
         "showlegend": true,
         "type": "scattergl",
         "x": {
          "bdata": "AAAAAAACsUAAAAAAAAKxQAAAAAAA08JAAAAAAAACsUAAAAAAAPCjQAAAAAAAXJpAAAAAAAAgkUAAAAAAABanQA==",
          "dtype": "f8"
         },
         "xaxis": "x",
         "y": {
          "bdata": "AAAAAEBD80AAAAAAQEPzQAAAAADQsvJAAAAAAEBD80AAAAAA4FTxQAAAAACQEPJAAAAAAJAv80AAAAAAoI3yQA==",
          "dtype": "f8"
         },
         "yaxis": "y"
        },
        {
         "customdata": {
          "bdata": "AAAAAACUn0AAAAAAAJyfQAAAAAAAnJ9AAAAAAACcn0AAAAAAAJyfQAAAAAAAnJ9AAAAAAACcn0AAAAAAAJyfQAAAAAAAnJ9AAAAAAACcn0A=",
          "dtype": "f8",
          "shape": "10, 1"
         },
         "hovertemplate": "Model=Mercedes-Benz AMG GLB 35 Base<br>Mileage=%{x}<br>Price=%{y}<br>Year=%{customdata[0]}<extra></extra>",
         "legendgroup": "Mercedes-Benz AMG GLB 35 Base",
         "marker": {
          "color": "#EF553B",
          "symbol": "circle"
         },
         "mode": "markers",
         "name": "Mercedes-Benz AMG GLB 35 Base",
         "showlegend": true,
         "type": "scattergl",
         "x": {
          "bdata": "AAAAAGA46kAAAAAAALisQAAAAAAAKKVAAAAAAABEp0AAAAAAgLHGQAAAAACAh8NAAAAAAAA7ukAAAAAAAHzAQAAAAAAAc8NAAAAAAABuoEA=",
          "dtype": "f8"
         },
         "xaxis": "x",
         "y": {
          "bdata": "AAAAAAAC4kAAAAAAwNnnQAAAAADgUOpAAAAAAOCh6UAAAAAAgPDmQAAAAAAAVutAAAAAACC560AAAAAAYPjlQAAAAABAY+lAAAAAACDL6EA=",
          "dtype": "f8"
         },
         "yaxis": "y"
        },
        {
         "customdata": {
          "bdata": "AAAAAACAn0AAAAAAAICfQA==",
          "dtype": "f8",
          "shape": "2, 1"
         },
         "hovertemplate": "Model=Mercedes-Benz GLC-Class GLC 300<br>Mileage=%{x}<br>Price=%{y}<br>Year=%{customdata[0]}<extra></extra>",
         "legendgroup": "Mercedes-Benz GLC-Class GLC 300",
         "marker": {
          "color": "#00cc96",
          "symbol": "circle"
         },
         "mode": "markers",
         "name": "Mercedes-Benz GLC-Class GLC 300",
         "showlegend": true,
         "type": "scattergl",
         "x": {
          "bdata": "AAAAAKA150AAAAAAcI3zQA==",
          "dtype": "f8"
         },
         "xaxis": "x",
         "y": {
          "bdata": "AAAAAMCB1EAAAAAAgArTQA==",
          "dtype": "f8"
         },
         "yaxis": "y"
        },
        {
         "customdata": {
          "bdata": "AAAAAACcn0AAAAAAAJyfQAAAAAAAnJ9AAAAAAACcn0AAAAAAAJCfQA==",
          "dtype": "f8",
          "shape": "5, 1"
         },
         "hovertemplate": "Model=Mercedes-Benz Sprinter 2500 Standard Roof<br>Mileage=%{x}<br>Price=%{y}<br>Year=%{customdata[0]}<extra></extra>",
         "legendgroup": "Mercedes-Benz Sprinter 2500 Standard Roof",
         "marker": {
          "color": "#ab63fa",
          "symbol": "circle"
         },
         "mode": "markers",
         "name": "Mercedes-Benz Sprinter 2500 Standard Roof",
         "showlegend": true,
         "type": "scattergl",
         "x": {
          "bdata": "AAAAAABCzkAAAAAAgBXfQAAAAAAAxsRAAAAAAEC30kAAAAAAALu2QA==",
          "dtype": "f8"
         },
         "xaxis": "x",
         "y": {
          "bdata": "AAAAAMBO8kAAAAAAoA3sQAAAAACA3+lAAAAAAIDl6EAAAAAAgGvrQA==",
          "dtype": "f8"
         },
         "yaxis": "y"
        },
        {
         "customdata": {
          "bdata": "AAAAAACcn0AAAAAAAJyfQAAAAAAAnJ9AAAAAAACcn0AAAAAAAJyfQAAAAAAAnJ9AAAAAAACcn0AAAAAAAJyfQAAAAAAAnJ9AAAAAAACYn0AAAAAAAJyfQAAAAAAAmJ9AAAAAAACcn0AAAAAAAJyfQAAAAAAAnJ9AAAAAAACcn0AAAAAAAJyfQAAAAAAAnJ9AAAAAAACcn0AAAAAAAJyfQAAAAAAAnJ9AAAAAAACYn0AAAAAAAJyfQAAAAAAAnJ9AAAAAAACcn0AAAAAAAJyfQAAAAAAAnJ9A",
          "dtype": "f8",
          "shape": "27, 1"
         },
         "hovertemplate": "Model=Mercedes-Benz EQB 350 Base 4MATIC<br>Mileage=%{x}<br>Price=%{y}<br>Year=%{customdata[0]}<extra></extra>",
         "legendgroup": "Mercedes-Benz EQB 350 Base 4MATIC",
         "marker": {
          "color": "#FFA15A",
          "symbol": "circle"
         },
         "mode": "markers",
         "name": "Mercedes-Benz EQB 350 Base 4MATIC",
         "showlegend": true,
         "type": "scattergl",
         "x": {
          "bdata": "AAAAAACMq0AAAAAAAKyfQAAAAAAAtJhAAAAAAADGqEAAAAAAAKCvQAAAAAAAVKdAAAAAAADGqEAAAAAAAFywQAAAAAAAVq1AAAAAAACEvUAAAAAAAFirQAAAAAAAJ75AAAAAAABEpUAAAAAAALiXQAAAAAAAiJNAAAAAAAC2oEAAAAAAAA6nQAAAAAAASJJAAAAAAADwrEAAAAAAAHydQAAAAAAAhqdAAAAAAAC5vkAAAAAAAOCNQAAAAAAAGqVAAAAAAABap0AAAAAAAPCUQAAAAAAA6qNA",
          "dtype": "f8"
         },
         "xaxis": "x",
         "y": {
          "bdata": "AAAAAIBR6kAAAAAAIE7oQAAAAAAgJO9AAAAAAGDA7EAAAAAAIKfuQAAAAAAgQupAAAAAAGDA7EAAAAAAYLLpQAAAAABgUexAAAAAAIAE4kAAAAAAIDzrQAAAAACAxeJAAAAAAMCG7UAAAAAAoFnqQAAAAACgW+1AAAAAALBd8EAAAAAAIArsQAAAAAAAv+pAAAAAAEBF7kAAAAAAwFDsQAAAAABg4OlAAAAAAIBh40AAAAAAgObrQAAAAABgu+tAAAAAAIBX6UAAAAAAYBPsQAAAAAAg6OtA",
          "dtype": "f8"
         },
         "yaxis": "y"
        },
        {
         "customdata": {
          "bdata": "AAAAAACcn0AAAAAAAKCfQAAAAAAAnJ9AAAAAAACgn0AAAAAAAKCfQAAAAAAAoJ9AAAAAAACcn0AAAAAAAKCfQAAAAAAAnJ9AAAAAAACgn0AAAAAAAJyfQAAAAAAAnJ9AAAAAAACQn0AAAAAAAJyfQAAAAAAAnJ9AAAAAAACUn0AAAAAAAJifQAAAAAAAlJ9AAAAAAACUn0AAAAAAAKCfQAAAAAAAnJ9AAAAAAACcn0AAAAAAAJyfQAAAAAAAlJ9AAAAAAACgn0AAAAAAAKCfQAAAAAAAoJ9AAAAAAACcn0AAAAAAAJCfQAAAAAAAlJ9AAAAAAACcn0AAAAAAAJyfQAAAAAAAmJ9AAAAAAACgn0AAAAAAAJSfQAAAAAAAlJ9AAAAAAACcn0AAAAAAAKCfQAAAAAAAoJ9AAAAAAACUn0AAAAAAAIyfQAAAAAAAkJ9AAAAAAACcn0AAAAAAAJCfQAAAAAAAlJ9AAAAAAACgn0AAAAAAAJCfQAAAAAAAkJ9AAAAAAACUn0AAAAAAAJyfQAAAAAAAoJ9AAAAAAACcn0AAAAAAAJCfQAAAAAAAnJ9AAAAAAACcn0AAAAAAAJyfQAAAAAAAnJ9AAAAAAACcn0AAAAAAAJyfQAAAAAAAoJ9AAAAAAACQn0AAAAAAAKCfQAAAAAAAnJ9AAAAAAACUn0AAAAAAAKCfQAAAAAAAlJ9AAAAAAACgn0AAAAAAAKCfQAAAAAAAnJ9AAAAAAACMn0AAAAAAAJyfQAAAAAAAnJ9AAAAAAACQn0AAAAAAAKCfQAAAAAAAkJ9AAAAAAACYn0AAAAAAAJCfQAAAAAAAnJ9AAAAAAACcn0AAAAAAAJyfQAAAAAAAoJ9AAAAAAACYn0AAAAAAAJyfQAAAAAAAoJ9AAAAAAACcn0AAAAAAAKCfQAAAAAAAnJ9AAAAAAACcn0AAAAAAAJyfQAAAAAAAkJ9AAAAAAACcn0AAAAAAAJyfQAAAAAAAnJ9AAAAAAACcn0AAAAAAAJyfQAAAAAAAnJ9AAAAAAACcn0AAAAAAAJyfQAAAAAAAoJ9AAAAAAACQn0AAAAAAAKCfQAAAAAAAoJ9AAAAAAACcn0AAAAAAAJCfQAAAAAAAoJ9AAAAAAACUn0AAAAAAAKCfQAAAAAAAkJ9AAAAAAACgn0AAAAAAAJyfQAAAAAAAnJ9AAAAAAACcn0AAAAAAAJyfQAAAAAAAnJ9AAAAAAACUn0AAAAAAAJSfQAAAAAAAnJ9AAAAAAACgn0AAAAAAAJSfQAAAAAAAnJ9AAAAAAACQn0AAAAAAAKCfQAAAAAAAnJ9AAAAAAACYn0AAAAAAAJyfQAAAAAAAnJ9AAAAAAACUn0AAAAAAAJyfQAAAAAAAlJ9AAAAAAACgn0AAAAAAAJSfQAAAAAAAlJ9AAAAAAACcn0AAAAAAAJSfQAAAAAAAlJ9AAAAAAACcn0AAAAAAAJCfQAAAAAAAnJ9AAAAAAACcn0AAAAAAAJSfQAAAAAAAkJ9AAAAAAACIn0A=",
          "dtype": "f8",
          "shape": "142, 1"
         },
         "hovertemplate": "Model=Mercedes-Benz C-Class C 300 4MATIC<br>Mileage=%{x}<br>Price=%{y}<br>Year=%{customdata[0]}<extra></extra>",
         "legendgroup": "Mercedes-Benz C-Class C 300 4MATIC",
         "marker": {
          "color": "#19d3f3",
          "symbol": "circle"
         },
         "mode": "markers",
         "name": "Mercedes-Benz C-Class C 300 4MATIC",
         "showlegend": true,
         "type": "scattergl",
         "x": {
          "bdata": "AAAAAACEsUAAAAAAACahQAAAAAAAGrRAAAAAAAAssEAAAAAAAGaiQAAAAAAAOqJAAAAAAAAVs0AAAAAAACyvQAAAAAAA5qxAAAAAAAC4p0AAAAAAAICfQAAAAAAAO8ZAAAAAAEC84kAAAAAAAAm6QAAAAAAA2MpAAAAAAAA43UAAAAAAAAvEQAAAAADgx+FAAAAAAADOxUAAAAAAAJapQAAAAAAA67RAAAAAAAAVs0AAAAAAgAfDQAAAAABArdpAAAAAAADyskAAAAAAAMqiQAAAAAAAgKdAAAAAAADmt0AAAAAAwIfhQAAAAACgR+JAAAAAAACklkAAAAAAAI6qQAAAAABA/t9AAAAAAABiq0AAAAAAICnjQAAAAAAAPuFAAAAAAAAnuEAAAAAAAASqQAAAAAAA2qJAAAAAAACywEAAAAAAADbrQAAAAACAn9dAAAAAAAD6ukAAAAAAIG7gQAAAAADActRAAAAAAADAgUAAAAAAYFzmQAAAAAAAgN9AAAAAAODA5EAAAAAAAE+5QAAAAAAAXbZAAAAAAADrw0AAAAAAwEjfQAAAAAAAJbRAAAAAAAD9sUAAAAAAAOKnQAAAAAAAtKRAAAAAAAAupkAAAAAAAHiwQAAAAAAAUKlAAAAAAECS2kAAAAAAAABZQAAAAAAA7bVAAAAAAIDAzEAAAAAAAHOzQAAAAAAAnsdAAAAAAAB8pUAAAAAAAAi2QAAAAAAAYK9AAAAAAGCb4kAAAAAAAHSZQAAAAAAA2q5AAAAAAEC+3kAAAAAAAFB4QAAAAADAO9lAAAAAAMCE00AAAAAAwLHqQAAAAAAAPbJAAAAAAACRskAAAAAAABC0QAAAAAAAGrRAAAAAAAClxUAAAAAAAMapQAAAAAAAkqhAAAAAAICOzEAAAAAAAGGwQAAAAAAAm7NAAAAAAADEqUAAAAAAAEKwQAAAAADg5+hAAAAAAABFwEAAAAAAAPW2QAAAAAAAZqlAAAAAAADRsUAAAAAAAMi8QAAAAAAAPKdAAAAAAADZu0AAAAAAACysQAAAAAAA2rJAAAAAAMAV0UAAAAAAAMSmQAAAAAAAYrBAAAAAAIAhyUAAAAAAQErfQAAAAAAA2qNAAAAAAADl10AAAAAAAPytQAAAAAAA3+VAAAAAAAAApUAAAAAAAAytQAAAAAAAQLBAAAAAAABiw0AAAAAAAJKyQAAAAAAAcqBAAAAAAMCO00AAAAAAgHbUQAAAAAAAeMVAAAAAAAA0sEAAAAAAAL3XQAAAAAAAWJBAAAAAAIDe20AAAAAAADS3QAAAAAAA5LhAAAAAAAAj30AAAAAAAGbBQAAAAAAA5r5AAAAAAABDykAAAAAAwLrUQAAAAAAA1ddAAAAAAACQn0AAAAAAgBrYQAAAAADAUttAAAAAAACvwkAAAAAAoBXhQAAAAABAnOBAAAAAAABgmUAAAAAAwOnQQAAAAAAApLxAAAAAAACUsUAAAAAAALvPQAAAAADAT9xAAAAAAOCG5UA=",
          "dtype": "f8"
         },
         "xaxis": "x",
         "y": {
          "bdata": "AAAAAADl5kAAAAAAwA7nQAAAAADADudAAAAAAMCX5UAAAAAAAOXmQAAAAAAg5upAAAAAAABu5UAAAAAAANnoQAAAAAAA5eZAAAAAAADT6UAAAAAAwHXmQAAAAACg/uRAAAAAAAA22kAAAAAAYPjlQAAAAABg3+NAAAAAAMDZ2kAAAAAAYIfjQAAAAADAzdxAAAAAAGAD4EAAAAAAYOrqQAAAAACAuuVAAAAAAIBo6EAAAAAAQOHlQAAAAADgleBAAAAAAOCb6kAAAAAAoOnqQAAAAACg5+pAAAAAAOAw50AAAAAAAEDbQAAAAADAtd1AAAAAAMD35UAAAAAAYGnoQAAAAADATuJAAAAAACDk6EAAAAAAIJLgQAAAAABg5uVAAAAAAACf5kAAAAAA4NrqQAAAAAAAXOhAAAAAAICG40AAAAAAwJXZQAAAAAAAA99AAAAAAID/5kAAAAAAgFXbQAAAAACAkuFAAAAAAEDa6kAAAAAAAEvdQAAAAAAAz9xAAAAAAMBA3kAAAAAAAP/kQAAAAAAg8OZAAAAAAKBP5kAAAAAAgNXcQAAAAADg8uZAAAAAAIBj50AAAAAAgLTmQAAAAAAgpuhAAAAAAOBt50AAAAAAIHnlQAAAAABgzOlAAAAAAMBE3kAAAAAAIE7oQAAAAACAGOdAAAAAAGCA4EAAAAAAYCzpQAAAAABAzeBAAAAAAOCa5kAAAAAA4GnoQAAAAADAdeZAAAAAAMBR3EAAAAAAgHrlQAAAAADAp+ZAAAAAAEBT20AAAAAAINHnQAAAAACAMN1AAAAAAIDM5kAAAAAAgPPaQAAAAADgZ+hAAAAAAIB15kAAAAAAAErlQAAAAAAAauhAAAAAACDl5EAAAAAA4FvqQAAAAABAj+dAAAAAAMCA5EAAAAAAQBnrQAAAAACAbuVAAAAAAOBn6EAAAAAAwPjlQAAAAADAa+FAAAAAAKAT50AAAAAAAPnlQAAAAADgbedAAAAAAOBn6EAAAAAAYAPnQAAAAAAAcOdAAAAAAADa5kAAAAAA4G3nQAAAAAAgp+tAAAAAAIDp3kAAAAAA4F3qQAAAAACg5uhAAAAAAIBl5UAAAAAAwBjdQAAAAADg2upAAAAAACCT4UAAAAAAYD3sQAAAAAAgl+BAAAAAAGBR50AAAAAAgHTmQAAAAADAaOhAAAAAAABJ5UAAAAAA4GfoQAAAAADg3ulAAAAAAMDS3kAAAAAAgHvgQAAAAAAAR+ZAAAAAAACt50AAAAAAAAPfQAAAAABAaeZAAAAAAKCY4EAAAAAAQD3lQAAAAADgv+RAAAAAAOAP4kAAAAAAALjlQAAAAACAxOVAAAAAAEAY4EAAAAAAIGDlQAAAAAAAw95AAAAAAOBc6kAAAAAAgBvgQAAAAACACuFAAAAAAAB85UAAAAAAAMjfQAAAAADAD+JAAAAAAKBo6EAAAAAAwKTeQAAAAACg6+dAAAAAAIDm5kAAAAAAwPHhQAAAAABAwN5AAAAAAACg1kA=",
          "dtype": "f8"
         },
         "yaxis": "y"
        },
        {
         "customdata": {
          "bdata": "AAAAAACcn0AAAAAAAJyfQAAAAAAAnJ9AAAAAAACcn0AAAAAAAJyfQA==",
          "dtype": "f8",
          "shape": "5, 1"
         },
         "hovertemplate": "Model=Mercedes-Benz GLS 580 4MATIC<br>Mileage=%{x}<br>Price=%{y}<br>Year=%{customdata[0]}<extra></extra>",
         "legendgroup": "Mercedes-Benz GLS 580 4MATIC",
         "marker": {
          "color": "#FF6692",
          "symbol": "circle"
         },
         "mode": "markers",
         "name": "Mercedes-Benz GLS 580 4MATIC",
         "showlegend": true,
         "type": "scattergl",
         "x": {
          "bdata": "AAAAAACSo0AAAAAAAHvFQAAAAAAAJrhAAAAAAABIk0AAAAAAAMXHQA==",
          "dtype": "f8"
         },
         "xaxis": "x",
         "y": {
          "bdata": "AAAAAFDH90AAAAAA4Gn4QAAAAACQnPdAAAAAAECc+EAAAAAAcNL3QA==",
          "dtype": "f8"
         },
         "yaxis": "y"
        },
        {
         "customdata": {
          "bdata": "AAAAAACcn0AAAAAAAJyfQA==",
          "dtype": "f8",
          "shape": "2, 1"
         },
         "hovertemplate": "Model=Mercedes-Benz AMG E 53 E 53 AMG<br>Mileage=%{x}<br>Price=%{y}<br>Year=%{customdata[0]}<extra></extra>",
         "legendgroup": "Mercedes-Benz AMG E 53 E 53 AMG",
         "marker": {
          "color": "#B6E880",
          "symbol": "circle"
         },
         "mode": "markers",
         "name": "Mercedes-Benz AMG E 53 E 53 AMG",
         "showlegend": true,
         "type": "scattergl",
         "x": {
          "bdata": "AAAAAAAGo0AAAAAAAESTQA==",
          "dtype": "f8"
         },
         "xaxis": "x",
         "y": {
          "bdata": "AAAAAOCy8EAAAAAAMArxQA==",
          "dtype": "f8"
         },
         "yaxis": "y"
        },
        {
         "customdata": {
          "bdata": "AAAAAACcn0AAAAAAAJyfQAAAAAAAnJ9AAAAAAACcn0AAAAAAAJCfQAAAAAAAkJ9AAAAAAACcn0AAAAAAAJyfQAAAAAAAnJ9AAAAAAACcn0AAAAAAAJCfQAAAAAAAnJ9AAAAAAACcn0AAAAAAAJyfQAAAAAAAnJ9AAAAAAACcn0AAAAAAAJyfQAAAAAAAkJ9AAAAAAACcn0AAAAAAAJCfQAAAAAAAnJ9AAAAAAACcn0AAAAAAAJyfQAAAAAAAmJ9AAAAAAACcn0AAAAAAAJyfQAAAAAAAnJ9AAAAAAACcn0AAAAAAAJCfQAAAAAAAkJ9AAAAAAACcn0AAAAAAAJSfQAAAAAAAnJ9AAAAAAACcn0AAAAAAAJCfQAAAAAAAnJ9AAAAAAACYn0AAAAAAAJyfQAAAAAAAnJ9AAAAAAACcn0AAAAAAAJyfQAAAAAAAkJ9AAAAAAACQn0AAAAAAAJifQAAAAAAAnJ9AAAAAAACUn0AAAAAAAJSfQAAAAAAAnJ9AAAAAAACQn0AAAAAAAJyfQAAAAAAAmJ9AAAAAAACgn0AAAAAAAJSfQAAAAAAAkJ9AAAAAAACcn0AAAAAAAJyfQAAAAAAAlJ9AAAAAAACQn0AAAAAAAJyfQAAAAAAAnJ9AAAAAAACQn0AAAAAAAJyfQAAAAAAAnJ9AAAAAAACcn0AAAAAAAJyfQAAAAAAAlJ9AAAAAAACcn0AAAAAAAJyfQAAAAAAAlJ9AAAAAAACcn0AAAAAAAJCfQAAAAAAAnJ9AAAAAAACcn0AAAAAAAJCfQAAAAAAAnJ9AAAAAAACUn0AAAAAAAJyfQAAAAAAAnJ9AAAAAAACUn0AAAAAAAJyfQAAAAAAAnJ9AAAAAAACcn0AAAAAAAJyfQAAAAAAAnJ9AAAAAAACUn0AAAAAAAJyfQAAAAAAAnJ9AAAAAAACYn0AAAAAAAJifQAAAAAAAkJ9AAAAAAACUn0AAAAAAAJyfQAAAAAAAnJ9AAAAAAACcn0AAAAAAAJyfQAAAAAAAkJ9AAAAAAACcn0AAAAAAAJSfQAAAAAAAnJ9AAAAAAACcn0AAAAAAAJCfQAAAAAAAlJ9AAAAAAACcn0AAAAAAAJifQAAAAAAAkJ9AAAAAAACQn0AAAAAAAJSfQA==",
          "dtype": "f8",
          "shape": "107, 1"
         },
         "hovertemplate": "Model=Mercedes-Benz GLB 250 Base 4MATIC<br>Mileage=%{x}<br>Price=%{y}<br>Year=%{customdata[0]}<extra></extra>",
         "legendgroup": "Mercedes-Benz GLB 250 Base 4MATIC",
         "marker": {
          "color": "#FF97FF",
          "symbol": "circle"
         },
         "mode": "markers",
         "name": "Mercedes-Benz GLB 250 Base 4MATIC",
         "showlegend": true,
         "type": "scattergl",
         "x": {
          "bdata": "AAAAAACopkAAAAAAAAywQAAAAAAAFb9AAAAAAAB0tUAAAAAAwFbYQAAAAACAkdRAAAAAAACwqEAAAAAAAKm5QAAAAAAAnrVAAAAAAACEskAAAAAAgA7aQAAAAAAA6LJAAAAAAIByw0AAAAAAAISyQAAAAAAA3LRAAAAAAADswUAAAAAAADirQAAAAACAe9NAAAAAAACopkAAAAAAQOXjQAAAAAAA1qFAAAAAAABgv0AAAAAAAAywQAAAAACAS8hAAAAAAAD9skAAAAAAAIqmQAAAAAAAN71AAAAAAABtsEAAAAAAYMfnQAAAAADgJPJAAAAAAADCwUAAAAAAgNzVQAAAAAAAgqRAAAAAAACVsEAAAAAAwDbcQAAAAAAAVLhAAAAAAEAl00AAAAAAADe8QAAAAAAAUqtAAAAAAABCvEAAAAAAgHHDQAAAAABgc+ZAAAAAAACs4EAAAAAAAKTFQAAAAAAAbrFAAAAAAIAh5UAAAAAAIFzgQAAAAAAAC7BAAAAAAECk3EAAAAAAAHqwQAAAAABA+ddAAAAAAACqrEAAAAAAgNzXQAAAAABAH9NAAAAAAACRsUAAAAAAAEOwQAAAAAAAvNFAAAAAACAM6EAAAAAAAPK0QAAAAADAvtJAAAAAAEDX1kAAAAAAAMKqQAAAAAAAD7BAAAAAAAD2wUAAAAAAAOW5QAAAAABAOe5AAAAAAADExEAAAAAAAN7LQAAAAACAvdtAAAAAAABuvkAAAAAAoOHjQAAAAAAA+MFAAAAAAIDIyEAAAAAAIP3kQAAAAAAA1LJAAAAAAADy50AAAAAAAOa0QAAAAAAAUqRAAAAAAADzxUAAAAAAAGjCQAAAAAAAHcBAAAAAAAAJsEAAAAAAALnMQAAAAAAAIbZAAAAAAICr4EAAAAAAADe/QAAAAACAHcBAAAAAAAAszEAAAAAAgAHHQAAAAADAyNdAAAAAAED71UAAAAAAAOKqQAAAAAAAOK5AAAAAAAAzv0AAAAAAAAe8QAAAAACACtFAAAAAAACbtEAAAAAAACrJQAAAAAAAVq1AAAAAAADtsUAAAAAA4AnjQAAAAAAATNpAAAAAAACetUAAAAAAQKPbQAAAAADgEOtAAAAAAIDG5UAAAAAAAK7dQA==",
          "dtype": "f8"
         },
         "xaxis": "x",
         "y": {
          "bdata": "AAAAAIBp5kAAAAAAgObmQAAAAADA7OdAAAAAAADS5EAAAAAAQFvgQAAAAADAlN9AAAAAAABu5UAAAAAAYKHlQAAAAADAl+VAAAAAACA+5kAAAAAAgIrfQAAAAACg8OVAAAAAAMBM5EAAAAAAID7mQAAAAAAgU+NAAAAAAKD95EAAAAAAgGnmQAAAAABA6+JAAAAAAIBp5kAAAAAAAB7dQAAAAAAg4+RAAAAAAICn5EAAAAAAgObmQAAAAADA2+NAAAAAAOC/5EAAAAAAAPHkQAAAAACAQ+RAAAAAAIB05kAAAAAAwFzaQAAAAABA4NlAAAAAAMDJ5EAAAAAAQIrhQAAAAADAdeZAAAAAAABo5kAAAAAAQNPfQAAAAABgh+NAAAAAAGBh4UAAAAAAIBzmQAAAAACAaeZAAAAAAAB85UAAAAAAgI3oQAAAAAAAX9xAAAAAAMBW20AAAAAAwAPkQAAAAABg/uRAAAAAAEDa3kAAAAAAwHrgQAAAAABg/uRAAAAAAOCY4EAAAAAAgNnkQAAAAACAkuFAAAAAAOBC5EAAAAAA4PzhQAAAAADAA95AAAAAAOC/5EAAAAAAAFDkQAAAAADAFuFAAAAAAAA930AAAAAAgCrkQAAAAACghuNAAAAAACA64EAAAAAAgFLpQAAAAABg4eRAAAAAAODi5EAAAAAAYKDoQAAAAABAT9xAAAAAAAAF5EAAAAAAYDfkQAAAAADgD+JAAAAAACD25UAAAAAAQNraQAAAAAAAguRAAAAAAKBg5UAAAAAAwP3ZQAAAAAAAWOVAAAAAAEAn3UAAAAAAAFDkQAAAAAAAdORAAAAAAKA25kAAAAAAwEjlQAAAAACA7OVAAAAAAIDs5UAAAAAAwFzmQAAAAABgweVAAAAAAEAO4EAAAAAAADHlQAAAAAAAfOVAAAAAAEDF40AAAAAAYM/iQAAAAADARN5AAAAAAICY4EAAAAAAAFznQAAAAADAb+ZAAAAAAKCP50AAAAAAoH/nQAAAAAAATN1AAAAAACDV6UAAAAAAAAnhQAAAAACA5uZAAAAAAIDm5kAAAAAAANXcQAAAAACAFeFAAAAAAKAt6UAAAAAAINLgQAAAAAAA29pAAAAAAADP3EAAAAAAQA/gQA==",
          "dtype": "f8"
         },
         "yaxis": "y"
        },
        {
         "customdata": {
          "bdata": "AAAAAACQn0A=",
          "dtype": "f8",
          "shape": "1, 1"
         },
         "hovertemplate": "Model=Mercedes-Benz AMG CLS 53 Base 4MATIC<br>Mileage=%{x}<br>Price=%{y}<br>Year=%{customdata[0]}<extra></extra>",
         "legendgroup": "Mercedes-Benz AMG CLS 53 Base 4MATIC",
         "marker": {
          "color": "#FECB52",
          "symbol": "circle"
         },
         "mode": "markers",
         "name": "Mercedes-Benz AMG CLS 53 Base 4MATIC",
         "showlegend": true,
         "type": "scattergl",
         "x": {
          "bdata": "AAAAAEBi3EA=",
          "dtype": "f8"
         },
         "xaxis": "x",
         "y": {
          "bdata": "AAAAAIA/7UA=",
          "dtype": "f8"
         },
         "yaxis": "y"
        },
        {
         "customdata": {
          "bdata": "AAAAAACcn0AAAAAAAJyfQAAAAAAAnJ9AAAAAAACcn0AAAAAAAJyfQAAAAAAAnJ9AAAAAAACcn0AAAAAAAJyfQAAAAAAAnJ9AAAAAAACcn0AAAAAAAJyfQAAAAAAAnJ9A",
          "dtype": "f8",
          "shape": "12, 1"
         },
         "hovertemplate": "Model=Mercedes-Benz EQE 350+ Base<br>Mileage=%{x}<br>Price=%{y}<br>Year=%{customdata[0]}<extra></extra>",
         "legendgroup": "Mercedes-Benz EQE 350+ Base",
         "marker": {
          "color": "#636efa",
          "symbol": "circle"
         },
         "mode": "markers",
         "name": "Mercedes-Benz EQE 350+ Base",
         "showlegend": true,
         "type": "scattergl",
         "x": {
          "bdata": "AAAAAADYtkAAAAAAAOu4QAAAAAAAKKxAAAAAAICvwUAAAAAAAEe1QAAAAAAA+MhAAAAAAAB4l0AAAAAAANnBQAAAAAAAgFlAAAAAAABUuUAAAAAAgBDDQAAAAAAA+71A",
          "dtype": "f8"
         },
         "xaxis": "x",
         "y": {
          "bdata": "AAAAAIAm7UAAAAAAgFTwQAAAAAAA0vFAAAAAABAD8kAAAAAAYKzxQAAAAAAQCfFAAAAAAFDP8EAAAAAAoDfvQAAAAAAwAfBAAAAAAHCZ8EAAAAAAkMrwQAAAAADg1OtA",
          "dtype": "f8"
         },
         "yaxis": "y"
        },
        {
         "customdata": {
          "bdata": "AAAAAACQn0AAAAAAAJSfQAAAAAAAkJ9AAAAAAACcn0AAAAAAAIyfQAAAAAAAkJ9AAAAAAACQn0AAAAAAAJifQAAAAAAAnJ9AAAAAAACQn0AAAAAAAJCfQAAAAAAAlJ9AAAAAAACYn0AAAAAAAJCfQAAAAAAAkJ9AAAAAAACMn0AAAAAAAJifQAAAAAAAmJ9AAAAAAACUn0AAAAAAAIyfQAAAAAAAmJ9AAAAAAACQn0AAAAAAAJSfQAAAAAAAjJ9AAAAAAACMn0A=",
          "dtype": "f8",
          "shape": "25, 1"
         },
         "hovertemplate": "Model=Mercedes-Benz AMG GLC 43 Base 4MATIC<br>Mileage=%{x}<br>Price=%{y}<br>Year=%{customdata[0]}<extra></extra>",
         "legendgroup": "Mercedes-Benz AMG GLC 43 Base 4MATIC",
         "marker": {
          "color": "#EF553B",
          "symbol": "circle"
         },
         "mode": "markers",
         "name": "Mercedes-Benz AMG GLC 43 Base 4MATIC",
         "showlegend": true,
         "type": "scattergl",
         "x": {
          "bdata": "AAAAAGAZ40AAAAAAAKrZQAAAAAAA1tpAAAAAAABYoUAAAAAAQGbsQAAAAACggvFAAAAAAEB83kAAAAAAAIvLQAAAAAAAJbRAAAAAAAAd40AAAAAAACXeQAAAAABAQt1AAAAAAACdxEAAAAAAwHvkQAAAAABg2+5AAAAAAMDc00AAAAAAgAjQQAAAAACAZNZAAAAAAAAtxUAAAAAAwCjvQAAAAAAAXdBAAAAAAED44UAAAAAAgKjOQAAAAAAA29pAAAAAAIBz5kA=",
          "dtype": "f8"
         },
         "xaxis": "x",
         "y": {
          "bdata": "AAAAAOA95kAAAAAAwOznQAAAAADgrOdAAAAAADD18EAAAAAAAEDfQAAAAADAgeRAAAAAAOB65UAAAAAAgM7qQAAAAABAufBAAAAAAKBg5EAAAAAAQE/kQAAAAAAA6+VAAAAAAODl6EAAAAAAAB7kQAAAAABAkuFAAAAAAAA25UAAAAAAAGroQAAAAADAb+dAAAAAAKBX60AAAAAAwHfjQAAAAACgW+lAAAAAAGBK5EAAAAAAYHXnQAAAAABgxuNAAAAAAIDG40A=",
          "dtype": "f8"
         },
         "yaxis": "y"
        },
        {
         "customdata": {
          "bdata": "AAAAAACQn0A=",
          "dtype": "f8",
          "shape": "1, 1"
         },
         "hovertemplate": "Model=Mercedes-Benz AMG E 53 <br>Mileage=%{x}<br>Price=%{y}<br>Year=%{customdata[0]}<extra></extra>",
         "legendgroup": "Mercedes-Benz AMG E 53 ",
         "marker": {
          "color": "#00cc96",
          "symbol": "circle"
         },
         "mode": "markers",
         "name": "Mercedes-Benz AMG E 53 ",
         "showlegend": true,
         "type": "scattergl",
         "x": {
          "bdata": "AAAAAABkvkA=",
          "dtype": "f8"
         },
         "xaxis": "x",
         "y": {
          "bdata": "AAAAACCr8EA=",
          "dtype": "f8"
         },
         "yaxis": "y"
        },
        {
         "customdata": {
          "bdata": "AAAAAACUn0AAAAAAAJCfQAAAAAAAlJ9AAAAAAACEn0AAAAAAAJCfQAAAAAAAkJ9AAAAAAACUn0AAAAAAAJSfQAAAAAAAlJ9AAAAAAACUn0AAAAAAAJCfQAAAAAAAkJ9AAAAAAACUn0AAAAAAAJCfQAAAAAAAkJ9AAAAAAACMn0A=",
          "dtype": "f8",
          "shape": "16, 1"
         },
         "hovertemplate": "Model=Mercedes-Benz AMG G 63 Base<br>Mileage=%{x}<br>Price=%{y}<br>Year=%{customdata[0]}<extra></extra>",
         "legendgroup": "Mercedes-Benz AMG G 63 Base",
         "marker": {
          "color": "#ab63fa",
          "symbol": "circle"
         },
         "mode": "markers",
         "name": "Mercedes-Benz AMG G 63 Base",
         "showlegend": true,
         "type": "scattergl",
         "x": {
          "bdata": "AAAAAABizkAAAAAA4HfhQAAAAACAA+hAAAAAAECH9UAAAAAAQBfiQAAAAAAAfNlAAAAAAEAu0UAAAAAAAIPTQAAAAABARttAAAAAAIB+zEAAAAAAgLrjQAAAAADgx+FAAAAAAMBG20AAAAAAgHHhQAAAAADA2etAAAAAAKC17EA=",
          "dtype": "f8"
         },
         "xaxis": "x",
         "y": {
          "bdata": "AAAAAJjWBUEAAAAAWE8CQQAAAACQIARBAAAAAGDY8EAAAAAAUEMEQQAAAABoQwRBAAAAAOCaBUEAAAAA+FUGQQAAAAAQ3ARBAAAAAKBlCEEAAAAAcEIEQQAAAABoBARBAAAAAIC6BUEAAAAAsEoEQQAAAADgDQJBAAAAANhYAkE=",
          "dtype": "f8"
         },
         "yaxis": "y"
        },
        {
         "customdata": {
          "bdata": "AAAAAACUn0AAAAAAAJCfQAAAAAAAkJ9AAAAAAACcn0AAAAAAAJSfQAAAAAAAnJ9AAAAAAACQn0AAAAAAAJCfQAAAAAAAnJ9AAAAAAACUn0AAAAAAAJCfQAAAAAAAlJ9AAAAAAACcn0AAAAAAAJCfQAAAAAAAnJ9AAAAAAACcn0AAAAAAAJyfQAAAAAAAlJ9AAAAAAACYn0AAAAAAAJCfQAAAAAAAlJ9AAAAAAACUn0AAAAAAAJSfQAAAAAAAlJ9AAAAAAACcn0AAAAAAAJyfQAAAAAAAlJ9AAAAAAACUn0AAAAAAAJSfQAAAAAAAnJ9A",
          "dtype": "f8",
          "shape": "30, 1"
         },
         "hovertemplate": "Model=Mercedes-Benz E-Class E 450 4MATIC<br>Mileage=%{x}<br>Price=%{y}<br>Year=%{customdata[0]}<extra></extra>",
         "legendgroup": "Mercedes-Benz E-Class E 450 4MATIC",
         "marker": {
          "color": "#FFA15A",
          "symbol": "circle"
         },
         "mode": "markers",
         "name": "Mercedes-Benz E-Class E 450 4MATIC",
         "showlegend": true,
         "type": "scattergl",
         "x": {
          "bdata": "AAAAAABAtkAAAAAAgFfPQAAAAAAgJeBAAAAAAADWp0AAAAAAQALZQAAAAAAAiIlAAAAAAICE1EAAAAAAAN7hQAAAAAAAQblAAAAAAGAq4UAAAAAAAMbqQAAAAABAztdAAAAAAIBPzUAAAAAAgIrlQAAAAAAADLdAAAAAAAA/tEAAAAAAAGKkQAAAAADAEtFAAAAAAMCr0kAAAAAAoF7mQAAAAAAAicVAAAAAAMDW0kAAAAAAQHDVQAAAAABAcNVAAAAAAAA8sEAAAAAAAAGxQAAAAABA7dNAAAAAAIA93kAAAAAAwJLqQAAAAAAAqqpA",
          "dtype": "f8"
         },
         "xaxis": "x",
         "y": {
          "bdata": "AAAAAOBE7kAAAAAAQJblQAAAAAAAKORAAAAAAEAC7UAAAAAAgOvnQAAAAABQmfBAAAAAAEBD5EAAAAAAYHrlQAAAAADglelAAAAAAGBX60AAAAAAQDbhQAAAAABg0udAAAAAACBI8EAAAAAAYPjlQAAAAACgPu9AAAAAAMAg9EAAAAAAQH7vQAAAAACg3udAAAAAAADP7EAAAAAAgO/iQAAAAAAATO1AAAAAAKBJ6EAAAAAAQN/nQAAAAABA3+dAAAAAABAb8UAAAAAAgE/yQAAAAABAPe5AAAAAAIDm5kAAAAAAQB7qQAAAAADgW+pA",
          "dtype": "f8"
         },
         "yaxis": "y"
        },
        {
         "customdata": {
          "bdata": "AAAAAACIn0AAAAAAAIyfQA==",
          "dtype": "f8",
          "shape": "2, 1"
         },
         "hovertemplate": "Model=Mercedes-Benz AMG GLE 43 Coupe 4MATIC<br>Mileage=%{x}<br>Price=%{y}<br>Year=%{customdata[0]}<extra></extra>",
         "legendgroup": "Mercedes-Benz AMG GLE 43 Coupe 4MATIC",
         "marker": {
          "color": "#19d3f3",
          "symbol": "circle"
         },
         "mode": "markers",
         "name": "Mercedes-Benz AMG GLE 43 Coupe 4MATIC",
         "showlegend": true,
         "type": "scattergl",
         "x": {
          "bdata": "AAAAAPDG9UAAAAAAYGDmQA==",
          "dtype": "f8"
         },
         "xaxis": "x",
         "y": {
          "bdata": "AAAAAKCA4EAAAAAAwJvnQA==",
          "dtype": "f8"
         },
         "yaxis": "y"
        },
        {
         "customdata": {
          "bdata": "AAAAAACcn0AAAAAAAJyfQAAAAAAAmJ9AAAAAAACYn0AAAAAAAJifQAAAAAAAmJ9A",
          "dtype": "f8",
          "shape": "6, 1"
         },
         "hovertemplate": "Model=Mercedes-Benz AMG SL 55 Base<br>Mileage=%{x}<br>Price=%{y}<br>Year=%{customdata[0]}<extra></extra>",
         "legendgroup": "Mercedes-Benz AMG SL 55 Base",
         "marker": {
          "color": "#FF6692",
          "symbol": "circle"
         },
         "mode": "markers",
         "name": "Mercedes-Benz AMG SL 55 Base",
         "showlegend": true,
         "type": "scattergl",
         "x": {
          "bdata": "AAAAAADgi0AAAAAAAHasQAAAAAAArJlAAAAAAACokEAAAAAAACB6QAAAAAAANJdA",
          "dtype": "f8"
         },
         "xaxis": "x",
         "y": {
          "bdata": "AAAAANDC/kAAAAAAsEX9QAAAAABgLf1AAAAAAHCU/0AAAAAAcJb7QAAAAADwzvxA",
          "dtype": "f8"
         },
         "yaxis": "y"
        },
        {
         "customdata": {
          "bdata": "AAAAAACMn0A=",
          "dtype": "f8",
          "shape": "1, 1"
         },
         "hovertemplate": "Model=Mercedes-Benz Maybach S 560 Base 4MATIC<br>Mileage=%{x}<br>Price=%{y}<br>Year=%{customdata[0]}<extra></extra>",
         "legendgroup": "Mercedes-Benz Maybach S 560 Base 4MATIC",
         "marker": {
          "color": "#B6E880",
          "symbol": "circle"
         },
         "mode": "markers",
         "name": "Mercedes-Benz Maybach S 560 Base 4MATIC",
         "showlegend": true,
         "type": "scattergl",
         "x": {
          "bdata": "AAAAAAAezUA=",
          "dtype": "f8"
         },
         "xaxis": "x",
         "y": {
          "bdata": "AAAAAKDr9kA=",
          "dtype": "f8"
         },
         "yaxis": "y"
        },
        {
         "customdata": {
          "bdata": "AAAAAACgn0AAAAAAAJyfQAAAAAAAlJ9AAAAAAACUn0AAAAAAAJyfQAAAAAAAnJ9AAAAAAACUn0A=",
          "dtype": "f8",
          "shape": "7, 1"
         },
         "hovertemplate": "Model=Mercedes-Benz Maybach GLS 600 4MATIC<br>Mileage=%{x}<br>Price=%{y}<br>Year=%{customdata[0]}<extra></extra>",
         "legendgroup": "Mercedes-Benz Maybach GLS 600 4MATIC",
         "marker": {
          "color": "#FF97FF",
          "symbol": "circle"
         },
         "mode": "markers",
         "name": "Mercedes-Benz Maybach GLS 600 4MATIC",
         "showlegend": true,
         "type": "scattergl",
         "x": {
          "bdata": "AAAAAAD0mUAAAAAAAJ6lQAAAAACAL9xAAAAAAAD220AAAAAAwHLRQAAAAACAKcZAAAAAAABslEA=",
          "dtype": "f8"
         },
         "xaxis": "x",
         "y": {
          "bdata": "AAAAAMA5BUEAAAAAAGUDQQAAAADAIP9AAAAAALC8/0AAAAAAOEkDQQAAAADA0gJBAAAAADizAUE=",
          "dtype": "f8"
         },
         "yaxis": "y"
        },
        {
         "customdata": {
          "bdata": "AAAAAACMn0AAAAAAAIyfQAAAAAAAjJ9AAAAAAACEn0AAAAAAAIyfQAAAAAAAjJ9AAAAAAACEn0A=",
          "dtype": "f8",
          "shape": "7, 1"
         },
         "hovertemplate": "Model=Mercedes-Benz AMG SLC 43 Base<br>Mileage=%{x}<br>Price=%{y}<br>Year=%{customdata[0]}<extra></extra>",
         "legendgroup": "Mercedes-Benz AMG SLC 43 Base",
         "marker": {
          "color": "#FECB52",
          "symbol": "circle"
         },
         "mode": "markers",
         "name": "Mercedes-Benz AMG SLC 43 Base",
         "showlegend": true,
         "type": "scattergl",
         "x": {
          "bdata": "AAAAAACwwEAAAAAAAPbKQAAAAADAPNdAAAAAAMB660AAAAAAAHrWQAAAAABATNJAAAAAAECK5EA=",
          "dtype": "f8"
         },
         "xaxis": "x",
         "y": {
          "bdata": "AAAAAGDs50AAAAAAYGnoQAAAAADgtuZAAAAAAIBE4EAAAAAAAFLmQAAAAADgaehAAAAAAOCT4UA=",
          "dtype": "f8"
         },
         "yaxis": "y"
        },
        {
         "customdata": {
          "bdata": "AAAAAACYn0AAAAAAAJyfQAAAAAAAlJ9A",
          "dtype": "f8",
          "shape": "3, 1"
         },
         "hovertemplate": "Model=Mercedes-Benz AMG GLE 53 4MATIC<br>Mileage=%{x}<br>Price=%{y}<br>Year=%{customdata[0]}<extra></extra>",
         "legendgroup": "Mercedes-Benz AMG GLE 53 4MATIC",
         "marker": {
          "color": "#636efa",
          "symbol": "circle"
         },
         "mode": "markers",
         "name": "Mercedes-Benz AMG GLE 53 4MATIC",
         "showlegend": true,
         "type": "scattergl",
         "x": {
          "bdata": "AAAAAEDv3EAAAAAAQP/UQAAAAADA7OJA",
          "dtype": "f8"
         },
         "xaxis": "x",
         "y": {
          "bdata": "AAAAADAc8EAAAAAA0IfzQAAAAABAIfFA",
          "dtype": "f8"
         },
         "yaxis": "y"
        },
        {
         "customdata": {
          "bdata": "AAAAAACYn0AAAAAAAJSfQAAAAAAAlJ9AAAAAAACYn0AAAAAAAJCfQAAAAAAAlJ9A",
          "dtype": "f8",
          "shape": "6, 1"
         },
         "hovertemplate": "Model=Mercedes-Benz A-Class 4MATIC<br>Mileage=%{x}<br>Price=%{y}<br>Year=%{customdata[0]}<extra></extra>",
         "legendgroup": "Mercedes-Benz A-Class 4MATIC",
         "marker": {
          "color": "#EF553B",
          "symbol": "circle"
         },
         "mode": "markers",
         "name": "Mercedes-Benz A-Class 4MATIC",
         "showlegend": true,
         "type": "scattergl",
         "x": {
          "bdata": "AAAAAMDJ1EAAAAAAQJLYQAAAAABgGfFAAAAAAACw0EAAAAAAgL/aQAAAAABAJNpA",
          "dtype": "f8"
         },
         "xaxis": "x",
         "y": {
          "bdata": "AAAAAAAX4UAAAAAAQNXaQAAAAABAY9dAAAAAAAAu3kAAAAAAQEfbQAAAAADASt1A",
          "dtype": "f8"
         },
         "yaxis": "y"
        },
        {
         "customdata": {
          "bdata": "AAAAAACcn0AAAAAAAJyfQAAAAAAAlJ9AAAAAAACcn0AAAAAAAJyfQAAAAAAAnJ9AAAAAAACcn0AAAAAAAJyfQAAAAAAAlJ9AAAAAAACcn0AAAAAAAJifQAAAAAAAnJ9AAAAAAACcn0AAAAAAAJifQAAAAAAAnJ9A",
          "dtype": "f8",
          "shape": "15, 1"
         },
         "hovertemplate": "Model=Mercedes-Benz AMG GLA 45 Base<br>Mileage=%{x}<br>Price=%{y}<br>Year=%{customdata[0]}<extra></extra>",
         "legendgroup": "Mercedes-Benz AMG GLA 45 Base",
         "marker": {
          "color": "#00cc96",
          "symbol": "circle"
         },
         "mode": "markers",
         "name": "Mercedes-Benz AMG GLA 45 Base",
         "showlegend": true,
         "type": "scattergl",
         "x": {
          "bdata": "AAAAAAAwt0AAAAAAAMy4QAAAAABA/NJAAAAAAABAr0AAAAAAAHzAQAAAAAAAssFAAAAAAAA8p0AAAAAAAL6/QAAAAACAyONAAAAAAABdsEAAAAAAAEi1QAAAAAAA3r1AAAAAAACJvUAAAAAAAKTKQAAAAAAAXKZA",
          "dtype": "f8"
         },
         "xaxis": "x",
         "y": {
          "bdata": "AAAAAMC76kAAAAAAAGTpQAAAAAAg3eVAAAAAAIBL60AAAAAAoFfrQAAAAACAW+hAAAAAAGAD6kAAAAAAoIXqQAAAAADgiONAAAAAAADN6EAAAAAAQILmQAAAAACAHOpAAAAAAABX60AAAAAAoHXmQAAAAAAAzepA",
          "dtype": "f8"
         },
         "yaxis": "y"
        },
        {
         "customdata": {
          "bdata": "AAAAAACcn0AAAAAAAJSfQAAAAAAAlJ9AAAAAAACcn0AAAAAAAJSfQAAAAAAAlJ9AAAAAAACUn0AAAAAAAJSfQA==",
          "dtype": "f8",
          "shape": "8, 1"
         },
         "hovertemplate": "Model=Mercedes-Benz AMG GLE 63 S-Model 4MATIC<br>Mileage=%{x}<br>Price=%{y}<br>Year=%{customdata[0]}<extra></extra>",
         "legendgroup": "Mercedes-Benz AMG GLE 63 S-Model 4MATIC",
         "marker": {
          "color": "#ab63fa",
          "symbol": "circle"
         },
         "mode": "markers",
         "name": "Mercedes-Benz AMG GLE 63 S-Model 4MATIC",
         "showlegend": true,
         "type": "scattergl",
         "x": {
          "bdata": "AAAAAAAuuEAAAAAAICvoQAAAAAAA1+FAAAAAAABoxkAAAAAAwBrgQAAAAACgb+NAAAAAAIAtzEAAAAAAgPPUQA==",
          "dtype": "f8"
         },
         "xaxis": "x",
         "y": {
          "bdata": "AAAAACCZ+kAAAAAAQMbyQAAAAABAh/NAAAAAALBL/UAAAAAAIEP0QAAAAABgvfRAAAAAAKBt9UAAAAAAULb1QA==",
          "dtype": "f8"
         },
         "yaxis": "y"
        },
        {
         "customdata": {
          "bdata": "AAAAAACgn0AAAAAAAJSfQAAAAAAAlJ9AAAAAAACUn0AAAAAAAJSfQAAAAAAAlJ9AAAAAAACUn0AAAAAAAJSfQAAAAAAAlJ9AAAAAAACcn0A=",
          "dtype": "f8",
          "shape": "10, 1"
         },
         "hovertemplate": "Model=Mercedes-Benz AMG GT 43 Base<br>Mileage=%{x}<br>Price=%{y}<br>Year=%{customdata[0]}<extra></extra>",
         "legendgroup": "Mercedes-Benz AMG GT 43 Base",
         "marker": {
          "color": "#FFA15A",
          "symbol": "circle"
         },
         "mode": "markers",
         "name": "Mercedes-Benz AMG GT 43 Base",
         "showlegend": true,
         "type": "scattergl",
         "x": {
          "bdata": "AAAAAACgdUAAAAAAAInJQAAAAAAA/MpAAAAAAIAb2EAAAAAAAN67QAAAAADAXdNAAAAAAIA/1UAAAAAAQATsQAAAAADAluFAAAAAAAD+p0A=",
          "dtype": "f8"
         },
         "xaxis": "x",
         "y": {
          "bdata": "AAAAAODm+EAAAAAAQIDzQAAAAACgsvFAAAAAAOAI8kAAAAAAwIHzQAAAAAAgDPJAAAAAANBI8kAAAAAA8FrwQAAAAADwy/FAAAAAAPD+9EA=",
          "dtype": "f8"
         },
         "yaxis": "y"
        },
        {
         "customdata": {
          "bdata": "AAAAAACcn0AAAAAAAJyfQA==",
          "dtype": "f8",
          "shape": "2, 1"
         },
         "hovertemplate": "Model=Mercedes-Benz EQE 500 4MATIC<br>Mileage=%{x}<br>Price=%{y}<br>Year=%{customdata[0]}<extra></extra>",
         "legendgroup": "Mercedes-Benz EQE 500 4MATIC",
         "marker": {
          "color": "#19d3f3",
          "symbol": "circle"
         },
         "mode": "markers",
         "name": "Mercedes-Benz EQE 500 4MATIC",
         "showlegend": true,
         "type": "scattergl",
         "x": {
          "bdata": "AAAAAAAso0AAAAAAANyeQA==",
          "dtype": "f8"
         },
         "xaxis": "x",
         "y": {
          "bdata": "AAAAAOB19UAAAAAAQD7zQA==",
          "dtype": "f8"
         },
         "yaxis": "y"
        },
        {
         "customdata": {
          "bdata": "AAAAAACcn0AAAAAAAJCfQAAAAAAAnJ9AAAAAAACcn0AAAAAAAJSfQAAAAAAAnJ9AAAAAAACcn0AAAAAAAJyfQAAAAAAAnJ9AAAAAAACcn0AAAAAAAJyfQA==",
          "dtype": "f8",
          "shape": "11, 1"
         },
         "hovertemplate": "Model=Mercedes-Benz GLB 250 <br>Mileage=%{x}<br>Price=%{y}<br>Year=%{customdata[0]}<extra></extra>",
         "legendgroup": "Mercedes-Benz GLB 250 ",
         "marker": {
          "color": "#FF6692",
          "symbol": "circle"
         },
         "mode": "markers",
         "name": "Mercedes-Benz GLB 250 ",
         "showlegend": true,
         "type": "scattergl",
         "x": {
          "bdata": "AAAAAIBNwUAAAAAAAI/ZQAAAAAAApKpAAAAAAAC4w0AAAAAAgDbSQAAAAACA78FAAAAAAAC1yUAAAAAAALa2QAAAAAAAYdJAAAAAAABTuEAAAAAAgPXCQA==",
          "dtype": "f8"
         },
         "xaxis": "x",
         "y": {
          "bdata": "AAAAAGCC40AAAAAAQCfeQAAAAABABeNAAAAAAMBI40AAAAAAoNHgQAAAAAAA0+NAAAAAAABv40AAAAAAAHbmQAAAAADAeuNAAAAAACA55UAAAAAAgHzlQA==",
          "dtype": "f8"
         },
         "yaxis": "y"
        },
        {
         "customdata": {
          "bdata": "AAAAAACcn0AAAAAAAJyfQAAAAAAAnJ9A",
          "dtype": "f8",
          "shape": "3, 1"
         },
         "hovertemplate": "Model=Mercedes-Benz EQE 350 4MATIC<br>Mileage=%{x}<br>Price=%{y}<br>Year=%{customdata[0]}<extra></extra>",
         "legendgroup": "Mercedes-Benz EQE 350 4MATIC",
         "marker": {
          "color": "#B6E880",
          "symbol": "circle"
         },
         "mode": "markers",
         "name": "Mercedes-Benz EQE 350 4MATIC",
         "showlegend": true,
         "type": "scattergl",
         "x": {
          "bdata": "AAAAAAAvsEAAAAAAAKqgQAAAAAAALqlA",
          "dtype": "f8"
         },
         "xaxis": "x",
         "y": {
          "bdata": "AAAAAMAE80AAAAAAoP7yQAAAAACgEPJA",
          "dtype": "f8"
         },
         "yaxis": "y"
        },
        {
         "customdata": {
          "bdata": "AAAAAACcn0A=",
          "dtype": "f8",
          "shape": "1, 1"
         },
         "hovertemplate": "Model=Mercedes-Benz AMG GLS 63 4MATIC<br>Mileage=%{x}<br>Price=%{y}<br>Year=%{customdata[0]}<extra></extra>",
         "legendgroup": "Mercedes-Benz AMG GLS 63 4MATIC",
         "marker": {
          "color": "#FF97FF",
          "symbol": "circle"
         },
         "mode": "markers",
         "name": "Mercedes-Benz AMG GLS 63 4MATIC",
         "showlegend": true,
         "type": "scattergl",
         "x": {
          "bdata": "AAAAAACWvkA=",
          "dtype": "f8"
         },
         "xaxis": "x",
         "y": {
          "bdata": "AAAAALCZAEE=",
          "dtype": "f8"
         },
         "yaxis": "y"
        },
        {
         "customdata": {
          "bdata": "AAAAAACYn0AAAAAAAJifQAAAAAAAnJ9AAAAAAACcn0AAAAAAAJifQAAAAAAAnJ9AAAAAAACcn0AAAAAAAJyfQAAAAAAAnJ9AAAAAAACcn0A=",
          "dtype": "f8",
          "shape": "10, 1"
         },
         "hovertemplate": "Model=Mercedes-Benz S-Class S 500 4MATIC<br>Mileage=%{x}<br>Price=%{y}<br>Year=%{customdata[0]}<extra></extra>",
         "legendgroup": "Mercedes-Benz S-Class S 500 4MATIC",
         "marker": {
          "color": "#FECB52",
          "symbol": "circle"
         },
         "mode": "markers",
         "name": "Mercedes-Benz S-Class S 500 4MATIC",
         "showlegend": true,
         "type": "scattergl",
         "x": {
          "bdata": "AAAAAICxw0AAAAAAADPZQAAAAAAAqKlAAAAAAAAovUAAAAAAAKO6QAAAAAAAlqNAAAAAAAASuUAAAAAAQOPSQAAAAAAAubRAAAAAAACSx0A=",
          "dtype": "f8"
         },
         "xaxis": "x",
         "y": {
          "bdata": "AAAAACCt9EAAAAAAIK3zQAAAAADARPlAAAAAAADg+EAAAAAAkCP3QAAAAACwY/lAAAAAAEDm90AAAAAAQCX4QAAAAAAAovlAAAAAABDf9UA=",
          "dtype": "f8"
         },
         "yaxis": "y"
        },
        {
         "customdata": {
          "bdata": "AAAAAACcn0AAAAAAAJifQA==",
          "dtype": "f8",
          "shape": "2, 1"
         },
         "hovertemplate": "Model=Mercedes-Benz EQS 450+ 4MATIC<br>Mileage=%{x}<br>Price=%{y}<br>Year=%{customdata[0]}<extra></extra>",
         "legendgroup": "Mercedes-Benz EQS 450+ 4MATIC",
         "marker": {
          "color": "#636efa",
          "symbol": "circle"
         },
         "mode": "markers",
         "name": "Mercedes-Benz EQS 450+ 4MATIC",
         "showlegend": true,
         "type": "scattergl",
         "x": {
          "bdata": "AAAAAACFvEAAAAAAgEnKQA==",
          "dtype": "f8"
         },
         "xaxis": "x",
         "y": {
          "bdata": "AAAAALDx8UAAAAAAkA71QA==",
          "dtype": "f8"
         },
         "yaxis": "y"
        },
        {
         "customdata": {
          "bdata": "AAAAAACMn0AAAAAAAJCfQAAAAAAAoJ9AAAAAAACMn0AAAAAAAJyfQAAAAAAAnJ9AAAAAAACMn0AAAAAAAJifQAAAAAAAoJ9AAAAAAACcn0AAAAAAAJSfQAAAAAAAlJ9AAAAAAACUn0AAAAAAAJyfQAAAAAAAnJ9AAAAAAACgn0AAAAAAAJyfQAAAAAAAnJ9AAAAAAACUn0AAAAAAAKCfQAAAAAAAnJ9AAAAAAACUn0AAAAAAAJyfQAAAAAAAlJ9AAAAAAACgn0AAAAAAAJyfQAAAAAAAoJ9AAAAAAACgn0AAAAAAAJyfQAAAAAAAkJ9AAAAAAACcn0AAAAAAAJyfQAAAAAAAnJ9AAAAAAACcn0AAAAAAAJyfQAAAAAAAjJ9AAAAAAACYn0AAAAAAAJyfQAAAAAAAnJ9AAAAAAACgn0AAAAAAAJyfQAAAAAAAnJ9AAAAAAACQn0AAAAAAAJyfQAAAAAAAnJ9AAAAAAACcn0AAAAAAAJCfQAAAAAAAlJ9AAAAAAACcn0AAAAAAAIyfQAAAAAAAnJ9AAAAAAACgn0AAAAAAAJyfQAAAAAAAlJ9AAAAAAACcn0AAAAAAAJyfQAAAAAAAoJ9AAAAAAACQn0AAAAAAAJSfQAAAAAAAlJ9AAAAAAACUn0AAAAAAAJyfQAAAAAAAlJ9AAAAAAACYn0AAAAAAAJSfQAAAAAAAmJ9AAAAAAACUn0AAAAAAAKCfQAAAAAAAlJ9AAAAAAACUn0AAAAAAAJCfQAAAAAAAnJ9AAAAAAACQn0AAAAAAAJSfQAAAAAAAmJ9AAAAAAACQn0AAAAAAAJSfQAAAAAAAmJ9AAAAAAACgn0AAAAAAAJCfQAAAAAAAlJ9AAAAAAACgn0AAAAAAAJSfQAAAAAAAkJ9AAAAAAACcn0AAAAAAAJCfQAAAAAAAlJ9AAAAAAACgn0AAAAAAAICfQAAAAAAAnJ9AAAAAAACQn0AAAAAAAJyfQAAAAAAAnJ9AAAAAAACMn0AAAAAAAKCfQAAAAAAAoJ9AAAAAAACQn0AAAAAAAJyfQAAAAAAAnJ9AAAAAAACUn0AAAAAAAJyfQAAAAAAAlJ9AAAAAAACcn0AAAAAAAICfQAAAAAAAoJ9AAAAAAACQn0AAAAAAAJSfQAAAAAAAlJ9AAAAAAACgn0A=",
          "dtype": "f8",
          "shape": "109, 1"
         },
         "hovertemplate": "Model=Mercedes-Benz C-Class C 300<br>Mileage=%{x}<br>Price=%{y}<br>Year=%{customdata[0]}<extra></extra>",
         "legendgroup": "Mercedes-Benz C-Class C 300",
         "marker": {
          "color": "#EF553B",
          "symbol": "circle"
         },
         "mode": "markers",
         "name": "Mercedes-Benz C-Class C 300",
         "showlegend": true,
         "type": "scattergl",
         "x": {
          "bdata": "AAAAAACF5kAAAAAAIBLkQAAAAAAAmJlAAAAAAABn4kAAAAAAAD29QAAAAAAAi7NAAAAAAABv8UAAAAAAQNvQQAAAAAAAaq9AAAAAAAB3wUAAAAAAACbgQAAAAACAOeFAAAAAAAC90UAAAAAAALy6QAAAAAAAwq1AAAAAAABao0AAAAAAAIuzQAAAAAAAPb1AAAAAAACXzUAAAAAAAIqkQAAAAAAAw7dAAAAAAIBdwUAAAAAAgOLHQAAAAABAettAAAAAAABeo0AAAAAAgIbDQAAAAAAA5JVAAAAAAABqpEAAAAAAgL3AQAAAAAAgu+FAAAAAAACMt0AAAAAAAEm6QAAAAAAAksNAAAAAAADEykAAAAAAAN66QAAAAABg1eJAAAAAAAA2qUAAAAAAAH7BQAAAAAAA/cZAAAAAAACmpEAAAAAAAFSUQAAAAAAAnqtAAAAAAMD77UAAAAAAAHSXQAAAAAAA2cNAAAAAAADAtEAAAAAAYPzgQAAAAABAJeRAAAAAAAAkv0AAAAAAQGzaQAAAAAAARrdAAAAAAADJtEAAAAAAAMysQAAAAAAAOtJAAAAAAADUw0AAAAAAgObFQAAAAAAAc7BAAAAAAEBO4UAAAAAAAJ7aQAAAAAAA7rpAAAAAAADQ0EAAAAAAgArFQAAAAAAAd9dAAAAAAACHzkAAAAAAgCDIQAAAAACAt8JAAAAAAAAhzkAAAAAAAPiLQAAAAABATtZAAAAAAAAhxUAAAAAAgJHdQAAAAAAAALRAAAAAAKAz5EAAAAAAoI/pQAAAAAAAWbdAAAAAAEA81EAAAAAAgNTcQAAAAACA5NBAAAAAAAAip0AAAAAAQALfQAAAAACAKuBAAAAAAAAQiUAAAAAAAO/DQAAAAACAbNRAAAAAAABIrkAAAAAAAPDiQAAAAABAlNNAAAAAAAAYh0AAAAAAIGbrQAAAAAAAvbJAAAAAAIDl1kAAAAAAAMyyQAAAAACAncNAAAAAAOAi4kAAAAAAANG0QAAAAAAAIsNAAAAAAAAr3UAAAAAAgLfIQAAAAAAAr8VAAAAAAMBx60AAAAAAAH6hQAAAAACAXstAAAAAAADXvUAAAAAAABnXQAAAAAAA4JhAAAAAAADHw0AAAAAAQAjfQAAAAACgguNAAAAAAAAEu0A=",
          "dtype": "f8"
         },
         "xaxis": "x",
         "y": {
          "bdata": "AAAAAIBH2EAAAAAAwEvcQAAAAADA9+VAAAAAAMBW20AAAAAAoGLnQAAAAABAYedAAAAAAEBg1kAAAAAAgKLpQAAAAADA3+lAAAAAAIB05kAAAAAAQDvdQAAAAAAACN5AAAAAAKAb4EAAAAAAgN7lQAAAAAAAYudAAAAAAODO7EAAAAAAQGHnQAAAAACgYudAAAAAAAB75UAAAAAAAPnlQAAAAACA0+lAAAAAAEC530AAAAAA4IHkQAAAAABAL99AAAAAACDF6UAAAAAAgCToQAAAAAAgPOtAAAAAAEDM5kAAAAAAAHvlQAAAAABALNtAAAAAAIBD50AAAAAAgMzoQAAAAABg+uRAAAAAAABq50AAAAAAwHDnQAAAAADAUdxAAAAAAKD35UAAAAAAYI/qQAAAAADgaOhAAAAAAMBp6EAAAAAA4OboQAAAAACAF+ZAAAAAAMAL20AAAAAA4OboQAAAAADAgORAAAAAAMCt5kAAAAAAADHdQAAAAAAARdpAAAAAACDR50AAAAAAAAneQAAAAAAgWuZAAAAAACBa5kAAAAAAIGDlQAAAAADgkuFAAAAAAICG40AAAAAAwMfrQAAAAAAg/+dAAAAAAIA+30AAAAAAoPbhQAAAAACg5OBAAAAAAIAQ4EAAAAAAwHTmQAAAAACAJd9AAAAAAICB40AAAAAAIDThQAAAAABgzORAAAAAACBC4kAAAAAAAHzlQAAAAABAIt9AAAAAAIA830AAAAAAwEvdQAAAAADAbudAAAAAAMBh2UAAAAAAgEndQAAAAADAgORAAAAAAEAL30AAAAAAQBbhQAAAAACAQ+RAAAAAACDX5kAAAAAAwEndQAAAAAAAw95AAAAAAABp5UAAAAAAwBHhQAAAAAAARt5AAAAAACBa5kAAAAAAQETeQAAAAACAD+BAAAAAACDF6UAAAAAAgJPRQAAAAAAgKuZAAAAAAAAo3kAAAAAAwPLmQAAAAAAAfOVAAAAAAABX20AAAAAAIHPmQAAAAACAXehAAAAAAIBL3UAAAAAAQOTlQAAAAACAgeRAAAAAAMDm2EAAAAAAINHnQAAAAABAON5AAAAAAAD35UAAAAAAwIDUQAAAAAAgWuZAAAAAAABA30AAAAAAAPfhQAAAAADgBORAAAAAAKBm5kA=",
          "dtype": "f8"
         },
         "yaxis": "y"
        },
        {
         "customdata": {
          "bdata": "AAAAAACcn0AAAAAAAJCfQAAAAAAAmJ9AAAAAAACYn0AAAAAAAJifQAAAAAAAkJ9AAAAAAACUn0AAAAAAAJCfQAAAAAAAlJ9AAAAAAACYn0AAAAAAAJSfQAAAAAAAkJ9AAAAAAACUn0AAAAAAAJyfQAAAAAAAnJ9AAAAAAACYn0A=",
          "dtype": "f8",
          "shape": "16, 1"
         },
         "hovertemplate": "Model=Mercedes-Benz GLC 300 <br>Mileage=%{x}<br>Price=%{y}<br>Year=%{customdata[0]}<extra></extra>",
         "legendgroup": "Mercedes-Benz GLC 300 ",
         "marker": {
          "color": "#00cc96",
          "symbol": "circle"
         },
         "mode": "markers",
         "name": "Mercedes-Benz GLC 300 ",
         "showlegend": true,
         "type": "scattergl",
         "x": {
          "bdata": "AAAAAABowEAAAAAAAEfnQAAAAAAA28JAAAAAAIANxkAAAAAAgDvBQAAAAAAAH+hAAAAAAICT5EAAAAAAQLrYQAAAAAAAx9VAAAAAAADA10AAAAAAAMzUQAAAAACAj+VAAAAAAADQ4UAAAAAAAGyYQAAAAAAA9MBAAAAAAACMwEA=",
          "dtype": "f8"
         },
         "xaxis": "x",
         "y": {
          "bdata": "AAAAAODy5kAAAAAAgE/cQAAAAACgxeNAAAAAAIB76UAAAAAAAI7iQAAAAACgHOBAAAAAAIBJ3UAAAAAAIBThQAAAAADgCuNAAAAAAOAQ4kAAAAAAoIXjQAAAAACAKd1AAAAAAMBU4UAAAAAAQJ/oQAAAAACg3+lAAAAAAMB240A=",
          "dtype": "f8"
         },
         "yaxis": "y"
        },
        {
         "customdata": {
          "bdata": "AAAAAACcn0AAAAAAAJyfQAAAAAAAnJ9AAAAAAACcn0AAAAAAAJyfQA==",
          "dtype": "f8",
          "shape": "5, 1"
         },
         "hovertemplate": "Model=Mercedes-Benz C-Class 4MATIC Coupe<br>Mileage=%{x}<br>Price=%{y}<br>Year=%{customdata[0]}<extra></extra>",
         "legendgroup": "Mercedes-Benz C-Class 4MATIC Coupe",
         "marker": {
          "color": "#ab63fa",
          "symbol": "circle"
         },
         "mode": "markers",
         "name": "Mercedes-Benz C-Class 4MATIC Coupe",
         "showlegend": true,
         "type": "scattergl",
         "x": {
          "bdata": "AAAAAACcsUAAAAAAAPe3QAAAAAAAQblAAAAAAIAmwUAAAAAAgM3AQA==",
          "dtype": "f8"
         },
         "xaxis": "x",
         "y": {
          "bdata": "AAAAAOB15kAAAAAAAHzlQAAAAAAAoudAAAAAAGAo6EAAAAAAgOfmQA==",
          "dtype": "f8"
         },
         "yaxis": "y"
        },
        {
         "customdata": {
          "bdata": "AAAAAACIn0AAAAAAAJifQAAAAAAAnJ9A",
          "dtype": "f8",
          "shape": "3, 1"
         },
         "hovertemplate": "Model=Mercedes-Benz G-Class <br>Mileage=%{x}<br>Price=%{y}<br>Year=%{customdata[0]}<extra></extra>",
         "legendgroup": "Mercedes-Benz G-Class ",
         "marker": {
          "color": "#FFA15A",
          "symbol": "circle"
         },
         "mode": "markers",
         "name": "Mercedes-Benz G-Class ",
         "showlegend": true,
         "type": "scattergl",
         "x": {
          "bdata": "AAAAACDB5kAAAAAAANq4QAAAAAAAnsdA",
          "dtype": "f8"
         },
         "xaxis": "x",
         "y": {
          "bdata": "AAAAABAA9EAAAAAAWIcDQQAAAADwBARB",
          "dtype": "f8"
         },
         "yaxis": "y"
        },
        {
         "customdata": {
          "bdata": "AAAAAACUn0A=",
          "dtype": "f8",
          "shape": "1, 1"
         },
         "hovertemplate": "Model=Mercedes-Benz AMG GLE 63 Base 4MATIC<br>Mileage=%{x}<br>Price=%{y}<br>Year=%{customdata[0]}<extra></extra>",
         "legendgroup": "Mercedes-Benz AMG GLE 63 Base 4MATIC",
         "marker": {
          "color": "#19d3f3",
          "symbol": "circle"
         },
         "mode": "markers",
         "name": "Mercedes-Benz AMG GLE 63 Base 4MATIC",
         "showlegend": true,
         "type": "scattergl",
         "x": {
          "bdata": "AAAAAKAt4kA=",
          "dtype": "f8"
         },
         "xaxis": "x",
         "y": {
          "bdata": "AAAAAHDL9EA=",
          "dtype": "f8"
         },
         "yaxis": "y"
        },
        {
         "customdata": {
          "bdata": "AAAAAACIn0AAAAAAAJCfQAAAAAAAiJ9AAAAAAACIn0AAAAAAAJCfQA==",
          "dtype": "f8",
          "shape": "5, 1"
         },
         "hovertemplate": "Model=Mercedes-Benz AMG GT Base<br>Mileage=%{x}<br>Price=%{y}<br>Year=%{customdata[0]}<extra></extra>",
         "legendgroup": "Mercedes-Benz AMG GT Base",
         "marker": {
          "color": "#FF6692",
          "symbol": "circle"
         },
         "mode": "markers",
         "name": "Mercedes-Benz AMG GT Base",
         "showlegend": true,
         "type": "scattergl",
         "x": {
          "bdata": "AAAAAIAIyUAAAAAAAJTXQAAAAAAAGNVAAAAAAOAi4kAAAAAAwHjZQA==",
          "dtype": "f8"
         },
         "xaxis": "x",
         "y": {
          "bdata": "AAAAAPDF80AAAAAA0N/1QAAAAABwe/NAAAAAAGCH80AAAAAA4JPxQA==",
          "dtype": "f8"
         },
         "yaxis": "y"
        },
        {
         "customdata": {
          "bdata": "AAAAAACMn0AAAAAAAJyfQAAAAAAAnJ9AAAAAAACAn0AAAAAAAJifQAAAAAAAkJ9AAAAAAACMn0AAAAAAAJifQA==",
          "dtype": "f8",
          "shape": "8, 1"
         },
         "hovertemplate": "Model=Mercedes-Benz S-Class 4MATIC<br>Mileage=%{x}<br>Price=%{y}<br>Year=%{customdata[0]}<extra></extra>",
         "legendgroup": "Mercedes-Benz S-Class 4MATIC",
         "marker": {
          "color": "#B6E880",
          "symbol": "circle"
         },
         "mode": "markers",
         "name": "Mercedes-Benz S-Class 4MATIC",
         "showlegend": true,
         "type": "scattergl",
         "x": {
          "bdata": "AAAAAIDWx0AAAAAAABu0QAAAAAAArspAAAAAACDM9EAAAAAAgIneQAAAAABAZ+BAAAAAAADa7UAAAAAAgEHGQA==",
          "dtype": "f8"
         },
         "xaxis": "x",
         "y": {
          "bdata": "AAAAADBP8kAAAAAAkBH6QAAAAADA9fdAAAAAAOBs4EAAAAAAICv3QAAAAADg0ulAAAAAAKA16EAAAAAA8N/1QA==",
          "dtype": "f8"
         },
         "yaxis": "y"
        },
        {
         "customdata": {
          "bdata": "AAAAAACcn0A=",
          "dtype": "f8",
          "shape": "1, 1"
         },
         "hovertemplate": "Model=Mercedes-Benz AMG GT 53 AMG GT 53<br>Mileage=%{x}<br>Price=%{y}<br>Year=%{customdata[0]}<extra></extra>",
         "legendgroup": "Mercedes-Benz AMG GT 53 AMG GT 53",
         "marker": {
          "color": "#FF97FF",
          "symbol": "circle"
         },
         "mode": "markers",
         "name": "Mercedes-Benz AMG GT 53 AMG GT 53",
         "showlegend": true,
         "type": "scattergl",
         "x": {
          "bdata": "AAAAAABEsEA=",
          "dtype": "f8"
         },
         "xaxis": "x",
         "y": {
          "bdata": "AAAAAECc+UA=",
          "dtype": "f8"
         },
         "yaxis": "y"
        },
        {
         "customdata": {
          "bdata": "AAAAAACMn0AAAAAAAIyfQAAAAAAAjJ9AAAAAAACMn0AAAAAAAIyfQAAAAAAAjJ9AAAAAAACMn0AAAAAAAISfQA==",
          "dtype": "f8",
          "shape": "8, 1"
         },
         "hovertemplate": "Model=Mercedes-Benz E-Class E 300<br>Mileage=%{x}<br>Price=%{y}<br>Year=%{customdata[0]}<extra></extra>",
         "legendgroup": "Mercedes-Benz E-Class E 300",
         "marker": {
          "color": "#FECB52",
          "symbol": "circle"
         },
         "mode": "markers",
         "name": "Mercedes-Benz E-Class E 300",
         "showlegend": true,
         "type": "scattergl",
         "x": {
          "bdata": "AAAAAPCk8UAAAAAAwHLYQAAAAACA4dVAAAAAAOB24kAAAAAAQALbQAAAAABgUeVAAAAAAIDAzEAAAAAAkKTzQA==",
          "dtype": "f8"
         },
         "xaxis": "x",
         "y": {
          "bdata": "AAAAAAD52kAAAAAA4N7gQAAAAADgD+JAAAAAAABs3kAAAAAAgD7dQAAAAABAS91AAAAAAACV4EAAAAAAQDfTQA==",
          "dtype": "f8"
         },
         "yaxis": "y"
        },
        {
         "customdata": {
          "bdata": "AAAAAACcn0AAAAAAAJyfQAAAAAAAnJ9AAAAAAACUn0A=",
          "dtype": "f8",
          "shape": "4, 1"
         },
         "hovertemplate": "Model=Mercedes-Benz E-Class E 63 AMG 4MATIC<br>Mileage=%{x}<br>Price=%{y}<br>Year=%{customdata[0]}<extra></extra>",
         "legendgroup": "Mercedes-Benz E-Class E 63 AMG 4MATIC",
         "marker": {
          "color": "#636efa",
          "symbol": "circle"
         },
         "mode": "markers",
         "name": "Mercedes-Benz E-Class E 63 AMG 4MATIC",
         "showlegend": true,
         "type": "scattergl",
         "x": {
          "bdata": "AAAAAAAskUAAAAAAACyRQAAAAAAAFqJAAAAAAABD3EA=",
          "dtype": "f8"
         },
         "xaxis": "x",
         "y": {
          "bdata": "AAAAACAhBEEAAAAAICEEQQAAAABYwARBAAAAADCO/EA=",
          "dtype": "f8"
         },
         "yaxis": "y"
        },
        {
         "customdata": {
          "bdata": "AAAAAACQn0AAAAAAAIyfQAAAAAAAjJ9AAAAAAACQn0AAAAAAAIifQAAAAAAAkJ9AAAAAAACMn0AAAAAAAIyfQA==",
          "dtype": "f8",
          "shape": "8, 1"
         },
         "hovertemplate": "Model=Mercedes-Benz GLC 350e Base 4MATIC<br>Mileage=%{x}<br>Price=%{y}<br>Year=%{customdata[0]}<extra></extra>",
         "legendgroup": "Mercedes-Benz GLC 350e Base 4MATIC",
         "marker": {
          "color": "#EF553B",
          "symbol": "circle"
         },
         "mode": "markers",
         "name": "Mercedes-Benz GLC 350e Base 4MATIC",
         "showlegend": true,
         "type": "scattergl",
         "x": {
          "bdata": "AAAAAEBo2EAAAAAAwBnbQAAAAADAtOlAAAAAAECf4EAAAAAAYAHyQAAAAAAAidtAAAAAAODV70AAAAAAIGLhQA==",
          "dtype": "f8"
         },
         "xaxis": "x",
         "y": {
          "bdata": "AAAAAMAc4EAAAAAAANHbQAAAAADAadhAAAAAAEBO4kAAAAAAAHTWQAAAAABA2+BAAAAAAIBJ2UAAAAAAwFfbQA==",
          "dtype": "f8"
         },
         "yaxis": "y"
        },
        {
         "customdata": {
          "bdata": "AAAAAACUn0A=",
          "dtype": "f8",
          "shape": "1, 1"
         },
         "hovertemplate": "Model=Mercedes-Benz AMG GT AMG GT 43<br>Mileage=%{x}<br>Price=%{y}<br>Year=%{customdata[0]}<extra></extra>",
         "legendgroup": "Mercedes-Benz AMG GT AMG GT 43",
         "marker": {
          "color": "#00cc96",
          "symbol": "circle"
         },
         "mode": "markers",
         "name": "Mercedes-Benz AMG GT AMG GT 43",
         "showlegend": true,
         "type": "scattergl",
         "x": {
          "bdata": "AAAAAIBv3EA=",
          "dtype": "f8"
         },
         "xaxis": "x",
         "y": {
          "bdata": "AAAAACAK8kA=",
          "dtype": "f8"
         },
         "yaxis": "y"
        },
        {
         "customdata": {
          "bdata": "AAAAAACIn0AAAAAAAIyfQA==",
          "dtype": "f8",
          "shape": "2, 1"
         },
         "hovertemplate": "Model=Mercedes-Benz GLS 550 Base 4MATIC<br>Mileage=%{x}<br>Price=%{y}<br>Year=%{customdata[0]}<extra></extra>",
         "legendgroup": "Mercedes-Benz GLS 550 Base 4MATIC",
         "marker": {
          "color": "#ab63fa",
          "symbol": "circle"
         },
         "mode": "markers",
         "name": "Mercedes-Benz GLS 550 Base 4MATIC",
         "showlegend": true,
         "type": "scattergl",
         "x": {
          "bdata": "AAAAAMD76kAAAAAAIFDoQA==",
          "dtype": "f8"
         },
         "xaxis": "x",
         "y": {
          "bdata": "AAAAAOAP4kAAAAAAwG/mQA==",
          "dtype": "f8"
         },
         "yaxis": "y"
        },
        {
         "customdata": {
          "bdata": "AAAAAACUn0AAAAAAAJSfQAAAAAAAnJ9AAAAAAACcn0AAAAAAAJSfQAAAAAAAmJ9AAAAAAACUn0AAAAAAAKCfQAAAAAAAoJ9AAAAAAACcn0AAAAAAAJifQAAAAAAAlJ9AAAAAAACYn0AAAAAAAJyfQAAAAAAAmJ9AAAAAAACcn0A=",
          "dtype": "f8",
          "shape": "16, 1"
         },
         "hovertemplate": "Model=Mercedes-Benz S-Class S 580 4MATIC<br>Mileage=%{x}<br>Price=%{y}<br>Year=%{customdata[0]}<extra></extra>",
         "legendgroup": "Mercedes-Benz S-Class S 580 4MATIC",
         "marker": {
          "color": "#FFA15A",
          "symbol": "circle"
         },
         "mode": "markers",
         "name": "Mercedes-Benz S-Class S 580 4MATIC",
         "showlegend": true,
         "type": "scattergl",
         "x": {
          "bdata": "AAAAAABP3kAAAAAAgPjJQAAAAAAAMr9AAAAAAAAQ1UAAAAAAgDzZQAAAAAAASNxAAAAAAAA500AAAAAAAJK6QAAAAAAAeKtAAAAAAIDYyEAAAAAAgPnRQAAAAAAAuqhAAAAAAADQ0EAAAAAAABjFQAAAAAAAx7dAAAAAAACFtkA=",
          "dtype": "f8"
         },
         "xaxis": "x",
         "y": {
          "bdata": "AAAAAMDf9EAAAAAAsPj1QAAAAADAg/5AAAAAAFB6+UAAAAAAcP70QAAAAABwaPdAAAAAADD+80AAAAAA8Lz/QAAAAADwff9AAAAAAPAM/EAAAAAAAG/3QAAAAADAY/hAAAAAAOBp+EAAAAAAcFH8QAAAAABA5vdAAAAAAHCv/EA=",
          "dtype": "f8"
         },
         "yaxis": "y"
        },
        {
         "customdata": {
          "bdata": "AAAAAACcn0AAAAAAAJyfQAAAAAAAnJ9AAAAAAACcn0A=",
          "dtype": "f8",
          "shape": "4, 1"
         },
         "hovertemplate": "Model=Mercedes-Benz EQB 300 4MATIC<br>Mileage=%{x}<br>Price=%{y}<br>Year=%{customdata[0]}<extra></extra>",
         "legendgroup": "Mercedes-Benz EQB 300 4MATIC",
         "marker": {
          "color": "#19d3f3",
          "symbol": "circle"
         },
         "mode": "markers",
         "name": "Mercedes-Benz EQB 300 4MATIC",
         "showlegend": true,
         "type": "scattergl",
         "x": {
          "bdata": "AAAAAAB8pkAAAAAAAKq3QAAAAAAA0r9AAAAAAACInUA=",
          "dtype": "f8"
         },
         "xaxis": "x",
         "y": {
          "bdata": "AAAAACBX6UAAAAAAYG/nQAAAAABg2epAAAAAAMDa6kA=",
          "dtype": "f8"
         },
         "yaxis": "y"
        },
        {
         "customdata": {
          "bdata": "AAAAAACcn0AAAAAAAJSfQAAAAAAAlJ9AAAAAAACUn0AAAAAAAJSfQA==",
          "dtype": "f8",
          "shape": "5, 1"
         },
         "hovertemplate": "Model=Mercedes-Benz AMG GLE 53 4MATIC Coupe<br>Mileage=%{x}<br>Price=%{y}<br>Year=%{customdata[0]}<extra></extra>",
         "legendgroup": "Mercedes-Benz AMG GLE 53 4MATIC Coupe",
         "marker": {
          "color": "#FF6692",
          "symbol": "circle"
         },
         "mode": "markers",
         "name": "Mercedes-Benz AMG GLE 53 4MATIC Coupe",
         "showlegend": true,
         "type": "scattergl",
         "x": {
          "bdata": "AAAAAID/3EAAAAAAoKXmQAAAAADQbvFAAAAAAKCp4EAAAAAAwJLeQA==",
          "dtype": "f8"
         },
         "xaxis": "x",
         "y": {
          "bdata": "AAAAAKAE9EAAAAAA0DbwQAAAAABgFvFAAAAAABA28UAAAAAAcNLxQA==",
          "dtype": "f8"
         },
         "yaxis": "y"
        },
        {
         "customdata": {
          "bdata": "AAAAAACcn0AAAAAAAJifQAAAAAAAnJ9AAAAAAACUn0AAAAAAAJyfQAAAAAAAnJ9AAAAAAACcn0AAAAAAAJSfQAAAAAAAlJ9AAAAAAACQn0AAAAAAAIyfQAAAAAAAlJ9AAAAAAACcn0AAAAAAAKCfQAAAAAAAlJ9AAAAAAACUn0AAAAAAAJCfQA==",
          "dtype": "f8",
          "shape": "17, 1"
         },
         "hovertemplate": "Model=Mercedes-Benz GLC 300 4MATIC Coupe<br>Mileage=%{x}<br>Price=%{y}<br>Year=%{customdata[0]}<extra></extra>",
         "legendgroup": "Mercedes-Benz GLC 300 4MATIC Coupe",
         "marker": {
          "color": "#B6E880",
          "symbol": "circle"
         },
         "mode": "markers",
         "name": "Mercedes-Benz GLC 300 4MATIC Coupe",
         "showlegend": true,
         "type": "scattergl",
         "x": {
          "bdata": "AAAAAIB8xEAAAAAAABvLQAAAAAAAT81AAAAAAIBO2UAAAAAAAMe3QAAAAAAAYslAAAAAAICowkAAAAAAoJThQAAAAABA9NVAAAAAAMBS7kAAAAAAIDLgQAAAAACAMdhAAAAAAAAK0EAAAAAAAK6xQAAAAABAptxAAAAAAICc00AAAAAAQEDmQA==",
          "dtype": "f8"
         },
         "xaxis": "x",
         "y": {
          "bdata": "AAAAACDb6EAAAAAAQFfoQAAAAABALOtAAAAAAEB15kAAAAAAYGDpQAAAAACgXepAAAAAAIDr50AAAAAAoEblQAAAAACgj+VAAAAAAGBi40AAAAAAQADiQAAAAADg/uRAAAAAAIBR6kAAAAAAUBvwQAAAAAAguuZAAAAAACB75UAAAAAAAHriQA==",
          "dtype": "f8"
         },
         "yaxis": "y"
        },
        {
         "customdata": {
          "bdata": "AAAAAACcn0AAAAAAAJyfQAAAAAAAnJ9AAAAAAACcn0AAAAAAAJyfQAAAAAAAnJ9AAAAAAACcn0AAAAAAAJyfQAAAAAAAnJ9AAAAAAACcn0AAAAAAAJyfQAAAAAAAnJ9AAAAAAACcn0AAAAAAAJyfQAAAAAAAnJ9AAAAAAACcn0AAAAAAAJyfQAAAAAAAnJ9AAAAAAACcn0AAAAAAAJyfQAAAAAAAnJ9AAAAAAACcn0AAAAAAAJyfQAAAAAAAnJ9AAAAAAACcn0AAAAAAAJyfQAAAAAAAnJ9AAAAAAACcn0AAAAAAAJyfQAAAAAAAnJ9AAAAAAACcn0AAAAAAAJifQAAAAAAAnJ9AAAAAAACcn0A=",
          "dtype": "f8",
          "shape": "34, 1"
         },
         "hovertemplate": "Model=Mercedes-Benz EQB 300 Base 4MATIC<br>Mileage=%{x}<br>Price=%{y}<br>Year=%{customdata[0]}<extra></extra>",
         "legendgroup": "Mercedes-Benz EQB 300 Base 4MATIC",
         "marker": {
          "color": "#FF97FF",
          "symbol": "circle"
         },
         "mode": "markers",
         "name": "Mercedes-Benz EQB 300 Base 4MATIC",
         "showlegend": true,
         "type": "scattergl",
         "x": {
          "bdata": "AAAAAAAuoUAAAAAAAEiTQAAAAAAA9qJAAAAAAADOpEAAAAAAANCsQAAAAAAAXKBAAAAAAADEnUAAAAAAAC6oQAAAAAAAe7ZAAAAAAADExEAAAAAAAFWyQAAAAAAAU7JAAAAAAAB0p0AAAAAAAM6kQAAAAAAAHJ9AAAAAAACklEAAAAAAAPq/QAAAAAAATKNAAAAAAAA8o0AAAAAAAIiXQAAAAAAAoqNAAAAAAAC8pkAAAAAAANarQAAAAAAAmKxAAAAAAADAskAAAAAAAICWQAAAAAAA1JBAAAAAAACCpkAAAAAAAMChQAAAAAAACJtAAAAAAACUl0AAAAAAAPe2QAAAAAAASqhAAAAAAABayUA=",
          "dtype": "f8"
         },
         "xaxis": "x",
         "y": {
          "bdata": "AAAAACC/6kAAAAAAINfmQAAAAACAXOpAAAAAAMAH70AAAAAAwFbrQAAAAAAgVOdAAAAAACBO6EAAAAAAIE7oQAAAAAAA0+lAAAAAAKCB5EAAAAAAwFLqQAAAAACAS+tAAAAAACCH6kAAAAAAwDbqQAAAAADANexAAAAAAGAs6UAAAAAAoEXuQAAAAAAgFOxAAAAAAKA66kAAAAAAQDjqQAAAAADgY+lAAAAAAICP60AAAAAAgPXqQAAAAAAgn+lAAAAAACAc60AAAAAAwA7rQAAAAACgdeZAAAAAAIAd6kAAAAAAgK7nQAAAAAAA7edAAAAAACD96UAAAAAAQBDiQAAAAACAaOhAAAAAAKDw5UA=",
          "dtype": "f8"
         },
         "yaxis": "y"
        },
        {
         "customdata": {
          "bdata": "AAAAAACcn0AAAAAAAJyfQAAAAAAAnJ9AAAAAAACcn0AAAAAAAJyfQAAAAAAAnJ9AAAAAAACcn0AAAAAAAJyfQAAAAAAAnJ9AAAAAAACcn0AAAAAAAJyfQA==",
          "dtype": "f8",
          "shape": "11, 1"
         },
         "hovertemplate": "Model=Mercedes-Benz EQE 500 Base 4MATIC<br>Mileage=%{x}<br>Price=%{y}<br>Year=%{customdata[0]}<extra></extra>",
         "legendgroup": "Mercedes-Benz EQE 500 Base 4MATIC",
         "marker": {
          "color": "#FECB52",
          "symbol": "circle"
         },
         "mode": "markers",
         "name": "Mercedes-Benz EQE 500 Base 4MATIC",
         "showlegend": true,
         "type": "scattergl",
         "x": {
          "bdata": "AAAAAIDYwkAAAAAAgNjCQAAAAAAAfq9AAAAAAADkm0AAAAAAgNjCQAAAAAAAR7BAAAAAAABGo0AAAAAAACSYQAAAAAAAyJhAAAAAAAAWqUAAAAAAABytQA==",
          "dtype": "f8"
         },
         "xaxis": "x",
         "y": {
          "bdata": "AAAAALAD8EAAAAAAsAPwQAAAAABw6vBAAAAAACBP8kAAAAAAsAPwQAAAAACQ6fJAAAAAAJAH80AAAAAA0L3yQAAAAABwlPFAAAAAAPBP8kAAAAAAIOnxQA==",
          "dtype": "f8"
         },
         "yaxis": "y"
        },
        {
         "customdata": {
          "bdata": "AAAAAACcn0AAAAAAAJyfQAAAAAAAnJ9AAAAAAACcn0AAAAAAAJyfQAAAAAAAnJ9AAAAAAACcn0AAAAAAAJyfQA==",
          "dtype": "f8",
          "shape": "8, 1"
         },
         "hovertemplate": "Model=Mercedes-Benz EQS 450 Base 4MATIC<br>Mileage=%{x}<br>Price=%{y}<br>Year=%{customdata[0]}<extra></extra>",
         "legendgroup": "Mercedes-Benz EQS 450 Base 4MATIC",
         "marker": {
          "color": "#636efa",
          "symbol": "circle"
         },
         "mode": "markers",
         "name": "Mercedes-Benz EQS 450 Base 4MATIC",
         "showlegend": true,
         "type": "scattergl",
         "x": {
          "bdata": "AAAAAAA/tUAAAAAAgJ7FQAAAAAAADbxAAAAAAIB/xEAAAAAAANCcQAAAAAAAO71AAAAAAABeuUAAAAAAAFTiQA==",
          "dtype": "f8"
         },
         "xaxis": "x",
         "y": {
          "bdata": "AAAAAEAo+UAAAAAAwNL0QAAAAACwy/JAAAAAAAD59UAAAAAAcEr4QAAAAABA4PpAAAAAABC59UAAAAAAcNLxQA==",
          "dtype": "f8"
         },
         "yaxis": "y"
        },
        {
         "customdata": {
          "bdata": "AAAAAACUn0AAAAAAAJCfQAAAAAAAmJ9AAAAAAACcn0AAAAAAAJCfQAAAAAAAlJ9AAAAAAACgn0AAAAAAAJifQAAAAAAAkJ9AAAAAAACgn0AAAAAAAKCfQA==",
          "dtype": "f8",
          "shape": "11, 1"
         },
         "hovertemplate": "Model=Mercedes-Benz GLE 350 <br>Mileage=%{x}<br>Price=%{y}<br>Year=%{customdata[0]}<extra></extra>",
         "legendgroup": "Mercedes-Benz GLE 350 ",
         "marker": {
          "color": "#EF553B",
          "symbol": "circle"
         },
         "mode": "markers",
         "name": "Mercedes-Benz GLE 350 ",
         "showlegend": true,
         "type": "scattergl",
         "x": {
          "bdata": "AAAAAEBz2EAAAAAAgPnhQAAAAACATcpAAAAAAAAtwkAAAAAAAPXgQAAAAABAPNFAAAAAAAAEs0AAAAAAwHLXQAAAAACgh+FAAAAAAIChw0AAAAAAANysQA==",
          "dtype": "f8"
         },
         "xaxis": "x",
         "y": {
          "bdata": "AAAAAEDm6EAAAAAAwArmQAAAAABA1OtAAAAAAKDA7kAAAAAAgPHkQAAAAAAgIOpAAAAAABB08EAAAAAAgKjqQAAAAACAPOdAAAAAAGBN70AAAAAAIKzwQA==",
          "dtype": "f8"
         },
         "yaxis": "y"
        },
        {
         "customdata": {
          "bdata": "AAAAAACUn0AAAAAAAJSfQAAAAAAAmJ9AAAAAAACcn0AAAAAAAKCfQA==",
          "dtype": "f8",
          "shape": "5, 1"
         },
         "hovertemplate": "Model=Mercedes-Benz GLE 580 AWD 4MATIC<br>Mileage=%{x}<br>Price=%{y}<br>Year=%{customdata[0]}<extra></extra>",
         "legendgroup": "Mercedes-Benz GLE 580 AWD 4MATIC",
         "marker": {
          "color": "#00cc96",
          "symbol": "circle"
         },
         "mode": "markers",
         "name": "Mercedes-Benz GLE 580 AWD 4MATIC",
         "showlegend": true,
         "type": "scattergl",
         "x": {
          "bdata": "AAAAAGDQ5UAAAAAA4FvkQAAAAACAccZAAAAAAIDwyEAAAAAAAEiHQA==",
          "dtype": "f8"
         },
         "xaxis": "x",
         "y": {
          "bdata": "AAAAAABG7kAAAAAAgE/sQAAAAADABPNAAAAAAJB79UAAAAAAQKD2QA==",
          "dtype": "f8"
         },
         "yaxis": "y"
        },
        {
         "customdata": {
          "bdata": "AAAAAACAn0A=",
          "dtype": "f8",
          "shape": "1, 1"
         },
         "hovertemplate": "Model=Mercedes-Benz GLC-Class GLC 300 4MATIC<br>Mileage=%{x}<br>Price=%{y}<br>Year=%{customdata[0]}<extra></extra>",
         "legendgroup": "Mercedes-Benz GLC-Class GLC 300 4MATIC",
         "marker": {
          "color": "#ab63fa",
          "symbol": "circle"
         },
         "mode": "markers",
         "name": "Mercedes-Benz GLC-Class GLC 300 4MATIC",
         "showlegend": true,
         "type": "scattergl",
         "x": {
          "bdata": "AAAAALDf8kA=",
          "dtype": "f8"
         },
         "xaxis": "x",
         "y": {
          "bdata": "AAAAAIAk0kA=",
          "dtype": "f8"
         },
         "yaxis": "y"
        },
        {
         "customdata": {
          "bdata": "AAAAAACcn0A=",
          "dtype": "f8",
          "shape": "1, 1"
         },
         "hovertemplate": "Model=Mercedes-Benz EQE 350+ <br>Mileage=%{x}<br>Price=%{y}<br>Year=%{customdata[0]}<extra></extra>",
         "legendgroup": "Mercedes-Benz EQE 350+ ",
         "marker": {
          "color": "#FFA15A",
          "symbol": "circle"
         },
         "mode": "markers",
         "name": "Mercedes-Benz EQE 350+ ",
         "showlegend": true,
         "type": "scattergl",
         "x": {
          "bdata": "AAAAAACMuUA=",
          "dtype": "f8"
         },
         "xaxis": "x",
         "y": {
          "bdata": "AAAAAOCJ7UA=",
          "dtype": "f8"
         },
         "yaxis": "y"
        },
        {
         "customdata": {
          "bdata": "AAAAAACcn0AAAAAAAJCfQAAAAAAAnJ9AAAAAAACcn0AAAAAAAJyfQAAAAAAAjJ9A",
          "dtype": "f8",
          "shape": "6, 1"
         },
         "hovertemplate": "Model=Mercedes-Benz CLA 250 <br>Mileage=%{x}<br>Price=%{y}<br>Year=%{customdata[0]}<extra></extra>",
         "legendgroup": "Mercedes-Benz CLA 250 ",
         "marker": {
          "color": "#19d3f3",
          "symbol": "circle"
         },
         "mode": "markers",
         "name": "Mercedes-Benz CLA 250 ",
         "showlegend": true,
         "type": "scattergl",
         "x": {
          "bdata": "AAAAAADsw0AAAAAAABvaQAAAAAAAH71AAAAAAACUlEAAAAAAAI/IQAAAAABAQOhA",
          "dtype": "f8"
         },
         "xaxis": "x",
         "y": {
          "bdata": "AAAAAOCB5EAAAAAAwIbcQAAAAAAAiONAAAAAAODy5kAAAAAAAD3jQAAAAACAZ9hA",
          "dtype": "f8"
         },
         "yaxis": "y"
        },
        {
         "customdata": {
          "bdata": "AAAAAACgn0AAAAAAAJifQA==",
          "dtype": "f8",
          "shape": "2, 1"
         },
         "hovertemplate": "Model=Mercedes-Benz AMG GLE 53 <br>Mileage=%{x}<br>Price=%{y}<br>Year=%{customdata[0]}<extra></extra>",
         "legendgroup": "Mercedes-Benz AMG GLE 53 ",
         "marker": {
          "color": "#FF6692",
          "symbol": "circle"
         },
         "mode": "markers",
         "name": "Mercedes-Benz AMG GLE 53 ",
         "showlegend": true,
         "type": "scattergl",
         "x": {
          "bdata": "AAAAAADAYEAAAAAAQCvQQA==",
          "dtype": "f8"
         },
         "xaxis": "x",
         "y": {
          "bdata": "AAAAAMDy9UAAAAAAAAvzQA==",
          "dtype": "f8"
         },
         "yaxis": "y"
        },
        {
         "customdata": {
          "bdata": "AAAAAACQn0A=",
          "dtype": "f8",
          "shape": "1, 1"
         },
         "hovertemplate": "Model=Mercedes-Benz AMG GLC 63 S 4MATIC<br>Mileage=%{x}<br>Price=%{y}<br>Year=%{customdata[0]}<extra></extra>",
         "legendgroup": "Mercedes-Benz AMG GLC 63 S 4MATIC",
         "marker": {
          "color": "#B6E880",
          "symbol": "circle"
         },
         "mode": "markers",
         "name": "Mercedes-Benz AMG GLC 63 S 4MATIC",
         "showlegend": true,
         "type": "scattergl",
         "x": {
          "bdata": "AAAAAGBc5UA=",
          "dtype": "f8"
         },
         "xaxis": "x",
         "y": {
          "bdata": "AAAAAODV60A=",
          "dtype": "f8"
         },
         "yaxis": "y"
        },
        {
         "customdata": {
          "bdata": "AAAAAACQn0AAAAAAAISfQA==",
          "dtype": "f8",
          "shape": "2, 1"
         },
         "hovertemplate": "Model=Mercedes-Benz AMG S 63 4MATIC<br>Mileage=%{x}<br>Price=%{y}<br>Year=%{customdata[0]}<extra></extra>",
         "legendgroup": "Mercedes-Benz AMG S 63 4MATIC",
         "marker": {
          "color": "#FF97FF",
          "symbol": "circle"
         },
         "mode": "markers",
         "name": "Mercedes-Benz AMG S 63 4MATIC",
         "showlegend": true,
         "type": "scattergl",
         "x": {
          "bdata": "AAAAACCc6EAAAAAAAGPgQA==",
          "dtype": "f8"
         },
         "xaxis": "x",
         "y": {
          "bdata": "AAAAAHBJ80AAAAAAcE/yQA==",
          "dtype": "f8"
         },
         "yaxis": "y"
        },
        {
         "customdata": {
          "bdata": "AAAAAACcn0AAAAAAAJSfQAAAAAAAnJ9AAAAAAACUn0AAAAAAAJifQAAAAAAAlJ9AAAAAAACcn0A=",
          "dtype": "f8",
          "shape": "7, 1"
         },
         "hovertemplate": "Model=Mercedes-Benz AMG GLA 35 Base<br>Mileage=%{x}<br>Price=%{y}<br>Year=%{customdata[0]}<extra></extra>",
         "legendgroup": "Mercedes-Benz AMG GLA 35 Base",
         "marker": {
          "color": "#FECB52",
          "symbol": "circle"
         },
         "mode": "markers",
         "name": "Mercedes-Benz AMG GLA 35 Base",
         "showlegend": true,
         "type": "scattergl",
         "x": {
          "bdata": "AAAAAACuxUAAAAAAAAbSQAAAAAAAW7tAAAAAAMBQ4EAAAAAAAAm5QAAAAAAAgcJAAAAAAAB3sUA=",
          "dtype": "f8"
         },
         "xaxis": "x",
         "y": {
          "bdata": "AAAAAOD45UAAAAAAIOTiQAAAAAAgquZAAAAAACBD5EAAAAAA4HrlQAAAAAAAbuVAAAAAAACa6EA=",
          "dtype": "f8"
         },
         "yaxis": "y"
        },
        {
         "customdata": {
          "bdata": "AAAAAACcn0A=",
          "dtype": "f8",
          "shape": "1, 1"
         },
         "hovertemplate": "Model=Mercedes-Benz EQE 500 <br>Mileage=%{x}<br>Price=%{y}<br>Year=%{customdata[0]}<extra></extra>",
         "legendgroup": "Mercedes-Benz EQE 500 ",
         "marker": {
          "color": "#636efa",
          "symbol": "circle"
         },
         "mode": "markers",
         "name": "Mercedes-Benz EQE 500 ",
         "showlegend": true,
         "type": "scattergl",
         "x": {
          "bdata": "AAAAAAAbtEA=",
          "dtype": "f8"
         },
         "xaxis": "x",
         "y": {
          "bdata": "AAAAACDG80A=",
          "dtype": "f8"
         },
         "yaxis": "y"
        },
        {
         "customdata": {
          "bdata": "AAAAAACAn0A=",
          "dtype": "f8",
          "shape": "1, 1"
         },
         "hovertemplate": "Model=Mercedes-Benz AMG G 4MATIC<br>Mileage=%{x}<br>Price=%{y}<br>Year=%{customdata[0]}<extra></extra>",
         "legendgroup": "Mercedes-Benz AMG G 4MATIC",
         "marker": {
          "color": "#EF553B",
          "symbol": "circle"
         },
         "mode": "markers",
         "name": "Mercedes-Benz AMG G 4MATIC",
         "showlegend": true,
         "type": "scattergl",
         "x": {
          "bdata": "AAAAAKCz60A=",
          "dtype": "f8"
         },
         "xaxis": "x",
         "y": {
          "bdata": "AAAAADA99UA=",
          "dtype": "f8"
         },
         "yaxis": "y"
        },
        {
         "customdata": {
          "bdata": "AAAAAACQn0AAAAAAAJCfQAAAAAAAlJ9AAAAAAACcn0AAAAAAAJyfQAAAAAAAnJ9AAAAAAACcn0AAAAAAAJyfQAAAAAAAnJ9AAAAAAACQn0AAAAAAAJyfQAAAAAAAjJ9AAAAAAACQn0AAAAAAAJyfQAAAAAAAkJ9AAAAAAACYn0AAAAAAAJyfQAAAAAAAmJ9A",
          "dtype": "f8",
          "shape": "18, 1"
         },
         "hovertemplate": "Model=Mercedes-Benz E-Class E 450<br>Mileage=%{x}<br>Price=%{y}<br>Year=%{customdata[0]}<extra></extra>",
         "legendgroup": "Mercedes-Benz E-Class E 450",
         "marker": {
          "color": "#00cc96",
          "symbol": "circle"
         },
         "mode": "markers",
         "name": "Mercedes-Benz E-Class E 450",
         "showlegend": true,
         "type": "scattergl",
         "x": {
          "bdata": "AAAAAOBv40AAAAAAYMniQAAAAABgiuJAAAAAAAC/wEAAAAAAANKyQAAAAAAAA8ZAAAAAAADOwUAAAAAAAByZQAAAAACAQcJAAAAAAOBb4UAAAAAAALm7QAAAAADAE+NAAAAAACCW5EAAAAAAACizQAAAAACACeNAAAAAAAChwUAAAAAAACm2QAAAAAAAVqNA",
          "dtype": "f8"
         },
         "xaxis": "x",
         "y": {
          "bdata": "AAAAAACn4kAAAAAAwIXjQAAAAACAyOtAAAAAAAAL8EAAAAAAAHf0QAAAAACApO5AAAAAABDo8UAAAAAAEKHwQAAAAABgAO9AAAAAAIDs5UAAAAAAcIfzQAAAAACge+VAAAAAAEDU4kAAAAAAACXyQAAAAACgjeJAAAAAAEA88EAAAAAAoAHzQAAAAACAD/FA",
          "dtype": "f8"
         },
         "yaxis": "y"
        },
        {
         "customdata": {
          "bdata": "AAAAAACcn0AAAAAAAJyfQA==",
          "dtype": "f8",
          "shape": "2, 1"
         },
         "hovertemplate": "Model=Mercedes-Benz Sprinter 2500 170 WB<br>Mileage=%{x}<br>Price=%{y}<br>Year=%{customdata[0]}<extra></extra>",
         "legendgroup": "Mercedes-Benz Sprinter 2500 170 WB",
         "marker": {
          "color": "#ab63fa",
          "symbol": "circle"
         },
         "mode": "markers",
         "name": "Mercedes-Benz Sprinter 2500 170 WB",
         "showlegend": true,
         "type": "scattergl",
         "x": {
          "bdata": "AAAAAAA0lUAAAAAAQHvrQA==",
          "dtype": "f8"
         },
         "xaxis": "x",
         "y": {
          "bdata": "AAAAAKDU60AAAAAAYArjQA==",
          "dtype": "f8"
         },
         "yaxis": "y"
        },
        {
         "customdata": {
          "bdata": "AAAAAACUn0AAAAAAAJyfQA==",
          "dtype": "f8",
          "shape": "2, 1"
         },
         "hovertemplate": "Model=Mercedes-Benz AMG GLS 63 Base<br>Mileage=%{x}<br>Price=%{y}<br>Year=%{customdata[0]}<extra></extra>",
         "legendgroup": "Mercedes-Benz AMG GLS 63 Base",
         "marker": {
          "color": "#FFA15A",
          "symbol": "circle"
         },
         "mode": "markers",
         "name": "Mercedes-Benz AMG GLS 63 Base",
         "showlegend": true,
         "type": "scattergl",
         "x": {
          "bdata": "AAAAAMCt10AAAAAAAKjGQA==",
          "dtype": "f8"
         },
         "xaxis": "x",
         "y": {
          "bdata": "AAAAABBc+EAAAAAAkP8AQQ==",
          "dtype": "f8"
         },
         "yaxis": "y"
        },
        {
         "customdata": {
          "bdata": "AAAAAACMn0A=",
          "dtype": "f8",
          "shape": "1, 1"
         },
         "hovertemplate": "Model=Mercedes-Benz GLE 400 Base 4MATIC<br>Mileage=%{x}<br>Price=%{y}<br>Year=%{customdata[0]}<extra></extra>",
         "legendgroup": "Mercedes-Benz GLE 400 Base 4MATIC",
         "marker": {
          "color": "#19d3f3",
          "symbol": "circle"
         },
         "mode": "markers",
         "name": "Mercedes-Benz GLE 400 Base 4MATIC",
         "showlegend": true,
         "type": "scattergl",
         "x": {
          "bdata": "AAAAAICW4EA=",
          "dtype": "f8"
         },
         "xaxis": "x",
         "y": {
          "bdata": "AAAAAKBO4EA=",
          "dtype": "f8"
         },
         "yaxis": "y"
        },
        {
         "customdata": {
          "bdata": "AAAAAACQn0AAAAAAAKCfQAAAAAAAkJ9AAAAAAACYn0A=",
          "dtype": "f8",
          "shape": "4, 1"
         },
         "hovertemplate": "Model=Mercedes-Benz GLS 450 <br>Mileage=%{x}<br>Price=%{y}<br>Year=%{customdata[0]}<extra></extra>",
         "legendgroup": "Mercedes-Benz GLS 450 ",
         "marker": {
          "color": "#FF6692",
          "symbol": "circle"
         },
         "mode": "markers",
         "name": "Mercedes-Benz GLS 450 ",
         "showlegend": true,
         "type": "scattergl",
         "x": {
          "bdata": "AAAAAACa4EAAAAAAALauQAAAAACgyONAAAAAAECe0kA=",
          "dtype": "f8"
         },
         "xaxis": "x",
         "y": {
          "bdata": "AAAAAEAk6UAAAAAAkKv2QAAAAACAXOpAAAAAAHDf8EA=",
          "dtype": "f8"
         },
         "yaxis": "y"
        },
        {
         "customdata": {
          "bdata": "AAAAAACYn0A=",
          "dtype": "f8",
          "shape": "1, 1"
         },
         "hovertemplate": "Model=Mercedes-Benz EQB 350 EQB 350<br>Mileage=%{x}<br>Price=%{y}<br>Year=%{customdata[0]}<extra></extra>",
         "legendgroup": "Mercedes-Benz EQB 350 EQB 350",
         "marker": {
          "color": "#B6E880",
          "symbol": "circle"
         },
         "mode": "markers",
         "name": "Mercedes-Benz EQB 350 EQB 350",
         "showlegend": true,
         "type": "scattergl",
         "x": {
          "bdata": "AAAAAIBYxkA=",
          "dtype": "f8"
         },
         "xaxis": "x",
         "y": {
          "bdata": "AAAAAOCH40A=",
          "dtype": "f8"
         },
         "yaxis": "y"
        },
        {
         "customdata": {
          "bdata": "AAAAAACcn0AAAAAAAJyfQA==",
          "dtype": "f8",
          "shape": "2, 1"
         },
         "hovertemplate": "Model=Mercedes-Benz AMG GLA 35 <br>Mileage=%{x}<br>Price=%{y}<br>Year=%{customdata[0]}<extra></extra>",
         "legendgroup": "Mercedes-Benz AMG GLA 35 ",
         "marker": {
          "color": "#FF97FF",
          "symbol": "circle"
         },
         "mode": "markers",
         "name": "Mercedes-Benz AMG GLA 35 ",
         "showlegend": true,
         "type": "scattergl",
         "x": {
          "bdata": "AAAAAACps0AAAAAAABK3QA==",
          "dtype": "f8"
         },
         "xaxis": "x",
         "y": {
          "bdata": "AAAAAADo5kAAAAAAQHXmQA==",
          "dtype": "f8"
         },
         "yaxis": "y"
        },
        {
         "customdata": {
          "bdata": "AAAAAACcn0AAAAAAAJifQA==",
          "dtype": "f8",
          "shape": "2, 1"
         },
         "hovertemplate": "Model=Mercedes-Benz AMG EQS Base<br>Mileage=%{x}<br>Price=%{y}<br>Year=%{customdata[0]}<extra></extra>",
         "legendgroup": "Mercedes-Benz AMG EQS Base",
         "marker": {
          "color": "#FECB52",
          "symbol": "circle"
         },
         "mode": "markers",
         "name": "Mercedes-Benz AMG EQS Base",
         "showlegend": true,
         "type": "scattergl",
         "x": {
          "bdata": "AAAAAADIrUAAAAAAAHeyQA==",
          "dtype": "f8"
         },
         "xaxis": "x",
         "y": {
          "bdata": "AAAAANDa+kAAAAAAYKj0QA==",
          "dtype": "f8"
         },
         "yaxis": "y"
        },
        {
         "customdata": {
          "bdata": "AAAAAACYn0AAAAAAAJyfQA==",
          "dtype": "f8",
          "shape": "2, 1"
         },
         "hovertemplate": "Model=Mercedes-Benz EQS 450+ <br>Mileage=%{x}<br>Price=%{y}<br>Year=%{customdata[0]}<extra></extra>",
         "legendgroup": "Mercedes-Benz EQS 450+ ",
         "marker": {
          "color": "#636efa",
          "symbol": "circle"
         },
         "mode": "markers",
         "name": "Mercedes-Benz EQS 450+ ",
         "showlegend": true,
         "type": "scattergl",
         "x": {
          "bdata": "AAAAAADWxkAAAAAAABSkQA==",
          "dtype": "f8"
         },
         "xaxis": "x",
         "y": {
          "bdata": "AAAAAGAy60AAAAAAQCrzQA==",
          "dtype": "f8"
         },
         "yaxis": "y"
        },
        {
         "customdata": {
          "bdata": "AAAAAACMn0AAAAAAAIyfQA==",
          "dtype": "f8",
          "shape": "2, 1"
         },
         "hovertemplate": "Model=Mercedes-Benz AMG GLE 43 4MATIC Coupe<br>Mileage=%{x}<br>Price=%{y}<br>Year=%{customdata[0]}<extra></extra>",
         "legendgroup": "Mercedes-Benz AMG GLE 43 4MATIC Coupe",
         "marker": {
          "color": "#EF553B",
          "symbol": "circle"
         },
         "mode": "markers",
         "name": "Mercedes-Benz AMG GLE 43 4MATIC Coupe",
         "showlegend": true,
         "type": "scattergl",
         "x": {
          "bdata": "AAAAAGB48UAAAAAAUInyQA==",
          "dtype": "f8"
         },
         "xaxis": "x",
         "y": {
          "bdata": "AAAAAIDL4kAAAAAAYGLjQA==",
          "dtype": "f8"
         },
         "yaxis": "y"
        },
        {
         "customdata": {
          "bdata": "AAAAAACUn0A=",
          "dtype": "f8",
          "shape": "1, 1"
         },
         "hovertemplate": "Model=Mercedes-Benz Maybach GLS 600 <br>Mileage=%{x}<br>Price=%{y}<br>Year=%{customdata[0]}<extra></extra>",
         "legendgroup": "Mercedes-Benz Maybach GLS 600 ",
         "marker": {
          "color": "#00cc96",
          "symbol": "circle"
         },
         "mode": "markers",
         "name": "Mercedes-Benz Maybach GLS 600 ",
         "showlegend": true,
         "type": "scattergl",
         "x": {
          "bdata": "AAAAAIBb10A=",
          "dtype": "f8"
         },
         "xaxis": "x",
         "y": {
          "bdata": "AAAAACCl/0A=",
          "dtype": "f8"
         },
         "yaxis": "y"
        },
        {
         "customdata": {
          "bdata": "AAAAAACMn0AAAAAAAJCfQAAAAAAAkJ9AAAAAAACQn0AAAAAAAJCfQAAAAAAAjJ9AAAAAAACMn0A=",
          "dtype": "f8",
          "shape": "7, 1"
         },
         "hovertemplate": "Model=Mercedes-Benz C-Class 4MATIC<br>Mileage=%{x}<br>Price=%{y}<br>Year=%{customdata[0]}<extra></extra>",
         "legendgroup": "Mercedes-Benz C-Class 4MATIC",
         "marker": {
          "color": "#ab63fa",
          "symbol": "circle"
         },
         "mode": "markers",
         "name": "Mercedes-Benz C-Class 4MATIC",
         "showlegend": true,
         "type": "scattergl",
         "x": {
          "bdata": "AAAAAKAa7EAAAAAAAHvYQAAAAADA1NJAAAAAAABJyEAAAAAAgADaQAAAAABAwd5AAAAAAEDf2EA=",
          "dtype": "f8"
         },
         "xaxis": "x",
         "y": {
          "bdata": "AAAAAABj1UAAAAAAwEXeQAAAAABA6+BAAAAAAECN30AAAAAAgErdQAAAAAAAItlAAAAAAMCv20A=",
          "dtype": "f8"
         },
         "yaxis": "y"
        },
        {
         "customdata": {
          "bdata": "AAAAAAB8n0A=",
          "dtype": "f8",
          "shape": "1, 1"
         },
         "hovertemplate": "Model=Mercedes-Benz E-Class E 400 4MATIC<br>Mileage=%{x}<br>Price=%{y}<br>Year=%{customdata[0]}<extra></extra>",
         "legendgroup": "Mercedes-Benz E-Class E 400 4MATIC",
         "marker": {
          "color": "#FFA15A",
          "symbol": "circle"
         },
         "mode": "markers",
         "name": "Mercedes-Benz E-Class E 400 4MATIC",
         "showlegend": true,
         "type": "scattergl",
         "x": {
          "bdata": "AAAAAKDu8kA=",
          "dtype": "f8"
         },
         "xaxis": "x",
         "y": {
          "bdata": "AAAAAED100A=",
          "dtype": "f8"
         },
         "yaxis": "y"
        },
        {
         "customdata": {
          "bdata": "AAAAAACQn0A=",
          "dtype": "f8",
          "shape": "1, 1"
         },
         "hovertemplate": "Model=Mercedes-Benz AMG A 35 4MATIC<br>Mileage=%{x}<br>Price=%{y}<br>Year=%{customdata[0]}<extra></extra>",
         "legendgroup": "Mercedes-Benz AMG A 35 4MATIC",
         "marker": {
          "color": "#19d3f3",
          "symbol": "circle"
         },
         "mode": "markers",
         "name": "Mercedes-Benz AMG A 35 4MATIC",
         "showlegend": true,
         "type": "scattergl",
         "x": {
          "bdata": "AAAAAACXvkA=",
          "dtype": "f8"
         },
         "xaxis": "x",
         "y": {
          "bdata": "AAAAAACK40A=",
          "dtype": "f8"
         },
         "yaxis": "y"
        },
        {
         "customdata": {
          "bdata": "AAAAAACcn0A=",
          "dtype": "f8",
          "shape": "1, 1"
         },
         "hovertemplate": "Model=Mercedes-Benz AMG E 63 <br>Mileage=%{x}<br>Price=%{y}<br>Year=%{customdata[0]}<extra></extra>",
         "legendgroup": "Mercedes-Benz AMG E 63 ",
         "marker": {
          "color": "#FF6692",
          "symbol": "circle"
         },
         "mode": "markers",
         "name": "Mercedes-Benz AMG E 63 ",
         "showlegend": true,
         "type": "scattergl",
         "x": {
          "bdata": "AAAAAMDl0UA=",
          "dtype": "f8"
         },
         "xaxis": "x",
         "y": {
          "bdata": "AAAAAPg8AUE=",
          "dtype": "f8"
         },
         "yaxis": "y"
        },
        {
         "customdata": {
          "bdata": "AAAAAACcn0AAAAAAAJyfQAAAAAAAnJ9AAAAAAACcn0AAAAAAAJyfQAAAAAAAnJ9AAAAAAACcn0AAAAAAAJifQAAAAAAAnJ9AAAAAAACcn0AAAAAAAJyfQAAAAAAAnJ9AAAAAAACYn0AAAAAAAJifQAAAAAAAnJ9A",
          "dtype": "f8",
          "shape": "15, 1"
         },
         "hovertemplate": "Model=Mercedes-Benz EQS 450+ Base<br>Mileage=%{x}<br>Price=%{y}<br>Year=%{customdata[0]}<extra></extra>",
         "legendgroup": "Mercedes-Benz EQS 450+ Base",
         "marker": {
          "color": "#B6E880",
          "symbol": "circle"
         },
         "mode": "markers",
         "name": "Mercedes-Benz EQS 450+ Base",
         "showlegend": true,
         "type": "scattergl",
         "x": {
          "bdata": "AAAAAAArx0AAAAAAANW2QAAAAAAATK1AAAAAAICnwkAAAAAAANq3QAAAAAAAqKxAAAAAAAAg1UAAAAAAAPiLQAAAAAAABJtAAAAAAACZ1UAAAAAAAGzAQAAAAAAARbJAAAAAAAB0kUAAAAAAwJLcQAAAAAAAhb1A",
          "dtype": "f8"
         },
         "xaxis": "x",
         "y": {
          "bdata": "AAAAAKAs8kAAAAAAEPH0QAAAAADANvZAAAAAAFBF80AAAAAAMCrzQAAAAACg6vJAAAAAACC07UAAAAAAQI3xQAAAAABwT/JAAAAAAMDG80AAAAAAcIfzQAAAAADAYvhAAAAAAFAW8EAAAAAAYODpQAAAAACgEPJA",
          "dtype": "f8"
         },
         "yaxis": "y"
        },
        {
         "customdata": {
          "bdata": "AAAAAACcn0A=",
          "dtype": "f8",
          "shape": "1, 1"
         },
         "hovertemplate": "Model=Mercedes-Benz EQE 350+ 350+ SUV<br>Mileage=%{x}<br>Price=%{y}<br>Year=%{customdata[0]}<extra></extra>",
         "legendgroup": "Mercedes-Benz EQE 350+ 350+ SUV",
         "marker": {
          "color": "#FF97FF",
          "symbol": "circle"
         },
         "mode": "markers",
         "name": "Mercedes-Benz EQE 350+ 350+ SUV",
         "showlegend": true,
         "type": "scattergl",
         "x": {
          "bdata": "AAAAAABFxEA=",
          "dtype": "f8"
         },
         "xaxis": "x",
         "y": {
          "bdata": "AAAAAEA28UA=",
          "dtype": "f8"
         },
         "yaxis": "y"
        },
        {
         "customdata": {
          "bdata": "AAAAAACUn0AAAAAAAJSfQA==",
          "dtype": "f8",
          "shape": "2, 1"
         },
         "hovertemplate": "Model=Mercedes-Benz CLS 450 <br>Mileage=%{x}<br>Price=%{y}<br>Year=%{customdata[0]}<extra></extra>",
         "legendgroup": "Mercedes-Benz CLS 450 ",
         "marker": {
          "color": "#FECB52",
          "symbol": "circle"
         },
         "mode": "markers",
         "name": "Mercedes-Benz CLS 450 ",
         "showlegend": true,
         "type": "scattergl",
         "x": {
          "bdata": "AAAAAADe3EAAAAAAoJDhQA==",
          "dtype": "f8"
         },
         "xaxis": "x",
         "y": {
          "bdata": "AAAAAMDm50AAAAAAgMLsQA==",
          "dtype": "f8"
         },
         "yaxis": "y"
        },
        {
         "customdata": {
          "bdata": "AAAAAAB4n0A=",
          "dtype": "f8",
          "shape": "1, 1"
         },
         "hovertemplate": "Model=Mercedes-Benz SLK-Class SLK 250<br>Mileage=%{x}<br>Price=%{y}<br>Year=%{customdata[0]}<extra></extra>",
         "legendgroup": "Mercedes-Benz SLK-Class SLK 250",
         "marker": {
          "color": "#636efa",
          "symbol": "circle"
         },
         "mode": "markers",
         "name": "Mercedes-Benz SLK-Class SLK 250",
         "showlegend": true,
         "type": "scattergl",
         "x": {
          "bdata": "AAAAAIAX7kA=",
          "dtype": "f8"
         },
         "xaxis": "x",
         "y": {
          "bdata": "AAAAAABV1UA=",
          "dtype": "f8"
         },
         "yaxis": "y"
        },
        {
         "customdata": {
          "bdata": "AAAAAACUn0A=",
          "dtype": "f8",
          "shape": "1, 1"
         },
         "hovertemplate": "Model=Mercedes-Benz AMG GLB 35 4MATIC<br>Mileage=%{x}<br>Price=%{y}<br>Year=%{customdata[0]}<extra></extra>",
         "legendgroup": "Mercedes-Benz AMG GLB 35 4MATIC",
         "marker": {
          "color": "#EF553B",
          "symbol": "circle"
         },
         "mode": "markers",
         "name": "Mercedes-Benz AMG GLB 35 4MATIC",
         "showlegend": true,
         "type": "scattergl",
         "x": {
          "bdata": "AAAAAABY10A=",
          "dtype": "f8"
         },
         "xaxis": "x",
         "y": {
          "bdata": "AAAAACCT5UA=",
          "dtype": "f8"
         },
         "yaxis": "y"
        },
        {
         "customdata": {
          "bdata": "AAAAAACUn0AAAAAAAJifQAAAAAAAjJ9AAAAAAACQn0AAAAAAAJyfQAAAAAAAnJ9AAAAAAACcn0A=",
          "dtype": "f8",
          "shape": "7, 1"
         },
         "hovertemplate": "Model=Mercedes-Benz C-Class <br>Mileage=%{x}<br>Price=%{y}<br>Year=%{customdata[0]}<extra></extra>",
         "legendgroup": "Mercedes-Benz C-Class ",
         "marker": {
          "color": "#00cc96",
          "symbol": "circle"
         },
         "mode": "markers",
         "name": "Mercedes-Benz C-Class ",
         "showlegend": true,
         "type": "scattergl",
         "x": {
          "bdata": "AAAAAMCB10AAAAAAAG3OQAAAAADAOtlAAAAAACC04UAAAAAAQHHVQAAAAACAadBAAAAAAIAMxkA=",
          "dtype": "f8"
         },
         "xaxis": "x",
         "y": {
          "bdata": "AAAAAEBC3kAAAAAAoHnlQAAAAADARN5AAAAAAIBV20AAAAAAgLXjQAAAAAAgmOZAAAAAACBg5UA=",
          "dtype": "f8"
         },
         "yaxis": "y"
        },
        {
         "customdata": {
          "bdata": "AAAAAACcn0AAAAAAAJifQAAAAAAAmJ9AAAAAAACUn0AAAAAAAJSfQAAAAAAAlJ9AAAAAAACcn0AAAAAAAJyfQAAAAAAAlJ9AAAAAAACUn0AAAAAAAJSfQAAAAAAAlJ9AAAAAAACcn0A=",
          "dtype": "f8",
          "shape": "13, 1"
         },
         "hovertemplate": "Model=Mercedes-Benz C-Class 4MATIC Sedan<br>Mileage=%{x}<br>Price=%{y}<br>Year=%{customdata[0]}<extra></extra>",
         "legendgroup": "Mercedes-Benz C-Class 4MATIC Sedan",
         "marker": {
          "color": "#ab63fa",
          "symbol": "circle"
         },
         "mode": "markers",
         "name": "Mercedes-Benz C-Class 4MATIC Sedan",
         "showlegend": true,
         "type": "scattergl",
         "x": {
          "bdata": "AAAAAMDM5UAAAAAAAHXCQAAAAABAp9JAAAAAAIB100AAAAAAAGDWQAAAAACANMZAAAAAAAAms0AAAAAAgMDNQAAAAABApNpAAAAAAIBowEAAAAAAAJjgQAAAAAAANd5AAAAAAAB3vUA=",
          "dtype": "f8"
         },
         "xaxis": "x",
         "y": {
          "bdata": "AAAAAOD95EAAAAAAYIbjQAAAAACASeNAAAAAAEBo4UAAAAAAgD/fQAAAAAAAFOBAAAAAAGDr5kAAAAAAwHvlQAAAAACAh+FAAAAAAMDw4UAAAAAAwE3gQAAAAADA9t5AAAAAAMC150A=",
          "dtype": "f8"
         },
         "yaxis": "y"
        },
        {
         "customdata": {
          "bdata": "AAAAAACUn0A=",
          "dtype": "f8",
          "shape": "1, 1"
         },
         "hovertemplate": "Model=Mercedes-Benz Sprinter 3500 144 WB<br>Mileage=%{x}<br>Price=%{y}<br>Year=%{customdata[0]}<extra></extra>",
         "legendgroup": "Mercedes-Benz Sprinter 3500 144 WB",
         "marker": {
          "color": "#FFA15A",
          "symbol": "circle"
         },
         "mode": "markers",
         "name": "Mercedes-Benz Sprinter 3500 144 WB",
         "showlegend": true,
         "type": "scattergl",
         "x": {
          "bdata": "AAAAAMCI2kA=",
          "dtype": "f8"
         },
         "xaxis": "x",
         "y": {
          "bdata": "AAAAAMDN7EA=",
          "dtype": "f8"
         },
         "yaxis": "y"
        },
        {
         "customdata": {
          "bdata": "AAAAAACgn0AAAAAAAJSfQA==",
          "dtype": "f8",
          "shape": "2, 1"
         },
         "hovertemplate": "Model=Mercedes-Benz GLS 580 <br>Mileage=%{x}<br>Price=%{y}<br>Year=%{customdata[0]}<extra></extra>",
         "legendgroup": "Mercedes-Benz GLS 580 ",
         "marker": {
          "color": "#19d3f3",
          "symbol": "circle"
         },
         "mode": "markers",
         "name": "Mercedes-Benz GLS 580 ",
         "showlegend": true,
         "type": "scattergl",
         "x": {
          "bdata": "AAAAAAAcu0AAAAAAEN3xQA==",
          "dtype": "f8"
         },
         "xaxis": "x",
         "y": {
          "bdata": "AAAAAMAM/UAAAAAAUJnwQA==",
          "dtype": "f8"
         },
         "yaxis": "y"
        },
        {
         "customdata": {
          "bdata": "AAAAAACcn0AAAAAAAJyfQA==",
          "dtype": "f8",
          "shape": "2, 1"
         },
         "hovertemplate": "Model=Mercedes-Benz EQB 250 <br>Mileage=%{x}<br>Price=%{y}<br>Year=%{customdata[0]}<extra></extra>",
         "legendgroup": "Mercedes-Benz EQB 250 ",
         "marker": {
          "color": "#FF6692",
          "symbol": "circle"
         },
         "mode": "markers",
         "name": "Mercedes-Benz EQB 250 ",
         "showlegend": true,
         "type": "scattergl",
         "x": {
          "bdata": "AAAAAAD3u0AAAAAAAHqkQA==",
          "dtype": "f8"
         },
         "xaxis": "x",
         "y": {
          "bdata": "AAAAAKCw5UAAAAAAYFHqQA==",
          "dtype": "f8"
         },
         "yaxis": "y"
        },
        {
         "customdata": {
          "bdata": "AAAAAACIn0A=",
          "dtype": "f8",
          "shape": "1, 1"
         },
         "hovertemplate": "Model=Mercedes-Benz AMG GLE 43 <br>Mileage=%{x}<br>Price=%{y}<br>Year=%{customdata[0]}<extra></extra>",
         "legendgroup": "Mercedes-Benz AMG GLE 43 ",
         "marker": {
          "color": "#B6E880",
          "symbol": "circle"
         },
         "mode": "markers",
         "name": "Mercedes-Benz AMG GLE 43 ",
         "showlegend": true,
         "type": "scattergl",
         "x": {
          "bdata": "AAAAACBI4kA=",
          "dtype": "f8"
         },
         "xaxis": "x",
         "y": {
          "bdata": "AAAAAMCA5EA=",
          "dtype": "f8"
         },
         "yaxis": "y"
        },
        {
         "customdata": {
          "bdata": "AAAAAACcn0AAAAAAAKCfQA==",
          "dtype": "f8",
          "shape": "2, 1"
         },
         "hovertemplate": "Model=Mercedes-Benz GLE 350 4MATIC<br>Mileage=%{x}<br>Price=%{y}<br>Year=%{customdata[0]}<extra></extra>",
         "legendgroup": "Mercedes-Benz GLE 350 4MATIC",
         "marker": {
          "color": "#FF97FF",
          "symbol": "circle"
         },
         "mode": "markers",
         "name": "Mercedes-Benz GLE 350 4MATIC",
         "showlegend": true,
         "type": "scattergl",
         "x": {
          "bdata": "AAAAAACVzUAAAAAAAF2/QA==",
          "dtype": "f8"
         },
         "xaxis": "x",
         "y": {
          "bdata": "AAAAAAA37kAAAAAAYLbxQA==",
          "dtype": "f8"
         },
         "yaxis": "y"
        },
        {
         "customdata": {
          "bdata": "AAAAAACcn0A=",
          "dtype": "f8",
          "shape": "1, 1"
         },
         "hovertemplate": "Model=Mercedes-Benz AMG EQE Base<br>Mileage=%{x}<br>Price=%{y}<br>Year=%{customdata[0]}<extra></extra>",
         "legendgroup": "Mercedes-Benz AMG EQE Base",
         "marker": {
          "color": "#FECB52",
          "symbol": "circle"
         },
         "mode": "markers",
         "name": "Mercedes-Benz AMG EQE Base",
         "showlegend": true,
         "type": "scattergl",
         "x": {
          "bdata": "AAAAAAB4qEA=",
          "dtype": "f8"
         },
         "xaxis": "x",
         "y": {
          "bdata": "AAAAACDx8kA=",
          "dtype": "f8"
         },
         "yaxis": "y"
        },
        {
         "customdata": {
          "bdata": "AAAAAACcn0A=",
          "dtype": "f8",
          "shape": "1, 1"
         },
         "hovertemplate": "Model=Mercedes-Benz EQB 350 <br>Mileage=%{x}<br>Price=%{y}<br>Year=%{customdata[0]}<extra></extra>",
         "legendgroup": "Mercedes-Benz EQB 350 ",
         "marker": {
          "color": "#636efa",
          "symbol": "circle"
         },
         "mode": "markers",
         "name": "Mercedes-Benz EQB 350 ",
         "showlegend": true,
         "type": "scattergl",
         "x": {
          "bdata": "AAAAAADNtkA=",
          "dtype": "f8"
         },
         "xaxis": "x",
         "y": {
          "bdata": "AAAAAKBW60A=",
          "dtype": "f8"
         },
         "yaxis": "y"
        },
        {
         "customdata": {
          "bdata": "AAAAAACIn0AAAAAAAJyfQA==",
          "dtype": "f8",
          "shape": "2, 1"
         },
         "hovertemplate": "Model=Mercedes-Benz AMG GLE 63 <br>Mileage=%{x}<br>Price=%{y}<br>Year=%{customdata[0]}<extra></extra>",
         "legendgroup": "Mercedes-Benz AMG GLE 63 ",
         "marker": {
          "color": "#EF553B",
          "symbol": "circle"
         },
         "mode": "markers",
         "name": "Mercedes-Benz AMG GLE 63 ",
         "showlegend": true,
         "type": "scattergl",
         "x": {
          "bdata": "AAAAAMBH30AAAAAAgNXKQA==",
          "dtype": "f8"
         },
         "xaxis": "x",
         "y": {
          "bdata": "AAAAAOAS7EAAAAAAcJb7QA==",
          "dtype": "f8"
         },
         "yaxis": "y"
        },
        {
         "customdata": {
          "bdata": "AAAAAACAn0A=",
          "dtype": "f8",
          "shape": "1, 1"
         },
         "hovertemplate": "Model=Mercedes-Benz AMG GT AMG GT S<br>Mileage=%{x}<br>Price=%{y}<br>Year=%{customdata[0]}<extra></extra>",
         "legendgroup": "Mercedes-Benz AMG GT AMG GT S",
         "marker": {
          "color": "#00cc96",
          "symbol": "circle"
         },
         "mode": "markers",
         "name": "Mercedes-Benz AMG GT AMG GT S",
         "showlegend": true,
         "type": "scattergl",
         "x": {
          "bdata": "AAAAACBS4EA=",
          "dtype": "f8"
         },
         "xaxis": "x",
         "y": {
          "bdata": "AAAAAKAE80A=",
          "dtype": "f8"
         },
         "yaxis": "y"
        },
        {
         "customdata": {
          "bdata": "AAAAAACQn0AAAAAAAIyfQAAAAAAAlJ9A",
          "dtype": "f8",
          "shape": "3, 1"
         },
         "hovertemplate": "Model=Mercedes-Benz S-Class S 560 4MATIC<br>Mileage=%{x}<br>Price=%{y}<br>Year=%{customdata[0]}<extra></extra>",
         "legendgroup": "Mercedes-Benz S-Class S 560 4MATIC",
         "marker": {
          "color": "#ab63fa",
          "symbol": "circle"
         },
         "mode": "markers",
         "name": "Mercedes-Benz S-Class S 560 4MATIC",
         "showlegend": true,
         "type": "scattergl",
         "x": {
          "bdata": "AAAAAIA01kAAAAAAgMTKQAAAAACAIctA",
          "dtype": "f8"
         },
         "xaxis": "x",
         "y": {
          "bdata": "AAAAAED370AAAAAAsArzQAAAAABAPfRA",
          "dtype": "f8"
         },
         "yaxis": "y"
        },
        {
         "customdata": {
          "bdata": "AAAAAACIn0A=",
          "dtype": "f8",
          "shape": "1, 1"
         },
         "hovertemplate": "Model=Mercedes-Benz GLS 550 <br>Mileage=%{x}<br>Price=%{y}<br>Year=%{customdata[0]}<extra></extra>",
         "legendgroup": "Mercedes-Benz GLS 550 ",
         "marker": {
          "color": "#FFA15A",
          "symbol": "circle"
         },
         "mode": "markers",
         "name": "Mercedes-Benz GLS 550 ",
         "showlegend": true,
         "type": "scattergl",
         "x": {
          "bdata": "AAAAACDm7kA=",
          "dtype": "f8"
         },
         "xaxis": "x",
         "y": {
          "bdata": "AAAAAEBy5EA=",
          "dtype": "f8"
         },
         "yaxis": "y"
        },
        {
         "customdata": {
          "bdata": "AAAAAACcn0A=",
          "dtype": "f8",
          "shape": "1, 1"
         },
         "hovertemplate": "Model=Mercedes-Benz EQE 350 350+ Sedan<br>Mileage=%{x}<br>Price=%{y}<br>Year=%{customdata[0]}<extra></extra>",
         "legendgroup": "Mercedes-Benz EQE 350 350+ Sedan",
         "marker": {
          "color": "#19d3f3",
          "symbol": "circle"
         },
         "mode": "markers",
         "name": "Mercedes-Benz EQE 350 350+ Sedan",
         "showlegend": true,
         "type": "scattergl",
         "x": {
          "bdata": "AAAAAABDvkA=",
          "dtype": "f8"
         },
         "xaxis": "x",
         "y": {
          "bdata": "AAAAACCh70A=",
          "dtype": "f8"
         },
         "yaxis": "y"
        },
        {
         "customdata": {
          "bdata": "AAAAAACcn0AAAAAAAJyfQA==",
          "dtype": "f8",
          "shape": "2, 1"
         },
         "hovertemplate": "Model=Mercedes-Benz EQE 500 4MATIC+<br>Mileage=%{x}<br>Price=%{y}<br>Year=%{customdata[0]}<extra></extra>",
         "legendgroup": "Mercedes-Benz EQE 500 4MATIC+",
         "marker": {
          "color": "#FF6692",
          "symbol": "circle"
         },
         "mode": "markers",
         "name": "Mercedes-Benz EQE 500 4MATIC+",
         "showlegend": true,
         "type": "scattergl",
         "x": {
          "bdata": "AAAAAIBOw0AAAAAAAC7AQA==",
          "dtype": "f8"
         },
         "xaxis": "x",
         "y": {
          "bdata": "AAAAAIDl8kAAAAAAALT0QA==",
          "dtype": "f8"
         },
         "yaxis": "y"
        },
        {
         "customdata": {
          "bdata": "AAAAAACQn0AAAAAAAJCfQAAAAAAAkJ9AAAAAAACQn0AAAAAAAIyfQAAAAAAAjJ9AAAAAAACQn0A=",
          "dtype": "f8",
          "shape": "7, 1"
         },
         "hovertemplate": "Model=Mercedes-Benz S-Class S 560<br>Mileage=%{x}<br>Price=%{y}<br>Year=%{customdata[0]}<extra></extra>",
         "legendgroup": "Mercedes-Benz S-Class S 560",
         "marker": {
          "color": "#B6E880",
          "symbol": "circle"
         },
         "mode": "markers",
         "name": "Mercedes-Benz S-Class S 560",
         "showlegend": true,
         "type": "scattergl",
         "x": {
          "bdata": "AAAAAMDN50AAAAAAQEHQQAAAAADA3+VAAAAAAIA83UAAAAAAgJjVQAAAAACAwc5AAAAAAIAt0EA=",
          "dtype": "f8"
         },
         "xaxis": "x",
         "y": {
          "bdata": "AAAAAGA/60AAAAAAIIfyQAAAAACAwOxAAAAAAABA70AAAAAAYH3rQAAAAABg+PRAAAAAAEB19kA=",
          "dtype": "f8"
         },
         "yaxis": "y"
        },
        {
         "customdata": {
          "bdata": "AAAAAACAn0A=",
          "dtype": "f8",
          "shape": "1, 1"
         },
         "hovertemplate": "Model=Mercedes-Benz GLA-Class GLA 250 4MATIC<br>Mileage=%{x}<br>Price=%{y}<br>Year=%{customdata[0]}<extra></extra>",
         "legendgroup": "Mercedes-Benz GLA-Class GLA 250 4MATIC",
         "marker": {
          "color": "#FF97FF",
          "symbol": "circle"
         },
         "mode": "markers",
         "name": "Mercedes-Benz GLA-Class GLA 250 4MATIC",
         "showlegend": true,
         "type": "scattergl",
         "x": {
          "bdata": "AAAAAEAl90A=",
          "dtype": "f8"
         },
         "xaxis": "x",
         "y": {
          "bdata": "AAAAAICZ0EA=",
          "dtype": "f8"
         },
         "yaxis": "y"
        },
        {
         "customdata": {
          "bdata": "AAAAAACQn0AAAAAAAJCfQAAAAAAAkJ9A",
          "dtype": "f8",
          "shape": "3, 1"
         },
         "hovertemplate": "Model=Mercedes-Benz GLE 450 Base<br>Mileage=%{x}<br>Price=%{y}<br>Year=%{customdata[0]}<extra></extra>",
         "legendgroup": "Mercedes-Benz GLE 450 Base",
         "marker": {
          "color": "#FECB52",
          "symbol": "circle"
         },
         "mode": "markers",
         "name": "Mercedes-Benz GLE 450 Base",
         "showlegend": true,
         "type": "scattergl",
         "x": {
          "bdata": "AAAAAOCK60AAAAAAwAjjQAAAAACAXONA",
          "dtype": "f8"
         },
         "xaxis": "x",
         "y": {
          "bdata": "AAAAAGD05UAAAAAA4N3kQAAAAADA8uZA",
          "dtype": "f8"
         },
         "yaxis": "y"
        },
        {
         "customdata": {
          "bdata": "AAAAAACcn0AAAAAAAJyfQAAAAAAAlJ9A",
          "dtype": "f8",
          "shape": "3, 1"
         },
         "hovertemplate": "Model=Mercedes-Benz C-Class Sedan<br>Mileage=%{x}<br>Price=%{y}<br>Year=%{customdata[0]}<extra></extra>",
         "legendgroup": "Mercedes-Benz C-Class Sedan",
         "marker": {
          "color": "#636efa",
          "symbol": "circle"
         },
         "mode": "markers",
         "name": "Mercedes-Benz C-Class Sedan",
         "showlegend": true,
         "type": "scattergl",
         "x": {
          "bdata": "AAAAAADEw0AAAAAAAJO9QAAAAACgLOBA",
          "dtype": "f8"
         },
         "xaxis": "x",
         "y": {
          "bdata": "AAAAAGDk5EAAAAAAAE/mQAAAAADAk+BA",
          "dtype": "f8"
         },
         "yaxis": "y"
        },
        {
         "customdata": {
          "bdata": "AAAAAACUn0AAAAAAAIyfQA==",
          "dtype": "f8",
          "shape": "2, 1"
         },
         "hovertemplate": "Model=Mercedes-Benz E-Class <br>Mileage=%{x}<br>Price=%{y}<br>Year=%{customdata[0]}<extra></extra>",
         "legendgroup": "Mercedes-Benz E-Class ",
         "marker": {
          "color": "#EF553B",
          "symbol": "circle"
         },
         "mode": "markers",
         "name": "Mercedes-Benz E-Class ",
         "showlegend": true,
         "type": "scattergl",
         "x": {
          "bdata": "AAAAAMB01EAAAAAAAK3hQA==",
          "dtype": "f8"
         },
         "xaxis": "x",
         "y": {
          "bdata": "AAAAAKDL5kAAAAAAwIriQA==",
          "dtype": "f8"
         },
         "yaxis": "y"
        },
        {
         "customdata": {
          "bdata": "AAAAAACcn0A=",
          "dtype": "f8",
          "shape": "1, 1"
         },
         "hovertemplate": "Model=Mercedes-Benz EQS 450 <br>Mileage=%{x}<br>Price=%{y}<br>Year=%{customdata[0]}<extra></extra>",
         "legendgroup": "Mercedes-Benz EQS 450 ",
         "marker": {
          "color": "#00cc96",
          "symbol": "circle"
         },
         "mode": "markers",
         "name": "Mercedes-Benz EQS 450 ",
         "showlegend": true,
         "type": "scattergl",
         "x": {
          "bdata": "AAAAAABvuEA=",
          "dtype": "f8"
         },
         "xaxis": "x",
         "y": {
          "bdata": "AAAAAOCA9EA=",
          "dtype": "f8"
         },
         "yaxis": "y"
        },
        {
         "customdata": {
          "bdata": "AAAAAACMn0AAAAAAAIyfQA==",
          "dtype": "f8",
          "shape": "2, 1"
         },
         "hovertemplate": "Model=Mercedes-Benz AMG CLS 53 S-Model 4MATIC<br>Mileage=%{x}<br>Price=%{y}<br>Year=%{customdata[0]}<extra></extra>",
         "legendgroup": "Mercedes-Benz AMG CLS 53 S-Model 4MATIC",
         "marker": {
          "color": "#ab63fa",
          "symbol": "circle"
         },
         "mode": "markers",
         "name": "Mercedes-Benz AMG CLS 53 S-Model 4MATIC",
         "showlegend": true,
         "type": "scattergl",
         "x": {
          "bdata": "AAAAAMDN6UAAAAAAAN/hQA==",
          "dtype": "f8"
         },
         "xaxis": "x",
         "y": {
          "bdata": "AAAAAGAq6EAAAAAA4FbrQA==",
          "dtype": "f8"
         },
         "yaxis": "y"
        },
        {
         "customdata": {
          "bdata": "AAAAAACAn0A=",
          "dtype": "f8",
          "shape": "1, 1"
         },
         "hovertemplate": "Model=Mercedes-Benz AMG GLE AMG GLE 63 S Coupe 4MATIC<br>Mileage=%{x}<br>Price=%{y}<br>Year=%{customdata[0]}<extra></extra>",
         "legendgroup": "Mercedes-Benz AMG GLE AMG GLE 63 S Coupe 4MATIC",
         "marker": {
          "color": "#FFA15A",
          "symbol": "circle"
         },
         "mode": "markers",
         "name": "Mercedes-Benz AMG GLE AMG GLE 63 S Coupe 4MATIC",
         "showlegend": true,
         "type": "scattergl",
         "x": {
          "bdata": "AAAAAGDA8UA=",
          "dtype": "f8"
         },
         "xaxis": "x",
         "y": {
          "bdata": "AAAAAKBN5kA=",
          "dtype": "f8"
         },
         "yaxis": "y"
        },
        {
         "customdata": {
          "bdata": "AAAAAACcn0A=",
          "dtype": "f8",
          "shape": "1, 1"
         },
         "hovertemplate": "Model=Mercedes-Benz Sprinter 2500 M2CV4G<br>Mileage=%{x}<br>Price=%{y}<br>Year=%{customdata[0]}<extra></extra>",
         "legendgroup": "Mercedes-Benz Sprinter 2500 M2CV4G",
         "marker": {
          "color": "#19d3f3",
          "symbol": "circle"
         },
         "mode": "markers",
         "name": "Mercedes-Benz Sprinter 2500 M2CV4G",
         "showlegend": true,
         "type": "scattergl",
         "x": {
          "bdata": "AAAAAADAWUA=",
          "dtype": "f8"
         },
         "xaxis": "x",
         "y": {
          "bdata": "AAAAAADt50A=",
          "dtype": "f8"
         },
         "yaxis": "y"
        },
        {
         "customdata": {
          "bdata": "AAAAAACUn0A=",
          "dtype": "f8",
          "shape": "1, 1"
         },
         "hovertemplate": "Model=Mercedes-Benz AMG GLA 35 4MATIC<br>Mileage=%{x}<br>Price=%{y}<br>Year=%{customdata[0]}<extra></extra>",
         "legendgroup": "Mercedes-Benz AMG GLA 35 4MATIC",
         "marker": {
          "color": "#FF6692",
          "symbol": "circle"
         },
         "mode": "markers",
         "name": "Mercedes-Benz AMG GLA 35 4MATIC",
         "showlegend": true,
         "type": "scattergl",
         "x": {
          "bdata": "AAAAAAAFy0A=",
          "dtype": "f8"
         },
         "xaxis": "x",
         "y": {
          "bdata": "AAAAAODY4kA=",
          "dtype": "f8"
         },
         "yaxis": "y"
        },
        {
         "customdata": {
          "bdata": "AAAAAACQn0A=",
          "dtype": "f8",
          "shape": "1, 1"
         },
         "hovertemplate": "Model=Mercedes-Benz AMG GT 53 <br>Mileage=%{x}<br>Price=%{y}<br>Year=%{customdata[0]}<extra></extra>",
         "legendgroup": "Mercedes-Benz AMG GT 53 ",
         "marker": {
          "color": "#B6E880",
          "symbol": "circle"
         },
         "mode": "markers",
         "name": "Mercedes-Benz AMG GT 53 ",
         "showlegend": true,
         "type": "scattergl",
         "x": {
          "bdata": "AAAAAEBy3EA=",
          "dtype": "f8"
         },
         "xaxis": "x",
         "y": {
          "bdata": "AAAAAIAK8UA=",
          "dtype": "f8"
         },
         "yaxis": "y"
        },
        {
         "customdata": {
          "bdata": "AAAAAACcn0AAAAAAAJyfQA==",
          "dtype": "f8",
          "shape": "2, 1"
         },
         "hovertemplate": "Model=Mercedes-Benz EQE 350 Base 4MATIC+<br>Mileage=%{x}<br>Price=%{y}<br>Year=%{customdata[0]}<extra></extra>",
         "legendgroup": "Mercedes-Benz EQE 350 Base 4MATIC+",
         "marker": {
          "color": "#FF97FF",
          "symbol": "circle"
         },
         "mode": "markers",
         "name": "Mercedes-Benz EQE 350 Base 4MATIC+",
         "showlegend": true,
         "type": "scattergl",
         "x": {
          "bdata": "AAAAAADVwkAAAAAAgA3JQA==",
          "dtype": "f8"
         },
         "xaxis": "x",
         "y": {
          "bdata": "AAAAAGBF7EAAAAAAYFPrQA==",
          "dtype": "f8"
         },
         "yaxis": "y"
        },
        {
         "customdata": {
          "bdata": "AAAAAACYn0A=",
          "dtype": "f8",
          "shape": "1, 1"
         },
         "hovertemplate": "Model=Mercedes-Benz S-Class <br>Mileage=%{x}<br>Price=%{y}<br>Year=%{customdata[0]}<extra></extra>",
         "legendgroup": "Mercedes-Benz S-Class ",
         "marker": {
          "color": "#FECB52",
          "symbol": "circle"
         },
         "mode": "markers",
         "name": "Mercedes-Benz S-Class ",
         "showlegend": true,
         "type": "scattergl",
         "x": {
          "bdata": "AAAAAMAl00A=",
          "dtype": "f8"
         },
         "xaxis": "x",
         "y": {
          "bdata": "AAAAAMA29kA=",
          "dtype": "f8"
         },
         "yaxis": "y"
        },
        {
         "customdata": {
          "bdata": "AAAAAACcn0A=",
          "dtype": "f8",
          "shape": "1, 1"
         },
         "hovertemplate": "Model=Mercedes-Benz AMG GLA 45 AMG GLA 45<br>Mileage=%{x}<br>Price=%{y}<br>Year=%{customdata[0]}<extra></extra>",
         "legendgroup": "Mercedes-Benz AMG GLA 45 AMG GLA 45",
         "marker": {
          "color": "#636efa",
          "symbol": "circle"
         },
         "mode": "markers",
         "name": "Mercedes-Benz AMG GLA 45 AMG GLA 45",
         "showlegend": true,
         "type": "scattergl",
         "x": {
          "bdata": "AAAAAACvxEA=",
          "dtype": "f8"
         },
         "xaxis": "x",
         "y": {
          "bdata": "AAAAAACa6kA=",
          "dtype": "f8"
         },
         "yaxis": "y"
        },
        {
         "customdata": {
          "bdata": "AAAAAACcn0AAAAAAAJyfQA==",
          "dtype": "f8",
          "shape": "2, 1"
         },
         "hovertemplate": "Model=Mercedes-Benz EQS 580 4MATIC<br>Mileage=%{x}<br>Price=%{y}<br>Year=%{customdata[0]}<extra></extra>",
         "legendgroup": "Mercedes-Benz EQS 580 4MATIC",
         "marker": {
          "color": "#EF553B",
          "symbol": "circle"
         },
         "mode": "markers",
         "name": "Mercedes-Benz EQS 580 4MATIC",
         "showlegend": true,
         "type": "scattergl",
         "x": {
          "bdata": "AAAAAADWv0AAAAAAgKzJQA==",
          "dtype": "f8"
         },
         "xaxis": "x",
         "y": {
          "bdata": "AAAAAGCW+0AAAAAAgK73QA==",
          "dtype": "f8"
         },
         "yaxis": "y"
        },
        {
         "customdata": {
          "bdata": "AAAAAACcn0AAAAAAAJSfQAAAAAAAnJ9AAAAAAACcn0AAAAAAAJSfQA==",
          "dtype": "f8",
          "shape": "5, 1"
         },
         "hovertemplate": "Model=Mercedes-Benz GLA 250 <br>Mileage=%{x}<br>Price=%{y}<br>Year=%{customdata[0]}<extra></extra>",
         "legendgroup": "Mercedes-Benz GLA 250 ",
         "marker": {
          "color": "#00cc96",
          "symbol": "circle"
         },
         "mode": "markers",
         "name": "Mercedes-Benz GLA 250 ",
         "showlegend": true,
         "type": "scattergl",
         "x": {
          "bdata": "AAAAAIAHz0AAAAAAwP/lQAAAAAAAmIpAAAAAAABrxkAAAAAAgOjWQA==",
          "dtype": "f8"
         },
         "xaxis": "x",
         "y": {
          "bdata": "AAAAAEDY4kAAAAAAYBzgQAAAAAAg7eJAAAAAAIAE4kAAAAAAAMndQA==",
          "dtype": "f8"
         },
         "yaxis": "y"
        },
        {
         "customdata": {
          "bdata": "AAAAAACgn0AAAAAAAJyfQA==",
          "dtype": "f8",
          "shape": "2, 1"
         },
         "hovertemplate": "Model=Mercedes-Benz S-Class Base<br>Mileage=%{x}<br>Price=%{y}<br>Year=%{customdata[0]}<extra></extra>",
         "legendgroup": "Mercedes-Benz S-Class Base",
         "marker": {
          "color": "#ab63fa",
          "symbol": "circle"
         },
         "mode": "markers",
         "name": "Mercedes-Benz S-Class Base",
         "showlegend": true,
         "type": "scattergl",
         "x": {
          "bdata": "AAAAAADKokAAAAAAAHC1QA==",
          "dtype": "f8"
         },
         "xaxis": "x",
         "y": {
          "bdata": "AAAAAHC8/0AAAAAAwLb/QA==",
          "dtype": "f8"
         },
         "yaxis": "y"
        },
        {
         "customdata": {
          "bdata": "AAAAAAB8n0A=",
          "dtype": "f8",
          "shape": "1, 1"
         },
         "hovertemplate": "Model=Mercedes-Benz G-Class G 550<br>Mileage=%{x}<br>Price=%{y}<br>Year=%{customdata[0]}<extra></extra>",
         "legendgroup": "Mercedes-Benz G-Class G 550",
         "marker": {
          "color": "#FFA15A",
          "symbol": "circle"
         },
         "mode": "markers",
         "name": "Mercedes-Benz G-Class G 550",
         "showlegend": true,
         "type": "scattergl",
         "x": {
          "bdata": "AAAAAJCo9EA=",
          "dtype": "f8"
         },
         "xaxis": "x",
         "y": {
          "bdata": "AAAAAIBL60A=",
          "dtype": "f8"
         },
         "yaxis": "y"
        },
        {
         "customdata": {
          "bdata": "AAAAAACcn0A=",
          "dtype": "f8",
          "shape": "1, 1"
         },
         "hovertemplate": "Model=Mercedes-Benz GLA 250 4MATIC<br>Mileage=%{x}<br>Price=%{y}<br>Year=%{customdata[0]}<extra></extra>",
         "legendgroup": "Mercedes-Benz GLA 250 4MATIC",
         "marker": {
          "color": "#19d3f3",
          "symbol": "circle"
         },
         "mode": "markers",
         "name": "Mercedes-Benz GLA 250 4MATIC",
         "showlegend": true,
         "type": "scattergl",
         "x": {
          "bdata": "AAAAAACVu0A=",
          "dtype": "f8"
         },
         "xaxis": "x",
         "y": {
          "bdata": "AAAAAABH40A=",
          "dtype": "f8"
         },
         "yaxis": "y"
        },
        {
         "customdata": {
          "bdata": "AAAAAACYn0A=",
          "dtype": "f8",
          "shape": "1, 1"
         },
         "hovertemplate": "Model=Mercedes-Benz AMG GT 43 C<br>Mileage=%{x}<br>Price=%{y}<br>Year=%{customdata[0]}<extra></extra>",
         "legendgroup": "Mercedes-Benz AMG GT 43 C",
         "marker": {
          "color": "#FF6692",
          "symbol": "circle"
         },
         "mode": "markers",
         "name": "Mercedes-Benz AMG GT 43 C",
         "showlegend": true,
         "type": "scattergl",
         "x": {
          "bdata": "AAAAAIAjzEA=",
          "dtype": "f8"
         },
         "xaxis": "x",
         "y": {
          "bdata": "AAAAAHAK80A=",
          "dtype": "f8"
         },
         "yaxis": "y"
        },
        {
         "customdata": {
          "bdata": "AAAAAACUn0A=",
          "dtype": "f8",
          "shape": "1, 1"
         },
         "hovertemplate": "Model=Mercedes-Benz AMG GT 63 <br>Mileage=%{x}<br>Price=%{y}<br>Year=%{customdata[0]}<extra></extra>",
         "legendgroup": "Mercedes-Benz AMG GT 63 ",
         "marker": {
          "color": "#B6E880",
          "symbol": "circle"
         },
         "mode": "markers",
         "name": "Mercedes-Benz AMG GT 63 ",
         "showlegend": true,
         "type": "scattergl",
         "x": {
          "bdata": "AAAAAADwzUA=",
          "dtype": "f8"
         },
         "xaxis": "x",
         "y": {
          "bdata": "AAAAALDa+kA=",
          "dtype": "f8"
         },
         "yaxis": "y"
        },
        {
         "customdata": {
          "bdata": "AAAAAACYn0A=",
          "dtype": "f8",
          "shape": "1, 1"
         },
         "hovertemplate": "Model=Mercedes-Benz GLE 450 Base 4MATIC<br>Mileage=%{x}<br>Price=%{y}<br>Year=%{customdata[0]}<extra></extra>",
         "legendgroup": "Mercedes-Benz GLE 450 Base 4MATIC",
         "marker": {
          "color": "#FF97FF",
          "symbol": "circle"
         },
         "mode": "markers",
         "name": "Mercedes-Benz GLE 450 Base 4MATIC",
         "showlegend": true,
         "type": "scattergl",
         "x": {
          "bdata": "AAAAAMB64UA=",
          "dtype": "f8"
         },
         "xaxis": "x",
         "y": {
          "bdata": "AAAAANCZ8EA=",
          "dtype": "f8"
         },
         "yaxis": "y"
        },
        {
         "customdata": {
          "bdata": "AAAAAACQn0A=",
          "dtype": "f8",
          "shape": "1, 1"
         },
         "hovertemplate": "Model=Mercedes-Benz S-Class S 450 4MATIC<br>Mileage=%{x}<br>Price=%{y}<br>Year=%{customdata[0]}<extra></extra>",
         "legendgroup": "Mercedes-Benz S-Class S 450 4MATIC",
         "marker": {
          "color": "#FECB52",
          "symbol": "circle"
         },
         "mode": "markers",
         "name": "Mercedes-Benz S-Class S 450 4MATIC",
         "showlegend": true,
         "type": "scattergl",
         "x": {
          "bdata": "AAAAACDa4kA=",
          "dtype": "f8"
         },
         "xaxis": "x",
         "y": {
          "bdata": "AAAAAEDV6kA=",
          "dtype": "f8"
         },
         "yaxis": "y"
        },
        {
         "customdata": {
          "bdata": "AAAAAACYn0A=",
          "dtype": "f8",
          "shape": "1, 1"
         },
         "hovertemplate": "Model=Mercedes-Benz S-Class S 580<br>Mileage=%{x}<br>Price=%{y}<br>Year=%{customdata[0]}<extra></extra>",
         "legendgroup": "Mercedes-Benz S-Class S 580",
         "marker": {
          "color": "#636efa",
          "symbol": "circle"
         },
         "mode": "markers",
         "name": "Mercedes-Benz S-Class S 580",
         "showlegend": true,
         "type": "scattergl",
         "x": {
          "bdata": "AAAAAMBf1UA=",
          "dtype": "f8"
         },
         "xaxis": "x",
         "y": {
          "bdata": "AAAAAHAw90A=",
          "dtype": "f8"
         },
         "yaxis": "y"
        },
        {
         "customdata": {
          "bdata": "AAAAAACgn0AAAAAAAJCfQAAAAAAAmJ9A",
          "dtype": "f8",
          "shape": "3, 1"
         },
         "hovertemplate": "Model=Mercedes-Benz GLE 450 <br>Mileage=%{x}<br>Price=%{y}<br>Year=%{customdata[0]}<extra></extra>",
         "legendgroup": "Mercedes-Benz GLE 450 ",
         "marker": {
          "color": "#EF553B",
          "symbol": "circle"
         },
         "mode": "markers",
         "name": "Mercedes-Benz GLE 450 ",
         "showlegend": true,
         "type": "scattergl",
         "x": {
          "bdata": "AAAAAAAQo0AAAAAAACjnQAAAAACA2dJA",
          "dtype": "f8"
         },
         "xaxis": "x",
         "y": {
          "bdata": "AAAAAKCZ8EAAAAAAwF/nQAAAAABgS+1A",
          "dtype": "f8"
         },
         "yaxis": "y"
        },
        {
         "customdata": {
          "bdata": "AAAAAACQn0A=",
          "dtype": "f8",
          "shape": "1, 1"
         },
         "hovertemplate": "Model=Mercedes-Benz GLE 450 AWD 4MATIC<br>Mileage=%{x}<br>Price=%{y}<br>Year=%{customdata[0]}<extra></extra>",
         "legendgroup": "Mercedes-Benz GLE 450 AWD 4MATIC",
         "marker": {
          "color": "#00cc96",
          "symbol": "circle"
         },
         "mode": "markers",
         "name": "Mercedes-Benz GLE 450 AWD 4MATIC",
         "showlegend": true,
         "type": "scattergl",
         "x": {
          "bdata": "AAAAACBZ6EA=",
          "dtype": "f8"
         },
         "xaxis": "x",
         "y": {
          "bdata": "AAAAAABw50A=",
          "dtype": "f8"
         },
         "yaxis": "y"
        },
        {
         "customdata": {
          "bdata": "AAAAAACUn0A=",
          "dtype": "f8",
          "shape": "1, 1"
         },
         "hovertemplate": "Model=Mercedes-Benz AMG CLA 35 <br>Mileage=%{x}<br>Price=%{y}<br>Year=%{customdata[0]}<extra></extra>",
         "legendgroup": "Mercedes-Benz AMG CLA 35 ",
         "marker": {
          "color": "#ab63fa",
          "symbol": "circle"
         },
         "mode": "markers",
         "name": "Mercedes-Benz AMG CLA 35 ",
         "showlegend": true,
         "type": "scattergl",
         "x": {
          "bdata": "AAAAAOAj4kA=",
          "dtype": "f8"
         },
         "xaxis": "x",
         "y": {
          "bdata": "AAAAAGAK40A=",
          "dtype": "f8"
         },
         "yaxis": "y"
        },
        {
         "customdata": {
          "bdata": "AAAAAACYn0AAAAAAAJyfQA==",
          "dtype": "f8",
          "shape": "2, 1"
         },
         "hovertemplate": "Model=Mercedes-Benz S-Class S 500<br>Mileage=%{x}<br>Price=%{y}<br>Year=%{customdata[0]}<extra></extra>",
         "legendgroup": "Mercedes-Benz S-Class S 500",
         "marker": {
          "color": "#FFA15A",
          "symbol": "circle"
         },
         "mode": "markers",
         "name": "Mercedes-Benz S-Class S 500",
         "showlegend": true,
         "type": "scattergl",
         "x": {
          "bdata": "AAAAAICH2EAAAAAAAGXGQA==",
          "dtype": "f8"
         },
         "xaxis": "x",
         "y": {
          "bdata": "AAAAACB79EAAAAAAUOv3QA==",
          "dtype": "f8"
         },
         "yaxis": "y"
        },
        {
         "customdata": {
          "bdata": "AAAAAACcn0A=",
          "dtype": "f8",
          "shape": "1, 1"
         },
         "hovertemplate": "Model=Mercedes-Benz Maybach S 680 4MATIC<br>Mileage=%{x}<br>Price=%{y}<br>Year=%{customdata[0]}<extra></extra>",
         "legendgroup": "Mercedes-Benz Maybach S 680 4MATIC",
         "marker": {
          "color": "#19d3f3",
          "symbol": "circle"
         },
         "mode": "markers",
         "name": "Mercedes-Benz Maybach S 680 4MATIC",
         "showlegend": true,
         "type": "scattergl",
         "x": {
          "bdata": "AAAAAADgckA=",
          "dtype": "f8"
         },
         "xaxis": "x",
         "y": {
          "bdata": "AAAAAEBHCEE=",
          "dtype": "f8"
         },
         "yaxis": "y"
        },
        {
         "customdata": {
          "bdata": "AAAAAACcn0AAAAAAAJyfQA==",
          "dtype": "f8",
          "shape": "2, 1"
         },
         "hovertemplate": "Model=Mercedes-Benz EQB 300 <br>Mileage=%{x}<br>Price=%{y}<br>Year=%{customdata[0]}<extra></extra>",
         "legendgroup": "Mercedes-Benz EQB 300 ",
         "marker": {
          "color": "#FF6692",
          "symbol": "circle"
         },
         "mode": "markers",
         "name": "Mercedes-Benz EQB 300 ",
         "showlegend": true,
         "type": "scattergl",
         "x": {
          "bdata": "AAAAAADQfEAAAAAAAHCXQA==",
          "dtype": "f8"
         },
         "xaxis": "x",
         "y": {
          "bdata": "AAAAAGAl6UAAAAAAwAvqQA==",
          "dtype": "f8"
         },
         "yaxis": "y"
        },
        {
         "customdata": {
          "bdata": "AAAAAACcn0A=",
          "dtype": "f8",
          "shape": "1, 1"
         },
         "hovertemplate": "Model=Mercedes-Benz AMG GLE 53 AMG GLE 53<br>Mileage=%{x}<br>Price=%{y}<br>Year=%{customdata[0]}<extra></extra>",
         "legendgroup": "Mercedes-Benz AMG GLE 53 AMG GLE 53",
         "marker": {
          "color": "#B6E880",
          "symbol": "circle"
         },
         "mode": "markers",
         "name": "Mercedes-Benz AMG GLE 53 AMG GLE 53",
         "showlegend": true,
         "type": "scattergl",
         "x": {
          "bdata": "AAAAAIDf5EA=",
          "dtype": "f8"
         },
         "xaxis": "x",
         "y": {
          "bdata": "AAAAALCT8UA=",
          "dtype": "f8"
         },
         "yaxis": "y"
        },
        {
         "customdata": {
          "bdata": "AAAAAACQn0A=",
          "dtype": "f8",
          "shape": "1, 1"
         },
         "hovertemplate": "Model=Mercedes-Benz AMG GLC 43 4MATIC<br>Mileage=%{x}<br>Price=%{y}<br>Year=%{customdata[0]}<extra></extra>",
         "legendgroup": "Mercedes-Benz AMG GLC 43 4MATIC",
         "marker": {
          "color": "#FF97FF",
          "symbol": "circle"
         },
         "mode": "markers",
         "name": "Mercedes-Benz AMG GLC 43 4MATIC",
         "showlegend": true,
         "type": "scattergl",
         "x": {
          "bdata": "AAAAAAAvxkA=",
          "dtype": "f8"
         },
         "xaxis": "x",
         "y": {
          "bdata": "AAAAAKDy5kA=",
          "dtype": "f8"
         },
         "yaxis": "y"
        },
        {
         "customdata": {
          "bdata": "AAAAAACAn0A=",
          "dtype": "f8",
          "shape": "1, 1"
         },
         "hovertemplate": "Model=Mercedes-Benz CLS-Class CLS 550<br>Mileage=%{x}<br>Price=%{y}<br>Year=%{customdata[0]}<extra></extra>",
         "legendgroup": "Mercedes-Benz CLS-Class CLS 550",
         "marker": {
          "color": "#FECB52",
          "symbol": "circle"
         },
         "mode": "markers",
         "name": "Mercedes-Benz CLS-Class CLS 550",
         "showlegend": true,
         "type": "scattergl",
         "x": {
          "bdata": "AAAAAKD57kA=",
          "dtype": "f8"
         },
         "xaxis": "x",
         "y": {
          "bdata": "AAAAAIBj2UA=",
          "dtype": "f8"
         },
         "yaxis": "y"
        },
        {
         "customdata": {
          "bdata": "AAAAAACcn0AAAAAAAJyfQAAAAAAAkJ9A",
          "dtype": "f8",
          "shape": "3, 1"
         },
         "hovertemplate": "Model=Mercedes-Benz AMG G 63 <br>Mileage=%{x}<br>Price=%{y}<br>Year=%{customdata[0]}<extra></extra>",
         "legendgroup": "Mercedes-Benz AMG G 63 ",
         "marker": {
          "color": "#636efa",
          "symbol": "circle"
         },
         "mode": "markers",
         "name": "Mercedes-Benz AMG G 63 ",
         "showlegend": true,
         "type": "scattergl",
         "x": {
          "bdata": "AAAAAACmuUAAAAAAAGfEQAAAAAAAcsdA",
          "dtype": "f8"
         },
         "xaxis": "x",
         "y": {
          "bdata": "AAAAANCtCkEAAAAAUJwKQQAAAACgDgVB",
          "dtype": "f8"
         },
         "yaxis": "y"
        },
        {
         "customdata": {
          "bdata": "AAAAAACIn0A=",
          "dtype": "f8",
          "shape": "1, 1"
         },
         "hovertemplate": "Model=Mercedes-Benz E-Class E 400<br>Mileage=%{x}<br>Price=%{y}<br>Year=%{customdata[0]}<extra></extra>",
         "legendgroup": "Mercedes-Benz E-Class E 400",
         "marker": {
          "color": "#EF553B",
          "symbol": "circle"
         },
         "mode": "markers",
         "name": "Mercedes-Benz E-Class E 400",
         "showlegend": true,
         "type": "scattergl",
         "x": {
          "bdata": "AAAAALBE8kA=",
          "dtype": "f8"
         },
         "xaxis": "x",
         "y": {
          "bdata": "AAAAAIBj2UA=",
          "dtype": "f8"
         },
         "yaxis": "y"
        },
        {
         "customdata": {
          "bdata": "AAAAAACUn0A=",
          "dtype": "f8",
          "shape": "1, 1"
         },
         "hovertemplate": "Model=Mercedes-Benz AMG GLE 63 S Coupe 4MATIC<br>Mileage=%{x}<br>Price=%{y}<br>Year=%{customdata[0]}<extra></extra>",
         "legendgroup": "Mercedes-Benz AMG GLE 63 S Coupe 4MATIC",
         "marker": {
          "color": "#00cc96",
          "symbol": "circle"
         },
         "mode": "markers",
         "name": "Mercedes-Benz AMG GLE 63 S Coupe 4MATIC",
         "showlegend": true,
         "type": "scattergl",
         "x": {
          "bdata": "AAAAAGBX4EA=",
          "dtype": "f8"
         },
         "xaxis": "x",
         "y": {
          "bdata": "AAAAANC/80A=",
          "dtype": "f8"
         },
         "yaxis": "y"
        },
        {
         "customdata": {
          "bdata": "AAAAAACEn0A=",
          "dtype": "f8",
          "shape": "1, 1"
         },
         "hovertemplate": "Model=Mercedes-Benz E-Class E 300 Sport<br>Mileage=%{x}<br>Price=%{y}<br>Year=%{customdata[0]}<extra></extra>",
         "legendgroup": "Mercedes-Benz E-Class E 300 Sport",
         "marker": {
          "color": "#ab63fa",
          "symbol": "circle"
         },
         "mode": "markers",
         "name": "Mercedes-Benz E-Class E 300 Sport",
         "showlegend": true,
         "type": "scattergl",
         "x": {
          "bdata": "AAAAACBz6kA=",
          "dtype": "f8"
         },
         "xaxis": "x",
         "y": {
          "bdata": "AAAAAMBp2EA=",
          "dtype": "f8"
         },
         "yaxis": "y"
        },
        {
         "customdata": {
          "bdata": "AAAAAACYn0A=",
          "dtype": "f8",
          "shape": "1, 1"
         },
         "hovertemplate": "Model=Mercedes-Benz AMG GLE 63 S-model<br>Mileage=%{x}<br>Price=%{y}<br>Year=%{customdata[0]}<extra></extra>",
         "legendgroup": "Mercedes-Benz AMG GLE 63 S-model",
         "marker": {
          "color": "#FFA15A",
          "symbol": "circle"
         },
         "mode": "markers",
         "name": "Mercedes-Benz AMG GLE 63 S-model",
         "showlegend": true,
         "type": "scattergl",
         "x": {
          "bdata": "AAAAAADbvkA=",
          "dtype": "f8"
         },
         "xaxis": "x",
         "y": {
          "bdata": "AAAAAED0+0A=",
          "dtype": "f8"
         },
         "yaxis": "y"
        },
        {
         "customdata": {
          "bdata": "AAAAAACcn0A=",
          "dtype": "f8",
          "shape": "1, 1"
         },
         "hovertemplate": "Model=Mercedes-Benz CLA 250 CLA 250<br>Mileage=%{x}<br>Price=%{y}<br>Year=%{customdata[0]}<extra></extra>",
         "legendgroup": "Mercedes-Benz CLA 250 CLA 250",
         "marker": {
          "color": "#19d3f3",
          "symbol": "circle"
         },
         "mode": "markers",
         "name": "Mercedes-Benz CLA 250 CLA 250",
         "showlegend": true,
         "type": "scattergl",
         "x": {
          "bdata": "AAAAAICUykA=",
          "dtype": "f8"
         },
         "xaxis": "x",
         "y": {
          "bdata": "AAAAAEBu5UA=",
          "dtype": "f8"
         },
         "yaxis": "y"
        },
        {
         "customdata": {
          "bdata": "AAAAAACEn0A=",
          "dtype": "f8",
          "shape": "1, 1"
         },
         "hovertemplate": "Model=Mercedes-Benz S-Class S 550<br>Mileage=%{x}<br>Price=%{y}<br>Year=%{customdata[0]}<extra></extra>",
         "legendgroup": "Mercedes-Benz S-Class S 550",
         "marker": {
          "color": "#FF6692",
          "symbol": "circle"
         },
         "mode": "markers",
         "name": "Mercedes-Benz S-Class S 550",
         "showlegend": true,
         "type": "scattergl",
         "x": {
          "bdata": "AAAAAPCV8kA=",
          "dtype": "f8"
         },
         "xaxis": "x",
         "y": {
          "bdata": "AAAAAMCT4UA=",
          "dtype": "f8"
         },
         "yaxis": "y"
        },
        {
         "customdata": {
          "bdata": "AAAAAACcn0AAAAAAAJifQA==",
          "dtype": "f8",
          "shape": "2, 1"
         },
         "hovertemplate": "Model=Mercedes-Benz AMG C 43 AMG C 43 4MATIC<br>Mileage=%{x}<br>Price=%{y}<br>Year=%{customdata[0]}<extra></extra>",
         "legendgroup": "Mercedes-Benz AMG C 43 AMG C 43 4MATIC",
         "marker": {
          "color": "#B6E880",
          "symbol": "circle"
         },
         "mode": "markers",
         "name": "Mercedes-Benz AMG C 43 AMG C 43 4MATIC",
         "showlegend": true,
         "type": "scattergl",
         "x": {
          "bdata": "AAAAAADaqUAAAAAAAEq4QA==",
          "dtype": "f8"
         },
         "xaxis": "x",
         "y": {
          "bdata": "AAAAAODC7EAAAAAAoEvrQA==",
          "dtype": "f8"
         },
         "yaxis": "y"
        },
        {
         "customdata": {
          "bdata": "AAAAAACEn0A=",
          "dtype": "f8",
          "shape": "1, 1"
         },
         "hovertemplate": "Model=Mercedes-Benz E-Class E 300 Luxury<br>Mileage=%{x}<br>Price=%{y}<br>Year=%{customdata[0]}<extra></extra>",
         "legendgroup": "Mercedes-Benz E-Class E 300 Luxury",
         "marker": {
          "color": "#FF97FF",
          "symbol": "circle"
         },
         "mode": "markers",
         "name": "Mercedes-Benz E-Class E 300 Luxury",
         "showlegend": true,
         "type": "scattergl",
         "x": {
          "bdata": "AAAAAACh+EA=",
          "dtype": "f8"
         },
         "xaxis": "x",
         "y": {
          "bdata": "AAAAAMB/1EA=",
          "dtype": "f8"
         },
         "yaxis": "y"
        },
        {
         "customdata": {
          "bdata": "AAAAAACcn0A=",
          "dtype": "f8",
          "shape": "1, 1"
         },
         "hovertemplate": "Model=Mercedes-Benz EQE 350+ 350+ Sedan<br>Mileage=%{x}<br>Price=%{y}<br>Year=%{customdata[0]}<extra></extra>",
         "legendgroup": "Mercedes-Benz EQE 350+ 350+ Sedan",
         "marker": {
          "color": "#FECB52",
          "symbol": "circle"
         },
         "mode": "markers",
         "name": "Mercedes-Benz EQE 350+ 350+ Sedan",
         "showlegend": true,
         "type": "scattergl",
         "x": {
          "bdata": "AAAAAABwrEA=",
          "dtype": "f8"
         },
         "xaxis": "x",
         "y": {
          "bdata": "AAAAACBC6kA=",
          "dtype": "f8"
         },
         "yaxis": "y"
        },
        {
         "customdata": {
          "bdata": "AAAAAACUn0A=",
          "dtype": "f8",
          "shape": "1, 1"
         },
         "hovertemplate": "Model=Mercedes-Benz AMG A 35 <br>Mileage=%{x}<br>Price=%{y}<br>Year=%{customdata[0]}<extra></extra>",
         "legendgroup": "Mercedes-Benz AMG A 35 ",
         "marker": {
          "color": "#636efa",
          "symbol": "circle"
         },
         "mode": "markers",
         "name": "Mercedes-Benz AMG A 35 ",
         "showlegend": true,
         "type": "scattergl",
         "x": {
          "bdata": "AAAAAEAh2UA=",
          "dtype": "f8"
         },
         "xaxis": "x",
         "y": {
          "bdata": "AAAAAKCM4kA=",
          "dtype": "f8"
         },
         "yaxis": "y"
        },
        {
         "customdata": {
          "bdata": "AAAAAACUn0A=",
          "dtype": "f8",
          "shape": "1, 1"
         },
         "hovertemplate": "Model=Mercedes-Benz E-Class E 350 Sedan<br>Mileage=%{x}<br>Price=%{y}<br>Year=%{customdata[0]}<extra></extra>",
         "legendgroup": "Mercedes-Benz E-Class E 350 Sedan",
         "marker": {
          "color": "#EF553B",
          "symbol": "circle"
         },
         "mode": "markers",
         "name": "Mercedes-Benz E-Class E 350 Sedan",
         "showlegend": true,
         "type": "scattergl",
         "x": {
          "bdata": "AAAAAAAg1UA=",
          "dtype": "f8"
         },
         "xaxis": "x",
         "y": {
          "bdata": "AAAAAOD95EA=",
          "dtype": "f8"
         },
         "yaxis": "y"
        },
        {
         "customdata": {
          "bdata": "AAAAAACcn0A=",
          "dtype": "f8",
          "shape": "1, 1"
         },
         "hovertemplate": "Model=Mercedes-Benz GLC 300 4MATIC<br>Mileage=%{x}<br>Price=%{y}<br>Year=%{customdata[0]}<extra></extra>",
         "legendgroup": "Mercedes-Benz GLC 300 4MATIC",
         "marker": {
          "color": "#00cc96",
          "symbol": "circle"
         },
         "mode": "markers",
         "name": "Mercedes-Benz GLC 300 4MATIC",
         "showlegend": true,
         "type": "scattergl",
         "x": {
          "bdata": "AAAAAIC4w0A=",
          "dtype": "f8"
         },
         "xaxis": "x",
         "y": {
          "bdata": "AAAAAAAp6EA=",
          "dtype": "f8"
         },
         "yaxis": "y"
        },
        {
         "customdata": {
          "bdata": "AAAAAACcn0A=",
          "dtype": "f8",
          "shape": "1, 1"
         },
         "hovertemplate": "Model=Mercedes-Benz EQS 450 4MATIC<br>Mileage=%{x}<br>Price=%{y}<br>Year=%{customdata[0]}<extra></extra>",
         "legendgroup": "Mercedes-Benz EQS 450 4MATIC",
         "marker": {
          "color": "#ab63fa",
          "symbol": "circle"
         },
         "mode": "markers",
         "name": "Mercedes-Benz EQS 450 4MATIC",
         "showlegend": true,
         "type": "scattergl",
         "x": {
          "bdata": "AAAAAMCj1EA=",
          "dtype": "f8"
         },
         "xaxis": "x",
         "y": {
          "bdata": "AAAAAMCH8kA=",
          "dtype": "f8"
         },
         "yaxis": "y"
        },
        {
         "customdata": {
          "bdata": "AAAAAACcn0A=",
          "dtype": "f8",
          "shape": "1, 1"
         },
         "hovertemplate": "Model=Mercedes-Benz Sprinter 2500 144 WB Standard Roof Passenger<br>Mileage=%{x}<br>Price=%{y}<br>Year=%{customdata[0]}<extra></extra>",
         "legendgroup": "Mercedes-Benz Sprinter 2500 144 WB Standard Roof Passenger",
         "marker": {
          "color": "#FFA15A",
          "symbol": "circle"
         },
         "mode": "markers",
         "name": "Mercedes-Benz Sprinter 2500 144 WB Standard Roof Passenger",
         "showlegend": true,
         "type": "scattergl",
         "x": {
          "bdata": "AAAAAACQkUA=",
          "dtype": "f8"
         },
         "xaxis": "x",
         "y": {
          "bdata": "AAAAAFD49UA=",
          "dtype": "f8"
         },
         "yaxis": "y"
        },
        {
         "customdata": {
          "bdata": "AAAAAACUn0A=",
          "dtype": "f8",
          "shape": "1, 1"
         },
         "hovertemplate": "Model=Mercedes-Benz A-Class <br>Mileage=%{x}<br>Price=%{y}<br>Year=%{customdata[0]}<extra></extra>",
         "legendgroup": "Mercedes-Benz A-Class ",
         "marker": {
          "color": "#19d3f3",
          "symbol": "circle"
         },
         "mode": "markers",
         "name": "Mercedes-Benz A-Class ",
         "showlegend": true,
         "type": "scattergl",
         "x": {
          "bdata": "AAAAAIBP2EA=",
          "dtype": "f8"
         },
         "xaxis": "x",
         "y": {
          "bdata": "AAAAAMA+30A=",
          "dtype": "f8"
         },
         "yaxis": "y"
        },
        {
         "customdata": {
          "bdata": "AAAAAACgn0A=",
          "dtype": "f8",
          "shape": "1, 1"
         },
         "hovertemplate": "Model=Mercedes-Benz AMG EQE 4MATIC<br>Mileage=%{x}<br>Price=%{y}<br>Year=%{customdata[0]}<extra></extra>",
         "legendgroup": "Mercedes-Benz AMG EQE 4MATIC",
         "marker": {
          "color": "#FF6692",
          "symbol": "circle"
         },
         "mode": "markers",
         "name": "Mercedes-Benz AMG EQE 4MATIC",
         "showlegend": true,
         "type": "scattergl",
         "x": {
          "bdata": "AAAAAADKp0A=",
          "dtype": "f8"
         },
         "xaxis": "x",
         "y": {
          "bdata": "AAAAAPCt9UA=",
          "dtype": "f8"
         },
         "yaxis": "y"
        },
        {
         "customdata": {
          "bdata": "AAAAAACcn0A=",
          "dtype": "f8",
          "shape": "1, 1"
         },
         "hovertemplate": "Model=Mercedes-Benz GLB 250 4MATIC<br>Mileage=%{x}<br>Price=%{y}<br>Year=%{customdata[0]}<extra></extra>",
         "legendgroup": "Mercedes-Benz GLB 250 4MATIC",
         "marker": {
          "color": "#B6E880",
          "symbol": "circle"
         },
         "mode": "markers",
         "name": "Mercedes-Benz GLB 250 4MATIC",
         "showlegend": true,
         "type": "scattergl",
         "x": {
          "bdata": "AAAAAAC4o0A=",
          "dtype": "f8"
         },
         "xaxis": "x",
         "y": {
          "bdata": "AAAAAMDN40A=",
          "dtype": "f8"
         },
         "yaxis": "y"
        },
        {
         "customdata": {
          "bdata": "AAAAAACYn0A=",
          "dtype": "f8",
          "shape": "1, 1"
         },
         "hovertemplate": "Model=Mercedes-Benz AMG GT 53 C<br>Mileage=%{x}<br>Price=%{y}<br>Year=%{customdata[0]}<extra></extra>",
         "legendgroup": "Mercedes-Benz AMG GT 53 C",
         "marker": {
          "color": "#FF97FF",
          "symbol": "circle"
         },
         "mode": "markers",
         "name": "Mercedes-Benz AMG GT 53 C",
         "showlegend": true,
         "type": "scattergl",
         "x": {
          "bdata": "AAAAAICp10A=",
          "dtype": "f8"
         },
         "xaxis": "x",
         "y": {
          "bdata": "AAAAAPBi9UA=",
          "dtype": "f8"
         },
         "yaxis": "y"
        },
        {
         "customdata": {
          "bdata": "AAAAAACcn0A=",
          "dtype": "f8",
          "shape": "1, 1"
         },
         "hovertemplate": "Model=Mercedes-Benz AMG GLB 35 <br>Mileage=%{x}<br>Price=%{y}<br>Year=%{customdata[0]}<extra></extra>",
         "legendgroup": "Mercedes-Benz AMG GLB 35 ",
         "marker": {
          "color": "#FECB52",
          "symbol": "circle"
         },
         "mode": "markers",
         "name": "Mercedes-Benz AMG GLB 35 ",
         "showlegend": true,
         "type": "scattergl",
         "x": {
          "bdata": "AAAAAADskkA=",
          "dtype": "f8"
         },
         "xaxis": "x",
         "y": {
          "bdata": "AAAAAGBG6UA=",
          "dtype": "f8"
         },
         "yaxis": "y"
        }
       ],
       "layout": {
        "legend": {
         "title": {
          "text": "Model"
         },
         "tracegroupgap": 0
        },
        "template": {
         "data": {
          "bar": [
           {
            "error_x": {
             "color": "#2a3f5f"
            },
            "error_y": {
             "color": "#2a3f5f"
            },
            "marker": {
             "line": {
              "color": "#E5ECF6",
              "width": 0.5
             },
             "pattern": {
              "fillmode": "overlay",
              "size": 10,
              "solidity": 0.2
             }
            },
            "type": "bar"
           }
          ],
          "barpolar": [
           {
            "marker": {
             "line": {
              "color": "#E5ECF6",
              "width": 0.5
             },
             "pattern": {
              "fillmode": "overlay",
              "size": 10,
              "solidity": 0.2
             }
            },
            "type": "barpolar"
           }
          ],
          "carpet": [
           {
            "aaxis": {
             "endlinecolor": "#2a3f5f",
             "gridcolor": "white",
             "linecolor": "white",
             "minorgridcolor": "white",
             "startlinecolor": "#2a3f5f"
            },
            "baxis": {
             "endlinecolor": "#2a3f5f",
             "gridcolor": "white",
             "linecolor": "white",
             "minorgridcolor": "white",
             "startlinecolor": "#2a3f5f"
            },
            "type": "carpet"
           }
          ],
          "choropleth": [
           {
            "colorbar": {
             "outlinewidth": 0,
             "ticks": ""
            },
            "type": "choropleth"
           }
          ],
          "contour": [
           {
            "colorbar": {
             "outlinewidth": 0,
             "ticks": ""
            },
            "colorscale": [
             [
              0,
              "#0d0887"
             ],
             [
              0.1111111111111111,
              "#46039f"
             ],
             [
              0.2222222222222222,
              "#7201a8"
             ],
             [
              0.3333333333333333,
              "#9c179e"
             ],
             [
              0.4444444444444444,
              "#bd3786"
             ],
             [
              0.5555555555555556,
              "#d8576b"
             ],
             [
              0.6666666666666666,
              "#ed7953"
             ],
             [
              0.7777777777777778,
              "#fb9f3a"
             ],
             [
              0.8888888888888888,
              "#fdca26"
             ],
             [
              1,
              "#f0f921"
             ]
            ],
            "type": "contour"
           }
          ],
          "contourcarpet": [
           {
            "colorbar": {
             "outlinewidth": 0,
             "ticks": ""
            },
            "type": "contourcarpet"
           }
          ],
          "heatmap": [
           {
            "colorbar": {
             "outlinewidth": 0,
             "ticks": ""
            },
            "colorscale": [
             [
              0,
              "#0d0887"
             ],
             [
              0.1111111111111111,
              "#46039f"
             ],
             [
              0.2222222222222222,
              "#7201a8"
             ],
             [
              0.3333333333333333,
              "#9c179e"
             ],
             [
              0.4444444444444444,
              "#bd3786"
             ],
             [
              0.5555555555555556,
              "#d8576b"
             ],
             [
              0.6666666666666666,
              "#ed7953"
             ],
             [
              0.7777777777777778,
              "#fb9f3a"
             ],
             [
              0.8888888888888888,
              "#fdca26"
             ],
             [
              1,
              "#f0f921"
             ]
            ],
            "type": "heatmap"
           }
          ],
          "histogram": [
           {
            "marker": {
             "pattern": {
              "fillmode": "overlay",
              "size": 10,
              "solidity": 0.2
             }
            },
            "type": "histogram"
           }
          ],
          "histogram2d": [
           {
            "colorbar": {
             "outlinewidth": 0,
             "ticks": ""
            },
            "colorscale": [
             [
              0,
              "#0d0887"
             ],
             [
              0.1111111111111111,
              "#46039f"
             ],
             [
              0.2222222222222222,
              "#7201a8"
             ],
             [
              0.3333333333333333,
              "#9c179e"
             ],
             [
              0.4444444444444444,
              "#bd3786"
             ],
             [
              0.5555555555555556,
              "#d8576b"
             ],
             [
              0.6666666666666666,
              "#ed7953"
             ],
             [
              0.7777777777777778,
              "#fb9f3a"
             ],
             [
              0.8888888888888888,
              "#fdca26"
             ],
             [
              1,
              "#f0f921"
             ]
            ],
            "type": "histogram2d"
           }
          ],
          "histogram2dcontour": [
           {
            "colorbar": {
             "outlinewidth": 0,
             "ticks": ""
            },
            "colorscale": [
             [
              0,
              "#0d0887"
             ],
             [
              0.1111111111111111,
              "#46039f"
             ],
             [
              0.2222222222222222,
              "#7201a8"
             ],
             [
              0.3333333333333333,
              "#9c179e"
             ],
             [
              0.4444444444444444,
              "#bd3786"
             ],
             [
              0.5555555555555556,
              "#d8576b"
             ],
             [
              0.6666666666666666,
              "#ed7953"
             ],
             [
              0.7777777777777778,
              "#fb9f3a"
             ],
             [
              0.8888888888888888,
              "#fdca26"
             ],
             [
              1,
              "#f0f921"
             ]
            ],
            "type": "histogram2dcontour"
           }
          ],
          "mesh3d": [
           {
            "colorbar": {
             "outlinewidth": 0,
             "ticks": ""
            },
            "type": "mesh3d"
           }
          ],
          "parcoords": [
           {
            "line": {
             "colorbar": {
              "outlinewidth": 0,
              "ticks": ""
             }
            },
            "type": "parcoords"
           }
          ],
          "pie": [
           {
            "automargin": true,
            "type": "pie"
           }
          ],
          "scatter": [
           {
            "fillpattern": {
             "fillmode": "overlay",
             "size": 10,
             "solidity": 0.2
            },
            "type": "scatter"
           }
          ],
          "scatter3d": [
           {
            "line": {
             "colorbar": {
              "outlinewidth": 0,
              "ticks": ""
             }
            },
            "marker": {
             "colorbar": {
              "outlinewidth": 0,
              "ticks": ""
             }
            },
            "type": "scatter3d"
           }
          ],
          "scattercarpet": [
           {
            "marker": {
             "colorbar": {
              "outlinewidth": 0,
              "ticks": ""
             }
            },
            "type": "scattercarpet"
           }
          ],
          "scattergeo": [
           {
            "marker": {
             "colorbar": {
              "outlinewidth": 0,
              "ticks": ""
             }
            },
            "type": "scattergeo"
           }
          ],
          "scattergl": [
           {
            "marker": {
             "colorbar": {
              "outlinewidth": 0,
              "ticks": ""
             }
            },
            "type": "scattergl"
           }
          ],
          "scattermap": [
           {
            "marker": {
             "colorbar": {
              "outlinewidth": 0,
              "ticks": ""
             }
            },
            "type": "scattermap"
           }
          ],
          "scattermapbox": [
           {
            "marker": {
             "colorbar": {
              "outlinewidth": 0,
              "ticks": ""
             }
            },
            "type": "scattermapbox"
           }
          ],
          "scatterpolar": [
           {
            "marker": {
             "colorbar": {
              "outlinewidth": 0,
              "ticks": ""
             }
            },
            "type": "scatterpolar"
           }
          ],
          "scatterpolargl": [
           {
            "marker": {
             "colorbar": {
              "outlinewidth": 0,
              "ticks": ""
             }
            },
            "type": "scatterpolargl"
           }
          ],
          "scatterternary": [
           {
            "marker": {
             "colorbar": {
              "outlinewidth": 0,
              "ticks": ""
             }
            },
            "type": "scatterternary"
           }
          ],
          "surface": [
           {
            "colorbar": {
             "outlinewidth": 0,
             "ticks": ""
            },
            "colorscale": [
             [
              0,
              "#0d0887"
             ],
             [
              0.1111111111111111,
              "#46039f"
             ],
             [
              0.2222222222222222,
              "#7201a8"
             ],
             [
              0.3333333333333333,
              "#9c179e"
             ],
             [
              0.4444444444444444,
              "#bd3786"
             ],
             [
              0.5555555555555556,
              "#d8576b"
             ],
             [
              0.6666666666666666,
              "#ed7953"
             ],
             [
              0.7777777777777778,
              "#fb9f3a"
             ],
             [
              0.8888888888888888,
              "#fdca26"
             ],
             [
              1,
              "#f0f921"
             ]
            ],
            "type": "surface"
           }
          ],
          "table": [
           {
            "cells": {
             "fill": {
              "color": "#EBF0F8"
             },
             "line": {
              "color": "white"
             }
            },
            "header": {
             "fill": {
              "color": "#C8D4E3"
             },
             "line": {
              "color": "white"
             }
            },
            "type": "table"
           }
          ]
         },
         "layout": {
          "annotationdefaults": {
           "arrowcolor": "#2a3f5f",
           "arrowhead": 0,
           "arrowwidth": 1
          },
          "autotypenumbers": "strict",
          "coloraxis": {
           "colorbar": {
            "outlinewidth": 0,
            "ticks": ""
           }
          },
          "colorscale": {
           "diverging": [
            [
             0,
             "#8e0152"
            ],
            [
             0.1,
             "#c51b7d"
            ],
            [
             0.2,
             "#de77ae"
            ],
            [
             0.3,
             "#f1b6da"
            ],
            [
             0.4,
             "#fde0ef"
            ],
            [
             0.5,
             "#f7f7f7"
            ],
            [
             0.6,
             "#e6f5d0"
            ],
            [
             0.7,
             "#b8e186"
            ],
            [
             0.8,
             "#7fbc41"
            ],
            [
             0.9,
             "#4d9221"
            ],
            [
             1,
             "#276419"
            ]
           ],
           "sequential": [
            [
             0,
             "#0d0887"
            ],
            [
             0.1111111111111111,
             "#46039f"
            ],
            [
             0.2222222222222222,
             "#7201a8"
            ],
            [
             0.3333333333333333,
             "#9c179e"
            ],
            [
             0.4444444444444444,
             "#bd3786"
            ],
            [
             0.5555555555555556,
             "#d8576b"
            ],
            [
             0.6666666666666666,
             "#ed7953"
            ],
            [
             0.7777777777777778,
             "#fb9f3a"
            ],
            [
             0.8888888888888888,
             "#fdca26"
            ],
            [
             1,
             "#f0f921"
            ]
           ],
           "sequentialminus": [
            [
             0,
             "#0d0887"
            ],
            [
             0.1111111111111111,
             "#46039f"
            ],
            [
             0.2222222222222222,
             "#7201a8"
            ],
            [
             0.3333333333333333,
             "#9c179e"
            ],
            [
             0.4444444444444444,
             "#bd3786"
            ],
            [
             0.5555555555555556,
             "#d8576b"
            ],
            [
             0.6666666666666666,
             "#ed7953"
            ],
            [
             0.7777777777777778,
             "#fb9f3a"
            ],
            [
             0.8888888888888888,
             "#fdca26"
            ],
            [
             1,
             "#f0f921"
            ]
           ]
          },
          "colorway": [
           "#636efa",
           "#EF553B",
           "#00cc96",
           "#ab63fa",
           "#FFA15A",
           "#19d3f3",
           "#FF6692",
           "#B6E880",
           "#FF97FF",
           "#FECB52"
          ],
          "font": {
           "color": "#2a3f5f"
          },
          "geo": {
           "bgcolor": "white",
           "lakecolor": "white",
           "landcolor": "#E5ECF6",
           "showlakes": true,
           "showland": true,
           "subunitcolor": "white"
          },
          "hoverlabel": {
           "align": "left"
          },
          "hovermode": "closest",
          "mapbox": {
           "style": "light"
          },
          "paper_bgcolor": "white",
          "plot_bgcolor": "#E5ECF6",
          "polar": {
           "angularaxis": {
            "gridcolor": "white",
            "linecolor": "white",
            "ticks": ""
           },
           "bgcolor": "#E5ECF6",
           "radialaxis": {
            "gridcolor": "white",
            "linecolor": "white",
            "ticks": ""
           }
          },
          "scene": {
           "xaxis": {
            "backgroundcolor": "#E5ECF6",
            "gridcolor": "white",
            "gridwidth": 2,
            "linecolor": "white",
            "showbackground": true,
            "ticks": "",
            "zerolinecolor": "white"
           },
           "yaxis": {
            "backgroundcolor": "#E5ECF6",
            "gridcolor": "white",
            "gridwidth": 2,
            "linecolor": "white",
            "showbackground": true,
            "ticks": "",
            "zerolinecolor": "white"
           },
           "zaxis": {
            "backgroundcolor": "#E5ECF6",
            "gridcolor": "white",
            "gridwidth": 2,
            "linecolor": "white",
            "showbackground": true,
            "ticks": "",
            "zerolinecolor": "white"
           }
          },
          "shapedefaults": {
           "line": {
            "color": "#2a3f5f"
           }
          },
          "ternary": {
           "aaxis": {
            "gridcolor": "white",
            "linecolor": "white",
            "ticks": ""
           },
           "baxis": {
            "gridcolor": "white",
            "linecolor": "white",
            "ticks": ""
           },
           "bgcolor": "#E5ECF6",
           "caxis": {
            "gridcolor": "white",
            "linecolor": "white",
            "ticks": ""
           }
          },
          "title": {
           "x": 0.05
          },
          "xaxis": {
           "automargin": true,
           "gridcolor": "white",
           "linecolor": "white",
           "ticks": "",
           "title": {
            "standoff": 15
           },
           "zerolinecolor": "white",
           "zerolinewidth": 2
          },
          "yaxis": {
           "automargin": true,
           "gridcolor": "white",
           "linecolor": "white",
           "ticks": "",
           "title": {
            "standoff": 15
           },
           "zerolinecolor": "white",
           "zerolinewidth": 2
          }
         }
        },
        "title": {
         "text": "Mileage vs Price by Model"
        },
        "xaxis": {
         "anchor": "y",
         "domain": [
          0,
          1
         ],
         "title": {
          "text": "Mileage"
         }
        },
        "yaxis": {
         "anchor": "x",
         "domain": [
          0,
          1
         ],
         "title": {
          "text": "Price"
         }
        }
       }
      }
     },
     "metadata": {},
     "output_type": "display_data"
    }
   ],
   "source": [
    "# Scatter plot of Mileage vs Price\n",
    "fig = px.scatter(df, x='Mileage', y='Price', color='Model',\n",
    "                 title='Mileage vs Price by Model', hover_data=['Year'])\n",
    "fig.show()"
   ]
  },
  {
   "cell_type": "code",
   "execution_count": 36,
   "id": "4cfd15da",
   "metadata": {},
   "outputs": [
    {
     "data": {
      "image/png": "[encoded data removed]",
      "text/plain": [
       "<Figure size 600x400 with 2 Axes>"
      ]
     },
     "metadata": {},
     "output_type": "display_data"
    }
   ],
   "source": [
    "# Correlation heatmap\n",
    "plt.figure(figsize=(6, 4))\n",
    "sns.heatmap(df[['Mileage', 'Rating', 'Review Count', 'Price']].corr(), annot=True, cmap='coolwarm')\n",
    "plt.title('Correlation Matrix')\n",
    "plt.show()"
   ]
  },
  {
   "cell_type": "code",
   "execution_count": 37,
   "id": "d4d4e44f",
   "metadata": {},
   "outputs": [],
   "source": [
    "# Select features for the model\n",
    "features = ['Mileage','Year']\n",
    "df_model = df.dropna(subset=features + ['Price'])\n",
    "\n",
    "X = df_model[features]\n",
    "y = df_model['Price']\n",
    "\n",
    "# Train/test split\n",
    "X_train, X_test, y_train, y_test = train_test_split(X, y, test_size=0.2, random_state=42)"
   ]
  },
  {
   "cell_type": "code",
   "execution_count": 38,
   "id": "2b915f41",
   "metadata": {},
   "outputs": [
    {
     "data": {
      "text/html": [
       "<style>#sk-container-id-1 {\n",
       "  /* Definition of color scheme common for light and dark mode */\n",
       "  --sklearn-color-text: #000;\n",
       "  --sklearn-color-text-muted: #666;\n",
       "  --sklearn-color-line: gray;\n",
       "  /* Definition of color scheme for unfitted estimators */\n",
       "  --sklearn-color-unfitted-level-0: #fff5e6;\n",
       "  --sklearn-color-unfitted-level-1: #f6e4d2;\n",
       "  --sklearn-color-unfitted-level-2: #ffe0b3;\n",
       "  --sklearn-color-unfitted-level-3: chocolate;\n",
       "  /* Definition of color scheme for fitted estimators */\n",
       "  --sklearn-color-fitted-level-0: #f0f8ff;\n",
       "  --sklearn-color-fitted-level-1: #d4ebff;\n",
       "  --sklearn-color-fitted-level-2: #b3dbfd;\n",
       "  --sklearn-color-fitted-level-3: cornflowerblue;\n",
       "\n",
       "  /* Specific color for light theme */\n",
       "  --sklearn-color-text-on-default-background: var(--sg-text-color, var(--theme-code-foreground, var(--jp-content-font-color1, black)));\n",
       "  --sklearn-color-background: var(--sg-background-color, var(--theme-background, var(--jp-layout-color0, white)));\n",
       "  --sklearn-color-border-box: var(--sg-text-color, var(--theme-code-foreground, var(--jp-content-font-color1, black)));\n",
       "  --sklearn-color-icon: #696969;\n",
       "\n",
       "  @media (prefers-color-scheme: dark) {\n",
       "    /* Redefinition of color scheme for dark theme */\n",
       "    --sklearn-color-text-on-default-background: var(--sg-text-color, var(--theme-code-foreground, var(--jp-content-font-color1, white)));\n",
       "    --sklearn-color-background: var(--sg-background-color, var(--theme-background, var(--jp-layout-color0, #111)));\n",
       "    --sklearn-color-border-box: var(--sg-text-color, var(--theme-code-foreground, var(--jp-content-font-color1, white)));\n",
       "    --sklearn-color-icon: #878787;\n",
       "  }\n",
       "}\n",
       "\n",
       "#sk-container-id-1 {\n",
       "  color: var(--sklearn-color-text);\n",
       "}\n",
       "\n",
       "#sk-container-id-1 pre {\n",
       "  padding: 0;\n",
       "}\n",
       "\n",
       "#sk-container-id-1 input.sk-hidden--visually {\n",
       "  border: 0;\n",
       "  clip: rect(1px 1px 1px 1px);\n",
       "  clip: rect(1px, 1px, 1px, 1px);\n",
       "  height: 1px;\n",
       "  margin: -1px;\n",
       "  overflow: hidden;\n",
       "  padding: 0;\n",
       "  position: absolute;\n",
       "  width: 1px;\n",
       "}\n",
       "\n",
       "#sk-container-id-1 div.sk-dashed-wrapped {\n",
       "  border: 1px dashed var(--sklearn-color-line);\n",
       "  margin: 0 0.4em 0.5em 0.4em;\n",
       "  box-sizing: border-box;\n",
       "  padding-bottom: 0.4em;\n",
       "  background-color: var(--sklearn-color-background);\n",
       "}\n",
       "\n",
       "#sk-container-id-1 div.sk-container {\n",
       "  /* jupyter's `normalize.less` sets `[hidden] { display: none; }`\n",
       "     but bootstrap.min.css set `[hidden] { display: none !important; }`\n",
       "     so we also need the `!important` here to be able to override the\n",
       "     default hidden behavior on the sphinx rendered scikit-learn.org.\n",
       "     See: https://github.com/scikit-learn/scikit-learn/issues/21755 */\n",
       "  display: inline-block !important;\n",
       "  position: relative;\n",
       "}\n",
       "\n",
       "#sk-container-id-1 div.sk-text-repr-fallback {\n",
       "  display: none;\n",
       "}\n",
       "\n",
       "div.sk-parallel-item,\n",
       "div.sk-serial,\n",
       "div.sk-item {\n",
       "  /* draw centered vertical line to link estimators */\n",
       "  background-image: linear-gradient(var(--sklearn-color-text-on-default-background), var(--sklearn-color-text-on-default-background));\n",
       "  background-size: 2px 100%;\n",
       "  background-repeat: no-repeat;\n",
       "  background-position: center center;\n",
       "}\n",
       "\n",
       "/* Parallel-specific style estimator block */\n",
       "\n",
       "#sk-container-id-1 div.sk-parallel-item::after {\n",
       "  content: \"\";\n",
       "  width: 100%;\n",
       "  border-bottom: 2px solid var(--sklearn-color-text-on-default-background);\n",
       "  flex-grow: 1;\n",
       "}\n",
       "\n",
       "#sk-container-id-1 div.sk-parallel {\n",
       "  display: flex;\n",
       "  align-items: stretch;\n",
       "  justify-content: center;\n",
       "  background-color: var(--sklearn-color-background);\n",
       "  position: relative;\n",
       "}\n",
       "\n",
       "#sk-container-id-1 div.sk-parallel-item {\n",
       "  display: flex;\n",
       "  flex-direction: column;\n",
       "}\n",
       "\n",
       "#sk-container-id-1 div.sk-parallel-item:first-child::after {\n",
       "  align-self: flex-end;\n",
       "  width: 50%;\n",
       "}\n",
       "\n",
       "#sk-container-id-1 div.sk-parallel-item:last-child::after {\n",
       "  align-self: flex-start;\n",
       "  width: 50%;\n",
       "}\n",
       "\n",
       "#sk-container-id-1 div.sk-parallel-item:only-child::after {\n",
       "  width: 0;\n",
       "}\n",
       "\n",
       "/* Serial-specific style estimator block */\n",
       "\n",
       "#sk-container-id-1 div.sk-serial {\n",
       "  display: flex;\n",
       "  flex-direction: column;\n",
       "  align-items: center;\n",
       "  background-color: var(--sklearn-color-background);\n",
       "  padding-right: 1em;\n",
       "  padding-left: 1em;\n",
       "}\n",
       "\n",
       "\n",
       "/* Toggleable style: style used for estimator/Pipeline/ColumnTransformer box that is\n",
       "clickable and can be expanded/collapsed.\n",
       "- Pipeline and ColumnTransformer use this feature and define the default style\n",
       "- Estimators will overwrite some part of the style using the `sk-estimator` class\n",
       "*/\n",
       "\n",
       "/* Pipeline and ColumnTransformer style (default) */\n",
       "\n",
       "#sk-container-id-1 div.sk-toggleable {\n",
       "  /* Default theme specific background. It is overwritten whether we have a\n",
       "  specific estimator or a Pipeline/ColumnTransformer */\n",
       "  background-color: var(--sklearn-color-background);\n",
       "}\n",
       "\n",
       "/* Toggleable label */\n",
       "#sk-container-id-1 label.sk-toggleable__label {\n",
       "  cursor: pointer;\n",
       "  display: flex;\n",
       "  width: 100%;\n",
       "  margin-bottom: 0;\n",
       "  padding: 0.5em;\n",
       "  box-sizing: border-box;\n",
       "  text-align: center;\n",
       "  align-items: start;\n",
       "  justify-content: space-between;\n",
       "  gap: 0.5em;\n",
       "}\n",
       "\n",
       "#sk-container-id-1 label.sk-toggleable__label .caption {\n",
       "  font-size: 0.6rem;\n",
       "  font-weight: lighter;\n",
       "  color: var(--sklearn-color-text-muted);\n",
       "}\n",
       "\n",
       "#sk-container-id-1 label.sk-toggleable__label-arrow:before {\n",
       "  /* Arrow on the left of the label */\n",
       "  content: \"▸\";\n",
       "  float: left;\n",
       "  margin-right: 0.25em;\n",
       "  color: var(--sklearn-color-icon);\n",
       "}\n",
       "\n",
       "#sk-container-id-1 label.sk-toggleable__label-arrow:hover:before {\n",
       "  color: var(--sklearn-color-text);\n",
       "}\n",
       "\n",
       "/* Toggleable content - dropdown */\n",
       "\n",
       "#sk-container-id-1 div.sk-toggleable__content {\n",
       "  max-height: 0;\n",
       "  max-width: 0;\n",
       "  overflow: hidden;\n",
       "  text-align: left;\n",
       "  /* unfitted */\n",
       "  background-color: var(--sklearn-color-unfitted-level-0);\n",
       "}\n",
       "\n",
       "#sk-container-id-1 div.sk-toggleable__content.fitted {\n",
       "  /* fitted */\n",
       "  background-color: var(--sklearn-color-fitted-level-0);\n",
       "}\n",
       "\n",
       "#sk-container-id-1 div.sk-toggleable__content pre {\n",
       "  margin: 0.2em;\n",
       "  border-radius: 0.25em;\n",
       "  color: var(--sklearn-color-text);\n",
       "  /* unfitted */\n",
       "  background-color: var(--sklearn-color-unfitted-level-0);\n",
       "}\n",
       "\n",
       "#sk-container-id-1 div.sk-toggleable__content.fitted pre {\n",
       "  /* unfitted */\n",
       "  background-color: var(--sklearn-color-fitted-level-0);\n",
       "}\n",
       "\n",
       "#sk-container-id-1 input.sk-toggleable__control:checked~div.sk-toggleable__content {\n",
       "  /* Expand drop-down */\n",
       "  max-height: 200px;\n",
       "  max-width: 100%;\n",
       "  overflow: auto;\n",
       "}\n",
       "\n",
       "#sk-container-id-1 input.sk-toggleable__control:checked~label.sk-toggleable__label-arrow:before {\n",
       "  content: \"▾\";\n",
       "}\n",
       "\n",
       "/* Pipeline/ColumnTransformer-specific style */\n",
       "\n",
       "#sk-container-id-1 div.sk-label input.sk-toggleable__control:checked~label.sk-toggleable__label {\n",
       "  color: var(--sklearn-color-text);\n",
       "  background-color: var(--sklearn-color-unfitted-level-2);\n",
       "}\n",
       "\n",
       "#sk-container-id-1 div.sk-label.fitted input.sk-toggleable__control:checked~label.sk-toggleable__label {\n",
       "  background-color: var(--sklearn-color-fitted-level-2);\n",
       "}\n",
       "\n",
       "/* Estimator-specific style */\n",
       "\n",
       "/* Colorize estimator box */\n",
       "#sk-container-id-1 div.sk-estimator input.sk-toggleable__control:checked~label.sk-toggleable__label {\n",
       "  /* unfitted */\n",
       "  background-color: var(--sklearn-color-unfitted-level-2);\n",
       "}\n",
       "\n",
       "#sk-container-id-1 div.sk-estimator.fitted input.sk-toggleable__control:checked~label.sk-toggleable__label {\n",
       "  /* fitted */\n",
       "  background-color: var(--sklearn-color-fitted-level-2);\n",
       "}\n",
       "\n",
       "#sk-container-id-1 div.sk-label label.sk-toggleable__label,\n",
       "#sk-container-id-1 div.sk-label label {\n",
       "  /* The background is the default theme color */\n",
       "  color: var(--sklearn-color-text-on-default-background);\n",
       "}\n",
       "\n",
       "/* On hover, darken the color of the background */\n",
       "#sk-container-id-1 div.sk-label:hover label.sk-toggleable__label {\n",
       "  color: var(--sklearn-color-text);\n",
       "  background-color: var(--sklearn-color-unfitted-level-2);\n",
       "}\n",
       "\n",
       "/* Label box, darken color on hover, fitted */\n",
       "#sk-container-id-1 div.sk-label.fitted:hover label.sk-toggleable__label.fitted {\n",
       "  color: var(--sklearn-color-text);\n",
       "  background-color: var(--sklearn-color-fitted-level-2);\n",
       "}\n",
       "\n",
       "/* Estimator label */\n",
       "\n",
       "#sk-container-id-1 div.sk-label label {\n",
       "  font-family: monospace;\n",
       "  font-weight: bold;\n",
       "  display: inline-block;\n",
       "  line-height: 1.2em;\n",
       "}\n",
       "\n",
       "#sk-container-id-1 div.sk-label-container {\n",
       "  text-align: center;\n",
       "}\n",
       "\n",
       "/* Estimator-specific */\n",
       "#sk-container-id-1 div.sk-estimator {\n",
       "  font-family: monospace;\n",
       "  border: 1px dotted var(--sklearn-color-border-box);\n",
       "  border-radius: 0.25em;\n",
       "  box-sizing: border-box;\n",
       "  margin-bottom: 0.5em;\n",
       "  /* unfitted */\n",
       "  background-color: var(--sklearn-color-unfitted-level-0);\n",
       "}\n",
       "\n",
       "#sk-container-id-1 div.sk-estimator.fitted {\n",
       "  /* fitted */\n",
       "  background-color: var(--sklearn-color-fitted-level-0);\n",
       "}\n",
       "\n",
       "/* on hover */\n",
       "#sk-container-id-1 div.sk-estimator:hover {\n",
       "  /* unfitted */\n",
       "  background-color: var(--sklearn-color-unfitted-level-2);\n",
       "}\n",
       "\n",
       "#sk-container-id-1 div.sk-estimator.fitted:hover {\n",
       "  /* fitted */\n",
       "  background-color: var(--sklearn-color-fitted-level-2);\n",
       "}\n",
       "\n",
       "/* Specification for estimator info (e.g. \"i\" and \"?\") */\n",
       "\n",
       "/* Common style for \"i\" and \"?\" */\n",
       "\n",
       ".sk-estimator-doc-link,\n",
       "a:link.sk-estimator-doc-link,\n",
       "a:visited.sk-estimator-doc-link {\n",
       "  float: right;\n",
       "  font-size: smaller;\n",
       "  line-height: 1em;\n",
       "  font-family: monospace;\n",
       "  background-color: var(--sklearn-color-background);\n",
       "  border-radius: 1em;\n",
       "  height: 1em;\n",
       "  width: 1em;\n",
       "  text-decoration: none !important;\n",
       "  margin-left: 0.5em;\n",
       "  text-align: center;\n",
       "  /* unfitted */\n",
       "  border: var(--sklearn-color-unfitted-level-1) 1pt solid;\n",
       "  color: var(--sklearn-color-unfitted-level-1);\n",
       "}\n",
       "\n",
       ".sk-estimator-doc-link.fitted,\n",
       "a:link.sk-estimator-doc-link.fitted,\n",
       "a:visited.sk-estimator-doc-link.fitted {\n",
       "  /* fitted */\n",
       "  border: var(--sklearn-color-fitted-level-1) 1pt solid;\n",
       "  color: var(--sklearn-color-fitted-level-1);\n",
       "}\n",
       "\n",
       "/* On hover */\n",
       "div.sk-estimator:hover .sk-estimator-doc-link:hover,\n",
       ".sk-estimator-doc-link:hover,\n",
       "div.sk-label-container:hover .sk-estimator-doc-link:hover,\n",
       ".sk-estimator-doc-link:hover {\n",
       "  /* unfitted */\n",
       "  background-color: var(--sklearn-color-unfitted-level-3);\n",
       "  color: var(--sklearn-color-background);\n",
       "  text-decoration: none;\n",
       "}\n",
       "\n",
       "div.sk-estimator.fitted:hover .sk-estimator-doc-link.fitted:hover,\n",
       ".sk-estimator-doc-link.fitted:hover,\n",
       "div.sk-label-container:hover .sk-estimator-doc-link.fitted:hover,\n",
       ".sk-estimator-doc-link.fitted:hover {\n",
       "  /* fitted */\n",
       "  background-color: var(--sklearn-color-fitted-level-3);\n",
       "  color: var(--sklearn-color-background);\n",
       "  text-decoration: none;\n",
       "}\n",
       "\n",
       "/* Span, style for the box shown on hovering the info icon */\n",
       ".sk-estimator-doc-link span {\n",
       "  display: none;\n",
       "  z-index: 9999;\n",
       "  position: relative;\n",
       "  font-weight: normal;\n",
       "  right: .2ex;\n",
       "  padding: .5ex;\n",
       "  margin: .5ex;\n",
       "  width: min-content;\n",
       "  min-width: 20ex;\n",
       "  max-width: 50ex;\n",
       "  color: var(--sklearn-color-text);\n",
       "  box-shadow: 2pt 2pt 4pt #999;\n",
       "  /* unfitted */\n",
       "  background: var(--sklearn-color-unfitted-level-0);\n",
       "  border: .5pt solid var(--sklearn-color-unfitted-level-3);\n",
       "}\n",
       "\n",
       ".sk-estimator-doc-link.fitted span {\n",
       "  /* fitted */\n",
       "  background: var(--sklearn-color-fitted-level-0);\n",
       "  border: var(--sklearn-color-fitted-level-3);\n",
       "}\n",
       "\n",
       ".sk-estimator-doc-link:hover span {\n",
       "  display: block;\n",
       "}\n",
       "\n",
       "/* \"?\"-specific style due to the `<a>` HTML tag */\n",
       "\n",
       "#sk-container-id-1 a.estimator_doc_link {\n",
       "  float: right;\n",
       "  font-size: 1rem;\n",
       "  line-height: 1em;\n",
       "  font-family: monospace;\n",
       "  background-color: var(--sklearn-color-background);\n",
       "  border-radius: 1rem;\n",
       "  height: 1rem;\n",
       "  width: 1rem;\n",
       "  text-decoration: none;\n",
       "  /* unfitted */\n",
       "  color: var(--sklearn-color-unfitted-level-1);\n",
       "  border: var(--sklearn-color-unfitted-level-1) 1pt solid;\n",
       "}\n",
       "\n",
       "#sk-container-id-1 a.estimator_doc_link.fitted {\n",
       "  /* fitted */\n",
       "  border: var(--sklearn-color-fitted-level-1) 1pt solid;\n",
       "  color: var(--sklearn-color-fitted-level-1);\n",
       "}\n",
       "\n",
       "/* On hover */\n",
       "#sk-container-id-1 a.estimator_doc_link:hover {\n",
       "  /* unfitted */\n",
       "  background-color: var(--sklearn-color-unfitted-level-3);\n",
       "  color: var(--sklearn-color-background);\n",
       "  text-decoration: none;\n",
       "}\n",
       "\n",
       "#sk-container-id-1 a.estimator_doc_link.fitted:hover {\n",
       "  /* fitted */\n",
       "  background-color: var(--sklearn-color-fitted-level-3);\n",
       "}\n",
       "</style><div id=\"sk-container-id-1\" class=\"sk-top-container\"><div class=\"sk-text-repr-fallback\"><pre>LinearRegression()</pre><b>In a Jupyter environment, please rerun this cell to show the HTML representation or trust the notebook. <br />On GitHub, the HTML representation is unable to render, please try loading this page with nbviewer.org.</b></div><div class=\"sk-container\" hidden><div class=\"sk-item\"><div class=\"sk-estimator fitted sk-toggleable\"><input class=\"sk-toggleable__control sk-hidden--visually\" id=\"sk-estimator-id-1\" type=\"checkbox\" checked><label for=\"sk-estimator-id-1\" class=\"sk-toggleable__label fitted sk-toggleable__label-arrow\"><div><div>LinearRegression</div></div><div><a class=\"sk-estimator-doc-link fitted\" rel=\"noreferrer\" target=\"_blank\" href=\"https://scikit-learn.org/1.6/modules/generated/sklearn.linear_model.LinearRegression.html\">?<span>Documentation for LinearRegression</span></a><span class=\"sk-estimator-doc-link fitted\">i<span>Fitted</span></span></div></label><div class=\"sk-toggleable__content fitted\"><pre>LinearRegression()</pre></div> </div></div></div></div>"
      ],
      "text/plain": [
       "LinearRegression()"
      ]
     },
     "execution_count": 38,
     "metadata": {},
     "output_type": "execute_result"
    }
   ],
   "source": [
    "# Train model\n",
    "model = LinearRegression()\n",
    "model.fit(X_train, y_train)"
   ]
  },
  {
   "cell_type": "code",
   "execution_count": 39,
   "id": "368cb10e",
   "metadata": {},
   "outputs": [],
   "source": [
    "# Predict\n",
    "y_pred = model.predict(X_test)"
   ]
  },
  {
   "cell_type": "code",
   "execution_count": 40,
   "id": "3b785cef",
   "metadata": {},
   "outputs": [
    {
     "name": "stdout",
     "output_type": "stream",
     "text": [
      "Model Coefficients: [-3.82999142e-01  1.00192391e+03]\n",
      "Intercept: -1962345.524063111\n",
      "Mean Squared Error: 1058506996.67\n",
      "R-squared: 0.10\n"
     ]
    }
   ],
   "source": [
    "# Evaluation\n",
    "mse = mean_squared_error(y_test, y_pred)\n",
    "r2 = r2_score(y_test, y_pred)\n",
    "\n",
    "print(\"Model Coefficients:\", model.coef_)\n",
    "print(\"Intercept:\", model.intercept_)\n",
    "print(f\"Mean Squared Error: {mse:.2f}\")\n",
    "print(f\"R-squared: {r2:.2f}\")"
   ]
  },
  {
   "cell_type": "code",
   "execution_count": 41,
   "id": "fbc7a220",
   "metadata": {},
   "outputs": [
    {
     "data": {
      "image/png": "[encoded data removed]",
      "text/plain": [
       "<Figure size 800x600 with 1 Axes>"
      ]
     },
     "metadata": {},
     "output_type": "display_data"
    }
   ],
   "source": [
    "# Plot predicted vs actual prices\n",
    "plt.figure(figsize=(8, 6))\n",
    "sns.scatterplot(x=y_test, y=y_pred)\n",
    "plt.plot([y_test.min(), y_test.max()], [y_test.min(), y_test.max()], color='red')\n",
    "plt.xlabel('Actual Price')\n",
    "plt.ylabel('Predicted Price')\n",
    "plt.title('Actual vs Predicted Price')\n",
    "plt.grid(True)\n",
    "plt.show()"
   ]
  },
  {
   "cell_type": "markdown",
   "id": "3670d107",
   "metadata": {},
   "source": [
    "## Scrapping Data from Html Table\n",
    "\n",
    "#### **Analysis of the Relationship Between Fertility Rate and Median Age Across Countries**\n",
    "Fertility rate and median age are key demographic indicators that influence population growth and social dynamics in a country. Understanding the relationship between these two variables can provide insights into population trends, healthcare needs, and economic development.\n",
    "\n",
    "**Hypothesis:**\n",
    "* Null Hypothesis (H₀): There is no correlation between fertility rate and median age across countries. (ρ = 0)\n",
    "\n",
    "* Alternative Hypothesis (H₁): There is a significant negative correlation between fertility rate and median age across countries. (ρ < 0)"
   ]
  },
  {
   "cell_type": "code",
   "execution_count": 42,
   "id": "8b50d91d",
   "metadata": {},
   "outputs": [
    {
     "name": "stderr",
     "output_type": "stream",
     "text": [
      "C:\\Users\\Admin\\AppData\\Local\\Temp\\ipykernel_27704\\1223981896.py:7: FutureWarning:\n",
      "\n",
      "Passing literal html to 'read_html' is deprecated and will be removed in a future version. To read from a literal string, wrap it in a 'StringIO' object.\n",
      "\n"
     ]
    },
    {
     "data": {
      "text/html": [
       "<div>\n",
       "<style scoped>\n",
       "    .dataframe tbody tr th:only-of-type {\n",
       "        vertical-align: middle;\n",
       "    }\n",
       "\n",
       "    .dataframe tbody tr th {\n",
       "        vertical-align: top;\n",
       "    }\n",
       "\n",
       "    .dataframe thead th {\n",
       "        text-align: right;\n",
       "    }\n",
       "</style>\n",
       "<table border=\"1\" class=\"dataframe\">\n",
       "  <thead>\n",
       "    <tr style=\"text-align: right;\">\n",
       "      <th></th>\n",
       "      <th>#</th>\n",
       "      <th>Country</th>\n",
       "      <th>Population_2025</th>\n",
       "      <th>Yearly_Change</th>\n",
       "      <th>Net_Change</th>\n",
       "      <th>Density_PKm2</th>\n",
       "      <th>Land_Area_Km2</th>\n",
       "      <th>Migrants_Net</th>\n",
       "      <th>Fert_Rate</th>\n",
       "      <th>Median_Age</th>\n",
       "      <th>Urban_Pop_Percent</th>\n",
       "      <th>World_Share</th>\n",
       "    </tr>\n",
       "  </thead>\n",
       "  <tbody>\n",
       "    <tr>\n",
       "      <th>0</th>\n",
       "      <td>1</td>\n",
       "      <td>India</td>\n",
       "      <td>1463865525</td>\n",
       "      <td>0.89%</td>\n",
       "      <td>12929734</td>\n",
       "      <td>492</td>\n",
       "      <td>2973190</td>\n",
       "      <td>−495,753</td>\n",
       "      <td>1.94</td>\n",
       "      <td>28.8</td>\n",
       "      <td>37.1%</td>\n",
       "      <td>17.78%</td>\n",
       "    </tr>\n",
       "    <tr>\n",
       "      <th>1</th>\n",
       "      <td>2</td>\n",
       "      <td>China</td>\n",
       "      <td>1416096094</td>\n",
       "      <td>−0.23%</td>\n",
       "      <td>−3,225,184</td>\n",
       "      <td>151</td>\n",
       "      <td>9388211</td>\n",
       "      <td>−268,126</td>\n",
       "      <td>1.02</td>\n",
       "      <td>40.1</td>\n",
       "      <td>67.5%</td>\n",
       "      <td>17.20%</td>\n",
       "    </tr>\n",
       "    <tr>\n",
       "      <th>2</th>\n",
       "      <td>3</td>\n",
       "      <td>United States</td>\n",
       "      <td>347275807</td>\n",
       "      <td>0.54%</td>\n",
       "      <td>1849236</td>\n",
       "      <td>38</td>\n",
       "      <td>9147420</td>\n",
       "      <td>1230663</td>\n",
       "      <td>1.62</td>\n",
       "      <td>38.5</td>\n",
       "      <td>82.8%</td>\n",
       "      <td>4.22%</td>\n",
       "    </tr>\n",
       "    <tr>\n",
       "      <th>3</th>\n",
       "      <td>4</td>\n",
       "      <td>Indonesia</td>\n",
       "      <td>285721236</td>\n",
       "      <td>0.79%</td>\n",
       "      <td>2233305</td>\n",
       "      <td>158</td>\n",
       "      <td>1811570</td>\n",
       "      <td>−39,509</td>\n",
       "      <td>2.10</td>\n",
       "      <td>30.4</td>\n",
       "      <td>59.6%</td>\n",
       "      <td>3.47%</td>\n",
       "    </tr>\n",
       "    <tr>\n",
       "      <th>4</th>\n",
       "      <td>5</td>\n",
       "      <td>Pakistan</td>\n",
       "      <td>255219554</td>\n",
       "      <td>1.57%</td>\n",
       "      <td>3950390</td>\n",
       "      <td>331</td>\n",
       "      <td>770880</td>\n",
       "      <td>−1,235,336</td>\n",
       "      <td>3.50</td>\n",
       "      <td>20.6</td>\n",
       "      <td>34.4%</td>\n",
       "      <td>3.10%</td>\n",
       "    </tr>\n",
       "  </tbody>\n",
       "</table>\n",
       "</div>"
      ],
      "text/plain": [
       "   #        Country  Population_2025 Yearly_Change  Net_Change  Density_PKm2  \\\n",
       "0  1          India       1463865525         0.89%    12929734           492   \n",
       "1  2          China       1416096094        −0.23%  −3,225,184           151   \n",
       "2  3  United States        347275807         0.54%     1849236            38   \n",
       "3  4      Indonesia        285721236         0.79%     2233305           158   \n",
       "4  5       Pakistan        255219554         1.57%     3950390           331   \n",
       "\n",
       "   Land_Area_Km2 Migrants_Net  Fert_Rate  Median_Age Urban_Pop_Percent  \\\n",
       "0        2973190     −495,753       1.94        28.8             37.1%   \n",
       "1        9388211     −268,126       1.02        40.1             67.5%   \n",
       "2        9147420      1230663       1.62        38.5             82.8%   \n",
       "3        1811570      −39,509       2.10        30.4             59.6%   \n",
       "4         770880   −1,235,336       3.50        20.6             34.4%   \n",
       "\n",
       "  World_Share  \n",
       "0      17.78%  \n",
       "1      17.20%  \n",
       "2       4.22%  \n",
       "3       3.47%  \n",
       "4       3.10%  "
      ]
     },
     "execution_count": 42,
     "metadata": {},
     "output_type": "execute_result"
    }
   ],
   "source": [
    "# Get the page content\n",
    "url = \"https://www.worldometers.info/world-population/population-by-country/#google_vignette\"\n",
    "response = requests.get(url)\n",
    "response.raise_for_status()\n",
    "\n",
    "# Read all tables from the HTML content using pandas\n",
    "tables = pd.read_html(response.text)\n",
    "\n",
    "# scrape the first table contains the population data we want\n",
    "df = tables[0]\n",
    "\n",
    "# Rename columns for easier access\n",
    "df.columns = ['#', 'Country', 'Population_2025', 'Yearly_Change', 'Net_Change', \n",
    "              'Density_PKm2', 'Land_Area_Km2', 'Migrants_Net', 'Fert_Rate', \n",
    "              'Median_Age', 'Urban_Pop_Percent', 'World_Share']\n",
    "\n",
    "df.head()"
   ]
  },
  {
   "cell_type": "code",
   "execution_count": null,
   "id": "5f4d9346",
   "metadata": {},
   "outputs": [],
   "source": [
    "# transofrm data"
   ]
  },
  {
   "cell_type": "code",
   "execution_count": 43,
   "id": "d30ef39a",
   "metadata": {},
   "outputs": [
    {
     "data": {
      "text/html": [
       "<div>\n",
       "<style scoped>\n",
       "    .dataframe tbody tr th:only-of-type {\n",
       "        vertical-align: middle;\n",
       "    }\n",
       "\n",
       "    .dataframe tbody tr th {\n",
       "        vertical-align: top;\n",
       "    }\n",
       "\n",
       "    .dataframe thead th {\n",
       "        text-align: right;\n",
       "    }\n",
       "</style>\n",
       "<table border=\"1\" class=\"dataframe\">\n",
       "  <thead>\n",
       "    <tr style=\"text-align: right;\">\n",
       "      <th></th>\n",
       "      <th>Country</th>\n",
       "      <th>Fert_Rate</th>\n",
       "      <th>Median_Age</th>\n",
       "    </tr>\n",
       "  </thead>\n",
       "  <tbody>\n",
       "    <tr>\n",
       "      <th>0</th>\n",
       "      <td>India</td>\n",
       "      <td>1.94</td>\n",
       "      <td>28.8</td>\n",
       "    </tr>\n",
       "    <tr>\n",
       "      <th>1</th>\n",
       "      <td>China</td>\n",
       "      <td>1.02</td>\n",
       "      <td>40.1</td>\n",
       "    </tr>\n",
       "    <tr>\n",
       "      <th>2</th>\n",
       "      <td>United States</td>\n",
       "      <td>1.62</td>\n",
       "      <td>38.5</td>\n",
       "    </tr>\n",
       "    <tr>\n",
       "      <th>3</th>\n",
       "      <td>Indonesia</td>\n",
       "      <td>2.10</td>\n",
       "      <td>30.4</td>\n",
       "    </tr>\n",
       "    <tr>\n",
       "      <th>4</th>\n",
       "      <td>Pakistan</td>\n",
       "      <td>3.50</td>\n",
       "      <td>20.6</td>\n",
       "    </tr>\n",
       "  </tbody>\n",
       "</table>\n",
       "</div>"
      ],
      "text/plain": [
       "         Country  Fert_Rate  Median_Age\n",
       "0          India       1.94        28.8\n",
       "1          China       1.02        40.1\n",
       "2  United States       1.62        38.5\n",
       "3      Indonesia       2.10        30.4\n",
       "4       Pakistan       3.50        20.6"
      ]
     },
     "execution_count": 43,
     "metadata": {},
     "output_type": "execute_result"
    }
   ],
   "source": [
    "# Select relevant columns for your analysis\n",
    "df_analysis = df[['Country', 'Fert_Rate', 'Median_Age']].copy()\n",
    "df_analysis.head()"
   ]
  },
  {
   "cell_type": "code",
   "execution_count": 44,
   "id": "58cb81ac",
   "metadata": {},
   "outputs": [
    {
     "name": "stdout",
     "output_type": "stream",
     "text": [
      "Correlation between Fertility Rate and Median Age: -0.855\n"
     ]
    }
   ],
   "source": [
    "# Calculate correlation\n",
    "corr = df_analysis['Fert_Rate'].corr(df_analysis['Median_Age'])\n",
    "print(f\"Correlation between Fertility Rate and Median Age: {corr:.3f}\")"
   ]
  },
  {
   "cell_type": "code",
   "execution_count": 45,
   "id": "af5dbc09",
   "metadata": {},
   "outputs": [],
   "source": [
    "# Aggregate - find countries with highest median age and lowest fertility rate (e.g. \"best\")\n",
    "top_median_age = df_analysis.sort_values(by='Median_Age', ascending=False).head(10)\n",
    "top_low_fertility = df_analysis.sort_values(by='Fert_Rate').head(10)"
   ]
  },
  {
   "cell_type": "code",
   "execution_count": 46,
   "id": "c49f3b08",
   "metadata": {},
   "outputs": [
    {
     "data": {
      "image/png": "[encoded data removed]",
      "text/plain": [
       "<Figure size 1000x600 with 1 Axes>"
      ]
     },
     "metadata": {},
     "output_type": "display_data"
    }
   ],
   "source": [
    "# Plot scatterplot with regression line using seaborn\n",
    "plt.figure(figsize=(10,6))\n",
    "sns.regplot(x='Median_Age', y='Fert_Rate', data=df_analysis)\n",
    "plt.title('Fertility Rate vs Median Age (All Countries)')\n",
    "plt.xlabel('Median Age')\n",
    "plt.ylabel('Fertility Rate')\n",
    "plt.show()"
   ]
  },
  {
   "cell_type": "code",
   "execution_count": 47,
   "id": "66031777",
   "metadata": {},
   "outputs": [
    {
     "name": "stderr",
     "output_type": "stream",
     "text": [
      "C:\\Users\\Admin\\AppData\\Local\\Temp\\ipykernel_27704\\4042518973.py:3: FutureWarning:\n",
      "\n",
      "\n",
      "\n",
      "Passing `palette` without assigning `hue` is deprecated and will be removed in v0.14.0. Assign the `y` variable to `hue` and set `legend=False` for the same effect.\n",
      "\n",
      "\n"
     ]
    },
    {
     "data": {
      "image/png": "[encoded data removed]",
      "text/plain": [
       "<Figure size 1200x600 with 1 Axes>"
      ]
     },
     "metadata": {},
     "output_type": "display_data"
    }
   ],
   "source": [
    "# Plot bar chart for top 10 countries with highest median age\n",
    "plt.figure(figsize=(12,6))\n",
    "sns.barplot(x='Median_Age', y='Country', data=top_median_age, palette='viridis')\n",
    "plt.title('Top 10 Countries by Median Age')\n",
    "plt.xlabel('Median Age')\n",
    "plt.ylabel('Country')\n",
    "plt.show()"
   ]
  },
  {
   "cell_type": "code",
   "execution_count": 48,
   "id": "ffca3346",
   "metadata": {},
   "outputs": [
    {
     "name": "stderr",
     "output_type": "stream",
     "text": [
      "C:\\Users\\Admin\\AppData\\Local\\Temp\\ipykernel_27704\\2338184118.py:3: FutureWarning:\n",
      "\n",
      "\n",
      "\n",
      "Passing `palette` without assigning `hue` is deprecated and will be removed in v0.14.0. Assign the `y` variable to `hue` and set `legend=False` for the same effect.\n",
      "\n",
      "\n"
     ]
    },
    {
     "data": {
      "image/png": "[encoded data removed]",
      "text/plain": [
       "<Figure size 1200x600 with 1 Axes>"
      ]
     },
     "metadata": {},
     "output_type": "display_data"
    }
   ],
   "source": [
    "# Plot bar chart for top 10 countries with lowest fertility rate\n",
    "plt.figure(figsize=(12,6))\n",
    "sns.barplot(x='Fert_Rate', y='Country', data=top_low_fertility, palette='magma')\n",
    "plt.title('Top 10 Countries by Lowest Fertility Rate')\n",
    "plt.xlabel('Fertility Rate')\n",
    "plt.ylabel('Country')\n",
    "plt.show()"
   ]
  }
 ],
 "metadata": {
  "kernelspec": {
   "display_name": "Python 3",
   "language": "python",
   "name": "python3"
  },
  "language_info": {
   "codemirror_mode": {
    "name": "ipython",
    "version": 3
   },
   "file_extension": ".py",
   "mimetype": "text/x-python",
   "name": "python",
   "nbconvert_exporter": "python",
   "pygments_lexer": "ipython3",
   "version": "3.10.0"
  }
 },
 "nbformat": 4,
 "nbformat_minor": 5
}
